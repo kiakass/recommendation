{
  "nbformat": 4,
  "nbformat_minor": 0,
  "metadata": {
    "colab": {
      "name": "lightFM_experiment_#4.ipynb",
      "provenance": [],
      "collapsed_sections": [
        "pOLfVPnlEVW3",
        "g3M32wUKnNNX",
        "fCrvBX9-nTHz",
        "9R29zcyE76tV"
      ],
      "toc_visible": true,
      "machine_shape": "hm",
      "include_colab_link": true
    },
    "kernelspec": {
      "display_name": "Python 3",
      "language": "python",
      "name": "python3"
    },
    "language_info": {
      "codemirror_mode": {
        "name": "ipython",
        "version": 3
      },
      "file_extension": ".py",
      "mimetype": "text/x-python",
      "name": "python",
      "nbconvert_exporter": "python",
      "pygments_lexer": "ipython3",
      "version": "3.6.9"
    }
  },
  "cells": [
    {
      "cell_type": "markdown",
      "metadata": {
        "id": "view-in-github",
        "colab_type": "text"
      },
      "source": [
        "<a href=\"https://colab.research.google.com/github/kiakass/recommendation/blob/main/lightFM_experiment__4.ipynb\" target=\"_parent\"><img src=\"https://colab.research.google.com/assets/colab-badge.svg\" alt=\"Open In Colab\"/></a>"
      ]
    },
    {
      "cell_type": "markdown",
      "metadata": {
        "id": "WiYyWhujAlY0"
      },
      "source": [
        "<h2>lightFM_jameshope_Experiment #4</h2>\n",
        "\n",
        "$\\begin{array}{|c|c|c|c|} & Basic \\, Meta & price & rating \\\\\n",
        "\\hline\n",
        "Item & O & X  & O \\\\\n",
        "User & O & {\\color{Red}{O}}  & X \\\\\n",
        "Interaction & O & X & O:weight \\\\\n",
        "\\end{array}$"
      ]
    },
    {
      "cell_type": "markdown",
      "metadata": {
        "id": "hV-IYDf9AvMt"
      },
      "source": [
        "### Reference site"
      ]
    },
    {
      "cell_type": "markdown",
      "metadata": {
        "id": "XAwn4B7hqo13"
      },
      "source": [
        "Reference site : https://greeksharifa.github.io/machine_learning/2020/06/01/LightFM/ <br>\n",
        "thesis : https://github.com/kiakass/share/blob/master/Metadata%20Embeddings%20for%20User%20and%20Item%20Cold-start%20.pdf <br>\n",
        "LightFM’s documentation! : https://making.lyst.com/lightfm/docs/home.html <br>\n",
        "WARP : https://making.lyst.com/lightfm/docs/examples/warp_loss.html#preliminaries<br>\n",
        "precision@k : https://github.com/lyst/lightfm/blob/master/examples/movielens/readme.md <br>\n"
      ]
    },
    {
      "cell_type": "markdown",
      "metadata": {
        "id": "HK2a5OFWA3Xi"
      },
      "source": [
        "### Install Pacakages"
      ]
    },
    {
      "cell_type": "code",
      "metadata": {
        "colab": {
          "base_uri": "https://localhost:8080/"
        },
        "id": "g-bFJ-ecD-aV",
        "outputId": "c6e348fe-9064-461c-ee43-3a81196ffcf4"
      },
      "source": [
        "!pip install feather-format"
      ],
      "execution_count": 2,
      "outputs": [
        {
          "output_type": "stream",
          "name": "stdout",
          "text": [
            "Requirement already satisfied: feather-format in /usr/local/lib/python3.7/dist-packages (0.4.1)\n",
            "Requirement already satisfied: pyarrow>=0.4.0 in /usr/local/lib/python3.7/dist-packages (from feather-format) (3.0.0)\n",
            "Requirement already satisfied: numpy>=1.16.6 in /usr/local/lib/python3.7/dist-packages (from pyarrow>=0.4.0->feather-format) (1.19.5)\n"
          ]
        }
      ]
    },
    {
      "cell_type": "code",
      "metadata": {
        "colab": {
          "base_uri": "https://localhost:8080/",
          "height": 273
        },
        "id": "ssNOoy8IFDpE",
        "outputId": "8fcf6126-0cb6-4611-adc0-f5d4a491124f"
      },
      "source": [
        "!pip install typing"
      ],
      "execution_count": 3,
      "outputs": [
        {
          "output_type": "stream",
          "name": "stdout",
          "text": [
            "Collecting typing\n",
            "  Downloading typing-3.7.4.3.tar.gz (78 kB)\n",
            "\u001b[?25l\r\u001b[K     |████▏                           | 10 kB 22.8 MB/s eta 0:00:01\r\u001b[K     |████████▍                       | 20 kB 30.2 MB/s eta 0:00:01\r\u001b[K     |████████████▌                   | 30 kB 15.8 MB/s eta 0:00:01\r\u001b[K     |████████████████▊               | 40 kB 11.3 MB/s eta 0:00:01\r\u001b[K     |████████████████████▉           | 51 kB 5.8 MB/s eta 0:00:01\r\u001b[K     |█████████████████████████       | 61 kB 6.2 MB/s eta 0:00:01\r\u001b[K     |█████████████████████████████▏  | 71 kB 5.6 MB/s eta 0:00:01\r\u001b[K     |████████████████████████████████| 78 kB 3.1 MB/s \n",
            "\u001b[?25hBuilding wheels for collected packages: typing\n",
            "  Building wheel for typing (setup.py) ... \u001b[?25l\u001b[?25hdone\n",
            "  Created wheel for typing: filename=typing-3.7.4.3-py3-none-any.whl size=26324 sha256=5ab01dd24e52a0fc8911b2d617a926021090540051160345b98ba5db16921045\n",
            "  Stored in directory: /root/.cache/pip/wheels/35/f3/15/01aa6571f0a72ee6ae7b827c1491c37a1f72d686fd22b43b0e\n",
            "Successfully built typing\n",
            "Installing collected packages: typing\n",
            "Successfully installed typing-3.7.4.3\n"
          ]
        },
        {
          "output_type": "display_data",
          "data": {
            "application/vnd.colab-display-data+json": {
              "pip_warning": {
                "packages": [
                  "typing"
                ]
              }
            }
          },
          "metadata": {}
        }
      ]
    },
    {
      "cell_type": "code",
      "metadata": {
        "colab": {
          "base_uri": "https://localhost:8080/"
        },
        "id": "7ifNmM7Lqo2F",
        "outputId": "54411cf1-78e7-407e-aea1-31a2df45e1a5"
      },
      "source": [
        "!pip install lightfm"
      ],
      "execution_count": 4,
      "outputs": [
        {
          "output_type": "stream",
          "name": "stdout",
          "text": [
            "Collecting lightfm\n",
            "  Downloading lightfm-1.16.tar.gz (310 kB)\n",
            "\u001b[K     |████████████████████████████████| 310 kB 5.4 MB/s \n",
            "\u001b[?25hRequirement already satisfied: numpy in /usr/local/lib/python3.7/dist-packages (from lightfm) (1.19.5)\n",
            "Requirement already satisfied: scipy>=0.17.0 in /usr/local/lib/python3.7/dist-packages (from lightfm) (1.4.1)\n",
            "Requirement already satisfied: requests in /usr/local/lib/python3.7/dist-packages (from lightfm) (2.23.0)\n",
            "Requirement already satisfied: scikit-learn in /usr/local/lib/python3.7/dist-packages (from lightfm) (0.22.2.post1)\n",
            "Requirement already satisfied: chardet<4,>=3.0.2 in /usr/local/lib/python3.7/dist-packages (from requests->lightfm) (3.0.4)\n",
            "Requirement already satisfied: idna<3,>=2.5 in /usr/local/lib/python3.7/dist-packages (from requests->lightfm) (2.10)\n",
            "Requirement already satisfied: urllib3!=1.25.0,!=1.25.1,<1.26,>=1.21.1 in /usr/local/lib/python3.7/dist-packages (from requests->lightfm) (1.24.3)\n",
            "Requirement already satisfied: certifi>=2017.4.17 in /usr/local/lib/python3.7/dist-packages (from requests->lightfm) (2021.5.30)\n",
            "Requirement already satisfied: joblib>=0.11 in /usr/local/lib/python3.7/dist-packages (from scikit-learn->lightfm) (1.0.1)\n",
            "Building wheels for collected packages: lightfm\n",
            "  Building wheel for lightfm (setup.py) ... \u001b[?25l\u001b[?25hdone\n",
            "  Created wheel for lightfm: filename=lightfm-1.16-cp37-cp37m-linux_x86_64.whl size=705346 sha256=365d51fd52756591534a4dde89e608412de6442833c84d65ee8c6a74ddc0e853\n",
            "  Stored in directory: /root/.cache/pip/wheels/f8/56/28/5772a3bd3413d65f03aa452190b00898b680b10028a1021914\n",
            "Successfully built lightfm\n",
            "Installing collected packages: lightfm\n",
            "Successfully installed lightfm-1.16\n"
          ]
        }
      ]
    },
    {
      "cell_type": "code",
      "metadata": {
        "id": "4aePgFaMqo18"
      },
      "source": [
        "from lightfm import LightFM\n",
        "from scipy.sparse import coo_matrix as sp\n",
        "import time\n",
        "import matplotlib.pyplot as plt\n",
        "import os\n",
        "import zipfile\n",
        "from lightfm.data import Dataset\n",
        "from lightfm.evaluation import precision_at_k\n",
        "from lightfm.evaluation import auc_score\n",
        "from lightfm.cross_validation import random_train_test_split \n",
        "\n",
        "import numpy as np\n",
        "import pandas as pd\n",
        "import warnings # warings 제거\n",
        "warnings.filterwarnings(action='ignore')\n",
        "\n",
        "import zlib\n",
        "\n",
        "pd.set_option('display.max_row', 500) #출력행수"
      ],
      "execution_count": 5,
      "outputs": []
    },
    {
      "cell_type": "code",
      "metadata": {
        "colab": {
          "base_uri": "https://localhost:8080/"
        },
        "id": "sNDgTz5mMWW3",
        "outputId": "43812235-812c-4087-ee42-704ecf12e7b4"
      },
      "source": [
        "from google.colab import drive\n",
        "drive.mount('/gdrive')"
      ],
      "execution_count": 6,
      "outputs": [
        {
          "output_type": "stream",
          "name": "stdout",
          "text": [
            "Mounted at /gdrive\n"
          ]
        }
      ]
    },
    {
      "cell_type": "code",
      "metadata": {
        "colab": {
          "base_uri": "https://localhost:8080/"
        },
        "id": "wgYzdBBSO-FN",
        "outputId": "e36542b5-3e1e-45bc-c627-0277db662f9f"
      },
      "source": [
        "!ls /gdrive/My\\ Drive/10.data/논문마트"
      ],
      "execution_count": 7,
      "outputs": [
        {
          "output_type": "stream",
          "name": "stdout",
          "text": [
            "customer.csv\n",
            "iptv_seg_use.csv\n",
            "item_features.csv\n",
            "L1AGGR_SEG_IPTV_USE_CLUSTERING_0.csv\n",
            "L1AGGR_SEG_IPTV_USE_CLUSTERING_1.csv\n",
            "L1AGGR_SEG_IPTV_USE_CLUSTERING_2.csv\n",
            "L1AGGR_SEG_IPTV_USE_CLUSTERING_3.csv\n",
            "L1AGGR_SEG_IPTV_USE_CLUSTERING_4.csv\n",
            "L1AGGR_SEG_IPTV_USE_CLUSTERING_5.csv\n",
            "L1AGGR_SEG_IPTV_USE_CLUSTERING_6.csv\n",
            "L1AGGR_SEG_IPTV_USE_CLUSTERING_7.csv\n",
            "L1AGGR_SEG_IPTV_USE_CLUSTERING_8.csv\n",
            "L1AGGR_SEG_IPTV_USE_CLUSTERING_9.csv\n",
            "L1AGGR_SEG_IPTV_USE_CLUSTERING.csv\n",
            "L1AGGR_SEG_IPTV_USE_CLUSTERING_H.210918.csv\n",
            "L1AGGR_SEG_IPTV_USE_CLUSTERING_H.csv\n",
            "user_features_r20.csv\n",
            "user_feaures.csv\n",
            "user_item_interaction_adj.csv\n",
            "user_item_interaction.csv\n",
            "user_item_interaction_r20.csv\n",
            "USER_ITEM_INTERACTIONS_R20.csv\n"
          ]
        }
      ]
    },
    {
      "cell_type": "markdown",
      "metadata": {
        "id": "pOLfVPnlEVW3"
      },
      "source": [
        "### $ {\\color{Blue} {Data \\, loading }}$\n",
        "- user\\_features, item\\_features"
      ]
    },
    {
      "cell_type": "markdown",
      "metadata": {
        "id": "g3M32wUKnNNX"
      },
      "source": [
        "#### 1. Load data"
      ]
    },
    {
      "cell_type": "code",
      "metadata": {
        "id": "gmssjeVuPlc9"
      },
      "source": [
        "dir='/gdrive/My Drive/10.data/논문마트/'\n",
        "user_item_interactions = pd.read_csv(dir+'USER_ITEM_INTERACTIONS_R20.csv', delimiter=',',dtype={'wtch_dt': str,'buy_dt': str })\n",
        "user_item_interactions.rename(columns={'userid':'userId'}, inplace = True)\n",
        "user_item_interactions.rename(columns={'movieid':'movieId'}, inplace = True)"
      ],
      "execution_count": 8,
      "outputs": []
    },
    {
      "cell_type": "code",
      "metadata": {
        "colab": {
          "base_uri": "https://localhost:8080/",
          "height": 0
        },
        "id": "soMWcEmjqd0V",
        "outputId": "97ab4507-1e2e-46c2-924d-5bd7130a9d24"
      },
      "source": [
        "'''\n",
        "df_interactions = pd.read_csv(dir+'USER_ITEM_INTERACTIONS_R20.csv', delimiter=',',dtype={'wtch_dt': str,'buy_dt': str })\n",
        "df_interactions.rename(columns={'userid':'userId'}, inplace = True)\n",
        "df_interactions.rename(columns={'movieid':'movieId'}, inplace = True)\n",
        "'''"
      ],
      "execution_count": 9,
      "outputs": [
        {
          "output_type": "execute_result",
          "data": {
            "application/vnd.google.colaboratory.intrinsic+json": {
              "type": "string"
            },
            "text/plain": [
              "\"\\ndf_interactions = pd.read_csv(dir+'USER_ITEM_INTERACTIONS_R20.csv', delimiter=',',dtype={'wtch_dt': str,'buy_dt': str })\\ndf_interactions.rename(columns={'userid':'userId'}, inplace = True)\\ndf_interactions.rename(columns={'movieid':'movieId'}, inplace = True)\\n\""
            ]
          },
          "metadata": {},
          "execution_count": 9
        }
      ]
    },
    {
      "cell_type": "code",
      "metadata": {
        "id": "awW1GH4BGyJU"
      },
      "source": [
        "df_user_features = pd.read_csv(dir+'user_features_r20.csv', delimiter=',')\n",
        "df_user_features.rename(columns={'userid':'userId'}, inplace = True)"
      ],
      "execution_count": 10,
      "outputs": []
    },
    {
      "cell_type": "code",
      "metadata": {
        "id": "Vy7Y66iIJr8a"
      },
      "source": [
        "df_item_features = pd.read_csv(dir+'item_features.csv', delimiter=',')\n",
        "df_item_features.rename(columns={'movieid':'movieId'}, inplace = True)"
      ],
      "execution_count": 11,
      "outputs": []
    },
    {
      "cell_type": "markdown",
      "metadata": {
        "id": "fCrvBX9-nTHz"
      },
      "source": [
        "#### 2.Make Weighting/Rating"
      ]
    },
    {
      "cell_type": "code",
      "metadata": {
        "colab": {
          "base_uri": "https://localhost:8080/"
        },
        "id": "e4XbF28JCWx-",
        "outputId": "a1516e65-3c0b-4615-dd3e-11d2823d7193"
      },
      "source": [
        "# 가중치 만들기, Weight()\n",
        "#wtch_yn,buy_yn,wtch_pg_cnt,buy_pg_cnt,sch_cnt,wish_yn,story_yn,review_yn,preview_yn,rating_yn\n",
        "a=pd.DataFrame([67046,10062,132844,16016,16984,1295,422,447,82,326,140000],columns=['weight'])\n",
        "hw=pd.DataFrame([1.2,1.5,1,1,1,1,1,1,1,1,1],columns=['weight'])\n",
        "f=lambda x: 1/(1+np.exp(-(1-x/4800000)))  # \n",
        "#f=lambda x: np.log10(4800000/x)*np.log10(x)\n",
        "b=f(a)\n",
        "\n",
        "#normalize : 영향도 경감\n",
        "def normalize_df(x):\n",
        "  return (x-x.min())/(x.max()-x.min())\n",
        "\n",
        "w=normalize_df(b).mul(hw);print(pd.merge(b,w,on=b.index))"
      ],
      "execution_count": 12,
      "outputs": [
        {
          "output_type": "stream",
          "name": "stdout",
          "text": [
            "    key_0  weight_x  weight_y\n",
            "0       0  0.728303  0.627678\n",
            "1       1  0.730646  1.393671\n",
            "2       2  0.725583  0.051466\n",
            "3       3  0.730402  0.886791\n",
            "4       4  0.730362  0.879908\n",
            "5       5  0.731006  0.991388\n",
            "6       6  0.731041  0.997586\n",
            "7       7  0.731040  0.997409\n",
            "8       8  0.731055  1.000000\n",
            "9       9  0.731045  0.998268\n",
            "10     10  0.725286  0.000000\n"
          ]
        }
      ]
    },
    {
      "cell_type": "code",
      "metadata": {
        "colab": {
          "base_uri": "https://localhost:8080/"
        },
        "id": "qgN3ICnzQYhN",
        "outputId": "96e35899-6d48-4058-9ce8-c3e433d87cf9"
      },
      "source": [
        "nor_interactions=user_item_interactions.iloc[:,:]\n",
        "columns=user_item_interactions.iloc[:,3:].columns;print(columns)\n",
        "df_b=pd.DataFrame(normalize_df(user_item_interactions.iloc[:,3:].fillna(0)),columns=columns)\n",
        "nor_interactions[columns]=df_b"
      ],
      "execution_count": 13,
      "outputs": [
        {
          "output_type": "stream",
          "name": "stdout",
          "text": [
            "Index(['wtch_pg_cnt', 'buy_pg_cnt', 'wtch_yn', 'wtch_tm', 'wtch_cp', 'buy_dt',\n",
            "       'buy_yn', 'buy_amt', 'sch_cnt', 'wish_yn', 'story_yn', 'review_yn',\n",
            "       'preview_yn', 'rating_yn'],\n",
            "      dtype='object')\n"
          ]
        }
      ]
    },
    {
      "cell_type": "code",
      "metadata": {
        "id": "jB9YviCpKFSZ"
      },
      "source": [
        "# rating 계산 : dot product\n",
        "nor_interactions['rating']=normalize_df(np.dot(nor_interactions.iloc[:,[5,9,3,4,11,12,13,14,15,16]].fillna(0),w[:-1]))"
      ],
      "execution_count": 14,
      "outputs": []
    },
    {
      "cell_type": "code",
      "metadata": {
        "colab": {
          "base_uri": "https://localhost:8080/"
        },
        "id": "TjxJTgzHGu6d",
        "outputId": "ffdd8812-967d-46be-af24-998dbdfbc9f7"
      },
      "source": [
        "# dot product 값 확인\n",
        "np.dot(nor_interactions.iloc[5385276,[5,9,3,4,11,12,13,14,15,16]].fillna(0),w[:-1])"
      ],
      "execution_count": 15,
      "outputs": [
        {
          "output_type": "execute_result",
          "data": {
            "text/plain": [
              "array([6.19147485])"
            ]
          },
          "metadata": {},
          "execution_count": 15
        }
      ]
    },
    {
      "cell_type": "code",
      "metadata": {
        "id": "mQUILpxJVuHr"
      },
      "source": [
        "#rating 확인\n",
        "user_item_interactions['rating'] = nor_interactions['rating']\n",
        "#user_item_interactions[(user_item_interactions.rating >=0.9) & (user_item_interactions.rating <=1.9)].head(200)"
      ],
      "execution_count": 16,
      "outputs": []
    },
    {
      "cell_type": "code",
      "metadata": {
        "id": "Bl8xs8g1SC_P"
      },
      "source": [
        "#interactions[(interactions.userid==8485946426803652497) & (interactions.movieid==6895313097669931601\t) ].iloc[:,[5,9,3,4,11,12,13,14,15,16]].fillna(0)\n",
        "#user_item_interactions[(user_item_interactions.userid==795530722215540317) & (user_item_interactions.movieid==-985564977982495676\t) ].iloc[:,[5,9,3,4,11,12,13,14,15,16]].fillna(0)"
      ],
      "execution_count": 17,
      "outputs": []
    },
    {
      "cell_type": "code",
      "metadata": {
        "colab": {
          "base_uri": "https://localhost:8080/",
          "height": 0
        },
        "id": "aRu0pnJfTxYv",
        "outputId": "5efdc276-3b4f-4a94-9e19-8f16da0e4bd6"
      },
      "source": [
        "plt.hist(nor_interactions.rating,bins=30)"
      ],
      "execution_count": 18,
      "outputs": [
        {
          "output_type": "execute_result",
          "data": {
            "text/plain": [
              "(array([3.776475e+06, 3.100000e+01, 4.000000e+00, 1.641564e+06,\n",
              "        7.053900e+04, 2.120000e+02, 7.700000e+01, 1.828800e+04,\n",
              "        4.800000e+01, 2.927310e+05, 3.031000e+03, 6.000000e+00,\n",
              "        2.176000e+03, 5.000000e+00, 8.102000e+03, 1.900000e+01,\n",
              "        1.000000e+00, 3.290000e+02, 0.000000e+00, 9.620000e+02,\n",
              "        1.000000e+00, 0.000000e+00, 2.600000e+01, 0.000000e+00,\n",
              "        1.560000e+02, 1.000000e+00, 0.000000e+00, 0.000000e+00,\n",
              "        0.000000e+00, 2.200000e+01]),\n",
              " array([0.        , 0.03333333, 0.06666667, 0.1       , 0.13333333,\n",
              "        0.16666667, 0.2       , 0.23333333, 0.26666667, 0.3       ,\n",
              "        0.33333333, 0.36666667, 0.4       , 0.43333333, 0.46666667,\n",
              "        0.5       , 0.53333333, 0.56666667, 0.6       , 0.63333333,\n",
              "        0.66666667, 0.7       , 0.73333333, 0.76666667, 0.8       ,\n",
              "        0.83333333, 0.86666667, 0.9       , 0.93333333, 0.96666667,\n",
              "        1.        ]),\n",
              " <a list of 30 Patch objects>)"
            ]
          },
          "metadata": {},
          "execution_count": 18
        },
        {
          "output_type": "display_data",
          "data": {
            "image/png": "[encoded data removed]",
            "text/plain": [
              "<Figure size 432x288 with 1 Axes>"
            ]
          },
          "metadata": {
            "needs_background": "light"
          }
        }
      ]
    },
    {
      "cell_type": "code",
      "metadata": {
        "id": "xG_HFwYCue2E"
      },
      "source": [
        "#from sklearn.preprocessing import StandardScaler\n",
        "#std = StandardScaler()\n",
        "#std.fit(interactions)\n",
        "#std.transform(interactions)"
      ],
      "execution_count": 19,
      "outputs": []
    },
    {
      "cell_type": "markdown",
      "metadata": {
        "id": "zNNXZTsmVczH"
      },
      "source": [
        "### $ {\\color{Red} {Make \\,\\, Dataset \\,}}$"
      ]
    },
    {
      "cell_type": "code",
      "metadata": {
        "colab": {
          "base_uri": "https://localhost:8080/",
          "height": 419
        },
        "id": "2_L6C07U5llb",
        "outputId": "e1b35cc2-7ee3-4db7-8a33-2c8f26458283"
      },
      "source": [
        "df_user_features.loc[:,:]"
      ],
      "execution_count": 28,
      "outputs": [
        {
          "output_type": "execute_result",
          "data": {
            "text/html": [
              "<div>\n",
              "<style scoped>\n",
              "    .dataframe tbody tr th:only-of-type {\n",
              "        vertical-align: middle;\n",
              "    }\n",
              "\n",
              "    .dataframe tbody tr th {\n",
              "        vertical-align: top;\n",
              "    }\n",
              "\n",
              "    .dataframe thead th {\n",
              "        text-align: right;\n",
              "    }\n",
              "</style>\n",
              "<table border=\"1\" class=\"dataframe\">\n",
              "  <thead>\n",
              "    <tr style=\"text-align: right;\">\n",
              "      <th></th>\n",
              "      <th>userId</th>\n",
              "      <th>sex_cd</th>\n",
              "      <th>age5_band</th>\n",
              "      <th>pfgn1</th>\n",
              "      <th>pfgn2</th>\n",
              "      <th>avg_wtch_cnt</th>\n",
              "      <th>avg_fwtch_cnt</th>\n",
              "      <th>avg_buy_cnt</th>\n",
              "      <th>avg_buy_amt</th>\n",
              "      <th>price_band</th>\n",
              "    </tr>\n",
              "  </thead>\n",
              "  <tbody>\n",
              "    <tr>\n",
              "      <th>0</th>\n",
              "      <td>3396529561938819894</td>\n",
              "      <td>MALE</td>\n",
              "      <td>8.0</td>\n",
              "      <td>NaN</td>\n",
              "      <td>NaN</td>\n",
              "      <td>2.0</td>\n",
              "      <td>2.0</td>\n",
              "      <td>NaN</td>\n",
              "      <td>NaN</td>\n",
              "      <td>NaN</td>\n",
              "    </tr>\n",
              "    <tr>\n",
              "      <th>1</th>\n",
              "      <td>2437340833623182644</td>\n",
              "      <td>NaN</td>\n",
              "      <td>NaN</td>\n",
              "      <td>NaN</td>\n",
              "      <td>NaN</td>\n",
              "      <td>2.0</td>\n",
              "      <td>2.0</td>\n",
              "      <td>NaN</td>\n",
              "      <td>NaN</td>\n",
              "      <td>NaN</td>\n",
              "    </tr>\n",
              "    <tr>\n",
              "      <th>2</th>\n",
              "      <td>-167020489941946621</td>\n",
              "      <td>MALE</td>\n",
              "      <td>10.0</td>\n",
              "      <td>NaN</td>\n",
              "      <td>NaN</td>\n",
              "      <td>3.0</td>\n",
              "      <td>NaN</td>\n",
              "      <td>NaN</td>\n",
              "      <td>NaN</td>\n",
              "      <td>NaN</td>\n",
              "    </tr>\n",
              "    <tr>\n",
              "      <th>3</th>\n",
              "      <td>-8481236353876622013</td>\n",
              "      <td>FEMALE</td>\n",
              "      <td>10.0</td>\n",
              "      <td>NaN</td>\n",
              "      <td>NaN</td>\n",
              "      <td>2.0</td>\n",
              "      <td>2.0</td>\n",
              "      <td>NaN</td>\n",
              "      <td>NaN</td>\n",
              "      <td>NaN</td>\n",
              "    </tr>\n",
              "    <tr>\n",
              "      <th>4</th>\n",
              "      <td>2797472415438193591</td>\n",
              "      <td>FEMALE</td>\n",
              "      <td>13.0</td>\n",
              "      <td>NaN</td>\n",
              "      <td>NaN</td>\n",
              "      <td>1.0</td>\n",
              "      <td>1.0</td>\n",
              "      <td>NaN</td>\n",
              "      <td>NaN</td>\n",
              "      <td>NaN</td>\n",
              "    </tr>\n",
              "    <tr>\n",
              "      <th>...</th>\n",
              "      <td>...</td>\n",
              "      <td>...</td>\n",
              "      <td>...</td>\n",
              "      <td>...</td>\n",
              "      <td>...</td>\n",
              "      <td>...</td>\n",
              "      <td>...</td>\n",
              "      <td>...</td>\n",
              "      <td>...</td>\n",
              "      <td>...</td>\n",
              "    </tr>\n",
              "    <tr>\n",
              "      <th>293817</th>\n",
              "      <td>-1196573105378439528</td>\n",
              "      <td>FEMALE</td>\n",
              "      <td>6.0</td>\n",
              "      <td>NaN</td>\n",
              "      <td>NaN</td>\n",
              "      <td>3.0</td>\n",
              "      <td>NaN</td>\n",
              "      <td>NaN</td>\n",
              "      <td>NaN</td>\n",
              "      <td>NaN</td>\n",
              "    </tr>\n",
              "    <tr>\n",
              "      <th>293818</th>\n",
              "      <td>1595203309404089633</td>\n",
              "      <td>MALE</td>\n",
              "      <td>4.0</td>\n",
              "      <td>NaN</td>\n",
              "      <td>NaN</td>\n",
              "      <td>1.0</td>\n",
              "      <td>1.0</td>\n",
              "      <td>NaN</td>\n",
              "      <td>NaN</td>\n",
              "      <td>NaN</td>\n",
              "    </tr>\n",
              "    <tr>\n",
              "      <th>293819</th>\n",
              "      <td>5013817235689620088</td>\n",
              "      <td>FEMALE</td>\n",
              "      <td>5.0</td>\n",
              "      <td>NaN</td>\n",
              "      <td>NaN</td>\n",
              "      <td>1.0</td>\n",
              "      <td>1.0</td>\n",
              "      <td>NaN</td>\n",
              "      <td>NaN</td>\n",
              "      <td>NaN</td>\n",
              "    </tr>\n",
              "    <tr>\n",
              "      <th>293820</th>\n",
              "      <td>3875003775962300238</td>\n",
              "      <td>NaN</td>\n",
              "      <td>NaN</td>\n",
              "      <td>NaN</td>\n",
              "      <td>NaN</td>\n",
              "      <td>2.0</td>\n",
              "      <td>2.0</td>\n",
              "      <td>NaN</td>\n",
              "      <td>NaN</td>\n",
              "      <td>NaN</td>\n",
              "    </tr>\n",
              "    <tr>\n",
              "      <th>293821</th>\n",
              "      <td>-1314121593477898716</td>\n",
              "      <td>MALE</td>\n",
              "      <td>10.0</td>\n",
              "      <td>NaN</td>\n",
              "      <td>NaN</td>\n",
              "      <td>1.0</td>\n",
              "      <td>1.0</td>\n",
              "      <td>NaN</td>\n",
              "      <td>NaN</td>\n",
              "      <td>NaN</td>\n",
              "    </tr>\n",
              "  </tbody>\n",
              "</table>\n",
              "<p>293822 rows × 10 columns</p>\n",
              "</div>"
            ],
            "text/plain": [
              "                     userId  sex_cd  ...  avg_buy_amt price_band\n",
              "0       3396529561938819894    MALE  ...          NaN        NaN\n",
              "1       2437340833623182644     NaN  ...          NaN        NaN\n",
              "2       -167020489941946621    MALE  ...          NaN        NaN\n",
              "3      -8481236353876622013  FEMALE  ...          NaN        NaN\n",
              "4       2797472415438193591  FEMALE  ...          NaN        NaN\n",
              "...                     ...     ...  ...          ...        ...\n",
              "293817 -1196573105378439528  FEMALE  ...          NaN        NaN\n",
              "293818  1595203309404089633    MALE  ...          NaN        NaN\n",
              "293819  5013817235689620088  FEMALE  ...          NaN        NaN\n",
              "293820  3875003775962300238     NaN  ...          NaN        NaN\n",
              "293821 -1314121593477898716    MALE  ...          NaN        NaN\n",
              "\n",
              "[293822 rows x 10 columns]"
            ]
          },
          "metadata": {},
          "execution_count": 28
        }
      ]
    },
    {
      "cell_type": "markdown",
      "metadata": {
        "id": "iTyYe7A8lkhj"
      },
      "source": [
        "#### 1.Preprocessing data\n",
        "> Important JOB : interaction 안되는 데이터 삭제 <br>\n",
        "-> item_feature_source.movieId 가 ratings.movieId 에 100% join 되어야함 <br>\n",
        "-> user_feature_source.userId 가 rating.userId에 100% mapping 되어야함 <br>"
      ]
    },
    {
      "cell_type": "code",
      "metadata": {
        "id": "SY52RTda0Hrm"
      },
      "source": [
        "'''1) join 안되는 ID 삭제 > 2) sort_value['id'] > 3) reset_index()'''\n",
        "\n",
        "ratings=user_item_interactions.loc[:,['userId','movieId','rating']].sort_values(by=['userId','movieId']).reset_index(drop=True)\n",
        "df_item_features['genres']=df_item_features.genre_l.fillna('NaN')+'|'+df_item_features.genre_m.fillna('NaN')+'|'+df_item_features.genre_s.fillna('NaN') #장르결합 genre1/2/3\n",
        "movies=df_item_features.loc[:,['movieId','title','genres','create_yr','director','actor1','wtch_cnt','sales_amt_3m']].fillna(0).sort_values(by=['movieId']).reset_index(drop=True)\n",
        "users=df_user_features.loc[:,['userId','sex_cd','age5_band','pfgn1','avg_wtch_cnt','avg_fwtch_cnt','avg_buy_cnt','avg_buy_amt','price_band']].fillna(0).sort_values(by=['userId']).reset_index(drop=True)\n",
        "\n",
        "def handle_movies(ratings,movies):\n",
        "\n",
        "  #movies['genre']=list(map(lambda x:zlib.crc32(x.encode('UTF-8')), np.array(movies.genre.fillna(''))))\n",
        "  tmp_movie=ratings.groupby('movieId')['rating'].mean()\n",
        "  movies=pd.merge(tmp_movie,movies, on='movieId')\n",
        "  idx_movie=movies.movieId[~movies.movieId.isin(ratings.movieId)].index\n",
        "  movies.drop(idx_movie,inplace=True)\n",
        "  movies.sort_values(by=['movieId'], inplace=True)\n",
        "  movies.reset_index(drop=True, inplace=True)\n",
        "  #print('movies',movies.columns)\n",
        "  return movies\n",
        "\n",
        "def handle_users(ratings,users):\n",
        "  \n",
        "  tmp_user=pd.DataFrame(ratings.userId.unique(),columns=['userId'])\n",
        "  users=pd.merge(tmp_user,users, on='userId')\n",
        "  idx_user=users.userId[~users.userId.isin(ratings.userId)].index\n",
        "  users.drop(idx_user,inplace=True)\n",
        "  users.sort_values(by=['userId'], inplace=True)\n",
        "  users.reset_index(drop=True, inplace=True)\n",
        "  #print('users',users.columns)\n",
        "  return users\n",
        "\n",
        "def handle_interactions(movies,users):\n",
        "\n",
        "  idx_user=ratings.userId[~ratings.userId.isin(users.userId)].index\n",
        "  ratings.drop(idx_user,inplace=True)\n",
        "  idx_movie=ratings.movieId[~ratings.movieId.isin(movies.movieId)].index\n",
        "  ratings.drop(idx_movie,inplace=True)\n",
        "  ratings.sort_values(by=['userId','movieId'],inplace=True)\n",
        "  ratings.reset_index(drop=True, inplace=True)\n",
        "  #print('ratings',ratings.columns)\n",
        "  return ratings\n",
        "\n",
        "# 순방향 걸러내기\n",
        "movies=handle_movies(ratings,movies)\n",
        "users=handle_users(ratings,users)\n",
        "ratings=handle_interactions(movies,users)\n",
        "# 역방향 걸러내기\n",
        "users=handle_users(ratings,users)\n",
        "movies=handle_movies(ratings,movies.loc[:, movies.columns != 'rating'])"
      ],
      "execution_count": 29,
      "outputs": []
    },
    {
      "cell_type": "code",
      "metadata": {
        "colab": {
          "base_uri": "https://localhost:8080/"
        },
        "id": "bZjxm1xn57sy",
        "outputId": "e0c0aa7d-9cde-483a-91c1-9e589dc34cab"
      },
      "source": [
        "# rating, user, movies ID 갯수 동일 확인\n",
        "print(users.shape[0],len(ratings.userId.unique()),movies.shape[0],len(ratings.movieId.unique()),ratings.shape[0])"
      ],
      "execution_count": 30,
      "outputs": [
        {
          "output_type": "stream",
          "name": "stdout",
          "text": [
            "293105 293105 25282 25282 5718243\n"
          ]
        }
      ]
    },
    {
      "cell_type": "code",
      "metadata": {
        "id": "NWAg6u2VwVu1"
      },
      "source": [
        "# id 무결성 확인\n",
        "#print(movies.movieId[~movies.movieId.isin(ratings.movieId)])\n",
        "#print(users.userId[~users.userId.isin(ratings.userId)])\n",
        "#print(ratings.userId[~ratings.userId.isin(ratings.userId)])\n",
        "#print(ratings.movieId[~ratings.movieId.isin(movies.movieId)])"
      ],
      "execution_count": 31,
      "outputs": []
    },
    {
      "cell_type": "code",
      "metadata": {
        "colab": {
          "base_uri": "https://localhost:8080/",
          "height": 265
        },
        "id": "yK_VH4m-h_5w",
        "outputId": "f8ce349f-a36c-4912-c7e8-3a05061cde95"
      },
      "source": [
        "a=plt.hist(movies.rating,bins=30) #데이터분포확인"
      ],
      "execution_count": 32,
      "outputs": [
        {
          "output_type": "display_data",
          "data": {
            "image/png": "[encoded data removed]",
            "text/plain": [
              "<Figure size 432x288 with 1 Axes>"
            ]
          },
          "metadata": {
            "needs_background": "light"
          }
        }
      ]
    },
    {
      "cell_type": "markdown",
      "metadata": {
        "id": "fUmfmnRCqo2H"
      },
      "source": [
        "#### 2.Make Data Array\n",
        "\n",
        "> ndex 가 비어 있으면 오류발생 : reset_index() 필요\n",
        "\n"
      ]
    },
    {
      "cell_type": "code",
      "metadata": {
        "id": "rHtXHwT1qo2G",
        "scrolled": true
      },
      "source": [
        "from lightfm.data import Dataset\n",
        "from scipy.io import mmwrite"
      ],
      "execution_count": 33,
      "outputs": []
    },
    {
      "cell_type": "code",
      "metadata": {
        "colab": {
          "base_uri": "https://localhost:8080/",
          "height": 419
        },
        "id": "AIHGlk9eW4UT",
        "outputId": "79760ac2-8ddc-48ea-9943-107b66c1cef4"
      },
      "source": [
        "#ratings.drop(columns=['rating_n'],inplace=True)\n",
        "# 척도를 변환하고 반올림\n",
        "ratings.rating=round((((ratings.rating - ratings.rating.min()) * ( 10 - 0 )) / ( ratings.rating.max() - ratings.rating.min())) + 0)\n",
        "ratings"
      ],
      "execution_count": 34,
      "outputs": [
        {
          "output_type": "execute_result",
          "data": {
            "text/html": [
              "<div>\n",
              "<style scoped>\n",
              "    .dataframe tbody tr th:only-of-type {\n",
              "        vertical-align: middle;\n",
              "    }\n",
              "\n",
              "    .dataframe tbody tr th {\n",
              "        vertical-align: top;\n",
              "    }\n",
              "\n",
              "    .dataframe thead th {\n",
              "        text-align: right;\n",
              "    }\n",
              "</style>\n",
              "<table border=\"1\" class=\"dataframe\">\n",
              "  <thead>\n",
              "    <tr style=\"text-align: right;\">\n",
              "      <th></th>\n",
              "      <th>userId</th>\n",
              "      <th>movieId</th>\n",
              "      <th>rating</th>\n",
              "    </tr>\n",
              "  </thead>\n",
              "  <tbody>\n",
              "    <tr>\n",
              "      <th>0</th>\n",
              "      <td>-9223259533948962539</td>\n",
              "      <td>-5325328048293135553</td>\n",
              "      <td>0.0</td>\n",
              "    </tr>\n",
              "    <tr>\n",
              "      <th>1</th>\n",
              "      <td>-9223259533948962539</td>\n",
              "      <td>-816328911221559320</td>\n",
              "      <td>3.0</td>\n",
              "    </tr>\n",
              "    <tr>\n",
              "      <th>2</th>\n",
              "      <td>-9223259533948962539</td>\n",
              "      <td>2399654214069935366</td>\n",
              "      <td>0.0</td>\n",
              "    </tr>\n",
              "    <tr>\n",
              "      <th>3</th>\n",
              "      <td>-9223259533948962539</td>\n",
              "      <td>3462194398905494488</td>\n",
              "      <td>0.0</td>\n",
              "    </tr>\n",
              "    <tr>\n",
              "      <th>4</th>\n",
              "      <td>-9223237916653256333</td>\n",
              "      <td>-7666943246243350237</td>\n",
              "      <td>0.0</td>\n",
              "    </tr>\n",
              "    <tr>\n",
              "      <th>...</th>\n",
              "      <td>...</td>\n",
              "      <td>...</td>\n",
              "      <td>...</td>\n",
              "    </tr>\n",
              "    <tr>\n",
              "      <th>5718238</th>\n",
              "      <td>9223322056064380844</td>\n",
              "      <td>-3573952772207421421</td>\n",
              "      <td>1.0</td>\n",
              "    </tr>\n",
              "    <tr>\n",
              "      <th>5718239</th>\n",
              "      <td>9223322056064380844</td>\n",
              "      <td>-3037452211581368244</td>\n",
              "      <td>1.0</td>\n",
              "    </tr>\n",
              "    <tr>\n",
              "      <th>5718240</th>\n",
              "      <td>9223322056064380844</td>\n",
              "      <td>-2679473653912353406</td>\n",
              "      <td>1.0</td>\n",
              "    </tr>\n",
              "    <tr>\n",
              "      <th>5718241</th>\n",
              "      <td>9223322056064380844</td>\n",
              "      <td>-2546974551736097183</td>\n",
              "      <td>1.0</td>\n",
              "    </tr>\n",
              "    <tr>\n",
              "      <th>5718242</th>\n",
              "      <td>9223322056064380844</td>\n",
              "      <td>2720114675049710537</td>\n",
              "      <td>3.0</td>\n",
              "    </tr>\n",
              "  </tbody>\n",
              "</table>\n",
              "<p>5718243 rows × 3 columns</p>\n",
              "</div>"
            ],
            "text/plain": [
              "                      userId              movieId  rating\n",
              "0       -9223259533948962539 -5325328048293135553     0.0\n",
              "1       -9223259533948962539  -816328911221559320     3.0\n",
              "2       -9223259533948962539  2399654214069935366     0.0\n",
              "3       -9223259533948962539  3462194398905494488     0.0\n",
              "4       -9223237916653256333 -7666943246243350237     0.0\n",
              "...                      ...                  ...     ...\n",
              "5718238  9223322056064380844 -3573952772207421421     1.0\n",
              "5718239  9223322056064380844 -3037452211581368244     1.0\n",
              "5718240  9223322056064380844 -2679473653912353406     1.0\n",
              "5718241  9223322056064380844 -2546974551736097183     1.0\n",
              "5718242  9223322056064380844  2720114675049710537     3.0\n",
              "\n",
              "[5718243 rows x 3 columns]"
            ]
          },
          "metadata": {},
          "execution_count": 34
        }
      ]
    },
    {
      "cell_type": "code",
      "metadata": {
        "id": "EZp3Nl-O06ME"
      },
      "source": [
        "item_meta = movies[['movieId', 'title', 'genres', 'rating', 'create_yr']]\n",
        "\n",
        "item_features_source = [(item_meta['movieId'][i],\n",
        "                        np.array(item_meta.iloc[i,1:]).reshape(-1)) for i in range(item_meta.shape[0])]                                           "
      ],
      "execution_count": 35,
      "outputs": []
    },
    {
      "cell_type": "code",
      "metadata": {
        "id": "z1nHPd1g8YJy"
      },
      "source": [
        "user_meta = users #[['userId','sex_cd','age5_band','pfgn1','avg_wtch_cnt']]\n",
        "\n",
        "user_features_source = [(user_meta['userId'][i],\n",
        "                        np.array(user_meta.iloc[i,1:]).reshape(-1)) for i in range(user_meta.shape[0])]                          "
      ],
      "execution_count": 42,
      "outputs": []
    },
    {
      "cell_type": "code",
      "metadata": {
        "colab": {
          "base_uri": "https://localhost:8080/",
          "height": 69
        },
        "id": "zQA1NXWBqo2J",
        "outputId": "dd80f79c-e25d-4554-a210-62d263b64b1e"
      },
      "source": [
        "#결측치가 있는지 확인\n",
        "'''\n",
        "df=pd.DataFrame(ratings_source);print(pd.DataFrame(ratings_source).head(1))\n",
        "df.isnull().sum()\n",
        "df=pd.DataFrame(item_features_source);print(pd.DataFrame(item_features_source).head(1))\n",
        "df.isnull().sum()\n",
        "df=pd.DataFrame(user_features_source);print(pd.DataFrame(user_features_source).head(1))\n",
        "df.isnull().sum()\n",
        "'''"
      ],
      "execution_count": 44,
      "outputs": [
        {
          "output_type": "execute_result",
          "data": {
            "application/vnd.google.colaboratory.intrinsic+json": {
              "type": "string"
            },
            "text/plain": [
              "'\\ndf=pd.DataFrame(ratings_source);print(pd.DataFrame(ratings_source).head(1))\\ndf.isnull().sum()\\ndf=pd.DataFrame(item_features_source);print(pd.DataFrame(item_features_source).head(1))\\ndf.isnull().sum()\\ndf=pd.DataFrame(user_features_source);print(pd.DataFrame(user_features_source).head(1))\\ndf.isnull().sum()\\n'"
            ]
          },
          "metadata": {},
          "execution_count": 44
        }
      ]
    },
    {
      "cell_type": "markdown",
      "metadata": {
        "id": "gx2sUWkPmc3o"
      },
      "source": [
        "### $ {\\color{yellow} {Model \\,run}}$"
      ]
    },
    {
      "cell_type": "markdown",
      "metadata": {
        "id": "9R29zcyE76tV"
      },
      "source": [
        "#### $ {\\color{yellow} {0.Fit \\,dataset}}$\n",
        "> dataset.fit -> dataset.build 순으로 각 데이터별로 번갈아 수행 해야함"
      ]
    },
    {
      "cell_type": "code",
      "metadata": {
        "id": "VngxsMVSwgsF"
      },
      "source": [
        "ratings_source = [(ratings['userId'][i], ratings['movieId'][i], ratings['rating'][i]) for i in range(ratings.shape[0])]  # type : int형 only"
      ],
      "execution_count": 45,
      "outputs": []
    },
    {
      "cell_type": "code",
      "metadata": {
        "id": "w9TvvrYeqo2K"
      },
      "source": [
        "dataset = Dataset()\n",
        "dataset.fit(users=ratings['userId'],\n",
        "            items=ratings['movieId'])"
      ],
      "execution_count": 46,
      "outputs": []
    },
    {
      "cell_type": "code",
      "metadata": {
        "id": "rWp2-O2fqo2M"
      },
      "source": [
        "interactions, weights = dataset.build_interactions(ratings_source)"
      ],
      "execution_count": 47,
      "outputs": []
    },
    {
      "cell_type": "code",
      "metadata": {
        "id": "zD5ROa0DSXR_"
      },
      "source": [
        "dataset.fit(users=ratings['userId'],\n",
        "            items=ratings['movieId'],\n",
        "            item_features=item_meta[item_meta.columns[1:]].values.flatten()\n",
        "            )"
      ],
      "execution_count": 48,
      "outputs": []
    },
    {
      "cell_type": "code",
      "metadata": {
        "id": "mdmzc5CznuiO"
      },
      "source": [
        "item_features=dataset.build_item_features(item_features_source)"
      ],
      "execution_count": 49,
      "outputs": []
    },
    {
      "cell_type": "code",
      "metadata": {
        "id": "FZVyR-eySYDh"
      },
      "source": [
        "dataset.fit(users=ratings['userId'],\n",
        "            items=ratings['movieId'],\n",
        "            user_features=user_meta[user_meta.columns[1:]].values.flatten()\n",
        "            )"
      ],
      "execution_count": 50,
      "outputs": []
    },
    {
      "cell_type": "code",
      "metadata": {
        "id": "ymwH72Fwam6a"
      },
      "source": [
        "user_features=dataset.build_user_features(user_features_source)"
      ],
      "execution_count": 51,
      "outputs": []
    },
    {
      "cell_type": "code",
      "metadata": {
        "id": "FYiEGBwioyYm"
      },
      "source": [
        "#print(pd.DataFrame(item_features_source))"
      ],
      "execution_count": 52,
      "outputs": []
    },
    {
      "cell_type": "code",
      "metadata": {
        "id": "S41eH_-hqo2M"
      },
      "source": [
        "# Save\n",
        "mmwrite('interactions.mtx', interactions)\n",
        "mmwrite('item_features.mtx', item_features)\n",
        "mmwrite('weights.mtx', weights)\n",
        "mmwrite('user_features.mtx',user_features)"
      ],
      "execution_count": 53,
      "outputs": []
    },
    {
      "cell_type": "code",
      "metadata": {
        "id": "GH0QInqRuqqA"
      },
      "source": [
        "#print(weights)"
      ],
      "execution_count": 54,
      "outputs": []
    },
    {
      "cell_type": "code",
      "metadata": {
        "colab": {
          "base_uri": "https://localhost:8080/"
        },
        "id": "Q16KwH-yqo2N",
        "outputId": "9f95f6df-332c-430c-9ba3-211f053c32d6"
      },
      "source": [
        "from lightfm.cross_validation import random_train_test_split\n",
        "# Split Train, Test data\n",
        "model = LightFM(loss='warp')\n",
        "\n",
        "(train, test) = random_train_test_split(interactions=interactions, test_percentage=0.2)\n",
        "start = time.time()\n",
        "model.fit(train, item_features=item_features, user_features=user_features, epochs=10)\n",
        "end = time.time(); print('time :',end-start) "
      ],
      "execution_count": 55,
      "outputs": [
        {
          "output_type": "stream",
          "name": "stdout",
          "text": [
            "time : 196.8237853050232\n"
          ]
        }
      ]
    },
    {
      "cell_type": "markdown",
      "metadata": {
        "id": "-VDNbkeCjVRU"
      },
      "source": [
        "#### $ {\\color{yellow} {1.evaluation : precision@k, AUC }}$"
      ]
    },
    {
      "cell_type": "code",
      "metadata": {
        "colab": {
          "base_uri": "https://localhost:8080/",
          "height": 154
        },
        "id": "7JdtHwjphZZa",
        "outputId": "625b070a-a649-4f9b-8546-3509da8f6c61"
      },
      "source": [
        "start = time.time()\n",
        "train_precision = precision_at_k(model, train, k=10,user_features=user_features,item_features=item_features).mean()\n",
        "end = time.time(); print('time :',end-start) \n",
        "start = time.time()\n",
        "test_precision = precision_at_k(model, test, k=10,user_features=user_features,item_features=item_features).mean()\n",
        "end = time.time(); print('time :',end-start) \n",
        "start = time.time()\n",
        "train_auc = auc_score(model, train,user_features=user_features,item_features=item_features).mean()\n",
        "end = time.time(); print('time :',end-start) \n",
        "start = time.time()\n",
        "test_auc = auc_score(model, test,user_features=user_features,item_features=item_features).mean()\n",
        "end = time.time(); print('time :',end-start) \n",
        "\n",
        "print('Precision: train %.3f, test %.3f.' % (train_precision, test_precision))\n",
        "print('AUC: train %.3f, test %.3f.' % (train_auc, test_auc))\n",
        "'''\n",
        "time : 633.9194025993347\n",
        "time : 424.50309658050537\n",
        "time : 634.1630313396454\n",
        "time : 424.71241569519043\n",
        "Precision: train 0.15, test 0.05.\n",
        "AUC: train 0.97, test 0.96.\n",
        "'''"
      ],
      "execution_count": 56,
      "outputs": [
        {
          "output_type": "stream",
          "name": "stdout",
          "text": [
            "time : 820.7646856307983\n",
            "time : 545.7185568809509\n",
            "time : 837.4278154373169\n",
            "time : 529.6677284240723\n",
            "Precision: train 0.151, test 0.049.\n",
            "AUC: train 0.968, test 0.964.\n"
          ]
        },
        {
          "output_type": "execute_result",
          "data": {
            "application/vnd.google.colaboratory.intrinsic+json": {
              "type": "string"
            },
            "text/plain": [
              "'\\ntime : 633.9194025993347\\ntime : 424.50309658050537\\ntime : 634.1630313396454\\ntime : 424.71241569519043\\nPrecision: train 0.15, test 0.05.\\nAUC: train 0.97, test 0.96.\\n'"
            ]
          },
          "metadata": {},
          "execution_count": 56
        }
      ]
    },
    {
      "cell_type": "code",
      "metadata": {
        "colab": {
          "base_uri": "https://localhost:8080/"
        },
        "id": "mBljIGCq5jHf",
        "outputId": "025c9ca6-b1fc-4fac-a410-75e6320db21a"
      },
      "source": [
        "print('Precision: train %.3f, test %.3f.' % (train_precision, test_precision))\n",
        "print('AUC: train %.3f, test %.3f.' % (train_auc, test_auc))"
      ],
      "execution_count": 57,
      "outputs": [
        {
          "output_type": "stream",
          "name": "stdout",
          "text": [
            "Precision: train 0.151, test 0.049.\n",
            "AUC: train 0.968, test 0.964.\n"
          ]
        }
      ]
    },
    {
      "cell_type": "code",
      "metadata": {
        "colab": {
          "base_uri": "https://localhost:8080/"
        },
        "id": "e83el7s5xy1Z",
        "outputId": "2d424497-ae3c-42a3-d918-e28d82860a6c"
      },
      "source": [
        "alpha = 1e-05\n",
        "epochs = 3\n",
        "num_components = 5\n",
        "max_sampled=10\n",
        "\n",
        "warp_model = LightFM(no_components=num_components,\n",
        "                    loss='warp',\n",
        "                    learning_schedule='adagrad',\n",
        "                    max_sampled=max_sampled,\n",
        "                    user_alpha=alpha,\n",
        "                    item_alpha=alpha)\n",
        "\n",
        "bpr_model = LightFM(no_components=num_components,\n",
        "                    loss='bpr',\n",
        "                    learning_schedule='adagrad',\n",
        "                    user_alpha=alpha,\n",
        "                    item_alpha=alpha)\n",
        "\n",
        "warp_duration = []\n",
        "bpr_duration = []\n",
        "warp_auc = []\n",
        "bpr_auc = []\n",
        "\n",
        "for epoch in range(epochs):\n",
        "    print(epoch);\n",
        "    start = time.time()\n",
        "    warp_model.fit_partial(train, epochs=1,user_features=user_features,item_features=item_features)\n",
        "    warp_duration.append(time.time() - start);end = time.time(); print('time :',end-start) \n",
        "    warp_auc.append(auc_score(warp_model, test, train_interactions=train,user_features=user_features,item_features=item_features).mean()) #10분소요\n",
        "    end = time.time(); print('time :',end-start) \n"
      ],
      "execution_count": 58,
      "outputs": [
        {
          "output_type": "stream",
          "name": "stdout",
          "text": [
            "0\n",
            "time : 14.419335126876831\n",
            "time : 383.7625102996826\n",
            "1\n",
            "time : 13.13205599784851\n",
            "time : 391.21036887168884\n",
            "2\n",
            "time : 13.45424509048462\n",
            "time : 381.8899517059326\n"
          ]
        }
      ]
    },
    {
      "cell_type": "code",
      "metadata": {
        "colab": {
          "base_uri": "https://localhost:8080/"
        },
        "id": "pvG46xA6YTkF",
        "outputId": "c705faec-6cb6-4f89-9e32-714779720cc3"
      },
      "source": [
        "for epoch in range(epochs):\n",
        "    print(epoch);\n",
        "    start = time.time()\n",
        "    bpr_model.fit_partial(train, epochs=1,user_features=user_features,item_features=item_features)\n",
        "    bpr_duration.append(time.time() - start);end = time.time(); print('time :',end-start) \n",
        "    bpr_auc.append(auc_score(bpr_model, test, train_interactions=train,user_features=user_features,item_features=item_features).mean())\n",
        "    end = time.time(); print('time :',end-start) "
      ],
      "execution_count": 59,
      "outputs": [
        {
          "output_type": "stream",
          "name": "stdout",
          "text": [
            "0\n",
            "time : 11.731806993484497\n",
            "time : 431.37135553359985\n",
            "1\n",
            "time : 11.069818496704102\n",
            "time : 405.08992171287537\n",
            "2\n",
            "time : 11.488825559616089\n",
            "time : 415.2987275123596\n"
          ]
        }
      ]
    },
    {
      "cell_type": "code",
      "metadata": {
        "colab": {
          "base_uri": "https://localhost:8080/",
          "height": 265
        },
        "id": "5JHCw_vDyRX_",
        "outputId": "02d88680-5a01-42b6-afdf-51a212c33b7f"
      },
      "source": [
        "x = np.arange(epochs)\n",
        "plt.plot(x, np.array(warp_auc))\n",
        "plt.plot(x, np.array(bpr_auc))\n",
        "plt.legend(['WARP AUC', 'BPR AUC'], loc='upper right')\n",
        "plt.show()"
      ],
      "execution_count": 60,
      "outputs": [
        {
          "output_type": "display_data",
          "data": {
            "image/png": "[encoded data removed]",
            "text/plain": [
              "<Figure size 432x288 with 1 Axes>"
            ]
          },
          "metadata": {
            "needs_background": "light"
          }
        }
      ]
    },
    {
      "cell_type": "code",
      "metadata": {
        "colab": {
          "base_uri": "https://localhost:8080/",
          "height": 265
        },
        "id": "4qYJTyDQs21k",
        "outputId": "80f7bc50-1f4c-41d1-f992-2bf73036f856"
      },
      "source": [
        "x = np.arange(epochs)\n",
        "plt.plot(x, np.array(warp_duration))\n",
        "plt.plot(x, np.array(bpr_duration))\n",
        "plt.legend(['WARP duration', 'BPR duration'], loc='upper right')\n",
        "plt.show()"
      ],
      "execution_count": 61,
      "outputs": [
        {
          "output_type": "display_data",
          "data": {
            "image/png": "[encoded data removed]",
            "text/plain": [
              "<Figure size 432x288 with 1 Axes>"
            ]
          },
          "metadata": {
            "needs_background": "light"
          }
        }
      ]
    },
    {
      "cell_type": "markdown",
      "metadata": {
        "id": "Un2G3obsmD6b"
      },
      "source": [
        "#### $ {\\color{yellow} {2.Recommend \\,\\,Movie\\,\\,List }}$"
      ]
    },
    {
      "cell_type": "code",
      "metadata": {
        "id": "oo2XAIfVC9Qd"
      },
      "source": [
        "labels = np.array(movies['movieId'])\n",
        "\n",
        "def sample_recommendation(model, data, user_ids):\n",
        "\n",
        "    n_users, n_items = data.shape\n",
        "\n",
        "    #build a structure to store user scores for each item\n",
        "    all_scores = np.empty(shape=(0,n_items))\n",
        "\n",
        "    #iterate through the group and build the scores\n",
        "    for user_id in user_ids:\n",
        "        #known_positives = labels[data.tocsr()[user_id].indices]\n",
        "        #user의 전체 0~9066 movie의 예측 평점\n",
        "        scores = model.predict(user_id,np.arange(n_items),item_features) \n",
        "        \n",
        "        top_items_for_user = labels[np.argsort(-scores)] #argsort():오름차순인덱스반환\n",
        "        print(\"Top Recommended movieId For User: \", user_id)\n",
        "        for x in top_items_for_user[:3]:\n",
        "            #print(\"     %s\" % movies[movies['movieId']== x])\n",
        "            print(\"     %s\" % x)\n",
        "\n",
        "        #vertically stack the user scores (items are columns)\n",
        "        all_scores = np.vstack((all_scores, scores))\n",
        "        #print(all_top_items)\n",
        "\n",
        "    #compute the average rating for each item in the group\n",
        "    item_averages = np.mean(all_scores.astype(np.float), axis=0)\n",
        "    top_items_for_group = labels[np.argsort(-item_averages)]\n",
        "    top_items_scores=item_averages[np.argsort(-item_averages)]\n",
        "\n",
        "    print(\"Top Recommended movieId for Group:\")\n",
        "\n",
        "    for x in top_items_for_group[:5]:\n",
        "        print(\"     %s\" % x)\n",
        "    return  top_items_for_group, top_items_scores"
      ],
      "execution_count": 62,
      "outputs": []
    },
    {
      "cell_type": "code",
      "metadata": {
        "id": "cE9EyiaCWdhn"
      },
      "source": [
        "#group = [int(input('enter userid :'))]\n",
        "#pd.DataFrame(sample_recommendation(model, interactions, group)).T"
      ],
      "execution_count": 63,
      "outputs": []
    },
    {
      "cell_type": "code",
      "metadata": {
        "id": "VRTPjdcVFHvp",
        "colab": {
          "base_uri": "https://localhost:8080/",
          "height": 1000
        },
        "outputId": "bf241ab0-c79a-4cae-97f4-1ae1c8e9a773"
      },
      "source": [
        "#################################\n",
        "#                               #\n",
        "#  Sampling Recommended Events  #\n",
        "#                               #\n",
        "#################################\n",
        "np.set_printoptions(threshold=np.inf,linewidth=np.inf)\n",
        "pd.set_option('display.max_columns', None)\n",
        "\n",
        "#fetch user_ids of users in group\n",
        "group = [int(input('enter userid :'))]\n",
        "group =[11]\n",
        "list,avg_scores = sample_recommendation(model, interactions, group)\n",
        "recommend_movie=pd.DataFrame(columns=movies.columns)\n",
        "'''\n",
        "for x in list[:20]:\n",
        "  recommend_movie=recommend_movie.append(movies[movies['movieId']== x], ignore_index=True)\n",
        "'''\n",
        "for x in list[:100]:\n",
        "  recommend_movie=recommend_movie.append(movies[movies['movieId']== x], ignore_index=True)\n",
        "\n",
        "recommend_movie['predict_score']= avg_scores[:100]\n",
        "recommend_movie[recommend_movie.genres.str.split('|').str[1] !='성인'][:20].reset_index()# 성인제외\n",
        "#recommend_movie[:20]\n"
      ],
      "execution_count": 64,
      "outputs": [
        {
          "output_type": "stream",
          "name": "stdout",
          "text": [
            "enter userid :11\n",
            "Top Recommended movieId For User:  11\n",
            "     -6470401359382145327\n",
            "     -6654736372252959816\n",
            "     -8055298705959354357\n",
            "Top Recommended movieId for Group:\n",
            "     -6470401359382145327\n",
            "     -6654736372252959816\n",
            "     -8055298705959354357\n",
            "     -8134796277594556610\n",
            "     -8558695480390972275\n"
          ]
        },
        {
          "output_type": "execute_result",
          "data": {
            "text/html": [
              "<div>\n",
              "<style scoped>\n",
              "    .dataframe tbody tr th:only-of-type {\n",
              "        vertical-align: middle;\n",
              "    }\n",
              "\n",
              "    .dataframe tbody tr th {\n",
              "        vertical-align: top;\n",
              "    }\n",
              "\n",
              "    .dataframe thead th {\n",
              "        text-align: right;\n",
              "    }\n",
              "</style>\n",
              "<table border=\"1\" class=\"dataframe\">\n",
              "  <thead>\n",
              "    <tr style=\"text-align: right;\">\n",
              "      <th></th>\n",
              "      <th>index</th>\n",
              "      <th>movieId</th>\n",
              "      <th>rating</th>\n",
              "      <th>title</th>\n",
              "      <th>genres</th>\n",
              "      <th>create_yr</th>\n",
              "      <th>director</th>\n",
              "      <th>actor1</th>\n",
              "      <th>wtch_cnt</th>\n",
              "      <th>sales_amt_3m</th>\n",
              "      <th>predict_score</th>\n",
              "    </tr>\n",
              "  </thead>\n",
              "  <tbody>\n",
              "    <tr>\n",
              "      <th>0</th>\n",
              "      <td>1</td>\n",
              "      <td>-6654736372252959816</td>\n",
              "      <td>0.040772</td>\n",
              "      <td>거침없이 쏴라! 슛뎀업(Shoot `Em Up)</td>\n",
              "      <td>영화|액션|NaN</td>\n",
              "      <td>2015</td>\n",
              "      <td>마이클 데이비스</td>\n",
              "      <td>클라이브 오웬</td>\n",
              "      <td>166</td>\n",
              "      <td>290000.0</td>\n",
              "      <td>1.203758</td>\n",
              "    </tr>\n",
              "    <tr>\n",
              "      <th>1</th>\n",
              "      <td>2</td>\n",
              "      <td>-8055298705959354357</td>\n",
              "      <td>0.040118</td>\n",
              "      <td>피터팬(PETER PAN )</td>\n",
              "      <td>영화|액션|NaN</td>\n",
              "      <td>2014</td>\n",
              "      <td>P.J. 호건</td>\n",
              "      <td>제이슨 아이삭스</td>\n",
              "      <td>117</td>\n",
              "      <td>97500.0</td>\n",
              "      <td>1.200659</td>\n",
              "    </tr>\n",
              "    <tr>\n",
              "      <th>2</th>\n",
              "      <td>3</td>\n",
              "      <td>-8134796277594556610</td>\n",
              "      <td>0.054767</td>\n",
              "      <td>부탁 하나만 들어줘</td>\n",
              "      <td>영화|스릴러|NaN</td>\n",
              "      <td>2019</td>\n",
              "      <td>폴 페이그</td>\n",
              "      <td>블레이크 라이블리</td>\n",
              "      <td>620</td>\n",
              "      <td>158200.0</td>\n",
              "      <td>1.200349</td>\n",
              "    </tr>\n",
              "    <tr>\n",
              "      <th>3</th>\n",
              "      <td>4</td>\n",
              "      <td>-8558695480390972275</td>\n",
              "      <td>0.063046</td>\n",
              "      <td>시애틀의 잠 못 이루는 밤(SLEEPLESS IN SEATTLE)</td>\n",
              "      <td>영화|로맨스|NaN</td>\n",
              "      <td>2014</td>\n",
              "      <td>노라 애프론</td>\n",
              "      <td>톰 행크스</td>\n",
              "      <td>11</td>\n",
              "      <td>22500.0</td>\n",
              "      <td>1.196290</td>\n",
              "    </tr>\n",
              "    <tr>\n",
              "      <th>4</th>\n",
              "      <td>5</td>\n",
              "      <td>-8034955630282819547</td>\n",
              "      <td>0.097012</td>\n",
              "      <td>박하사탕</td>\n",
              "      <td>영화|드라마|NaN</td>\n",
              "      <td>2017</td>\n",
              "      <td>이창동</td>\n",
              "      <td>설경구</td>\n",
              "      <td>379</td>\n",
              "      <td>238000.0</td>\n",
              "      <td>1.195425</td>\n",
              "    </tr>\n",
              "    <tr>\n",
              "      <th>5</th>\n",
              "      <td>8</td>\n",
              "      <td>-6862683367524231989</td>\n",
              "      <td>0.142117</td>\n",
              "      <td>보이저스</td>\n",
              "      <td>영화|SF/판타지|NaN</td>\n",
              "      <td>2021</td>\n",
              "      <td>닐 버거</td>\n",
              "      <td>콜린 파렐</td>\n",
              "      <td>135</td>\n",
              "      <td>1117500.0</td>\n",
              "      <td>1.194453</td>\n",
              "    </tr>\n",
              "    <tr>\n",
              "      <th>6</th>\n",
              "      <td>11</td>\n",
              "      <td>-6438916458778381907</td>\n",
              "      <td>0.047052</td>\n",
              "      <td>지저귀는 새는 날지 않는다</td>\n",
              "      <td>영화|극장판 애니|로맨스</td>\n",
              "      <td>2020</td>\n",
              "      <td>마키타 카오리</td>\n",
              "      <td>신가키 타루스케</td>\n",
              "      <td>11</td>\n",
              "      <td>26000.0</td>\n",
              "      <td>1.187640</td>\n",
              "    </tr>\n",
              "    <tr>\n",
              "      <th>7</th>\n",
              "      <td>12</td>\n",
              "      <td>-6618847529950655177</td>\n",
              "      <td>0.016663</td>\n",
              "      <td>나인 풀 문스(9 Full Moons)</td>\n",
              "      <td>영화|로맨스|NaN</td>\n",
              "      <td>2016</td>\n",
              "      <td>토머 알마고</td>\n",
              "      <td>에이미 세이메츠</td>\n",
              "      <td>141</td>\n",
              "      <td>53200.0</td>\n",
              "      <td>1.185316</td>\n",
              "    </tr>\n",
              "    <tr>\n",
              "      <th>8</th>\n",
              "      <td>13</td>\n",
              "      <td>-7445645811297269365</td>\n",
              "      <td>0.030841</td>\n",
              "      <td>호스텔: 데스 게임</td>\n",
              "      <td>영화|공포|NaN</td>\n",
              "      <td>2020</td>\n",
              "      <td>조 루한</td>\n",
              "      <td>빌 오버스트 주니어</td>\n",
              "      <td>102</td>\n",
              "      <td>50500.0</td>\n",
              "      <td>1.183003</td>\n",
              "    </tr>\n",
              "    <tr>\n",
              "      <th>9</th>\n",
              "      <td>14</td>\n",
              "      <td>-8150472521540806013</td>\n",
              "      <td>0.045530</td>\n",
              "      <td>스토커: 할로윈 데이</td>\n",
              "      <td>영화|스릴러|NaN</td>\n",
              "      <td>2019</td>\n",
              "      <td>코빈 팀브룩</td>\n",
              "      <td>리아 마이어스</td>\n",
              "      <td>94</td>\n",
              "      <td>12500.0</td>\n",
              "      <td>1.181386</td>\n",
              "    </tr>\n",
              "    <tr>\n",
              "      <th>10</th>\n",
              "      <td>16</td>\n",
              "      <td>-6571857786927225331</td>\n",
              "      <td>0.016378</td>\n",
              "      <td>인질의 극</td>\n",
              "      <td>영화|스릴러|NaN</td>\n",
              "      <td>2019</td>\n",
              "      <td>채승철</td>\n",
              "      <td>김윤찬</td>\n",
              "      <td>17</td>\n",
              "      <td>12500.0</td>\n",
              "      <td>1.180067</td>\n",
              "    </tr>\n",
              "    <tr>\n",
              "      <th>11</th>\n",
              "      <td>18</td>\n",
              "      <td>-6576558596280941820</td>\n",
              "      <td>0.036452</td>\n",
              "      <td>당문</td>\n",
              "      <td>영화|액션|NaN</td>\n",
              "      <td>2019</td>\n",
              "      <td>동위</td>\n",
              "      <td>진경양</td>\n",
              "      <td>88</td>\n",
              "      <td>20000.0</td>\n",
              "      <td>1.176965</td>\n",
              "    </tr>\n",
              "    <tr>\n",
              "      <th>12</th>\n",
              "      <td>20</td>\n",
              "      <td>-8043497448009286618</td>\n",
              "      <td>0.042520</td>\n",
              "      <td>야망의 함정(The Firm)</td>\n",
              "      <td>영화|액션|NaN</td>\n",
              "      <td>2015</td>\n",
              "      <td>시드니 폴락</td>\n",
              "      <td>톰 크루즈</td>\n",
              "      <td>62</td>\n",
              "      <td>67500.0</td>\n",
              "      <td>1.173142</td>\n",
              "    </tr>\n",
              "    <tr>\n",
              "      <th>13</th>\n",
              "      <td>22</td>\n",
              "      <td>-8533496755671758632</td>\n",
              "      <td>0.030028</td>\n",
              "      <td>파이널 리벤지</td>\n",
              "      <td>영화|액션|NaN</td>\n",
              "      <td>2021</td>\n",
              "      <td>우밋 드기르멘치</td>\n",
              "      <td>우밋 드기르멘치</td>\n",
              "      <td>39</td>\n",
              "      <td>86500.0</td>\n",
              "      <td>1.170969</td>\n",
              "    </tr>\n",
              "    <tr>\n",
              "      <th>14</th>\n",
              "      <td>23</td>\n",
              "      <td>-8102675859600659371</td>\n",
              "      <td>0.064725</td>\n",
              "      <td>메리다와 마법의 숲(Brave)</td>\n",
              "      <td>영화|극장판 애니|어린이/가족</td>\n",
              "      <td>2017</td>\n",
              "      <td>마크 앤드류스</td>\n",
              "      <td>켈리 맥도날드</td>\n",
              "      <td>6176</td>\n",
              "      <td>0.0</td>\n",
              "      <td>1.170716</td>\n",
              "    </tr>\n",
              "    <tr>\n",
              "      <th>15</th>\n",
              "      <td>25</td>\n",
              "      <td>-8036625913428327567</td>\n",
              "      <td>0.071570</td>\n",
              "      <td>조선명탐정: 흡혈괴마의 비밀</td>\n",
              "      <td>영화|코미디|NaN</td>\n",
              "      <td>2018</td>\n",
              "      <td>김석윤</td>\n",
              "      <td>김명민</td>\n",
              "      <td>6347</td>\n",
              "      <td>0.0</td>\n",
              "      <td>1.170332</td>\n",
              "    </tr>\n",
              "    <tr>\n",
              "      <th>16</th>\n",
              "      <td>27</td>\n",
              "      <td>-8113999440728646163</td>\n",
              "      <td>0.082334</td>\n",
              "      <td>뷰티풀 데이 인 더 네이버 후드</td>\n",
              "      <td>영화|드라마|NaN</td>\n",
              "      <td>2020</td>\n",
              "      <td>마리엘 헬러</td>\n",
              "      <td>톰 행크스</td>\n",
              "      <td>26</td>\n",
              "      <td>35000.0</td>\n",
              "      <td>1.169798</td>\n",
              "    </tr>\n",
              "    <tr>\n",
              "      <th>17</th>\n",
              "      <td>28</td>\n",
              "      <td>-8133887360146484445</td>\n",
              "      <td>0.046187</td>\n",
              "      <td>셜록 홈즈(Sherlock Holmes)</td>\n",
              "      <td>영화|액션|NaN</td>\n",
              "      <td>2020</td>\n",
              "      <td>가이 리치</td>\n",
              "      <td>로버트 다우니 주니어</td>\n",
              "      <td>137</td>\n",
              "      <td>185000.0</td>\n",
              "      <td>1.169422</td>\n",
              "    </tr>\n",
              "    <tr>\n",
              "      <th>18</th>\n",
              "      <td>29</td>\n",
              "      <td>-8566025872666332319</td>\n",
              "      <td>0.067694</td>\n",
              "      <td>감시자들</td>\n",
              "      <td>영화|액션|NaN</td>\n",
              "      <td>2014</td>\n",
              "      <td>조의석</td>\n",
              "      <td>설경구</td>\n",
              "      <td>1589</td>\n",
              "      <td>1367800.0</td>\n",
              "      <td>1.168171</td>\n",
              "    </tr>\n",
              "    <tr>\n",
              "      <th>19</th>\n",
              "      <td>30</td>\n",
              "      <td>-8117285669308688092</td>\n",
              "      <td>0.025142</td>\n",
              "      <td>헤븐퀘스트</td>\n",
              "      <td>영화|액션|NaN</td>\n",
              "      <td>2020</td>\n",
              "      <td>맷 빌렌</td>\n",
              "      <td>패트릭 톰슨</td>\n",
              "      <td>278</td>\n",
              "      <td>17500.0</td>\n",
              "      <td>1.168003</td>\n",
              "    </tr>\n",
              "  </tbody>\n",
              "</table>\n",
              "</div>"
            ],
            "text/plain": [
              "    index               movieId    rating  \\\n",
              "0       1  -6654736372252959816  0.040772   \n",
              "1       2  -8055298705959354357  0.040118   \n",
              "2       3  -8134796277594556610  0.054767   \n",
              "3       4  -8558695480390972275  0.063046   \n",
              "4       5  -8034955630282819547  0.097012   \n",
              "5       8  -6862683367524231989  0.142117   \n",
              "6      11  -6438916458778381907  0.047052   \n",
              "7      12  -6618847529950655177  0.016663   \n",
              "8      13  -7445645811297269365  0.030841   \n",
              "9      14  -8150472521540806013  0.045530   \n",
              "10     16  -6571857786927225331  0.016378   \n",
              "11     18  -6576558596280941820  0.036452   \n",
              "12     20  -8043497448009286618  0.042520   \n",
              "13     22  -8533496755671758632  0.030028   \n",
              "14     23  -8102675859600659371  0.064725   \n",
              "15     25  -8036625913428327567  0.071570   \n",
              "16     27  -8113999440728646163  0.082334   \n",
              "17     28  -8133887360146484445  0.046187   \n",
              "18     29  -8566025872666332319  0.067694   \n",
              "19     30  -8117285669308688092  0.025142   \n",
              "\n",
              "                                   title            genres create_yr  \\\n",
              "0             거침없이 쏴라! 슛뎀업(Shoot `Em Up)         영화|액션|NaN      2015   \n",
              "1                        피터팬(PETER PAN )         영화|액션|NaN      2014   \n",
              "2                             부탁 하나만 들어줘        영화|스릴러|NaN      2019   \n",
              "3   시애틀의 잠 못 이루는 밤(SLEEPLESS IN SEATTLE)        영화|로맨스|NaN      2014   \n",
              "4                                   박하사탕        영화|드라마|NaN      2017   \n",
              "5                                   보이저스     영화|SF/판타지|NaN      2021   \n",
              "6                         지저귀는 새는 날지 않는다     영화|극장판 애니|로맨스      2020   \n",
              "7                  나인 풀 문스(9 Full Moons)        영화|로맨스|NaN      2016   \n",
              "8                             호스텔: 데스 게임         영화|공포|NaN      2020   \n",
              "9                            스토커: 할로윈 데이        영화|스릴러|NaN      2019   \n",
              "10                                 인질의 극        영화|스릴러|NaN      2019   \n",
              "11                                    당문         영화|액션|NaN      2019   \n",
              "12                      야망의 함정(The Firm)         영화|액션|NaN      2015   \n",
              "13                               파이널 리벤지         영화|액션|NaN      2021   \n",
              "14                     메리다와 마법의 숲(Brave)  영화|극장판 애니|어린이/가족      2017   \n",
              "15                       조선명탐정: 흡혈괴마의 비밀        영화|코미디|NaN      2018   \n",
              "16                     뷰티풀 데이 인 더 네이버 후드        영화|드라마|NaN      2020   \n",
              "17                셜록 홈즈(Sherlock Holmes)         영화|액션|NaN      2020   \n",
              "18                                  감시자들         영화|액션|NaN      2014   \n",
              "19                                 헤븐퀘스트         영화|액션|NaN      2020   \n",
              "\n",
              "    director        actor1 wtch_cnt  sales_amt_3m  predict_score  \n",
              "0   마이클 데이비스       클라이브 오웬      166      290000.0       1.203758  \n",
              "1    P.J. 호건      제이슨 아이삭스      117       97500.0       1.200659  \n",
              "2      폴 페이그     블레이크 라이블리      620      158200.0       1.200349  \n",
              "3     노라 애프론         톰 행크스       11       22500.0       1.196290  \n",
              "4        이창동           설경구      379      238000.0       1.195425  \n",
              "5       닐 버거         콜린 파렐      135     1117500.0       1.194453  \n",
              "6    마키타 카오리      신가키 타루스케       11       26000.0       1.187640  \n",
              "7     토머 알마고      에이미 세이메츠      141       53200.0       1.185316  \n",
              "8       조 루한    빌 오버스트 주니어      102       50500.0       1.183003  \n",
              "9     코빈 팀브룩       리아 마이어스       94       12500.0       1.181386  \n",
              "10       채승철           김윤찬       17       12500.0       1.180067  \n",
              "11        동위           진경양       88       20000.0       1.176965  \n",
              "12    시드니 폴락         톰 크루즈       62       67500.0       1.173142  \n",
              "13  우밋 드기르멘치      우밋 드기르멘치       39       86500.0       1.170969  \n",
              "14   마크 앤드류스       켈리 맥도날드     6176           0.0       1.170716  \n",
              "15       김석윤           김명민     6347           0.0       1.170332  \n",
              "16    마리엘 헬러         톰 행크스       26       35000.0       1.169798  \n",
              "17     가이 리치   로버트 다우니 주니어      137      185000.0       1.169422  \n",
              "18       조의석           설경구     1589     1367800.0       1.168171  \n",
              "19      맷 빌렌        패트릭 톰슨      278       17500.0       1.168003  "
            ]
          },
          "metadata": {},
          "execution_count": 64
        }
      ]
    },
    {
      "cell_type": "code",
      "metadata": {
        "id": "BzDvz1nANXGM",
        "colab": {
          "base_uri": "https://localhost:8080/",
          "height": 541
        },
        "outputId": "6add50bd-3061-4f2e-af69-3361364d1962"
      },
      "source": [
        "# 시청 정보\n",
        "#i = int(input('enter userid : '))\n",
        "i = int(input('enter userid :'))\n",
        "pd.merge(ratings[ratings.userId==users.iloc[i][0]],movies, on='movieId')"
      ],
      "execution_count": 65,
      "outputs": [
        {
          "name": "stdout",
          "output_type": "stream",
          "text": [
            "enter userid :11\n"
          ]
        },
        {
          "output_type": "execute_result",
          "data": {
            "text/html": [
              "<div>\n",
              "<style scoped>\n",
              "    .dataframe tbody tr th:only-of-type {\n",
              "        vertical-align: middle;\n",
              "    }\n",
              "\n",
              "    .dataframe tbody tr th {\n",
              "        vertical-align: top;\n",
              "    }\n",
              "\n",
              "    .dataframe thead th {\n",
              "        text-align: right;\n",
              "    }\n",
              "</style>\n",
              "<table border=\"1\" class=\"dataframe\">\n",
              "  <thead>\n",
              "    <tr style=\"text-align: right;\">\n",
              "      <th></th>\n",
              "      <th>userId</th>\n",
              "      <th>movieId</th>\n",
              "      <th>rating_x</th>\n",
              "      <th>rating_y</th>\n",
              "      <th>title</th>\n",
              "      <th>genres</th>\n",
              "      <th>create_yr</th>\n",
              "      <th>director</th>\n",
              "      <th>actor1</th>\n",
              "      <th>wtch_cnt</th>\n",
              "      <th>sales_amt_3m</th>\n",
              "    </tr>\n",
              "  </thead>\n",
              "  <tbody>\n",
              "    <tr>\n",
              "      <th>0</th>\n",
              "      <td>-9222499131495171858</td>\n",
              "      <td>-8765309055107668895</td>\n",
              "      <td>0.0</td>\n",
              "      <td>0.045508</td>\n",
              "      <td>웨이 다운</td>\n",
              "      <td>영화|액션|NaN</td>\n",
              "      <td>2021</td>\n",
              "      <td>자움 발라구에로</td>\n",
              "      <td>프레디 하이모어</td>\n",
              "      <td>8186</td>\n",
              "      <td>28496000.0</td>\n",
              "    </tr>\n",
              "    <tr>\n",
              "      <th>1</th>\n",
              "      <td>-9222499131495171858</td>\n",
              "      <td>-2881349100186662098</td>\n",
              "      <td>0.0</td>\n",
              "      <td>0.019245</td>\n",
              "      <td>캐시트럭</td>\n",
              "      <td>영화|액션|NaN</td>\n",
              "      <td>2021</td>\n",
              "      <td>가이 리치</td>\n",
              "      <td>제이슨 스타뎀</td>\n",
              "      <td>4701</td>\n",
              "      <td>30600000.0</td>\n",
              "    </tr>\n",
              "    <tr>\n",
              "      <th>2</th>\n",
              "      <td>-9222499131495171858</td>\n",
              "      <td>-2260645583576098385</td>\n",
              "      <td>0.0</td>\n",
              "      <td>0.011261</td>\n",
              "      <td>소울</td>\n",
              "      <td>영화|극장판 애니|드라마</td>\n",
              "      <td>2021</td>\n",
              "      <td>피트 닥터</td>\n",
              "      <td>제이미 폭스</td>\n",
              "      <td>45970</td>\n",
              "      <td>0.0</td>\n",
              "    </tr>\n",
              "    <tr>\n",
              "      <th>3</th>\n",
              "      <td>-9222499131495171858</td>\n",
              "      <td>1592906744297345059</td>\n",
              "      <td>0.0</td>\n",
              "      <td>0.016063</td>\n",
              "      <td>마크맨</td>\n",
              "      <td>영화|액션|NaN</td>\n",
              "      <td>2021</td>\n",
              "      <td>로버트 로렌즈</td>\n",
              "      <td>리암 니슨</td>\n",
              "      <td>18123</td>\n",
              "      <td>100000000.0</td>\n",
              "    </tr>\n",
              "    <tr>\n",
              "      <th>4</th>\n",
              "      <td>-9222499131495171858</td>\n",
              "      <td>2615346061790891548</td>\n",
              "      <td>1.0</td>\n",
              "      <td>0.059024</td>\n",
              "      <td>엉덩이 탐정 극장판:려한 사건 수첩</td>\n",
              "      <td>영화|극장판 애니|어린이/가족</td>\n",
              "      <td>2021</td>\n",
              "      <td>히라야마 미호</td>\n",
              "      <td>김은아</td>\n",
              "      <td>36988</td>\n",
              "      <td>0.0</td>\n",
              "    </tr>\n",
              "    <tr>\n",
              "      <th>5</th>\n",
              "      <td>-9222499131495171858</td>\n",
              "      <td>8229125510814751668</td>\n",
              "      <td>0.0</td>\n",
              "      <td>0.009841</td>\n",
              "      <td>라야와 마지막 드래곤</td>\n",
              "      <td>영화|극장판 애니|액션</td>\n",
              "      <td>2021</td>\n",
              "      <td>돈 홀, 카를로스 로페즈 에스트라다</td>\n",
              "      <td>켈리 마리 트란</td>\n",
              "      <td>61136</td>\n",
              "      <td>0.0</td>\n",
              "    </tr>\n",
              "  </tbody>\n",
              "</table>\n",
              "</div>"
            ],
            "text/plain": [
              "                userId              movieId  rating_x  rating_y  \\\n",
              "0 -9222499131495171858 -8765309055107668895       0.0  0.045508   \n",
              "1 -9222499131495171858 -2881349100186662098       0.0  0.019245   \n",
              "2 -9222499131495171858 -2260645583576098385       0.0  0.011261   \n",
              "3 -9222499131495171858  1592906744297345059       0.0  0.016063   \n",
              "4 -9222499131495171858  2615346061790891548       1.0  0.059024   \n",
              "5 -9222499131495171858  8229125510814751668       0.0  0.009841   \n",
              "\n",
              "                 title            genres  create_yr             director  \\\n",
              "0                웨이 다운         영화|액션|NaN       2021             자움 발라구에로   \n",
              "1                 캐시트럭         영화|액션|NaN       2021                가이 리치   \n",
              "2                   소울     영화|극장판 애니|드라마       2021                피트 닥터   \n",
              "3                  마크맨         영화|액션|NaN       2021              로버트 로렌즈   \n",
              "4  엉덩이 탐정 극장판:려한 사건 수첩  영화|극장판 애니|어린이/가족       2021              히라야마 미호   \n",
              "5          라야와 마지막 드래곤      영화|극장판 애니|액션       2021  돈 홀, 카를로스 로페즈 에스트라다   \n",
              "\n",
              "      actor1  wtch_cnt  sales_amt_3m  \n",
              "0   프레디 하이모어      8186    28496000.0  \n",
              "1    제이슨 스타뎀      4701    30600000.0  \n",
              "2     제이미 폭스     45970           0.0  \n",
              "3      리암 니슨     18123   100000000.0  \n",
              "4        김은아     36988           0.0  \n",
              "5   켈리 마리 트란     61136           0.0  "
            ]
          },
          "metadata": {},
          "execution_count": 65
        }
      ]
    },
    {
      "cell_type": "code",
      "metadata": {
        "id": "m6EcaCTbF-Gx",
        "colab": {
          "base_uri": "https://localhost:8080/"
        },
        "outputId": "f5186204-b54a-4db2-f9b0-ad60d7fd36da"
      },
      "source": [
        "model.predict(265, [356], item_features)"
      ],
      "execution_count": 66,
      "outputs": [
        {
          "output_type": "execute_result",
          "data": {
            "text/plain": [
              "array([-0.11848053], dtype=float32)"
            ]
          },
          "metadata": {},
          "execution_count": 66
        }
      ]
    },
    {
      "cell_type": "code",
      "metadata": {
        "id": "KUgCwOH6cVvD",
        "colab": {
          "base_uri": "https://localhost:8080/",
          "height": 204
        },
        "outputId": "6b06f86f-35dd-4ee2-80b1-5f7804c9925e"
      },
      "source": [
        "pd.DataFrame(ratings[ratings.userId==users.iloc[12][0]])"
      ],
      "execution_count": 67,
      "outputs": [
        {
          "output_type": "execute_result",
          "data": {
            "text/html": [
              "<div>\n",
              "<style scoped>\n",
              "    .dataframe tbody tr th:only-of-type {\n",
              "        vertical-align: middle;\n",
              "    }\n",
              "\n",
              "    .dataframe tbody tr th {\n",
              "        vertical-align: top;\n",
              "    }\n",
              "\n",
              "    .dataframe thead th {\n",
              "        text-align: right;\n",
              "    }\n",
              "</style>\n",
              "<table border=\"1\" class=\"dataframe\">\n",
              "  <thead>\n",
              "    <tr style=\"text-align: right;\">\n",
              "      <th></th>\n",
              "      <th>userId</th>\n",
              "      <th>movieId</th>\n",
              "      <th>rating</th>\n",
              "    </tr>\n",
              "  </thead>\n",
              "  <tbody>\n",
              "    <tr>\n",
              "      <th>402</th>\n",
              "      <td>-9222475185513976242</td>\n",
              "      <td>-5633414720538420288</td>\n",
              "      <td>0.0</td>\n",
              "    </tr>\n",
              "    <tr>\n",
              "      <th>403</th>\n",
              "      <td>-9222475185513976242</td>\n",
              "      <td>-5058503078456968645</td>\n",
              "      <td>1.0</td>\n",
              "    </tr>\n",
              "    <tr>\n",
              "      <th>404</th>\n",
              "      <td>-9222475185513976242</td>\n",
              "      <td>-2418629155473076079</td>\n",
              "      <td>1.0</td>\n",
              "    </tr>\n",
              "    <tr>\n",
              "      <th>405</th>\n",
              "      <td>-9222475185513976242</td>\n",
              "      <td>2476773338372596358</td>\n",
              "      <td>0.0</td>\n",
              "    </tr>\n",
              "    <tr>\n",
              "      <th>406</th>\n",
              "      <td>-9222475185513976242</td>\n",
              "      <td>2767919627789712801</td>\n",
              "      <td>1.0</td>\n",
              "    </tr>\n",
              "  </tbody>\n",
              "</table>\n",
              "</div>"
            ],
            "text/plain": [
              "                  userId              movieId  rating\n",
              "402 -9222475185513976242 -5633414720538420288     0.0\n",
              "403 -9222475185513976242 -5058503078456968645     1.0\n",
              "404 -9222475185513976242 -2418629155473076079     1.0\n",
              "405 -9222475185513976242  2476773338372596358     0.0\n",
              "406 -9222475185513976242  2767919627789712801     1.0"
            ]
          },
          "metadata": {},
          "execution_count": 67
        }
      ]
    },
    {
      "cell_type": "code",
      "metadata": {
        "id": "kayM9yJ7m4sX"
      },
      "source": [
        "labels = np.array(ratings['movieId'])"
      ],
      "execution_count": 68,
      "outputs": []
    },
    {
      "cell_type": "code",
      "metadata": {
        "id": "n3U7Uh82Rzz8"
      },
      "source": [
        "n_users, n_items = interactions.shape\n",
        "scores=model.predict(265,np.arange(n_items),item_features)"
      ],
      "execution_count": 69,
      "outputs": []
    },
    {
      "cell_type": "code",
      "metadata": {
        "id": "lxNdQIUtnVtW"
      },
      "source": [
        "labels"
      ],
      "execution_count": null,
      "outputs": []
    },
    {
      "cell_type": "code",
      "metadata": {
        "id": "LLdeaH0mnWY-"
      },
      "source": [
        "movie_lst=labels[np.argsort(-scores)]\n",
        "movie_lst"
      ],
      "execution_count": null,
      "outputs": []
    },
    {
      "cell_type": "code",
      "metadata": {
        "id": "bWw7Vb5Go9je"
      },
      "source": [
        "labels"
      ],
      "execution_count": null,
      "outputs": []
    },
    {
      "cell_type": "code",
      "metadata": {
        "id": "8CPf4rm_pfG2"
      },
      "source": [
        "#print(item_features)"
      ],
      "execution_count": null,
      "outputs": []
    },
    {
      "cell_type": "code",
      "metadata": {
        "id": "oqXTWgACbLI1"
      },
      "source": [
        "\"\"\"\n",
        "#ratings 에 없는 userId,movieId 삭제 -> 1)row dorp 후 2)sort_values['id'] 3) reset_index() 를 해줘야 error 안남\n",
        "def drop_redundant_rows(n):\n",
        "  '''1)drop redundant rows'''\n",
        "  #user_item_interactions\n",
        "  idx_user=user_item_interactions.userId[~user_item_interactions.userId.isin(df_user_features.userId)].index\n",
        "  user_item_interactions.drop(idx_user,inplace=True)\n",
        "  idx_movie=user_item_interactions.movieId[~user_item_interactions.movieId.isin(df_item_features.movieId)].index\n",
        "  user_item_interactions.drop(idx_movie,inplace=True)\n",
        "\n",
        "  #user_features\n",
        "  idx_user=df_user_features.userId[~df_user_features.userId.isin(user_item_interactions.userId)].index\n",
        "  df_user_features.drop(idx_user,inplace=True)\n",
        "  #item_features\n",
        "  idx_movie=df_item_features.movieId[~df_item_features.movieId.isin(user_item_interactions.movieId)].index\n",
        "  df_item_features.drop(idx_movie,inplace=True)\n",
        "\n",
        "  '''2) sort_values['id']'''\n",
        "  df_item_features.sort_values(by=['movieId'],inplace=True)\n",
        "  df_user_features.sort_values(by=['userId'],inplace=True)\n",
        "  user_item_interactions.sort_values(by=['userId','movieId'],inplace=True)\n",
        "  \n",
        "  '''3) reset_index()'''\n",
        "  ratings=user_item_interactions.loc[:,['userId','movieId','rating']].sort_values(by=['userId','movieId']).reset_index(drop=True)\n",
        "\n",
        "  df_item_features['genres']=df_item_features.genre_l.fillna('NaN')+'|'+df_item_features.genre_m+'|'+df_item_features.genre_s\n",
        "  movies=df_item_features.loc[:,['movieId','title','genres','create_yr','director','actor1','wtch_cnt','sales_amt_3m']].fillna(0).sort_values(by=['movieId']).reset_index(drop=True)\n",
        "  #movies['genre']=list(map(lambda x:zlib.crc32(x.encode('UTF-8')), np.array(movies.genre.fillna(''))))\n",
        "  tmp_movie=ratings.groupby('movieId')['rating'].mean()\n",
        "  movies=pd.merge(tmp_movie,movies, on='movieId').sort_values(by=['movieId']).reset_index(drop=True)\n",
        "\n",
        "  users=df_user_features.loc[:,['userId','sex_cd','age5_band','pfgn1','avg_wtch_cnt','avg_fwtch_cnt','avg_buy_cnt','avg_buy_amt']].fillna(0).sort_values(by=['userId']).reset_index(drop=True)\n",
        "\n",
        "  print('order :',n,'\\n')\n",
        "\n",
        "drop_redundant_rows(1)\n",
        "drop_redundant_rows(2)\n",
        "\n",
        "print('user:',df_user_features.userId[~df_user_features.userId.isin(user_item_interactions.userId)],'\\n','movie: ',df_item_features.movieId[~df_item_features.movieId.isin(user_item_interactions.movieId)])\n",
        "print('user:',user_item_interactions.userId[~user_item_interactions.userId.isin(df_user_features.userId)],'\\n','movie: ',df_item_features.movieId[~df_item_features.movieId.isin(user_item_interactions.movieId)])\n",
        "\"\"\""
      ],
      "execution_count": null,
      "outputs": []
    },
    {
      "cell_type": "code",
      "metadata": {
        "id": "GhVrzJInszvr"
      },
      "source": [
        ""
      ],
      "execution_count": null,
      "outputs": []
    }
  ]
}