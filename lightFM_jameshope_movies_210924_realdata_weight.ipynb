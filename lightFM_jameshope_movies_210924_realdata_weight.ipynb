{
  "nbformat": 4,
  "nbformat_minor": 0,
  "metadata": {
    "colab": {
      "name": "lightFM_jameshope_movies_210924_realdata_weight.ipynb",
      "provenance": [],
      "collapsed_sections": [
        "pOLfVPnlEVW3",
        "g3M32wUKnNNX",
        "fCrvBX9-nTHz"
      ],
      "toc_visible": true,
      "machine_shape": "hm",
      "include_colab_link": true
    },
    "kernelspec": {
      "display_name": "Python 3",
      "language": "python",
      "name": "python3"
    },
    "language_info": {
      "codemirror_mode": {
        "name": "ipython",
        "version": 3
      },
      "file_extension": ".py",
      "mimetype": "text/x-python",
      "name": "python",
      "nbconvert_exporter": "python",
      "pygments_lexer": "ipython3",
      "version": "3.6.9"
    }
  },
  "cells": [
    {
      "cell_type": "markdown",
      "metadata": {
        "id": "view-in-github",
        "colab_type": "text"
      },
      "source": [
        "<a href=\"https://colab.research.google.com/github/kiakass/recommendation/blob/main/lightFM_jameshope_movies_210924_realdata_weight.ipynb\" target=\"_parent\"><img src=\"https://colab.research.google.com/assets/colab-badge.svg\" alt=\"Open In Colab\"/></a>"
      ]
    },
    {
      "cell_type": "markdown",
      "metadata": {
        "id": "XAwn4B7hqo13"
      },
      "source": [
        "Reference site : https://greeksharifa.github.io/machine_learning/2020/06/01/LightFM/ <br>\n",
        "thesis : https://github.com/kiakass/share/blob/master/Metadata%20Embeddings%20for%20User%20and%20Item%20Cold-start%20.pdf <br>\n",
        "LightFM’s documentation! : https://making.lyst.com/lightfm/docs/home.html <br>\n",
        "WARP : https://making.lyst.com/lightfm/docs/examples/warp_loss.html#preliminaries<br>\n",
        "precision@k : https://github.com/lyst/lightfm/blob/master/examples/movielens/readme.md <br>\n"
      ]
    },
    {
      "cell_type": "code",
      "metadata": {
        "colab": {
          "base_uri": "https://localhost:8080/"
        },
        "id": "g-bFJ-ecD-aV",
        "outputId": "9735347b-5ac8-42ff-c188-09ffc5c58249"
      },
      "source": [
        "!pip install feather-format"
      ],
      "execution_count": 1,
      "outputs": [
        {
          "output_type": "stream",
          "name": "stdout",
          "text": [
            "Requirement already satisfied: feather-format in /usr/local/lib/python3.7/dist-packages (0.4.1)\n",
            "Requirement already satisfied: pyarrow>=0.4.0 in /usr/local/lib/python3.7/dist-packages (from feather-format) (3.0.0)\n",
            "Requirement already satisfied: numpy>=1.16.6 in /usr/local/lib/python3.7/dist-packages (from pyarrow>=0.4.0->feather-format) (1.19.5)\n"
          ]
        }
      ]
    },
    {
      "cell_type": "code",
      "metadata": {
        "colab": {
          "base_uri": "https://localhost:8080/",
          "height": 293
        },
        "id": "ssNOoy8IFDpE",
        "outputId": "aa897e89-defe-419c-c784-55c856637a6b"
      },
      "source": [
        "!pip install typing"
      ],
      "execution_count": 2,
      "outputs": [
        {
          "output_type": "stream",
          "name": "stdout",
          "text": [
            "Collecting typing\n",
            "  Downloading typing-3.7.4.3.tar.gz (78 kB)\n",
            "\u001b[?25l\r\u001b[K     |████▏                           | 10 kB 24.4 MB/s eta 0:00:01\r\u001b[K     |████████▍                       | 20 kB 11.3 MB/s eta 0:00:01\r\u001b[K     |████████████▌                   | 30 kB 9.3 MB/s eta 0:00:01\r\u001b[K     |████████████████▊               | 40 kB 8.4 MB/s eta 0:00:01\r\u001b[K     |████████████████████▉           | 51 kB 5.1 MB/s eta 0:00:01\r\u001b[K     |█████████████████████████       | 61 kB 5.5 MB/s eta 0:00:01\r\u001b[K     |█████████████████████████████▏  | 71 kB 5.4 MB/s eta 0:00:01\r\u001b[K     |████████████████████████████████| 78 kB 3.3 MB/s \n",
            "\u001b[?25hBuilding wheels for collected packages: typing\n",
            "  Building wheel for typing (setup.py) ... \u001b[?25l\u001b[?25hdone\n",
            "  Created wheel for typing: filename=typing-3.7.4.3-py3-none-any.whl size=26324 sha256=2b922ca22bd4d6328693f76760a63f2e3e85c568bca54d51b3f2b4ad3384342b\n",
            "  Stored in directory: /root/.cache/pip/wheels/35/f3/15/01aa6571f0a72ee6ae7b827c1491c37a1f72d686fd22b43b0e\n",
            "Successfully built typing\n",
            "Installing collected packages: typing\n",
            "Successfully installed typing-3.7.4.3\n"
          ]
        },
        {
          "output_type": "display_data",
          "data": {
            "application/vnd.colab-display-data+json": {
              "pip_warning": {
                "packages": [
                  "typing"
                ]
              }
            }
          },
          "metadata": {}
        }
      ]
    },
    {
      "cell_type": "code",
      "metadata": {
        "colab": {
          "base_uri": "https://localhost:8080/"
        },
        "id": "7ifNmM7Lqo2F",
        "outputId": "c8a82218-0632-49e3-a86c-723bd4dedee4"
      },
      "source": [
        "!pip install lightfm"
      ],
      "execution_count": 3,
      "outputs": [
        {
          "output_type": "stream",
          "name": "stdout",
          "text": [
            "Collecting lightfm\n",
            "  Downloading lightfm-1.16.tar.gz (310 kB)\n",
            "\u001b[?25l\r\u001b[K     |█                               | 10 kB 21.6 MB/s eta 0:00:01\r\u001b[K     |██▏                             | 20 kB 14.8 MB/s eta 0:00:01\r\u001b[K     |███▏                            | 30 kB 10.5 MB/s eta 0:00:01\r\u001b[K     |████▎                           | 40 kB 9.1 MB/s eta 0:00:01\r\u001b[K     |█████▎                          | 51 kB 5.6 MB/s eta 0:00:01\r\u001b[K     |██████▍                         | 61 kB 5.7 MB/s eta 0:00:01\r\u001b[K     |███████▍                        | 71 kB 5.3 MB/s eta 0:00:01\r\u001b[K     |████████▌                       | 81 kB 6.0 MB/s eta 0:00:01\r\u001b[K     |█████████▌                      | 92 kB 6.2 MB/s eta 0:00:01\r\u001b[K     |██████████▋                     | 102 kB 5.2 MB/s eta 0:00:01\r\u001b[K     |███████████▋                    | 112 kB 5.2 MB/s eta 0:00:01\r\u001b[K     |████████████▊                   | 122 kB 5.2 MB/s eta 0:00:01\r\u001b[K     |█████████████▊                  | 133 kB 5.2 MB/s eta 0:00:01\r\u001b[K     |██████████████▉                 | 143 kB 5.2 MB/s eta 0:00:01\r\u001b[K     |███████████████▉                | 153 kB 5.2 MB/s eta 0:00:01\r\u001b[K     |█████████████████               | 163 kB 5.2 MB/s eta 0:00:01\r\u001b[K     |██████████████████              | 174 kB 5.2 MB/s eta 0:00:01\r\u001b[K     |███████████████████             | 184 kB 5.2 MB/s eta 0:00:01\r\u001b[K     |████████████████████            | 194 kB 5.2 MB/s eta 0:00:01\r\u001b[K     |█████████████████████▏          | 204 kB 5.2 MB/s eta 0:00:01\r\u001b[K     |██████████████████████▏         | 215 kB 5.2 MB/s eta 0:00:01\r\u001b[K     |███████████████████████▎        | 225 kB 5.2 MB/s eta 0:00:01\r\u001b[K     |████████████████████████▎       | 235 kB 5.2 MB/s eta 0:00:01\r\u001b[K     |█████████████████████████▍      | 245 kB 5.2 MB/s eta 0:00:01\r\u001b[K     |██████████████████████████▍     | 256 kB 5.2 MB/s eta 0:00:01\r\u001b[K     |███████████████████████████▌    | 266 kB 5.2 MB/s eta 0:00:01\r\u001b[K     |████████████████████████████▌   | 276 kB 5.2 MB/s eta 0:00:01\r\u001b[K     |█████████████████████████████▋  | 286 kB 5.2 MB/s eta 0:00:01\r\u001b[K     |██████████████████████████████▋ | 296 kB 5.2 MB/s eta 0:00:01\r\u001b[K     |███████████████████████████████▊| 307 kB 5.2 MB/s eta 0:00:01\r\u001b[K     |████████████████████████████████| 310 kB 5.2 MB/s \n",
            "\u001b[?25hRequirement already satisfied: numpy in /usr/local/lib/python3.7/dist-packages (from lightfm) (1.19.5)\n",
            "Requirement already satisfied: scipy>=0.17.0 in /usr/local/lib/python3.7/dist-packages (from lightfm) (1.4.1)\n",
            "Requirement already satisfied: requests in /usr/local/lib/python3.7/dist-packages (from lightfm) (2.23.0)\n",
            "Requirement already satisfied: scikit-learn in /usr/local/lib/python3.7/dist-packages (from lightfm) (0.22.2.post1)\n",
            "Requirement already satisfied: certifi>=2017.4.17 in /usr/local/lib/python3.7/dist-packages (from requests->lightfm) (2021.5.30)\n",
            "Requirement already satisfied: idna<3,>=2.5 in /usr/local/lib/python3.7/dist-packages (from requests->lightfm) (2.10)\n",
            "Requirement already satisfied: chardet<4,>=3.0.2 in /usr/local/lib/python3.7/dist-packages (from requests->lightfm) (3.0.4)\n",
            "Requirement already satisfied: urllib3!=1.25.0,!=1.25.1,<1.26,>=1.21.1 in /usr/local/lib/python3.7/dist-packages (from requests->lightfm) (1.24.3)\n",
            "Requirement already satisfied: joblib>=0.11 in /usr/local/lib/python3.7/dist-packages (from scikit-learn->lightfm) (1.0.1)\n",
            "Building wheels for collected packages: lightfm\n",
            "  Building wheel for lightfm (setup.py) ... \u001b[?25l\u001b[?25hdone\n",
            "  Created wheel for lightfm: filename=lightfm-1.16-cp37-cp37m-linux_x86_64.whl size=705368 sha256=ae63b62b2f81b9df4ff77b994dfe00e65ec85c879edc5849769aa6ae148da903\n",
            "  Stored in directory: /root/.cache/pip/wheels/f8/56/28/5772a3bd3413d65f03aa452190b00898b680b10028a1021914\n",
            "Successfully built lightfm\n",
            "Installing collected packages: lightfm\n",
            "Successfully installed lightfm-1.16\n"
          ]
        }
      ]
    },
    {
      "cell_type": "code",
      "metadata": {
        "id": "4aePgFaMqo18"
      },
      "source": [
        "from lightfm import LightFM\n",
        "from scipy.sparse import coo_matrix as sp\n",
        "import time\n",
        "import matplotlib.pyplot as plt\n",
        "import os\n",
        "import zipfile\n",
        "from lightfm.data import Dataset\n",
        "from lightfm.evaluation import precision_at_k\n",
        "from lightfm.evaluation import auc_score\n",
        "from lightfm.cross_validation import random_train_test_split \n",
        "\n",
        "import numpy as np\n",
        "import pandas as pd\n",
        "import warnings # warings 제거\n",
        "warnings.filterwarnings(action='ignore')\n",
        "\n",
        "import zlib\n",
        "\n",
        "pd.set_option('display.max_row', 500) #출력행수"
      ],
      "execution_count": 4,
      "outputs": []
    },
    {
      "cell_type": "code",
      "metadata": {
        "colab": {
          "base_uri": "https://localhost:8080/"
        },
        "id": "sNDgTz5mMWW3",
        "outputId": "f24d51b6-0a38-4d16-fa56-d6223cc09cfd"
      },
      "source": [
        "from google.colab import drive\n",
        "drive.mount('/gdrive')"
      ],
      "execution_count": 5,
      "outputs": [
        {
          "output_type": "stream",
          "name": "stdout",
          "text": [
            "Mounted at /gdrive\n"
          ]
        }
      ]
    },
    {
      "cell_type": "code",
      "metadata": {
        "colab": {
          "base_uri": "https://localhost:8080/"
        },
        "id": "wgYzdBBSO-FN",
        "outputId": "07697b92-f4d8-4eef-f348-0be3c857d062"
      },
      "source": [
        "!ls /gdrive/My\\ Drive/10.data/논문마트"
      ],
      "execution_count": 6,
      "outputs": [
        {
          "output_type": "stream",
          "name": "stdout",
          "text": [
            "customer.csv\n",
            "iptv_seg_use.csv\n",
            "item_features.csv\n",
            "L1AGGR_SEG_IPTV_USE_CLUSTERING_0.csv\n",
            "L1AGGR_SEG_IPTV_USE_CLUSTERING_1.csv\n",
            "L1AGGR_SEG_IPTV_USE_CLUSTERING_2.csv\n",
            "L1AGGR_SEG_IPTV_USE_CLUSTERING_3.csv\n",
            "L1AGGR_SEG_IPTV_USE_CLUSTERING_4.csv\n",
            "L1AGGR_SEG_IPTV_USE_CLUSTERING_5.csv\n",
            "L1AGGR_SEG_IPTV_USE_CLUSTERING_6.csv\n",
            "L1AGGR_SEG_IPTV_USE_CLUSTERING_7.csv\n",
            "L1AGGR_SEG_IPTV_USE_CLUSTERING_8.csv\n",
            "L1AGGR_SEG_IPTV_USE_CLUSTERING_9.csv\n",
            "L1AGGR_SEG_IPTV_USE_CLUSTERING.csv\n",
            "L1AGGR_SEG_IPTV_USE_CLUSTERING_H.210918.csv\n",
            "L1AGGR_SEG_IPTV_USE_CLUSTERING_H.csv\n",
            "user_features_r20.csv\n",
            "user_feaures.csv\n",
            "user_item_interaction_adj.csv\n",
            "user_item_interaction.csv\n",
            "user_item_interaction_r20.csv\n",
            "USER_ITEM_INTERACTIONS_R20.csv\n"
          ]
        }
      ]
    },
    {
      "cell_type": "markdown",
      "metadata": {
        "id": "pOLfVPnlEVW3"
      },
      "source": [
        "### $ {\\color{Blue} {Data \\, loading }}$\n",
        "- user\\_features, item\\_features"
      ]
    },
    {
      "cell_type": "markdown",
      "metadata": {
        "id": "g3M32wUKnNNX"
      },
      "source": [
        "#### 1. Load data"
      ]
    },
    {
      "cell_type": "code",
      "metadata": {
        "id": "gmssjeVuPlc9"
      },
      "source": [
        "dir='/gdrive/My Drive/10.data/논문마트/'\n",
        "user_item_interactions = pd.read_csv(dir+'USER_ITEM_INTERACTIONS_R20.csv', delimiter=',',dtype={'wtch_dt': str,'buy_dt': str })\n",
        "user_item_interactions.rename(columns={'userid':'userId'}, inplace = True)\n",
        "user_item_interactions.rename(columns={'movieid':'movieId'}, inplace = True)"
      ],
      "execution_count": 7,
      "outputs": []
    },
    {
      "cell_type": "code",
      "metadata": {
        "colab": {
          "base_uri": "https://localhost:8080/",
          "height": 0
        },
        "id": "soMWcEmjqd0V",
        "outputId": "26ec0110-4751-4ff3-bd13-bf5018bbadba"
      },
      "source": [
        "'''\n",
        "df_interactions = pd.read_csv(dir+'USER_ITEM_INTERACTIONS_R20.csv', delimiter=',',dtype={'wtch_dt': str,'buy_dt': str })\n",
        "df_interactions.rename(columns={'userid':'userId'}, inplace = True)\n",
        "df_interactions.rename(columns={'movieid':'movieId'}, inplace = True)\n",
        "'''"
      ],
      "execution_count": 8,
      "outputs": [
        {
          "output_type": "execute_result",
          "data": {
            "application/vnd.google.colaboratory.intrinsic+json": {
              "type": "string"
            },
            "text/plain": [
              "\"\\ndf_interactions = pd.read_csv(dir+'USER_ITEM_INTERACTIONS_R20.csv', delimiter=',',dtype={'wtch_dt': str,'buy_dt': str })\\ndf_interactions.rename(columns={'userid':'userId'}, inplace = True)\\ndf_interactions.rename(columns={'movieid':'movieId'}, inplace = True)\\n\""
            ]
          },
          "metadata": {},
          "execution_count": 8
        }
      ]
    },
    {
      "cell_type": "code",
      "metadata": {
        "id": "awW1GH4BGyJU"
      },
      "source": [
        "df_user_features = pd.read_csv(dir+'user_features_r20.csv', delimiter=',')\n",
        "df_user_features.rename(columns={'userid':'userId'}, inplace = True)"
      ],
      "execution_count": 9,
      "outputs": []
    },
    {
      "cell_type": "code",
      "metadata": {
        "id": "Vy7Y66iIJr8a"
      },
      "source": [
        "df_item_features = pd.read_csv(dir+'item_features.csv', delimiter=',')\n",
        "df_item_features.rename(columns={'movieid':'movieId'}, inplace = True)"
      ],
      "execution_count": 10,
      "outputs": []
    },
    {
      "cell_type": "markdown",
      "metadata": {
        "id": "fCrvBX9-nTHz"
      },
      "source": [
        "#### 2.Make Weighting/Rating"
      ]
    },
    {
      "cell_type": "code",
      "metadata": {
        "colab": {
          "base_uri": "https://localhost:8080/"
        },
        "id": "e4XbF28JCWx-",
        "outputId": "0248e407-41aa-43c8-e572-ff740e4d30c0"
      },
      "source": [
        "# 가중치 만들기, Weight()\n",
        "#wtch_yn,buy_yn,wtch_pg_cnt,buy_pg_cnt,sch_cnt,wish_yn,story_yn,review_yn,preview_yn,rating_yn\n",
        "a=pd.DataFrame([67046,10062,132844,16016,16984,1295,422,447,82,326,140000],columns=['weight'])\n",
        "hw=pd.DataFrame([1.2,1.5,1,1,1,1,1,1,1,1,1],columns=['weight'])\n",
        "f=lambda x: 1/(1+np.exp(-(1-x/4800000)))  # \n",
        "#f=lambda x: np.log10(4800000/x)*np.log10(x)\n",
        "b=f(a)\n",
        "\n",
        "#normalize : 영향도 경감\n",
        "def normalize_df(x):\n",
        "  return (x-x.min())/(x.max()-x.min())\n",
        "\n",
        "w=normalize_df(b).mul(hw);print(pd.merge(b,w,on=b.index))"
      ],
      "execution_count": 11,
      "outputs": [
        {
          "output_type": "stream",
          "name": "stdout",
          "text": [
            "    key_0  weight_x  weight_y\n",
            "0       0  0.728303  0.627678\n",
            "1       1  0.730646  1.393671\n",
            "2       2  0.725583  0.051466\n",
            "3       3  0.730402  0.886791\n",
            "4       4  0.730362  0.879908\n",
            "5       5  0.731006  0.991388\n",
            "6       6  0.731041  0.997586\n",
            "7       7  0.731040  0.997409\n",
            "8       8  0.731055  1.000000\n",
            "9       9  0.731045  0.998268\n",
            "10     10  0.725286  0.000000\n"
          ]
        }
      ]
    },
    {
      "cell_type": "code",
      "metadata": {
        "colab": {
          "base_uri": "https://localhost:8080/"
        },
        "id": "qgN3ICnzQYhN",
        "outputId": "8d45f541-7888-455f-bcef-89a4ae220751"
      },
      "source": [
        "nor_interactions=user_item_interactions.iloc[:,:]\n",
        "columns=user_item_interactions.iloc[:,3:].columns;print(columns)\n",
        "df_b=pd.DataFrame(normalize_df(user_item_interactions.iloc[:,3:].fillna(0)),columns=columns)\n",
        "nor_interactions[columns]=df_b"
      ],
      "execution_count": 12,
      "outputs": [
        {
          "output_type": "stream",
          "name": "stdout",
          "text": [
            "Index(['wtch_pg_cnt', 'buy_pg_cnt', 'wtch_yn', 'wtch_tm', 'wtch_cp', 'buy_dt',\n",
            "       'buy_yn', 'buy_amt', 'sch_cnt', 'wish_yn', 'story_yn', 'review_yn',\n",
            "       'preview_yn', 'rating_yn'],\n",
            "      dtype='object')\n"
          ]
        }
      ]
    },
    {
      "cell_type": "code",
      "metadata": {
        "id": "jB9YviCpKFSZ"
      },
      "source": [
        "# rating 계산 : dot product\n",
        "nor_interactions['rating']=normalize_df(np.dot(nor_interactions.iloc[:,[5,9,3,4,11,12,13,14,15,16]].fillna(0),w[:-1]))"
      ],
      "execution_count": 13,
      "outputs": []
    },
    {
      "cell_type": "code",
      "metadata": {
        "colab": {
          "base_uri": "https://localhost:8080/"
        },
        "id": "TjxJTgzHGu6d",
        "outputId": "f9e5bf78-568e-4651-e455-32a71d01a327"
      },
      "source": [
        "# dot product 값 확인\n",
        "np.dot(nor_interactions.iloc[5385276,[5,9,3,4,11,12,13,14,15,16]].fillna(0),w[:-1])"
      ],
      "execution_count": 14,
      "outputs": [
        {
          "output_type": "execute_result",
          "data": {
            "text/plain": [
              "array([6.19147485])"
            ]
          },
          "metadata": {},
          "execution_count": 14
        }
      ]
    },
    {
      "cell_type": "code",
      "metadata": {
        "id": "mQUILpxJVuHr"
      },
      "source": [
        "#rating 확인\n",
        "user_item_interactions['rating'] = nor_interactions['rating']\n",
        "#user_item_interactions[(user_item_interactions.rating >=0.9) & (user_item_interactions.rating <=1.9)].head(200)"
      ],
      "execution_count": 15,
      "outputs": []
    },
    {
      "cell_type": "code",
      "metadata": {
        "id": "Bl8xs8g1SC_P"
      },
      "source": [
        "#interactions[(interactions.userid==8485946426803652497) & (interactions.movieid==6895313097669931601\t) ].iloc[:,[5,9,3,4,11,12,13,14,15,16]].fillna(0)\n",
        "#user_item_interactions[(user_item_interactions.userid==795530722215540317) & (user_item_interactions.movieid==-985564977982495676\t) ].iloc[:,[5,9,3,4,11,12,13,14,15,16]].fillna(0)"
      ],
      "execution_count": 16,
      "outputs": []
    },
    {
      "cell_type": "code",
      "metadata": {
        "colab": {
          "base_uri": "https://localhost:8080/",
          "height": 0
        },
        "id": "aRu0pnJfTxYv",
        "outputId": "4a77f978-8402-49da-b15b-792be6576a70"
      },
      "source": [
        "plt.hist(nor_interactions.rating,bins=30)"
      ],
      "execution_count": 17,
      "outputs": [
        {
          "output_type": "execute_result",
          "data": {
            "text/plain": [
              "(array([3.776475e+06, 3.100000e+01, 4.000000e+00, 1.641564e+06,\n",
              "        7.053900e+04, 2.120000e+02, 7.700000e+01, 1.828800e+04,\n",
              "        4.800000e+01, 2.927310e+05, 3.031000e+03, 6.000000e+00,\n",
              "        2.176000e+03, 5.000000e+00, 8.102000e+03, 1.900000e+01,\n",
              "        1.000000e+00, 3.290000e+02, 0.000000e+00, 9.620000e+02,\n",
              "        1.000000e+00, 0.000000e+00, 2.600000e+01, 0.000000e+00,\n",
              "        1.560000e+02, 1.000000e+00, 0.000000e+00, 0.000000e+00,\n",
              "        0.000000e+00, 2.200000e+01]),\n",
              " array([0.        , 0.03333333, 0.06666667, 0.1       , 0.13333333,\n",
              "        0.16666667, 0.2       , 0.23333333, 0.26666667, 0.3       ,\n",
              "        0.33333333, 0.36666667, 0.4       , 0.43333333, 0.46666667,\n",
              "        0.5       , 0.53333333, 0.56666667, 0.6       , 0.63333333,\n",
              "        0.66666667, 0.7       , 0.73333333, 0.76666667, 0.8       ,\n",
              "        0.83333333, 0.86666667, 0.9       , 0.93333333, 0.96666667,\n",
              "        1.        ]),\n",
              " <a list of 30 Patch objects>)"
            ]
          },
          "metadata": {},
          "execution_count": 17
        },
        {
          "output_type": "display_data",
          "data": {
            "image/png": "[encoded data removed]",
            "text/plain": [
              "<Figure size 432x288 with 1 Axes>"
            ]
          },
          "metadata": {
            "needs_background": "light"
          }
        }
      ]
    },
    {
      "cell_type": "code",
      "metadata": {
        "id": "xG_HFwYCue2E"
      },
      "source": [
        "#from sklearn.preprocessing import StandardScaler\n",
        "#std = StandardScaler()\n",
        "#std.fit(interactions)\n",
        "#std.transform(interactions)"
      ],
      "execution_count": 18,
      "outputs": []
    },
    {
      "cell_type": "markdown",
      "metadata": {
        "id": "zNNXZTsmVczH"
      },
      "source": [
        "### $ {\\color{Red} {Make \\,\\, Dataset \\,}}$"
      ]
    },
    {
      "cell_type": "markdown",
      "metadata": {
        "id": "iTyYe7A8lkhj"
      },
      "source": [
        "#### 1.Preprocessing data\n",
        "> Important JOB : interaction 안되는 데이터 삭제 <br>\n",
        "-> item_feature_source.movieId 가 ratings.movieId 에 100% join 되어야함 <br>\n",
        "-> user_feature_source.userId 가 rating.userId에 100% mapping 되어야함 <br>"
      ]
    },
    {
      "cell_type": "code",
      "metadata": {
        "id": "SY52RTda0Hrm"
      },
      "source": [
        "'''1) join 안되는 ID 삭제 > 2) sort_value['id'] > 3) reset_index()'''\n",
        "\n",
        "ratings=user_item_interactions.loc[:,['userId','movieId','rating']].sort_values(by=['userId','movieId']).reset_index(drop=True)\n",
        "df_item_features['genres']=df_item_features.genre_l.fillna('NaN')+'|'+df_item_features.genre_m.fillna('NaN')+'|'+df_item_features.genre_s.fillna('NaN') #장르결합 genre1/2/3\n",
        "movies=df_item_features.loc[:,['movieId','title','genres','create_yr','director','actor1','wtch_cnt','sales_amt_3m']].fillna(0).sort_values(by=['movieId']).reset_index(drop=True)\n",
        "users=df_user_features.loc[:,['userId','sex_cd','age5_band','pfgn1','avg_wtch_cnt','avg_fwtch_cnt','avg_buy_cnt','avg_buy_amt']].fillna(0).sort_values(by=['userId']).reset_index(drop=True)\n",
        "\n",
        "def handle_movies(ratings,movies):\n",
        "\n",
        "  #movies['genre']=list(map(lambda x:zlib.crc32(x.encode('UTF-8')), np.array(movies.genre.fillna(''))))\n",
        "  tmp_movie=ratings.groupby('movieId')['rating'].mean()\n",
        "  movies=pd.merge(tmp_movie,movies, on='movieId')\n",
        "  idx_movie=movies.movieId[~movies.movieId.isin(ratings.movieId)].index\n",
        "  movies.drop(idx_movie,inplace=True)\n",
        "  movies.sort_values(by=['movieId'], inplace=True)\n",
        "  movies.reset_index(drop=True, inplace=True)\n",
        "  #print('movies',movies.columns)\n",
        "  return movies\n",
        "\n",
        "def handle_users(ratings,users):\n",
        "  \n",
        "  tmp_user=pd.DataFrame(ratings.userId.unique(),columns=['userId'])\n",
        "  users=pd.merge(tmp_user,users, on='userId')\n",
        "  idx_user=users.userId[~users.userId.isin(ratings.userId)].index\n",
        "  users.drop(idx_user,inplace=True)\n",
        "  users.sort_values(by=['userId'], inplace=True)\n",
        "  users.reset_index(drop=True, inplace=True)\n",
        "  #print('users',users.columns)\n",
        "  return users\n",
        "\n",
        "def handle_interactions(movies,users):\n",
        "\n",
        "  idx_user=ratings.userId[~ratings.userId.isin(users.userId)].index\n",
        "  ratings.drop(idx_user,inplace=True)\n",
        "  idx_movie=ratings.movieId[~ratings.movieId.isin(movies.movieId)].index\n",
        "  ratings.drop(idx_movie,inplace=True)\n",
        "  ratings.sort_values(by=['userId','movieId'],inplace=True)\n",
        "  ratings.reset_index(drop=True, inplace=True)\n",
        "  #print('ratings',ratings.columns)\n",
        "  return ratings\n",
        "\n",
        "# 순방향 걸러내기\n",
        "movies=handle_movies(ratings,movies)\n",
        "users=handle_users(ratings,users)\n",
        "ratings=handle_interactions(movies,users)\n",
        "# 역방향 걸러내기\n",
        "users=handle_users(ratings,users)\n",
        "movies=handle_movies(ratings,movies.loc[:, movies.columns != 'rating'])"
      ],
      "execution_count": 19,
      "outputs": []
    },
    {
      "cell_type": "code",
      "metadata": {
        "colab": {
          "base_uri": "https://localhost:8080/"
        },
        "id": "bZjxm1xn57sy",
        "outputId": "0aa0017a-0399-412e-b786-73554b617206"
      },
      "source": [
        "# rating, user, movies ID 갯수 동일 확인\n",
        "print(users.shape[0],len(ratings.userId.unique()),movies.shape[0],len(ratings.movieId.unique()),ratings.shape[0])"
      ],
      "execution_count": 20,
      "outputs": [
        {
          "output_type": "stream",
          "name": "stdout",
          "text": [
            "293105 293105 25282 25282 5718243\n"
          ]
        }
      ]
    },
    {
      "cell_type": "code",
      "metadata": {
        "id": "NWAg6u2VwVu1"
      },
      "source": [
        "# id 무결성 확인\n",
        "#print(movies.movieId[~movies.movieId.isin(ratings.movieId)])\n",
        "#print(users.userId[~users.userId.isin(ratings.userId)])\n",
        "#print(ratings.userId[~ratings.userId.isin(ratings.userId)])\n",
        "#print(ratings.movieId[~ratings.movieId.isin(movies.movieId)])"
      ],
      "execution_count": 21,
      "outputs": []
    },
    {
      "cell_type": "code",
      "metadata": {
        "colab": {
          "base_uri": "https://localhost:8080/",
          "height": 265
        },
        "id": "yK_VH4m-h_5w",
        "outputId": "eb470550-1344-4cdd-fb19-4bc5789532dc"
      },
      "source": [
        "a=plt.hist(movies.rating,bins=30) #데이터분포확인"
      ],
      "execution_count": 22,
      "outputs": [
        {
          "output_type": "display_data",
          "data": {
            "image/png": "[encoded data removed]",
            "text/plain": [
              "<Figure size 432x288 with 1 Axes>"
            ]
          },
          "metadata": {
            "needs_background": "light"
          }
        }
      ]
    },
    {
      "cell_type": "markdown",
      "metadata": {
        "id": "fUmfmnRCqo2H"
      },
      "source": [
        "#### 2.Make Data Array\n",
        "\n",
        "> ndex 가 비어 있으면 오류발생 : reset_index() 필요\n",
        "\n"
      ]
    },
    {
      "cell_type": "code",
      "metadata": {
        "id": "rHtXHwT1qo2G",
        "scrolled": true
      },
      "source": [
        "from lightfm.data import Dataset\n",
        "from scipy.io import mmwrite"
      ],
      "execution_count": 23,
      "outputs": []
    },
    {
      "cell_type": "code",
      "metadata": {
        "colab": {
          "base_uri": "https://localhost:8080/",
          "height": 419
        },
        "id": "AIHGlk9eW4UT",
        "outputId": "a56e81a3-6c55-43fd-8d99-84f99a197330"
      },
      "source": [
        "#ratings.drop(columns=['rating_n'],inplace=True)\n",
        "# 척도를 변환하고 반올림\n",
        "ratings.rating=round((((ratings.rating - ratings.rating.min()) * ( 10 - 0 )) / ( ratings.rating.max() - ratings.rating.min())) + 0)\n",
        "ratings"
      ],
      "execution_count": 24,
      "outputs": [
        {
          "output_type": "execute_result",
          "data": {
            "text/html": [
              "<div>\n",
              "<style scoped>\n",
              "    .dataframe tbody tr th:only-of-type {\n",
              "        vertical-align: middle;\n",
              "    }\n",
              "\n",
              "    .dataframe tbody tr th {\n",
              "        vertical-align: top;\n",
              "    }\n",
              "\n",
              "    .dataframe thead th {\n",
              "        text-align: right;\n",
              "    }\n",
              "</style>\n",
              "<table border=\"1\" class=\"dataframe\">\n",
              "  <thead>\n",
              "    <tr style=\"text-align: right;\">\n",
              "      <th></th>\n",
              "      <th>userId</th>\n",
              "      <th>movieId</th>\n",
              "      <th>rating</th>\n",
              "    </tr>\n",
              "  </thead>\n",
              "  <tbody>\n",
              "    <tr>\n",
              "      <th>0</th>\n",
              "      <td>-9223259533948962539</td>\n",
              "      <td>-5325328048293135553</td>\n",
              "      <td>0.0</td>\n",
              "    </tr>\n",
              "    <tr>\n",
              "      <th>1</th>\n",
              "      <td>-9223259533948962539</td>\n",
              "      <td>-816328911221559320</td>\n",
              "      <td>3.0</td>\n",
              "    </tr>\n",
              "    <tr>\n",
              "      <th>2</th>\n",
              "      <td>-9223259533948962539</td>\n",
              "      <td>2399654214069935366</td>\n",
              "      <td>0.0</td>\n",
              "    </tr>\n",
              "    <tr>\n",
              "      <th>3</th>\n",
              "      <td>-9223259533948962539</td>\n",
              "      <td>3462194398905494488</td>\n",
              "      <td>0.0</td>\n",
              "    </tr>\n",
              "    <tr>\n",
              "      <th>4</th>\n",
              "      <td>-9223237916653256333</td>\n",
              "      <td>-7666943246243350237</td>\n",
              "      <td>0.0</td>\n",
              "    </tr>\n",
              "    <tr>\n",
              "      <th>...</th>\n",
              "      <td>...</td>\n",
              "      <td>...</td>\n",
              "      <td>...</td>\n",
              "    </tr>\n",
              "    <tr>\n",
              "      <th>5718238</th>\n",
              "      <td>9223322056064380844</td>\n",
              "      <td>-3573952772207421421</td>\n",
              "      <td>1.0</td>\n",
              "    </tr>\n",
              "    <tr>\n",
              "      <th>5718239</th>\n",
              "      <td>9223322056064380844</td>\n",
              "      <td>-3037452211581368244</td>\n",
              "      <td>1.0</td>\n",
              "    </tr>\n",
              "    <tr>\n",
              "      <th>5718240</th>\n",
              "      <td>9223322056064380844</td>\n",
              "      <td>-2679473653912353406</td>\n",
              "      <td>1.0</td>\n",
              "    </tr>\n",
              "    <tr>\n",
              "      <th>5718241</th>\n",
              "      <td>9223322056064380844</td>\n",
              "      <td>-2546974551736097183</td>\n",
              "      <td>1.0</td>\n",
              "    </tr>\n",
              "    <tr>\n",
              "      <th>5718242</th>\n",
              "      <td>9223322056064380844</td>\n",
              "      <td>2720114675049710537</td>\n",
              "      <td>3.0</td>\n",
              "    </tr>\n",
              "  </tbody>\n",
              "</table>\n",
              "<p>5718243 rows × 3 columns</p>\n",
              "</div>"
            ],
            "text/plain": [
              "                      userId              movieId  rating\n",
              "0       -9223259533948962539 -5325328048293135553     0.0\n",
              "1       -9223259533948962539  -816328911221559320     3.0\n",
              "2       -9223259533948962539  2399654214069935366     0.0\n",
              "3       -9223259533948962539  3462194398905494488     0.0\n",
              "4       -9223237916653256333 -7666943246243350237     0.0\n",
              "...                      ...                  ...     ...\n",
              "5718238  9223322056064380844 -3573952772207421421     1.0\n",
              "5718239  9223322056064380844 -3037452211581368244     1.0\n",
              "5718240  9223322056064380844 -2679473653912353406     1.0\n",
              "5718241  9223322056064380844 -2546974551736097183     1.0\n",
              "5718242  9223322056064380844  2720114675049710537     3.0\n",
              "\n",
              "[5718243 rows x 3 columns]"
            ]
          },
          "metadata": {},
          "execution_count": 24
        }
      ]
    },
    {
      "cell_type": "code",
      "metadata": {
        "id": "EZp3Nl-O06ME"
      },
      "source": [
        "item_meta = movies[['movieId', 'title', 'genres', 'rating', 'create_yr']]\n",
        "\n",
        "item_features_source = [(item_meta['movieId'][i],\n",
        "                        np.array(item_meta.iloc[i,1:]).reshape(-1)) for i in range(item_meta.shape[0])]                                           "
      ],
      "execution_count": 25,
      "outputs": []
    },
    {
      "cell_type": "code",
      "metadata": {
        "id": "z1nHPd1g8YJy"
      },
      "source": [
        "user_meta = users[['userId','sex_cd','age5_band','pfgn1','avg_wtch_cnt','avg_buy_amt']]\n",
        "\n",
        "user_features_source = [(user_meta['userId'][i],\n",
        "                        np.array(user_meta.iloc[i,1:]).reshape(-1)) for i in range(user_meta.shape[0])]                          "
      ],
      "execution_count": 26,
      "outputs": []
    },
    {
      "cell_type": "code",
      "metadata": {
        "colab": {
          "base_uri": "https://localhost:8080/",
          "height": 69
        },
        "id": "zQA1NXWBqo2J",
        "outputId": "be290320-fb8e-4eb0-d3ac-6d657c73b9d2"
      },
      "source": [
        "#결측치가 있는지 확인\n",
        "'''\n",
        "df=pd.DataFrame(ratings_source);print(pd.DataFrame(ratings_source).head(1))\n",
        "df.isnull().sum()\n",
        "df=pd.DataFrame(item_features_source);print(pd.DataFrame(item_features_source).head(1))\n",
        "df.isnull().sum()\n",
        "df=pd.DataFrame(user_features_source);print(pd.DataFrame(user_features_source).head(1))\n",
        "df.isnull().sum()\n",
        "'''"
      ],
      "execution_count": 27,
      "outputs": [
        {
          "output_type": "execute_result",
          "data": {
            "application/vnd.google.colaboratory.intrinsic+json": {
              "type": "string"
            },
            "text/plain": [
              "'\\ndf=pd.DataFrame(ratings_source);print(pd.DataFrame(ratings_source).head(1))\\ndf.isnull().sum()\\ndf=pd.DataFrame(item_features_source);print(pd.DataFrame(item_features_source).head(1))\\ndf.isnull().sum()\\ndf=pd.DataFrame(user_features_source);print(pd.DataFrame(user_features_source).head(1))\\ndf.isnull().sum()\\n'"
            ]
          },
          "metadata": {},
          "execution_count": 27
        }
      ]
    },
    {
      "cell_type": "markdown",
      "metadata": {
        "id": "gx2sUWkPmc3o"
      },
      "source": [
        "### $ {\\color{yellow} {Fit \\,dataset}}$\n",
        "> dataset.fit -> dataset.build 순으로 각 데이터별로 번갈아 수행 해야함"
      ]
    },
    {
      "cell_type": "code",
      "metadata": {
        "id": "VngxsMVSwgsF"
      },
      "source": [
        "ratings_source = [(ratings['userId'][i], ratings['movieId'][i], ratings['rating'][i]) for i in range(ratings.shape[0])]  # type : int형 only"
      ],
      "execution_count": 28,
      "outputs": []
    },
    {
      "cell_type": "code",
      "metadata": {
        "id": "w9TvvrYeqo2K"
      },
      "source": [
        "dataset = Dataset()\n",
        "dataset.fit(users=ratings['userId'],\n",
        "            items=ratings['movieId'])"
      ],
      "execution_count": 29,
      "outputs": []
    },
    {
      "cell_type": "code",
      "metadata": {
        "id": "rWp2-O2fqo2M"
      },
      "source": [
        "interactions, weights = dataset.build_interactions(ratings_source)"
      ],
      "execution_count": 30,
      "outputs": []
    },
    {
      "cell_type": "code",
      "metadata": {
        "id": "zD5ROa0DSXR_"
      },
      "source": [
        "dataset.fit(users=ratings['userId'],\n",
        "            items=ratings['movieId'],\n",
        "            item_features=item_meta[item_meta.columns[1:]].values.flatten()\n",
        "            )"
      ],
      "execution_count": 31,
      "outputs": []
    },
    {
      "cell_type": "code",
      "metadata": {
        "id": "mdmzc5CznuiO"
      },
      "source": [
        "item_features=dataset.build_item_features(item_features_source)"
      ],
      "execution_count": 32,
      "outputs": []
    },
    {
      "cell_type": "code",
      "metadata": {
        "id": "FZVyR-eySYDh"
      },
      "source": [
        "dataset.fit(users=ratings['userId'],\n",
        "            items=ratings['movieId'],\n",
        "            user_features=user_meta[user_meta.columns[1:]].values.flatten()\n",
        "            )"
      ],
      "execution_count": 33,
      "outputs": []
    },
    {
      "cell_type": "code",
      "metadata": {
        "id": "ymwH72Fwam6a"
      },
      "source": [
        "user_features=dataset.build_user_features(user_features_source)"
      ],
      "execution_count": 34,
      "outputs": []
    },
    {
      "cell_type": "code",
      "metadata": {
        "id": "FYiEGBwioyYm"
      },
      "source": [
        "#print(pd.DataFrame(item_features_source))"
      ],
      "execution_count": 35,
      "outputs": []
    },
    {
      "cell_type": "code",
      "metadata": {
        "id": "S41eH_-hqo2M"
      },
      "source": [
        "# Save\n",
        "mmwrite('interactions.mtx', interactions)\n",
        "mmwrite('item_features.mtx', item_features)\n",
        "mmwrite('weights.mtx', weights)\n",
        "mmwrite('user_features.mtx',user_features)"
      ],
      "execution_count": 36,
      "outputs": []
    },
    {
      "cell_type": "code",
      "metadata": {
        "id": "GH0QInqRuqqA"
      },
      "source": [
        "#print(weights)"
      ],
      "execution_count": 37,
      "outputs": []
    },
    {
      "cell_type": "code",
      "metadata": {
        "colab": {
          "base_uri": "https://localhost:8080/"
        },
        "id": "Q16KwH-yqo2N",
        "outputId": "1fcc07cb-0753-4854-901f-8efec7f5c2d6"
      },
      "source": [
        "from lightfm.cross_validation import random_train_test_split\n",
        "# Split Train, Test data\n",
        "model = LightFM(loss='warp')\n",
        "\n",
        "(train, test) = random_train_test_split(interactions=interactions, test_percentage=0.2)\n",
        "start = time.time()\n",
        "model.fit(train, item_features=item_features, user_features=user_features, epochs=10)\n",
        "end = time.time(); print('time :',end-start) "
      ],
      "execution_count": 38,
      "outputs": [
        {
          "output_type": "stream",
          "name": "stdout",
          "text": [
            "time : 151.50679087638855\n"
          ]
        }
      ]
    },
    {
      "cell_type": "markdown",
      "metadata": {
        "id": "-VDNbkeCjVRU"
      },
      "source": [
        "#### $ {\\color{yellow} {1.evaluation : precision@k, AUC }}$"
      ]
    },
    {
      "cell_type": "code",
      "metadata": {
        "colab": {
          "base_uri": "https://localhost:8080/",
          "height": 154
        },
        "id": "7JdtHwjphZZa",
        "outputId": "5072ced6-64d7-4db2-d5d1-3ab4d56a4171"
      },
      "source": [
        "start = time.time()\n",
        "train_precision = precision_at_k(model, train, k=10,user_features=user_features,item_features=item_features).mean()\n",
        "end = time.time(); print('time :',end-start) \n",
        "start = time.time()\n",
        "test_precision = precision_at_k(model, test, k=10,user_features=user_features,item_features=item_features).mean()\n",
        "end = time.time(); print('time :',end-start) \n",
        "start = time.time()\n",
        "train_auc = auc_score(model, train,user_features=user_features,item_features=item_features).mean()\n",
        "end = time.time(); print('time :',end-start) \n",
        "start = time.time()\n",
        "test_auc = auc_score(model, test,user_features=user_features,item_features=item_features).mean()\n",
        "end = time.time(); print('time :',end-start) \n",
        "\n",
        "print('Precision: train %.3f, test %.3f.' % (train_precision, test_precision))\n",
        "print('AUC: train %.3f, test %.3f.' % (train_auc, test_auc))\n",
        "'''\n",
        "time : 633.9194025993347\n",
        "time : 424.50309658050537\n",
        "time : 634.1630313396454\n",
        "time : 424.71241569519043\n",
        "Precision: train 0.15, test 0.05.\n",
        "AUC: train 0.97, test 0.96.\n",
        "'''"
      ],
      "execution_count": 39,
      "outputs": [
        {
          "output_type": "stream",
          "name": "stdout",
          "text": [
            "time : 725.146790266037\n",
            "time : 483.93767833709717\n",
            "time : 727.2428233623505\n",
            "time : 481.31432485580444\n",
            "Precision: train 0.152, test 0.050.\n",
            "AUC: train 0.970, test 0.967.\n"
          ]
        },
        {
          "output_type": "execute_result",
          "data": {
            "application/vnd.google.colaboratory.intrinsic+json": {
              "type": "string"
            },
            "text/plain": [
              "'\\ntime : 633.9194025993347\\ntime : 424.50309658050537\\ntime : 634.1630313396454\\ntime : 424.71241569519043\\nPrecision: train 0.15, test 0.05.\\nAUC: train 0.97, test 0.96.\\n'"
            ]
          },
          "metadata": {},
          "execution_count": 39
        }
      ]
    },
    {
      "cell_type": "code",
      "metadata": {
        "colab": {
          "base_uri": "https://localhost:8080/"
        },
        "id": "mBljIGCq5jHf",
        "outputId": "adfffa3f-9405-49a6-ce1a-1ecbbfc91e22"
      },
      "source": [
        "print('Precision: train %.3f, test %.3f.' % (train_precision, test_precision))\n",
        "print('AUC: train %.3f, test %.3f.' % (train_auc, test_auc))"
      ],
      "execution_count": 40,
      "outputs": [
        {
          "output_type": "stream",
          "name": "stdout",
          "text": [
            "Precision: train 0.152, test 0.050.\n",
            "AUC: train 0.970, test 0.967.\n"
          ]
        }
      ]
    },
    {
      "cell_type": "code",
      "metadata": {
        "colab": {
          "base_uri": "https://localhost:8080/"
        },
        "id": "e83el7s5xy1Z",
        "outputId": "75c64370-cfb6-448b-91e6-42e80242791d"
      },
      "source": [
        "alpha = 1e-05\n",
        "epochs = 3\n",
        "num_components = 5\n",
        "max_sampled=10\n",
        "\n",
        "warp_model = LightFM(no_components=num_components,\n",
        "                    loss='warp',\n",
        "                    learning_schedule='adagrad',\n",
        "                    max_sampled=max_sampled,\n",
        "                    user_alpha=alpha,\n",
        "                    item_alpha=alpha)\n",
        "\n",
        "bpr_model = LightFM(no_components=num_components,\n",
        "                    loss='bpr',\n",
        "                    learning_schedule='adagrad',\n",
        "                    user_alpha=alpha,\n",
        "                    item_alpha=alpha)\n",
        "\n",
        "warp_duration = []\n",
        "bpr_duration = []\n",
        "warp_auc = []\n",
        "bpr_auc = []\n",
        "\n",
        "for epoch in range(epochs):\n",
        "    print(epoch);\n",
        "    start = time.time()\n",
        "    warp_model.fit_partial(train, epochs=1,user_features=user_features,item_features=item_features)\n",
        "    warp_duration.append(time.time() - start);end = time.time(); print('time :',end-start) \n",
        "    warp_auc.append(auc_score(warp_model, test, train_interactions=train,user_features=user_features,item_features=item_features).mean()) #10분소요\n",
        "    end = time.time(); print('time :',end-start) \n"
      ],
      "execution_count": 41,
      "outputs": [
        {
          "output_type": "stream",
          "name": "stdout",
          "text": [
            "0\n",
            "time : 9.982531785964966\n",
            "time : 355.7433223724365\n",
            "1\n",
            "time : 10.125338792800903\n",
            "time : 355.41736030578613\n",
            "2\n",
            "time : 10.115009784698486\n",
            "time : 355.5893557071686\n"
          ]
        }
      ]
    },
    {
      "cell_type": "code",
      "metadata": {
        "colab": {
          "base_uri": "https://localhost:8080/"
        },
        "id": "pvG46xA6YTkF",
        "outputId": "6cee82e5-ffa8-4726-b31f-146763f146b6"
      },
      "source": [
        "for epoch in range(epochs):\n",
        "    print(epoch);\n",
        "    start = time.time()\n",
        "    bpr_model.fit_partial(train, epochs=1,user_features=user_features,item_features=item_features)\n",
        "    bpr_duration.append(time.time() - start);end = time.time(); print('time :',end-start) \n",
        "    bpr_auc.append(auc_score(bpr_model, test, train_interactions=train,user_features=user_features,item_features=item_features).mean())\n",
        "    end = time.time(); print('time :',end-start) "
      ],
      "execution_count": 42,
      "outputs": [
        {
          "output_type": "stream",
          "name": "stdout",
          "text": [
            "0\n",
            "time : 10.298367500305176\n",
            "time : 408.83443427085876\n",
            "1\n",
            "time : 9.774319171905518\n",
            "time : 391.6381494998932\n",
            "2\n",
            "time : 9.88328242301941\n",
            "time : 388.1902365684509\n"
          ]
        }
      ]
    },
    {
      "cell_type": "code",
      "metadata": {
        "colab": {
          "base_uri": "https://localhost:8080/",
          "height": 265
        },
        "id": "5JHCw_vDyRX_",
        "outputId": "f109f726-2104-47a1-aab9-f6079daa5de0"
      },
      "source": [
        "x = np.arange(epochs)\n",
        "plt.plot(x, np.array(warp_auc))\n",
        "plt.plot(x, np.array(bpr_auc))\n",
        "plt.legend(['WARP AUC', 'BPR AUC'], loc='upper right')\n",
        "plt.show()"
      ],
      "execution_count": 43,
      "outputs": [
        {
          "output_type": "display_data",
          "data": {
            "image/png": "[encoded data removed]",
            "text/plain": [
              "<Figure size 432x288 with 1 Axes>"
            ]
          },
          "metadata": {
            "needs_background": "light"
          }
        }
      ]
    },
    {
      "cell_type": "code",
      "metadata": {
        "colab": {
          "base_uri": "https://localhost:8080/",
          "height": 265
        },
        "id": "4qYJTyDQs21k",
        "outputId": "b3cf7e60-1fcf-4a50-979a-754dd1c342a7"
      },
      "source": [
        "x = np.arange(epochs)\n",
        "plt.plot(x, np.array(warp_duration))\n",
        "plt.plot(x, np.array(bpr_duration))\n",
        "plt.legend(['WARP duration', 'BPR duration'], loc='upper right')\n",
        "plt.show()"
      ],
      "execution_count": 44,
      "outputs": [
        {
          "output_type": "display_data",
          "data": {
            "image/png": "[encoded data removed]",
            "text/plain": [
              "<Figure size 432x288 with 1 Axes>"
            ]
          },
          "metadata": {
            "needs_background": "light"
          }
        }
      ]
    },
    {
      "cell_type": "markdown",
      "metadata": {
        "id": "Un2G3obsmD6b"
      },
      "source": [
        "#### $ {\\color{yellow} {2.Recommend \\,\\,Movie\\,\\,List }}$"
      ]
    },
    {
      "cell_type": "code",
      "metadata": {
        "id": "oo2XAIfVC9Qd"
      },
      "source": [
        "labels = np.array(movies['movieId'])\n",
        "\n",
        "def sample_recommendation(model, data, user_ids):\n",
        "\n",
        "    n_users, n_items = data.shape\n",
        "\n",
        "    #build a structure to store user scores for each item\n",
        "    all_scores = np.empty(shape=(0,n_items))\n",
        "\n",
        "    #iterate through the group and build the scores\n",
        "    for user_id in user_ids:\n",
        "        #known_positives = labels[data.tocsr()[user_id].indices]\n",
        "        #user의 전체 0~9066 movie의 예측 평점\n",
        "        scores = model.predict(user_id,np.arange(n_items),item_features) \n",
        "        \n",
        "        top_items_for_user = labels[np.argsort(-scores)] #argsort():오름차순인덱스반환\n",
        "        print(\"Top Recommended movieId For User: \", user_id)\n",
        "        for x in top_items_for_user[:3]:\n",
        "            #print(\"     %s\" % movies[movies['movieId']== x])\n",
        "            print(\"     %s\" % x)\n",
        "\n",
        "        #vertically stack the user scores (items are columns)\n",
        "        all_scores = np.vstack((all_scores, scores))\n",
        "        #print(all_top_items)\n",
        "\n",
        "    #compute the average rating for each item in the group\n",
        "    item_averages = np.mean(all_scores.astype(np.float), axis=0)\n",
        "    top_items_for_group = labels[np.argsort(-item_averages)]\n",
        "    top_items_scores=item_averages[np.argsort(-item_averages)]\n",
        "\n",
        "    print(\"Top Recommended movieId for Group:\")\n",
        "\n",
        "    for x in top_items_for_group[:5]:\n",
        "        print(\"     %s\" % x)\n",
        "    return  top_items_for_group, top_items_scores"
      ],
      "execution_count": 45,
      "outputs": []
    },
    {
      "cell_type": "code",
      "metadata": {
        "id": "cE9EyiaCWdhn"
      },
      "source": [
        "#group = [int(input('enter userid :'))]\n",
        "#pd.DataFrame(sample_recommendation(model, interactions, group)).T"
      ],
      "execution_count": 46,
      "outputs": []
    },
    {
      "cell_type": "code",
      "metadata": {
        "id": "VRTPjdcVFHvp",
        "colab": {
          "base_uri": "https://localhost:8080/",
          "height": 1000
        },
        "outputId": "20b14fc4-9535-42f7-ab8f-cdb440377bea"
      },
      "source": [
        "#################################\n",
        "#                               #\n",
        "#  Sampling Recommended Events  #\n",
        "#                               #\n",
        "#################################\n",
        "np.set_printoptions(threshold=np.inf,linewidth=np.inf)\n",
        "pd.set_option('display.max_columns', None)\n",
        "\n",
        "#fetch user_ids of users in group\n",
        "group = [int(input('enter userid :'))]\n",
        "\n",
        "list,avg_scores = sample_recommendation(model, interactions, group)\n",
        "recommend_movie=pd.DataFrame(columns=movies.columns)\n",
        "'''\n",
        "for x in list[:20]:\n",
        "  recommend_movie=recommend_movie.append(movies[movies['movieId']== x], ignore_index=True)\n",
        "'''\n",
        "for x in list[:100]:\n",
        "  recommend_movie=recommend_movie.append(movies[movies['movieId']== x], ignore_index=True)\n",
        "\n",
        "recommend_movie['predict_score']= avg_scores[:100]\n",
        "recommend_movie[recommend_movie.genres.str.split('|').str[1] !='성인'][:20].reset_index()# 성인제외\n",
        "#recommend_movie[:20]\n"
      ],
      "execution_count": 47,
      "outputs": [
        {
          "output_type": "stream",
          "name": "stdout",
          "text": [
            "enter userid :11\n",
            "Top Recommended movieId For User:  11\n",
            "     -9167504850715679476\n",
            "     -8134796277594556610\n",
            "     -9088081590022333399\n",
            "Top Recommended movieId for Group:\n",
            "     -9167504850715679476\n",
            "     -8134796277594556610\n",
            "     -9088081590022333399\n",
            "     -6957301239238394653\n",
            "     -6654104387870140289\n"
          ]
        },
        {
          "output_type": "execute_result",
          "data": {
            "text/html": [
              "<div>\n",
              "<style scoped>\n",
              "    .dataframe tbody tr th:only-of-type {\n",
              "        vertical-align: middle;\n",
              "    }\n",
              "\n",
              "    .dataframe tbody tr th {\n",
              "        vertical-align: top;\n",
              "    }\n",
              "\n",
              "    .dataframe thead th {\n",
              "        text-align: right;\n",
              "    }\n",
              "</style>\n",
              "<table border=\"1\" class=\"dataframe\">\n",
              "  <thead>\n",
              "    <tr style=\"text-align: right;\">\n",
              "      <th></th>\n",
              "      <th>index</th>\n",
              "      <th>movieId</th>\n",
              "      <th>rating</th>\n",
              "      <th>title</th>\n",
              "      <th>genres</th>\n",
              "      <th>create_yr</th>\n",
              "      <th>director</th>\n",
              "      <th>actor1</th>\n",
              "      <th>wtch_cnt</th>\n",
              "      <th>sales_amt_3m</th>\n",
              "      <th>predict_score</th>\n",
              "    </tr>\n",
              "  </thead>\n",
              "  <tbody>\n",
              "    <tr>\n",
              "      <th>0</th>\n",
              "      <td>0</td>\n",
              "      <td>-9167504850715679476</td>\n",
              "      <td>0.033186</td>\n",
              "      <td>드럭스토어 카우보이</td>\n",
              "      <td>영화|드라마|NaN</td>\n",
              "      <td>2018</td>\n",
              "      <td>구스 반 산트</td>\n",
              "      <td>맷 딜런</td>\n",
              "      <td>13</td>\n",
              "      <td>1400.0</td>\n",
              "      <td>0.622651</td>\n",
              "    </tr>\n",
              "    <tr>\n",
              "      <th>1</th>\n",
              "      <td>1</td>\n",
              "      <td>-8134796277594556610</td>\n",
              "      <td>0.054767</td>\n",
              "      <td>부탁 하나만 들어줘</td>\n",
              "      <td>영화|스릴러|NaN</td>\n",
              "      <td>2019</td>\n",
              "      <td>폴 페이그</td>\n",
              "      <td>블레이크 라이블리</td>\n",
              "      <td>620</td>\n",
              "      <td>158200.0</td>\n",
              "      <td>0.598407</td>\n",
              "    </tr>\n",
              "    <tr>\n",
              "      <th>2</th>\n",
              "      <td>2</td>\n",
              "      <td>-9088081590022333399</td>\n",
              "      <td>0.028348</td>\n",
              "      <td>왕대륙의 기묘기사</td>\n",
              "      <td>영화|SF/판타지|NaN</td>\n",
              "      <td>2020</td>\n",
              "      <td>조소구</td>\n",
              "      <td>왕대륙</td>\n",
              "      <td>114</td>\n",
              "      <td>7500.0</td>\n",
              "      <td>0.593385</td>\n",
              "    </tr>\n",
              "    <tr>\n",
              "      <th>3</th>\n",
              "      <td>3</td>\n",
              "      <td>-6957301239238394653</td>\n",
              "      <td>0.010895</td>\n",
              "      <td>방세옥: 천하대전</td>\n",
              "      <td>영화|액션|NaN</td>\n",
              "      <td>2019</td>\n",
              "      <td>율심박</td>\n",
              "      <td>승색려</td>\n",
              "      <td>50</td>\n",
              "      <td>5000.0</td>\n",
              "      <td>0.576844</td>\n",
              "    </tr>\n",
              "    <tr>\n",
              "      <th>4</th>\n",
              "      <td>5</td>\n",
              "      <td>-6618847529950655177</td>\n",
              "      <td>0.016663</td>\n",
              "      <td>나인 풀 문스(9 Full Moons)</td>\n",
              "      <td>영화|로맨스|NaN</td>\n",
              "      <td>2016</td>\n",
              "      <td>토머 알마고</td>\n",
              "      <td>에이미 세이메츠</td>\n",
              "      <td>141</td>\n",
              "      <td>53200.0</td>\n",
              "      <td>0.568527</td>\n",
              "    </tr>\n",
              "    <tr>\n",
              "      <th>5</th>\n",
              "      <td>6</td>\n",
              "      <td>-5565921388913898469</td>\n",
              "      <td>0.024061</td>\n",
              "      <td>헨리 5세</td>\n",
              "      <td>영화|액션|NaN</td>\n",
              "      <td>2018</td>\n",
              "      <td>케네스 브래너</td>\n",
              "      <td>케네스 브래너</td>\n",
              "      <td>27</td>\n",
              "      <td>7000.0</td>\n",
              "      <td>0.568327</td>\n",
              "    </tr>\n",
              "    <tr>\n",
              "      <th>6</th>\n",
              "      <td>8</td>\n",
              "      <td>-6654736372252959816</td>\n",
              "      <td>0.040772</td>\n",
              "      <td>거침없이 쏴라! 슛뎀업(Shoot `Em Up)</td>\n",
              "      <td>영화|액션|NaN</td>\n",
              "      <td>2015</td>\n",
              "      <td>마이클 데이비스</td>\n",
              "      <td>클라이브 오웬</td>\n",
              "      <td>166</td>\n",
              "      <td>290000.0</td>\n",
              "      <td>0.565438</td>\n",
              "    </tr>\n",
              "    <tr>\n",
              "      <th>7</th>\n",
              "      <td>9</td>\n",
              "      <td>-2896663637457442894</td>\n",
              "      <td>0.034193</td>\n",
              "      <td>투 이즈 어 패밀리</td>\n",
              "      <td>영화|코미디|NaN</td>\n",
              "      <td>2017</td>\n",
              "      <td>위고 젤랭</td>\n",
              "      <td>오마 사이</td>\n",
              "      <td>39</td>\n",
              "      <td>9800.0</td>\n",
              "      <td>0.553778</td>\n",
              "    </tr>\n",
              "    <tr>\n",
              "      <th>8</th>\n",
              "      <td>10</td>\n",
              "      <td>-8134468053281070347</td>\n",
              "      <td>0.035200</td>\n",
              "      <td>비쎈</td>\n",
              "      <td>영화|액션|NaN</td>\n",
              "      <td>2020</td>\n",
              "      <td>로스 W. 클락슨</td>\n",
              "      <td>리에 리 천</td>\n",
              "      <td>115</td>\n",
              "      <td>27500.0</td>\n",
              "      <td>0.551832</td>\n",
              "    </tr>\n",
              "    <tr>\n",
              "      <th>9</th>\n",
              "      <td>13</td>\n",
              "      <td>-6438916458778381907</td>\n",
              "      <td>0.047052</td>\n",
              "      <td>지저귀는 새는 날지 않는다</td>\n",
              "      <td>영화|극장판 애니|로맨스</td>\n",
              "      <td>2020</td>\n",
              "      <td>마키타 카오리</td>\n",
              "      <td>신가키 타루스케</td>\n",
              "      <td>11</td>\n",
              "      <td>26000.0</td>\n",
              "      <td>0.545718</td>\n",
              "    </tr>\n",
              "    <tr>\n",
              "      <th>10</th>\n",
              "      <td>16</td>\n",
              "      <td>-3660393036003344014</td>\n",
              "      <td>0.028660</td>\n",
              "      <td>황비홍: 왕의 귀환</td>\n",
              "      <td>영화|액션|NaN</td>\n",
              "      <td>2020</td>\n",
              "      <td>곽옥룡</td>\n",
              "      <td>허경천</td>\n",
              "      <td>41</td>\n",
              "      <td>10000.0</td>\n",
              "      <td>0.541785</td>\n",
              "    </tr>\n",
              "    <tr>\n",
              "      <th>11</th>\n",
              "      <td>17</td>\n",
              "      <td>-3701816066554340588</td>\n",
              "      <td>0.037039</td>\n",
              "      <td>벤허: 레저렉션</td>\n",
              "      <td>영화|액션|NaN</td>\n",
              "      <td>2017</td>\n",
              "      <td>마크 앳킨스</td>\n",
              "      <td>에드리언 보쳇</td>\n",
              "      <td>58</td>\n",
              "      <td>28000.0</td>\n",
              "      <td>0.541560</td>\n",
              "    </tr>\n",
              "    <tr>\n",
              "      <th>12</th>\n",
              "      <td>18</td>\n",
              "      <td>-6987222093742866329</td>\n",
              "      <td>0.022516</td>\n",
              "      <td>신 희극지왕</td>\n",
              "      <td>영화|코미디|NaN</td>\n",
              "      <td>2021</td>\n",
              "      <td>주성치</td>\n",
              "      <td>왕바오창</td>\n",
              "      <td>23</td>\n",
              "      <td>42500.0</td>\n",
              "      <td>0.540214</td>\n",
              "    </tr>\n",
              "    <tr>\n",
              "      <th>13</th>\n",
              "      <td>19</td>\n",
              "      <td>-7445645811297269365</td>\n",
              "      <td>0.030841</td>\n",
              "      <td>호스텔: 데스 게임</td>\n",
              "      <td>영화|공포|NaN</td>\n",
              "      <td>2020</td>\n",
              "      <td>조 루한</td>\n",
              "      <td>빌 오버스트 주니어</td>\n",
              "      <td>102</td>\n",
              "      <td>50500.0</td>\n",
              "      <td>0.539458</td>\n",
              "    </tr>\n",
              "    <tr>\n",
              "      <th>14</th>\n",
              "      <td>20</td>\n",
              "      <td>-8162733853326756629</td>\n",
              "      <td>0.034745</td>\n",
              "      <td>프란시스 하</td>\n",
              "      <td>영화|코미디|NaN</td>\n",
              "      <td>2019</td>\n",
              "      <td>노아 바움백</td>\n",
              "      <td>그레타 거윅</td>\n",
              "      <td>17</td>\n",
              "      <td>32500.0</td>\n",
              "      <td>0.537161</td>\n",
              "    </tr>\n",
              "    <tr>\n",
              "      <th>15</th>\n",
              "      <td>22</td>\n",
              "      <td>-6950883531600254999</td>\n",
              "      <td>0.025373</td>\n",
              "      <td>화녀</td>\n",
              "      <td>영화|스릴러|NaN</td>\n",
              "      <td>2021</td>\n",
              "      <td>김기영</td>\n",
              "      <td>윤여정</td>\n",
              "      <td>531</td>\n",
              "      <td>2515500.0</td>\n",
              "      <td>0.535772</td>\n",
              "    </tr>\n",
              "    <tr>\n",
              "      <th>16</th>\n",
              "      <td>24</td>\n",
              "      <td>-6997071388468749310</td>\n",
              "      <td>0.062279</td>\n",
              "      <td>판타지 아일랜드</td>\n",
              "      <td>영화|SF/판타지|NaN</td>\n",
              "      <td>2021</td>\n",
              "      <td>크리스 그리스머</td>\n",
              "      <td>에밀리 러드</td>\n",
              "      <td>11</td>\n",
              "      <td>22500.0</td>\n",
              "      <td>0.533150</td>\n",
              "    </tr>\n",
              "    <tr>\n",
              "      <th>17</th>\n",
              "      <td>25</td>\n",
              "      <td>-8034955630282819547</td>\n",
              "      <td>0.097012</td>\n",
              "      <td>박하사탕</td>\n",
              "      <td>영화|드라마|NaN</td>\n",
              "      <td>2017</td>\n",
              "      <td>이창동</td>\n",
              "      <td>설경구</td>\n",
              "      <td>379</td>\n",
              "      <td>238000.0</td>\n",
              "      <td>0.532374</td>\n",
              "    </tr>\n",
              "    <tr>\n",
              "      <th>18</th>\n",
              "      <td>29</td>\n",
              "      <td>-6609429212630073626</td>\n",
              "      <td>0.101378</td>\n",
              "      <td>바다: 수중 장면 촬영 영상</td>\n",
              "      <td>영화|액션|NaN</td>\n",
              "      <td>2017</td>\n",
              "      <td>크리스토퍼 놀란</td>\n",
              "      <td>핀 화이트헤드</td>\n",
              "      <td>25</td>\n",
              "      <td>0.0</td>\n",
              "      <td>0.530106</td>\n",
              "    </tr>\n",
              "    <tr>\n",
              "      <th>19</th>\n",
              "      <td>30</td>\n",
              "      <td>-6581543291808136396</td>\n",
              "      <td>0.034601</td>\n",
              "      <td>스펙타클 워</td>\n",
              "      <td>영화|액션|NaN</td>\n",
              "      <td>2020</td>\n",
              "      <td>얼신 셀릭</td>\n",
              "      <td>아르진 바이살</td>\n",
              "      <td>180</td>\n",
              "      <td>37500.0</td>\n",
              "      <td>0.529197</td>\n",
              "    </tr>\n",
              "  </tbody>\n",
              "</table>\n",
              "</div>"
            ],
            "text/plain": [
              "    index               movieId    rating                       title  \\\n",
              "0       0  -9167504850715679476  0.033186                  드럭스토어 카우보이   \n",
              "1       1  -8134796277594556610  0.054767                  부탁 하나만 들어줘   \n",
              "2       2  -9088081590022333399  0.028348                   왕대륙의 기묘기사   \n",
              "3       3  -6957301239238394653  0.010895                   방세옥: 천하대전   \n",
              "4       5  -6618847529950655177  0.016663       나인 풀 문스(9 Full Moons)   \n",
              "5       6  -5565921388913898469  0.024061                       헨리 5세   \n",
              "6       8  -6654736372252959816  0.040772  거침없이 쏴라! 슛뎀업(Shoot `Em Up)   \n",
              "7       9  -2896663637457442894  0.034193                  투 이즈 어 패밀리   \n",
              "8      10  -8134468053281070347  0.035200                          비쎈   \n",
              "9      13  -6438916458778381907  0.047052              지저귀는 새는 날지 않는다   \n",
              "10     16  -3660393036003344014  0.028660                  황비홍: 왕의 귀환   \n",
              "11     17  -3701816066554340588  0.037039                    벤허: 레저렉션   \n",
              "12     18  -6987222093742866329  0.022516                      신 희극지왕   \n",
              "13     19  -7445645811297269365  0.030841                  호스텔: 데스 게임   \n",
              "14     20  -8162733853326756629  0.034745                      프란시스 하   \n",
              "15     22  -6950883531600254999  0.025373                          화녀   \n",
              "16     24  -6997071388468749310  0.062279                    판타지 아일랜드   \n",
              "17     25  -8034955630282819547  0.097012                        박하사탕   \n",
              "18     29  -6609429212630073626  0.101378             바다: 수중 장면 촬영 영상   \n",
              "19     30  -6581543291808136396  0.034601                      스펙타클 워   \n",
              "\n",
              "           genres create_yr   director       actor1 wtch_cnt  sales_amt_3m  \\\n",
              "0      영화|드라마|NaN      2018    구스 반 산트         맷 딜런       13        1400.0   \n",
              "1      영화|스릴러|NaN      2019      폴 페이그    블레이크 라이블리      620      158200.0   \n",
              "2   영화|SF/판타지|NaN      2020        조소구          왕대륙      114        7500.0   \n",
              "3       영화|액션|NaN      2019        율심박          승색려       50        5000.0   \n",
              "4      영화|로맨스|NaN      2016     토머 알마고     에이미 세이메츠      141       53200.0   \n",
              "5       영화|액션|NaN      2018    케네스 브래너      케네스 브래너       27        7000.0   \n",
              "6       영화|액션|NaN      2015   마이클 데이비스      클라이브 오웬      166      290000.0   \n",
              "7      영화|코미디|NaN      2017      위고 젤랭        오마 사이       39        9800.0   \n",
              "8       영화|액션|NaN      2020  로스 W. 클락슨       리에 리 천      115       27500.0   \n",
              "9   영화|극장판 애니|로맨스      2020    마키타 카오리     신가키 타루스케       11       26000.0   \n",
              "10      영화|액션|NaN      2020        곽옥룡          허경천       41       10000.0   \n",
              "11      영화|액션|NaN      2017     마크 앳킨스      에드리언 보쳇       58       28000.0   \n",
              "12     영화|코미디|NaN      2021        주성치         왕바오창       23       42500.0   \n",
              "13      영화|공포|NaN      2020       조 루한   빌 오버스트 주니어      102       50500.0   \n",
              "14     영화|코미디|NaN      2019     노아 바움백       그레타 거윅       17       32500.0   \n",
              "15     영화|스릴러|NaN      2021        김기영          윤여정      531     2515500.0   \n",
              "16  영화|SF/판타지|NaN      2021   크리스 그리스머       에밀리 러드       11       22500.0   \n",
              "17     영화|드라마|NaN      2017        이창동          설경구      379      238000.0   \n",
              "18      영화|액션|NaN      2017   크리스토퍼 놀란      핀 화이트헤드       25           0.0   \n",
              "19      영화|액션|NaN      2020      얼신 셀릭      아르진 바이살      180       37500.0   \n",
              "\n",
              "    predict_score  \n",
              "0        0.622651  \n",
              "1        0.598407  \n",
              "2        0.593385  \n",
              "3        0.576844  \n",
              "4        0.568527  \n",
              "5        0.568327  \n",
              "6        0.565438  \n",
              "7        0.553778  \n",
              "8        0.551832  \n",
              "9        0.545718  \n",
              "10       0.541785  \n",
              "11       0.541560  \n",
              "12       0.540214  \n",
              "13       0.539458  \n",
              "14       0.537161  \n",
              "15       0.535772  \n",
              "16       0.533150  \n",
              "17       0.532374  \n",
              "18       0.530106  \n",
              "19       0.529197  "
            ]
          },
          "metadata": {},
          "execution_count": 47
        }
      ]
    },
    {
      "cell_type": "code",
      "metadata": {
        "id": "BzDvz1nANXGM",
        "colab": {
          "base_uri": "https://localhost:8080/",
          "height": 541
        },
        "outputId": "9b2eca3e-c18b-419b-bab7-d0f9b3a03c70"
      },
      "source": [
        "# 시청 정보\n",
        "#i = int(input('enter userid : '))\n",
        "i = int(input('enter userid :'))\n",
        "pd.merge(ratings[ratings.userId==users.iloc[i][0]],movies, on='movieId')"
      ],
      "execution_count": 48,
      "outputs": [
        {
          "name": "stdout",
          "output_type": "stream",
          "text": [
            "enter userid :11\n"
          ]
        },
        {
          "output_type": "execute_result",
          "data": {
            "text/html": [
              "<div>\n",
              "<style scoped>\n",
              "    .dataframe tbody tr th:only-of-type {\n",
              "        vertical-align: middle;\n",
              "    }\n",
              "\n",
              "    .dataframe tbody tr th {\n",
              "        vertical-align: top;\n",
              "    }\n",
              "\n",
              "    .dataframe thead th {\n",
              "        text-align: right;\n",
              "    }\n",
              "</style>\n",
              "<table border=\"1\" class=\"dataframe\">\n",
              "  <thead>\n",
              "    <tr style=\"text-align: right;\">\n",
              "      <th></th>\n",
              "      <th>userId</th>\n",
              "      <th>movieId</th>\n",
              "      <th>rating_x</th>\n",
              "      <th>rating_y</th>\n",
              "      <th>title</th>\n",
              "      <th>genres</th>\n",
              "      <th>create_yr</th>\n",
              "      <th>director</th>\n",
              "      <th>actor1</th>\n",
              "      <th>wtch_cnt</th>\n",
              "      <th>sales_amt_3m</th>\n",
              "    </tr>\n",
              "  </thead>\n",
              "  <tbody>\n",
              "    <tr>\n",
              "      <th>0</th>\n",
              "      <td>-9222499131495171858</td>\n",
              "      <td>-8765309055107668895</td>\n",
              "      <td>0.0</td>\n",
              "      <td>0.045508</td>\n",
              "      <td>웨이 다운</td>\n",
              "      <td>영화|액션|NaN</td>\n",
              "      <td>2021</td>\n",
              "      <td>자움 발라구에로</td>\n",
              "      <td>프레디 하이모어</td>\n",
              "      <td>8186</td>\n",
              "      <td>28496000.0</td>\n",
              "    </tr>\n",
              "    <tr>\n",
              "      <th>1</th>\n",
              "      <td>-9222499131495171858</td>\n",
              "      <td>-2881349100186662098</td>\n",
              "      <td>0.0</td>\n",
              "      <td>0.019245</td>\n",
              "      <td>캐시트럭</td>\n",
              "      <td>영화|액션|NaN</td>\n",
              "      <td>2021</td>\n",
              "      <td>가이 리치</td>\n",
              "      <td>제이슨 스타뎀</td>\n",
              "      <td>4701</td>\n",
              "      <td>30600000.0</td>\n",
              "    </tr>\n",
              "    <tr>\n",
              "      <th>2</th>\n",
              "      <td>-9222499131495171858</td>\n",
              "      <td>-2260645583576098385</td>\n",
              "      <td>0.0</td>\n",
              "      <td>0.011261</td>\n",
              "      <td>소울</td>\n",
              "      <td>영화|극장판 애니|드라마</td>\n",
              "      <td>2021</td>\n",
              "      <td>피트 닥터</td>\n",
              "      <td>제이미 폭스</td>\n",
              "      <td>45970</td>\n",
              "      <td>0.0</td>\n",
              "    </tr>\n",
              "    <tr>\n",
              "      <th>3</th>\n",
              "      <td>-9222499131495171858</td>\n",
              "      <td>1592906744297345059</td>\n",
              "      <td>0.0</td>\n",
              "      <td>0.016063</td>\n",
              "      <td>마크맨</td>\n",
              "      <td>영화|액션|NaN</td>\n",
              "      <td>2021</td>\n",
              "      <td>로버트 로렌즈</td>\n",
              "      <td>리암 니슨</td>\n",
              "      <td>18123</td>\n",
              "      <td>100000000.0</td>\n",
              "    </tr>\n",
              "    <tr>\n",
              "      <th>4</th>\n",
              "      <td>-9222499131495171858</td>\n",
              "      <td>2615346061790891548</td>\n",
              "      <td>1.0</td>\n",
              "      <td>0.059024</td>\n",
              "      <td>엉덩이 탐정 극장판:려한 사건 수첩</td>\n",
              "      <td>영화|극장판 애니|어린이/가족</td>\n",
              "      <td>2021</td>\n",
              "      <td>히라야마 미호</td>\n",
              "      <td>김은아</td>\n",
              "      <td>36988</td>\n",
              "      <td>0.0</td>\n",
              "    </tr>\n",
              "    <tr>\n",
              "      <th>5</th>\n",
              "      <td>-9222499131495171858</td>\n",
              "      <td>8229125510814751668</td>\n",
              "      <td>0.0</td>\n",
              "      <td>0.009841</td>\n",
              "      <td>라야와 마지막 드래곤</td>\n",
              "      <td>영화|극장판 애니|액션</td>\n",
              "      <td>2021</td>\n",
              "      <td>돈 홀, 카를로스 로페즈 에스트라다</td>\n",
              "      <td>켈리 마리 트란</td>\n",
              "      <td>61136</td>\n",
              "      <td>0.0</td>\n",
              "    </tr>\n",
              "  </tbody>\n",
              "</table>\n",
              "</div>"
            ],
            "text/plain": [
              "                userId              movieId  rating_x  rating_y  \\\n",
              "0 -9222499131495171858 -8765309055107668895       0.0  0.045508   \n",
              "1 -9222499131495171858 -2881349100186662098       0.0  0.019245   \n",
              "2 -9222499131495171858 -2260645583576098385       0.0  0.011261   \n",
              "3 -9222499131495171858  1592906744297345059       0.0  0.016063   \n",
              "4 -9222499131495171858  2615346061790891548       1.0  0.059024   \n",
              "5 -9222499131495171858  8229125510814751668       0.0  0.009841   \n",
              "\n",
              "                 title            genres  create_yr             director  \\\n",
              "0                웨이 다운         영화|액션|NaN       2021             자움 발라구에로   \n",
              "1                 캐시트럭         영화|액션|NaN       2021                가이 리치   \n",
              "2                   소울     영화|극장판 애니|드라마       2021                피트 닥터   \n",
              "3                  마크맨         영화|액션|NaN       2021              로버트 로렌즈   \n",
              "4  엉덩이 탐정 극장판:려한 사건 수첩  영화|극장판 애니|어린이/가족       2021              히라야마 미호   \n",
              "5          라야와 마지막 드래곤      영화|극장판 애니|액션       2021  돈 홀, 카를로스 로페즈 에스트라다   \n",
              "\n",
              "      actor1  wtch_cnt  sales_amt_3m  \n",
              "0   프레디 하이모어      8186    28496000.0  \n",
              "1    제이슨 스타뎀      4701    30600000.0  \n",
              "2     제이미 폭스     45970           0.0  \n",
              "3      리암 니슨     18123   100000000.0  \n",
              "4        김은아     36988           0.0  \n",
              "5   켈리 마리 트란     61136           0.0  "
            ]
          },
          "metadata": {},
          "execution_count": 48
        }
      ]
    },
    {
      "cell_type": "code",
      "metadata": {
        "id": "m6EcaCTbF-Gx",
        "colab": {
          "base_uri": "https://localhost:8080/"
        },
        "outputId": "c699c77b-b73f-42ab-c20d-8c0dd8a2608d"
      },
      "source": [
        "model.predict(265, [356], item_features)"
      ],
      "execution_count": 49,
      "outputs": [
        {
          "output_type": "execute_result",
          "data": {
            "text/plain": [
              "array([0.0460449], dtype=float32)"
            ]
          },
          "metadata": {},
          "execution_count": 49
        }
      ]
    },
    {
      "cell_type": "code",
      "metadata": {
        "id": "KUgCwOH6cVvD",
        "colab": {
          "base_uri": "https://localhost:8080/",
          "height": 204
        },
        "outputId": "dc8c8db5-9d64-4419-9f57-e16789945231"
      },
      "source": [
        "pd.DataFrame(ratings[ratings.userId==users.iloc[12][0]])"
      ],
      "execution_count": 50,
      "outputs": [
        {
          "output_type": "execute_result",
          "data": {
            "text/html": [
              "<div>\n",
              "<style scoped>\n",
              "    .dataframe tbody tr th:only-of-type {\n",
              "        vertical-align: middle;\n",
              "    }\n",
              "\n",
              "    .dataframe tbody tr th {\n",
              "        vertical-align: top;\n",
              "    }\n",
              "\n",
              "    .dataframe thead th {\n",
              "        text-align: right;\n",
              "    }\n",
              "</style>\n",
              "<table border=\"1\" class=\"dataframe\">\n",
              "  <thead>\n",
              "    <tr style=\"text-align: right;\">\n",
              "      <th></th>\n",
              "      <th>userId</th>\n",
              "      <th>movieId</th>\n",
              "      <th>rating</th>\n",
              "    </tr>\n",
              "  </thead>\n",
              "  <tbody>\n",
              "    <tr>\n",
              "      <th>402</th>\n",
              "      <td>-9222475185513976242</td>\n",
              "      <td>-5633414720538420288</td>\n",
              "      <td>0.0</td>\n",
              "    </tr>\n",
              "    <tr>\n",
              "      <th>403</th>\n",
              "      <td>-9222475185513976242</td>\n",
              "      <td>-5058503078456968645</td>\n",
              "      <td>1.0</td>\n",
              "    </tr>\n",
              "    <tr>\n",
              "      <th>404</th>\n",
              "      <td>-9222475185513976242</td>\n",
              "      <td>-2418629155473076079</td>\n",
              "      <td>1.0</td>\n",
              "    </tr>\n",
              "    <tr>\n",
              "      <th>405</th>\n",
              "      <td>-9222475185513976242</td>\n",
              "      <td>2476773338372596358</td>\n",
              "      <td>0.0</td>\n",
              "    </tr>\n",
              "    <tr>\n",
              "      <th>406</th>\n",
              "      <td>-9222475185513976242</td>\n",
              "      <td>2767919627789712801</td>\n",
              "      <td>1.0</td>\n",
              "    </tr>\n",
              "  </tbody>\n",
              "</table>\n",
              "</div>"
            ],
            "text/plain": [
              "                  userId              movieId  rating\n",
              "402 -9222475185513976242 -5633414720538420288     0.0\n",
              "403 -9222475185513976242 -5058503078456968645     1.0\n",
              "404 -9222475185513976242 -2418629155473076079     1.0\n",
              "405 -9222475185513976242  2476773338372596358     0.0\n",
              "406 -9222475185513976242  2767919627789712801     1.0"
            ]
          },
          "metadata": {},
          "execution_count": 50
        }
      ]
    },
    {
      "cell_type": "code",
      "metadata": {
        "id": "kayM9yJ7m4sX"
      },
      "source": [
        "labels = np.array(ratings['movieId'])"
      ],
      "execution_count": 51,
      "outputs": []
    },
    {
      "cell_type": "code",
      "metadata": {
        "id": "n3U7Uh82Rzz8"
      },
      "source": [
        "n_users, n_items = interactions.shape\n",
        "scores=model.predict(265,np.arange(n_items),item_features)"
      ],
      "execution_count": 52,
      "outputs": []
    },
    {
      "cell_type": "code",
      "metadata": {
        "id": "oqXTWgACbLI1"
      },
      "source": [
        "\"\"\"\n",
        "#ratings 에 없는 userId,movieId 삭제 -> 1)row dorp 후 2)sort_values['id'] 3) reset_index() 를 해줘야 error 안남\n",
        "def drop_redundant_rows(n):\n",
        "  '''1)drop redundant rows'''\n",
        "  #user_item_interactions\n",
        "  idx_user=user_item_interactions.userId[~user_item_interactions.userId.isin(df_user_features.userId)].index\n",
        "  user_item_interactions.drop(idx_user,inplace=True)\n",
        "  idx_movie=user_item_interactions.movieId[~user_item_interactions.movieId.isin(df_item_features.movieId)].index\n",
        "  user_item_interactions.drop(idx_movie,inplace=True)\n",
        "\n",
        "  #user_features\n",
        "  idx_user=df_user_features.userId[~df_user_features.userId.isin(user_item_interactions.userId)].index\n",
        "  df_user_features.drop(idx_user,inplace=True)\n",
        "  #item_features\n",
        "  idx_movie=df_item_features.movieId[~df_item_features.movieId.isin(user_item_interactions.movieId)].index\n",
        "  df_item_features.drop(idx_movie,inplace=True)\n",
        "\n",
        "  '''2) sort_values['id']'''\n",
        "  df_item_features.sort_values(by=['movieId'],inplace=True)\n",
        "  df_user_features.sort_values(by=['userId'],inplace=True)\n",
        "  user_item_interactions.sort_values(by=['userId','movieId'],inplace=True)\n",
        "  \n",
        "  '''3) reset_index()'''\n",
        "  ratings=user_item_interactions.loc[:,['userId','movieId','rating']].sort_values(by=['userId','movieId']).reset_index(drop=True)\n",
        "\n",
        "  df_item_features['genres']=df_item_features.genre_l.fillna('NaN')+'|'+df_item_features.genre_m+'|'+df_item_features.genre_s\n",
        "  movies=df_item_features.loc[:,['movieId','title','genres','create_yr','director','actor1','wtch_cnt','sales_amt_3m']].fillna(0).sort_values(by=['movieId']).reset_index(drop=True)\n",
        "  #movies['genre']=list(map(lambda x:zlib.crc32(x.encode('UTF-8')), np.array(movies.genre.fillna(''))))\n",
        "  tmp_movie=ratings.groupby('movieId')['rating'].mean()\n",
        "  movies=pd.merge(tmp_movie,movies, on='movieId').sort_values(by=['movieId']).reset_index(drop=True)\n",
        "\n",
        "  users=df_user_features.loc[:,['userId','sex_cd','age5_band','pfgn1','avg_wtch_cnt','avg_fwtch_cnt','avg_buy_cnt','avg_buy_amt']].fillna(0).sort_values(by=['userId']).reset_index(drop=True)\n",
        "\n",
        "  print('order :',n,'\\n')\n",
        "\n",
        "drop_redundant_rows(1)\n",
        "drop_redundant_rows(2)\n",
        "\n",
        "print('user:',df_user_features.userId[~df_user_features.userId.isin(user_item_interactions.userId)],'\\n','movie: ',df_item_features.movieId[~df_item_features.movieId.isin(user_item_interactions.movieId)])\n",
        "print('user:',user_item_interactions.userId[~user_item_interactions.userId.isin(df_user_features.userId)],'\\n','movie: ',df_item_features.movieId[~df_item_features.movieId.isin(user_item_interactions.movieId)])\n",
        "\"\"\""
      ],
      "execution_count": null,
      "outputs": []
    },
    {
      "cell_type": "code",
      "metadata": {
        "id": "GhVrzJInszvr"
      },
      "source": [
        ""
      ],
      "execution_count": null,
      "outputs": []
    }
  ]
}