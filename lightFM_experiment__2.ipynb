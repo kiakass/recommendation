{
  "nbformat": 4,
  "nbformat_minor": 0,
  "metadata": {
    "colab": {
      "name": "lightFM_experiment_#2.ipynb",
      "provenance": [],
      "collapsed_sections": [
        "HK2a5OFWA3Xi",
        "pOLfVPnlEVW3",
        "g3M32wUKnNNX",
        "fCrvBX9-nTHz",
        "fUmfmnRCqo2H",
        "BRLB_tMQy54I"
      ],
      "toc_visible": true,
      "machine_shape": "hm",
      "include_colab_link": true
    },
    "kernelspec": {
      "display_name": "Python 3",
      "language": "python",
      "name": "python3"
    },
    "language_info": {
      "codemirror_mode": {
        "name": "ipython",
        "version": 3
      },
      "file_extension": ".py",
      "mimetype": "text/x-python",
      "name": "python",
      "nbconvert_exporter": "python",
      "pygments_lexer": "ipython3",
      "version": "3.6.9"
    }
  },
  "cells": [
    {
      "cell_type": "markdown",
      "metadata": {
        "id": "view-in-github",
        "colab_type": "text"
      },
      "source": [
        "<a href=\"https://colab.research.google.com/github/kiakass/recommendation/blob/main/lightFM_experiment__2.ipynb\" target=\"_parent\"><img src=\"https://colab.research.google.com/assets/colab-badge.svg\" alt=\"Open In Colab\"/></a>"
      ]
    },
    {
      "cell_type": "markdown",
      "metadata": {
        "id": "WiYyWhujAlY0"
      },
      "source": [
        "<h2>lightFM_jameshope_Experiment #1</h2>\n",
        "\n",
        "\n",
        "$\\begin{array}{|c|c|c|c|} & Basic \\, Meta & price & rating \\\\\n",
        "\\hline\n",
        "Item & O & X  & O \\\\\n",
        "User & X & X  & X \\\\\n",
        "Interaction & O & X & {\\color{Red}{O}}:weight \\\\\n",
        "\\end{array}$"
      ]
    },
    {
      "cell_type": "markdown",
      "metadata": {
        "id": "hV-IYDf9AvMt"
      },
      "source": [
        "### Reference site"
      ]
    },
    {
      "cell_type": "markdown",
      "metadata": {
        "id": "XAwn4B7hqo13"
      },
      "source": [
        "Reference site : https://greeksharifa.github.io/machine_learning/2020/06/01/LightFM/ <br>\n",
        "thesis : https://github.com/kiakass/share/blob/master/Metadata%20Embeddings%20for%20User%20and%20Item%20Cold-start%20.pdf <br>\n",
        "LightFM’s documentation! : https://making.lyst.com/lightfm/docs/home.html <br>\n",
        "WARP : https://making.lyst.com/lightfm/docs/examples/warp_loss.html#preliminaries<br>\n",
        "precision@k : https://github.com/lyst/lightfm/blob/master/examples/movielens/readme.md <br>\n"
      ]
    },
    {
      "cell_type": "markdown",
      "metadata": {
        "id": "HK2a5OFWA3Xi"
      },
      "source": [
        "### Install Pacakages"
      ]
    },
    {
      "cell_type": "code",
      "metadata": {
        "colab": {
          "base_uri": "https://localhost:8080/"
        },
        "id": "g-bFJ-ecD-aV",
        "outputId": "4d46f9da-173f-474d-b2c2-7d03be6b7ac2"
      },
      "source": [
        "!pip install feather-format"
      ],
      "execution_count": 2,
      "outputs": [
        {
          "output_type": "stream",
          "name": "stdout",
          "text": [
            "Requirement already satisfied: feather-format in /usr/local/lib/python3.7/dist-packages (0.4.1)\n",
            "Requirement already satisfied: pyarrow>=0.4.0 in /usr/local/lib/python3.7/dist-packages (from feather-format) (3.0.0)\n",
            "Requirement already satisfied: numpy>=1.16.6 in /usr/local/lib/python3.7/dist-packages (from pyarrow>=0.4.0->feather-format) (1.19.5)\n"
          ]
        }
      ]
    },
    {
      "cell_type": "code",
      "metadata": {
        "colab": {
          "base_uri": "https://localhost:8080/",
          "height": 273
        },
        "id": "ssNOoy8IFDpE",
        "outputId": "3979f3f8-339c-4bb2-b8da-9970f8556805"
      },
      "source": [
        "!pip install typing"
      ],
      "execution_count": 3,
      "outputs": [
        {
          "output_type": "stream",
          "name": "stdout",
          "text": [
            "Collecting typing\n",
            "  Downloading typing-3.7.4.3.tar.gz (78 kB)\n",
            "\u001b[?25l\r\u001b[K     |████▏                           | 10 kB 27.1 MB/s eta 0:00:01\r\u001b[K     |████████▍                       | 20 kB 25.3 MB/s eta 0:00:01\r\u001b[K     |████████████▌                   | 30 kB 11.6 MB/s eta 0:00:01\r\u001b[K     |████████████████▊               | 40 kB 9.0 MB/s eta 0:00:01\r\u001b[K     |████████████████████▉           | 51 kB 5.3 MB/s eta 0:00:01\r\u001b[K     |█████████████████████████       | 61 kB 5.5 MB/s eta 0:00:01\r\u001b[K     |█████████████████████████████▏  | 71 kB 5.5 MB/s eta 0:00:01\r\u001b[K     |████████████████████████████████| 78 kB 3.6 MB/s \n",
            "\u001b[?25hBuilding wheels for collected packages: typing\n",
            "  Building wheel for typing (setup.py) ... \u001b[?25l\u001b[?25hdone\n",
            "  Created wheel for typing: filename=typing-3.7.4.3-py3-none-any.whl size=26324 sha256=81b496fb2c53d3a6ed34731dde65af8b995b207fd914abcbe05c2a321fac644b\n",
            "  Stored in directory: /root/.cache/pip/wheels/35/f3/15/01aa6571f0a72ee6ae7b827c1491c37a1f72d686fd22b43b0e\n",
            "Successfully built typing\n",
            "Installing collected packages: typing\n",
            "Successfully installed typing-3.7.4.3\n"
          ]
        },
        {
          "output_type": "display_data",
          "data": {
            "application/vnd.colab-display-data+json": {
              "pip_warning": {
                "packages": [
                  "typing"
                ]
              }
            }
          },
          "metadata": {}
        }
      ]
    },
    {
      "cell_type": "code",
      "metadata": {
        "colab": {
          "base_uri": "https://localhost:8080/"
        },
        "id": "7ifNmM7Lqo2F",
        "outputId": "ebe4ce8f-a0e7-4e6e-ff6d-194d8509f6eb"
      },
      "source": [
        "!pip install lightfm"
      ],
      "execution_count": 4,
      "outputs": [
        {
          "output_type": "stream",
          "name": "stdout",
          "text": [
            "Collecting lightfm\n",
            "  Downloading lightfm-1.16.tar.gz (310 kB)\n",
            "\u001b[?25l\r\u001b[K     |█                               | 10 kB 25.3 MB/s eta 0:00:01\r\u001b[K     |██▏                             | 20 kB 11.5 MB/s eta 0:00:01\r\u001b[K     |███▏                            | 30 kB 9.4 MB/s eta 0:00:01\r\u001b[K     |████▎                           | 40 kB 8.6 MB/s eta 0:00:01\r\u001b[K     |█████▎                          | 51 kB 5.1 MB/s eta 0:00:01\r\u001b[K     |██████▍                         | 61 kB 5.6 MB/s eta 0:00:01\r\u001b[K     |███████▍                        | 71 kB 5.5 MB/s eta 0:00:01\r\u001b[K     |████████▌                       | 81 kB 6.2 MB/s eta 0:00:01\r\u001b[K     |█████████▌                      | 92 kB 4.7 MB/s eta 0:00:01\r\u001b[K     |██████████▋                     | 102 kB 5.1 MB/s eta 0:00:01\r\u001b[K     |███████████▋                    | 112 kB 5.1 MB/s eta 0:00:01\r\u001b[K     |████████████▊                   | 122 kB 5.1 MB/s eta 0:00:01\r\u001b[K     |█████████████▊                  | 133 kB 5.1 MB/s eta 0:00:01\r\u001b[K     |██████████████▉                 | 143 kB 5.1 MB/s eta 0:00:01\r\u001b[K     |███████████████▉                | 153 kB 5.1 MB/s eta 0:00:01\r\u001b[K     |█████████████████               | 163 kB 5.1 MB/s eta 0:00:01\r\u001b[K     |██████████████████              | 174 kB 5.1 MB/s eta 0:00:01\r\u001b[K     |███████████████████             | 184 kB 5.1 MB/s eta 0:00:01\r\u001b[K     |████████████████████            | 194 kB 5.1 MB/s eta 0:00:01\r\u001b[K     |█████████████████████▏          | 204 kB 5.1 MB/s eta 0:00:01\r\u001b[K     |██████████████████████▏         | 215 kB 5.1 MB/s eta 0:00:01\r\u001b[K     |███████████████████████▎        | 225 kB 5.1 MB/s eta 0:00:01\r\u001b[K     |████████████████████████▎       | 235 kB 5.1 MB/s eta 0:00:01\r\u001b[K     |█████████████████████████▍      | 245 kB 5.1 MB/s eta 0:00:01\r\u001b[K     |██████████████████████████▍     | 256 kB 5.1 MB/s eta 0:00:01\r\u001b[K     |███████████████████████████▌    | 266 kB 5.1 MB/s eta 0:00:01\r\u001b[K     |████████████████████████████▌   | 276 kB 5.1 MB/s eta 0:00:01\r\u001b[K     |█████████████████████████████▋  | 286 kB 5.1 MB/s eta 0:00:01\r\u001b[K     |██████████████████████████████▋ | 296 kB 5.1 MB/s eta 0:00:01\r\u001b[K     |███████████████████████████████▊| 307 kB 5.1 MB/s eta 0:00:01\r\u001b[K     |████████████████████████████████| 310 kB 5.1 MB/s \n",
            "\u001b[?25hRequirement already satisfied: numpy in /usr/local/lib/python3.7/dist-packages (from lightfm) (1.19.5)\n",
            "Requirement already satisfied: scipy>=0.17.0 in /usr/local/lib/python3.7/dist-packages (from lightfm) (1.4.1)\n",
            "Requirement already satisfied: requests in /usr/local/lib/python3.7/dist-packages (from lightfm) (2.23.0)\n",
            "Requirement already satisfied: scikit-learn in /usr/local/lib/python3.7/dist-packages (from lightfm) (0.22.2.post1)\n",
            "Requirement already satisfied: idna<3,>=2.5 in /usr/local/lib/python3.7/dist-packages (from requests->lightfm) (2.10)\n",
            "Requirement already satisfied: urllib3!=1.25.0,!=1.25.1,<1.26,>=1.21.1 in /usr/local/lib/python3.7/dist-packages (from requests->lightfm) (1.24.3)\n",
            "Requirement already satisfied: certifi>=2017.4.17 in /usr/local/lib/python3.7/dist-packages (from requests->lightfm) (2021.5.30)\n",
            "Requirement already satisfied: chardet<4,>=3.0.2 in /usr/local/lib/python3.7/dist-packages (from requests->lightfm) (3.0.4)\n",
            "Requirement already satisfied: joblib>=0.11 in /usr/local/lib/python3.7/dist-packages (from scikit-learn->lightfm) (1.0.1)\n",
            "Building wheels for collected packages: lightfm\n",
            "  Building wheel for lightfm (setup.py) ... \u001b[?25l\u001b[?25hdone\n",
            "  Created wheel for lightfm: filename=lightfm-1.16-cp37-cp37m-linux_x86_64.whl size=705358 sha256=69c7a6656a3f5fed43c0f865ad433d5478b27c1890ac4e51761d9a4d2162c21b\n",
            "  Stored in directory: /root/.cache/pip/wheels/f8/56/28/5772a3bd3413d65f03aa452190b00898b680b10028a1021914\n",
            "Successfully built lightfm\n",
            "Installing collected packages: lightfm\n",
            "Successfully installed lightfm-1.16\n"
          ]
        }
      ]
    },
    {
      "cell_type": "code",
      "metadata": {
        "id": "4aePgFaMqo18"
      },
      "source": [
        "from lightfm import LightFM\n",
        "from scipy.sparse import coo_matrix as sp\n",
        "import time\n",
        "import matplotlib.pyplot as plt\n",
        "import os\n",
        "import zipfile\n",
        "from lightfm.data import Dataset\n",
        "from lightfm.evaluation import precision_at_k\n",
        "from lightfm.evaluation import auc_score\n",
        "from lightfm.cross_validation import random_train_test_split \n",
        "\n",
        "import numpy as np\n",
        "import pandas as pd\n",
        "import warnings # warings 제거\n",
        "warnings.filterwarnings(action='ignore')\n",
        "\n",
        "import zlib\n",
        "\n",
        "pd.set_option('display.max_row', 500) #출력행수"
      ],
      "execution_count": 5,
      "outputs": []
    },
    {
      "cell_type": "code",
      "metadata": {
        "colab": {
          "base_uri": "https://localhost:8080/"
        },
        "id": "sNDgTz5mMWW3",
        "outputId": "54b43686-7723-43af-f7f7-114eaf29440e"
      },
      "source": [
        "from google.colab import drive\n",
        "drive.mount('/gdrive')"
      ],
      "execution_count": 6,
      "outputs": [
        {
          "output_type": "stream",
          "name": "stdout",
          "text": [
            "Mounted at /gdrive\n"
          ]
        }
      ]
    },
    {
      "cell_type": "code",
      "metadata": {
        "colab": {
          "base_uri": "https://localhost:8080/"
        },
        "id": "wgYzdBBSO-FN",
        "outputId": "bdae61f4-ae90-4d42-acf2-6185aeefedff"
      },
      "source": [
        "!ls /gdrive/My\\ Drive/10.data/논문마트"
      ],
      "execution_count": 7,
      "outputs": [
        {
          "output_type": "stream",
          "name": "stdout",
          "text": [
            "customer.csv\n",
            "iptv_seg_use.csv\n",
            "item_features.csv\n",
            "L1AGGR_SEG_IPTV_USE_CLUSTERING_0.csv\n",
            "L1AGGR_SEG_IPTV_USE_CLUSTERING_1.csv\n",
            "L1AGGR_SEG_IPTV_USE_CLUSTERING_2.csv\n",
            "L1AGGR_SEG_IPTV_USE_CLUSTERING_3.csv\n",
            "L1AGGR_SEG_IPTV_USE_CLUSTERING_4.csv\n",
            "L1AGGR_SEG_IPTV_USE_CLUSTERING_5.csv\n",
            "L1AGGR_SEG_IPTV_USE_CLUSTERING_6.csv\n",
            "L1AGGR_SEG_IPTV_USE_CLUSTERING_7.csv\n",
            "L1AGGR_SEG_IPTV_USE_CLUSTERING_8.csv\n",
            "L1AGGR_SEG_IPTV_USE_CLUSTERING_9.csv\n",
            "L1AGGR_SEG_IPTV_USE_CLUSTERING.csv\n",
            "L1AGGR_SEG_IPTV_USE_CLUSTERING_H.210918.csv\n",
            "L1AGGR_SEG_IPTV_USE_CLUSTERING_H.csv\n",
            "user_features_r20.csv\n",
            "user_feaures.csv\n",
            "user_item_interaction_adj.csv\n",
            "user_item_interaction.csv\n",
            "user_item_interaction_r20.csv\n",
            "USER_ITEM_INTERACTIONS_R20.csv\n"
          ]
        }
      ]
    },
    {
      "cell_type": "markdown",
      "metadata": {
        "id": "pOLfVPnlEVW3"
      },
      "source": [
        "### $ {\\color{Blue} {Data \\, loading }}$\n",
        "- user\\_features, item\\_features"
      ]
    },
    {
      "cell_type": "markdown",
      "metadata": {
        "id": "g3M32wUKnNNX"
      },
      "source": [
        "#### 1. Load data"
      ]
    },
    {
      "cell_type": "code",
      "metadata": {
        "id": "gmssjeVuPlc9"
      },
      "source": [
        "dir='/gdrive/My Drive/10.data/논문마트/'\n",
        "user_item_interactions = pd.read_csv(dir+'USER_ITEM_INTERACTIONS_R20.csv', delimiter=',',dtype={'wtch_dt': str,'buy_dt': str })\n",
        "user_item_interactions.rename(columns={'userid':'userId'}, inplace = True)\n",
        "user_item_interactions.rename(columns={'movieid':'movieId'}, inplace = True)"
      ],
      "execution_count": 8,
      "outputs": []
    },
    {
      "cell_type": "code",
      "metadata": {
        "colab": {
          "base_uri": "https://localhost:8080/",
          "height": 0
        },
        "id": "soMWcEmjqd0V",
        "outputId": "6fe4cb84-78ab-46ae-a5b3-5caf35d4a5ee"
      },
      "source": [
        "'''\n",
        "df_interactions = pd.read_csv(dir+'USER_ITEM_INTERACTIONS_R20.csv', delimiter=',',dtype={'wtch_dt': str,'buy_dt': str })\n",
        "df_interactions.rename(columns={'userid':'userId'}, inplace = True)\n",
        "df_interactions.rename(columns={'movieid':'movieId'}, inplace = True)\n",
        "'''"
      ],
      "execution_count": 9,
      "outputs": [
        {
          "output_type": "execute_result",
          "data": {
            "application/vnd.google.colaboratory.intrinsic+json": {
              "type": "string"
            },
            "text/plain": [
              "\"\\ndf_interactions = pd.read_csv(dir+'USER_ITEM_INTERACTIONS_R20.csv', delimiter=',',dtype={'wtch_dt': str,'buy_dt': str })\\ndf_interactions.rename(columns={'userid':'userId'}, inplace = True)\\ndf_interactions.rename(columns={'movieid':'movieId'}, inplace = True)\\n\""
            ]
          },
          "metadata": {},
          "execution_count": 9
        }
      ]
    },
    {
      "cell_type": "code",
      "metadata": {
        "id": "awW1GH4BGyJU"
      },
      "source": [
        "df_user_features = pd.read_csv(dir+'user_features_r20.csv', delimiter=',')\n",
        "df_user_features.rename(columns={'userid':'userId'}, inplace = True)"
      ],
      "execution_count": 10,
      "outputs": []
    },
    {
      "cell_type": "code",
      "metadata": {
        "id": "Vy7Y66iIJr8a"
      },
      "source": [
        "df_item_features = pd.read_csv(dir+'item_features.csv', delimiter=',')\n",
        "df_item_features.rename(columns={'movieid':'movieId'}, inplace = True)"
      ],
      "execution_count": 11,
      "outputs": []
    },
    {
      "cell_type": "markdown",
      "metadata": {
        "id": "fCrvBX9-nTHz"
      },
      "source": [
        "#### 2.Make Weighting/Rating"
      ]
    },
    {
      "cell_type": "code",
      "metadata": {
        "colab": {
          "base_uri": "https://localhost:8080/"
        },
        "id": "e4XbF28JCWx-",
        "outputId": "c54d2a5f-aedc-4d2c-8477-4446e55fe400"
      },
      "source": [
        "# 가중치 만들기, Weight()\n",
        "#wtch_yn,buy_yn,wtch_pg_cnt,buy_pg_cnt,sch_cnt,wish_yn,story_yn,review_yn,preview_yn,rating_yn\n",
        "a=pd.DataFrame([67046,10062,132844,16016,16984,1295,422,447,82,326,140000],columns=['weight'])\n",
        "hw=pd.DataFrame([1.2,1.5,1,1,1,1,1,1,1,1,1],columns=['weight'])\n",
        "f=lambda x: 1/(1+np.exp(-(1-x/4800000)))  # \n",
        "#f=lambda x: np.log10(4800000/x)*np.log10(x)\n",
        "b=f(a)\n",
        "\n",
        "#normalize : 영향도 경감\n",
        "def normalize_df(x):\n",
        "  return (x-x.min())/(x.max()-x.min())\n",
        "\n",
        "w=normalize_df(b).mul(hw);print(pd.merge(b,w,on=b.index))"
      ],
      "execution_count": 12,
      "outputs": [
        {
          "output_type": "stream",
          "name": "stdout",
          "text": [
            "    key_0  weight_x  weight_y\n",
            "0       0  0.728303  0.627678\n",
            "1       1  0.730646  1.393671\n",
            "2       2  0.725583  0.051466\n",
            "3       3  0.730402  0.886791\n",
            "4       4  0.730362  0.879908\n",
            "5       5  0.731006  0.991388\n",
            "6       6  0.731041  0.997586\n",
            "7       7  0.731040  0.997409\n",
            "8       8  0.731055  1.000000\n",
            "9       9  0.731045  0.998268\n",
            "10     10  0.725286  0.000000\n"
          ]
        }
      ]
    },
    {
      "cell_type": "code",
      "metadata": {
        "colab": {
          "base_uri": "https://localhost:8080/"
        },
        "id": "qgN3ICnzQYhN",
        "outputId": "75de2977-3811-4cdc-d98b-a88ce6d83f02"
      },
      "source": [
        "# 가중치 계산\n",
        "nor_interactions=user_item_interactions.iloc[:,:]\n",
        "columns=user_item_interactions.iloc[:,3:].columns;print(columns)\n",
        "df_b=pd.DataFrame(normalize_df(user_item_interactions.iloc[:,3:].fillna(0)),columns=columns)\n",
        "nor_interactions[columns]=df_b\n",
        "# rating 계산 : dot product\n",
        "nor_interactions['rating']=normalize_df(np.dot(nor_interactions.iloc[:,[5,9,3,4,11,12,13,14,15,16]].fillna(0),w[:-1]))"
      ],
      "execution_count": 13,
      "outputs": [
        {
          "output_type": "stream",
          "name": "stdout",
          "text": [
            "Index(['wtch_pg_cnt', 'buy_pg_cnt', 'wtch_yn', 'wtch_tm', 'wtch_cp', 'buy_dt',\n",
            "       'buy_yn', 'buy_amt', 'sch_cnt', 'wish_yn', 'story_yn', 'review_yn',\n",
            "       'preview_yn', 'rating_yn'],\n",
            "      dtype='object')\n"
          ]
        }
      ]
    },
    {
      "cell_type": "code",
      "metadata": {
        "id": "mQUILpxJVuHr"
      },
      "source": [
        "# user_item_interactions에 weighted rating 반영\n",
        "user_item_interactions['rating'] = nor_interactions['rating']\n",
        "#user_item_interactions[(user_item_interactions.rating >=0.9) & (user_item_interactions.rating <=1.9)].head(200)"
      ],
      "execution_count": 14,
      "outputs": []
    },
    {
      "cell_type": "markdown",
      "metadata": {
        "id": "zNNXZTsmVczH"
      },
      "source": [
        "### $ {\\color{Red} {Make \\,\\, Dataset \\,}}$"
      ]
    },
    {
      "cell_type": "markdown",
      "metadata": {
        "id": "iTyYe7A8lkhj"
      },
      "source": [
        "#### 1.Preprocessing data\n",
        "> Important JOB : interaction 안되는 데이터 삭제 <br>\n",
        "-> item_feature_source.movieId 가 ratings.movieId 에 100% join 되어야함 <br>\n",
        "-> user_feature_source.userId 가 rating.userId에 100% mapping 되어야함 <br>\n",
        "\n",
        "> 1) join 안되는 ID 삭제 > 2) sort_value['id'] > 3) reset_index()"
      ]
    },
    {
      "cell_type": "code",
      "metadata": {
        "id": "SY52RTda0Hrm"
      },
      "source": [
        "'''1) join 안되는 ID 삭제 > 2) sort_value['id'] > 3) reset_index()'''\n",
        "\n",
        "ratings=user_item_interactions.loc[:,['userId','movieId','rating']].sort_values(by=['userId','movieId']).reset_index(drop=True)\n",
        "df_item_features['genres']=df_item_features.genre_l.fillna('NaN')+'|'+df_item_features.genre_m.fillna('NaN')+'|'+df_item_features.genre_s.fillna('NaN') #장르결합 genre1/2/3\n",
        "movies=df_item_features.loc[:,['movieId','title','genres','create_yr','director','actor1','wtch_cnt','sales_amt_3m']].fillna(0).sort_values(by=['movieId']).reset_index(drop=True)\n",
        "users=df_user_features.loc[:,['userId','sex_cd','age5_band','pfgn1','avg_wtch_cnt','avg_fwtch_cnt','avg_buy_cnt','avg_buy_amt']].fillna(0).sort_values(by=['userId']).reset_index(drop=True)\n",
        "\n",
        "def handle_movies(ratings,movies):\n",
        "\n",
        "  #movies['genre']=list(map(lambda x:zlib.crc32(x.encode('UTF-8')), np.array(movies.genre.fillna(''))))\n",
        "  tmp_movie=ratings.groupby('movieId')['rating'].mean()\n",
        "  movies=pd.merge(tmp_movie,movies, on='movieId')\n",
        "  idx_movie=movies.movieId[~movies.movieId.isin(ratings.movieId)].index\n",
        "  movies.drop(idx_movie,inplace=True)\n",
        "  movies.sort_values(by=['movieId'], inplace=True)\n",
        "  movies.reset_index(drop=True, inplace=True)\n",
        "  #print('movies',movies.columns)\n",
        "  return movies\n",
        "\n",
        "def handle_users(ratings,users):\n",
        "  \n",
        "  tmp_user=pd.DataFrame(ratings.userId.unique(),columns=['userId'])\n",
        "  users=pd.merge(tmp_user,users, on='userId')\n",
        "  idx_user=users.userId[~users.userId.isin(ratings.userId)].index\n",
        "  users.drop(idx_user,inplace=True)\n",
        "  users.sort_values(by=['userId'], inplace=True)\n",
        "  users.reset_index(drop=True, inplace=True)\n",
        "  #print('users',users.columns)\n",
        "  return users\n",
        "\n",
        "def handle_interactions(movies,users):\n",
        "\n",
        "  idx_user=ratings.userId[~ratings.userId.isin(users.userId)].index\n",
        "  ratings.drop(idx_user,inplace=True)\n",
        "  idx_movie=ratings.movieId[~ratings.movieId.isin(movies.movieId)].index\n",
        "  ratings.drop(idx_movie,inplace=True)\n",
        "  ratings.sort_values(by=['userId','movieId'],inplace=True)\n",
        "  ratings.reset_index(drop=True, inplace=True)\n",
        "  #print('ratings',ratings.columns)\n",
        "  return ratings\n",
        "\n",
        "# 순방향 걸러내기\n",
        "movies=handle_movies(ratings,movies)\n",
        "users=handle_users(ratings,users)\n",
        "ratings=handle_interactions(movies,users)\n",
        "# 역방향 걸러내기\n",
        "users=handle_users(ratings,users)\n",
        "movies=handle_movies(ratings,movies.loc[:, movies.columns != 'rating'])"
      ],
      "execution_count": 15,
      "outputs": []
    },
    {
      "cell_type": "code",
      "metadata": {
        "colab": {
          "base_uri": "https://localhost:8080/"
        },
        "id": "bZjxm1xn57sy",
        "outputId": "8e3ab6e5-4f58-439f-85d3-4f5c35884e5b"
      },
      "source": [
        "# rating, user, movies ID 갯수 동일 확인\n",
        "print(users.shape[0],len(ratings.userId.unique()),movies.shape[0],len(ratings.movieId.unique()),ratings.shape[0])\n",
        "# id 무결성 확인\n",
        "#print(movies.movieId[~movies.movieId.isin(ratings.movieId)])"
      ],
      "execution_count": 16,
      "outputs": [
        {
          "output_type": "stream",
          "name": "stdout",
          "text": [
            "293105 293105 25282 25282 5718243\n"
          ]
        }
      ]
    },
    {
      "cell_type": "code",
      "metadata": {
        "colab": {
          "base_uri": "https://localhost:8080/",
          "height": 419
        },
        "id": "AIHGlk9eW4UT",
        "outputId": "e26a839c-b50a-4abf-9024-35983de0ffb7"
      },
      "source": [
        "#ratings.drop(columns=['rating_n'],inplace=True)\n",
        "# rating 척도를 변환하고 반올림 : 0 ~ 10\n",
        "ratings.rating=round((((ratings.rating - ratings.rating.min()) * ( 10 - 0 )) / ( ratings.rating.max() - ratings.rating.min())) + 0)\n",
        "ratings"
      ],
      "execution_count": 38,
      "outputs": [
        {
          "output_type": "execute_result",
          "data": {
            "text/html": [
              "<div>\n",
              "<style scoped>\n",
              "    .dataframe tbody tr th:only-of-type {\n",
              "        vertical-align: middle;\n",
              "    }\n",
              "\n",
              "    .dataframe tbody tr th {\n",
              "        vertical-align: top;\n",
              "    }\n",
              "\n",
              "    .dataframe thead th {\n",
              "        text-align: right;\n",
              "    }\n",
              "</style>\n",
              "<table border=\"1\" class=\"dataframe\">\n",
              "  <thead>\n",
              "    <tr style=\"text-align: right;\">\n",
              "      <th></th>\n",
              "      <th>userId</th>\n",
              "      <th>movieId</th>\n",
              "      <th>rating</th>\n",
              "    </tr>\n",
              "  </thead>\n",
              "  <tbody>\n",
              "    <tr>\n",
              "      <th>0</th>\n",
              "      <td>-9223259533948962539</td>\n",
              "      <td>-5325328048293135553</td>\n",
              "      <td>0</td>\n",
              "    </tr>\n",
              "    <tr>\n",
              "      <th>1</th>\n",
              "      <td>-9223259533948962539</td>\n",
              "      <td>-816328911221559320</td>\n",
              "      <td>3</td>\n",
              "    </tr>\n",
              "    <tr>\n",
              "      <th>2</th>\n",
              "      <td>-9223259533948962539</td>\n",
              "      <td>2399654214069935366</td>\n",
              "      <td>0</td>\n",
              "    </tr>\n",
              "    <tr>\n",
              "      <th>3</th>\n",
              "      <td>-9223259533948962539</td>\n",
              "      <td>3462194398905494488</td>\n",
              "      <td>0</td>\n",
              "    </tr>\n",
              "    <tr>\n",
              "      <th>4</th>\n",
              "      <td>-9223237916653256333</td>\n",
              "      <td>-7666943246243350237</td>\n",
              "      <td>0</td>\n",
              "    </tr>\n",
              "    <tr>\n",
              "      <th>...</th>\n",
              "      <td>...</td>\n",
              "      <td>...</td>\n",
              "      <td>...</td>\n",
              "    </tr>\n",
              "    <tr>\n",
              "      <th>5718238</th>\n",
              "      <td>9223322056064380844</td>\n",
              "      <td>-3573952772207421421</td>\n",
              "      <td>1</td>\n",
              "    </tr>\n",
              "    <tr>\n",
              "      <th>5718239</th>\n",
              "      <td>9223322056064380844</td>\n",
              "      <td>-3037452211581368244</td>\n",
              "      <td>1</td>\n",
              "    </tr>\n",
              "    <tr>\n",
              "      <th>5718240</th>\n",
              "      <td>9223322056064380844</td>\n",
              "      <td>-2679473653912353406</td>\n",
              "      <td>1</td>\n",
              "    </tr>\n",
              "    <tr>\n",
              "      <th>5718241</th>\n",
              "      <td>9223322056064380844</td>\n",
              "      <td>-2546974551736097183</td>\n",
              "      <td>1</td>\n",
              "    </tr>\n",
              "    <tr>\n",
              "      <th>5718242</th>\n",
              "      <td>9223322056064380844</td>\n",
              "      <td>2720114675049710537</td>\n",
              "      <td>3</td>\n",
              "    </tr>\n",
              "  </tbody>\n",
              "</table>\n",
              "<p>5718243 rows × 3 columns</p>\n",
              "</div>"
            ],
            "text/plain": [
              "                      userId              movieId  rating\n",
              "0       -9223259533948962539 -5325328048293135553       0\n",
              "1       -9223259533948962539  -816328911221559320       3\n",
              "2       -9223259533948962539  2399654214069935366       0\n",
              "3       -9223259533948962539  3462194398905494488       0\n",
              "4       -9223237916653256333 -7666943246243350237       0\n",
              "...                      ...                  ...     ...\n",
              "5718238  9223322056064380844 -3573952772207421421       1\n",
              "5718239  9223322056064380844 -3037452211581368244       1\n",
              "5718240  9223322056064380844 -2679473653912353406       1\n",
              "5718241  9223322056064380844 -2546974551736097183       1\n",
              "5718242  9223322056064380844  2720114675049710537       3\n",
              "\n",
              "[5718243 rows x 3 columns]"
            ]
          },
          "metadata": {},
          "execution_count": 38
        }
      ]
    },
    {
      "cell_type": "code",
      "metadata": {
        "colab": {
          "base_uri": "https://localhost:8080/",
          "height": 265
        },
        "id": "yK_VH4m-h_5w",
        "outputId": "819c4ed7-11ed-4f07-d999-4f4ac73e5018"
      },
      "source": [
        "a=plt.hist(movies.rating,bins=30) #데이터분포확인"
      ],
      "execution_count": 39,
      "outputs": [
        {
          "output_type": "display_data",
          "data": {
            "image/png": "[encoded data removed]",
            "text/plain": [
              "<Figure size 432x288 with 1 Axes>"
            ]
          },
          "metadata": {
            "needs_background": "light"
          }
        }
      ]
    },
    {
      "cell_type": "markdown",
      "metadata": {
        "id": "fUmfmnRCqo2H"
      },
      "source": [
        "#### 2.Make Data Array\n",
        "\n",
        "> index 가 비어 있으면 오류발생 : reset_index() 필요\n",
        "\n"
      ]
    },
    {
      "cell_type": "code",
      "metadata": {
        "id": "rHtXHwT1qo2G",
        "scrolled": true
      },
      "source": [
        "from lightfm.data import Dataset\n",
        "from scipy.io import mmwrite"
      ],
      "execution_count": 40,
      "outputs": []
    },
    {
      "cell_type": "code",
      "metadata": {
        "id": "EZp3Nl-O06ME"
      },
      "source": [
        "item_meta = movies[['movieId', 'title', 'genres', 'rating', 'create_yr']]\n",
        "\n",
        "item_features_source = [(item_meta['movieId'][i],\n",
        "                        np.array(item_meta.iloc[i,1:]).reshape(-1)) for i in range(item_meta.shape[0])]                                           "
      ],
      "execution_count": 41,
      "outputs": []
    },
    {
      "cell_type": "code",
      "metadata": {
        "id": "z1nHPd1g8YJy"
      },
      "source": [
        "user_meta = users[['userId','sex_cd','age5_band','pfgn1','avg_wtch_cnt','avg_buy_amt']]\n",
        "\n",
        "user_features_source = [(user_meta['userId'][i],\n",
        "                        np.array(user_meta.iloc[i,1:]).reshape(-1)) for i in range(user_meta.shape[0])]                          "
      ],
      "execution_count": 42,
      "outputs": []
    },
    {
      "cell_type": "code",
      "metadata": {
        "colab": {
          "base_uri": "https://localhost:8080/",
          "height": 0
        },
        "id": "zQA1NXWBqo2J",
        "outputId": "f3548415-8f40-4bf4-dbe7-3168dbdbc9a7"
      },
      "source": [
        "#결측치가 있는지 확인\n",
        "'''\n",
        "df=pd.DataFrame(ratings_source);print(pd.DataFrame(ratings_source).head(1))\n",
        "df.isnull().sum()\n",
        "df=pd.DataFrame(item_features_source);print(pd.DataFrame(item_features_source).head(1))\n",
        "df.isnull().sum()\n",
        "df=pd.DataFrame(user_features_source);print(pd.DataFrame(user_features_source).head(1))\n",
        "df.isnull().sum()\n",
        "'''"
      ],
      "execution_count": 43,
      "outputs": [
        {
          "output_type": "execute_result",
          "data": {
            "application/vnd.google.colaboratory.intrinsic+json": {
              "type": "string"
            },
            "text/plain": [
              "'\\ndf=pd.DataFrame(ratings_source);print(pd.DataFrame(ratings_source).head(1))\\ndf.isnull().sum()\\ndf=pd.DataFrame(item_features_source);print(pd.DataFrame(item_features_source).head(1))\\ndf.isnull().sum()\\ndf=pd.DataFrame(user_features_source);print(pd.DataFrame(user_features_source).head(1))\\ndf.isnull().sum()\\n'"
            ]
          },
          "metadata": {},
          "execution_count": 43
        }
      ]
    },
    {
      "cell_type": "markdown",
      "metadata": {
        "id": "gx2sUWkPmc3o"
      },
      "source": [
        "### $ {\\color{yellow} {Model \\,Run}}$\n"
      ]
    },
    {
      "cell_type": "markdown",
      "metadata": {
        "id": "BRLB_tMQy54I"
      },
      "source": [
        "#### $ {\\color{yellow} {0.Build \\,dataset}}$\n",
        "> dataset.fit -> dataset.build 순으로 각 데이터별로 번갈아 수행 해야함"
      ]
    },
    {
      "cell_type": "code",
      "metadata": {
        "id": "VngxsMVSwgsF"
      },
      "source": [
        "# weight : ratings['rating'][i] 추가\n",
        "ratings_source = [(ratings['userId'][i], ratings['movieId'][i], ratings['rating'][i]) for i in range(ratings.shape[0])] "
      ],
      "execution_count": 45,
      "outputs": []
    },
    {
      "cell_type": "code",
      "metadata": {
        "id": "w9TvvrYeqo2K"
      },
      "source": [
        "dataset = Dataset()\n",
        "dataset.fit(users=ratings['userId'],\n",
        "            items=ratings['movieId'])"
      ],
      "execution_count": 46,
      "outputs": []
    },
    {
      "cell_type": "code",
      "metadata": {
        "id": "rWp2-O2fqo2M"
      },
      "source": [
        "interactions, weights = dataset.build_interactions(ratings_source)"
      ],
      "execution_count": 47,
      "outputs": []
    },
    {
      "cell_type": "code",
      "metadata": {
        "id": "zD5ROa0DSXR_"
      },
      "source": [
        "dataset.fit(users=ratings['userId'],\n",
        "            items=ratings['movieId'],\n",
        "            item_features=item_meta[item_meta.columns[1:]].values.flatten()\n",
        "            )"
      ],
      "execution_count": 48,
      "outputs": []
    },
    {
      "cell_type": "code",
      "metadata": {
        "id": "mdmzc5CznuiO"
      },
      "source": [
        "item_features=dataset.build_item_features(item_features_source)"
      ],
      "execution_count": 49,
      "outputs": []
    },
    {
      "cell_type": "code",
      "metadata": {
        "id": "FZVyR-eySYDh"
      },
      "source": [
        "dataset.fit(users=ratings['userId'],\n",
        "            items=ratings['movieId'],\n",
        "            user_features=user_meta[user_meta.columns[1:]].values.flatten()\n",
        "            )"
      ],
      "execution_count": 50,
      "outputs": []
    },
    {
      "cell_type": "code",
      "metadata": {
        "id": "ymwH72Fwam6a"
      },
      "source": [
        "#user_features=dataset.build_user_features(user_features_source)"
      ],
      "execution_count": 51,
      "outputs": []
    },
    {
      "cell_type": "code",
      "metadata": {
        "id": "FYiEGBwioyYm"
      },
      "source": [
        "#print(pd.DataFrame(item_features_source))"
      ],
      "execution_count": 52,
      "outputs": []
    },
    {
      "cell_type": "code",
      "metadata": {
        "id": "S41eH_-hqo2M",
        "colab": {
          "base_uri": "https://localhost:8080/",
          "height": 35
        },
        "outputId": "fa9a513a-ca81-4763-a45c-b5331e72d5ca"
      },
      "source": [
        "'''\n",
        "# Save\n",
        "mmwrite('interactions.mtx', interactions)\n",
        "mmwrite('item_features.mtx', item_features)\n",
        "mmwrite('weights.mtx', weights)\n",
        "mmwrite('user_features.mtx',user_features)\n",
        "'''"
      ],
      "execution_count": 53,
      "outputs": [
        {
          "output_type": "execute_result",
          "data": {
            "application/vnd.google.colaboratory.intrinsic+json": {
              "type": "string"
            },
            "text/plain": [
              "\"\\n# Save\\nmmwrite('interactions.mtx', interactions)\\nmmwrite('item_features.mtx', item_features)\\nmmwrite('weights.mtx', weights)\\nmmwrite('user_features.mtx',user_features)\\n\""
            ]
          },
          "metadata": {},
          "execution_count": 53
        }
      ]
    },
    {
      "cell_type": "code",
      "metadata": {
        "id": "Q16KwH-yqo2N",
        "colab": {
          "base_uri": "https://localhost:8080/"
        },
        "outputId": "de668880-d8f1-444d-eb17-80f943a97286"
      },
      "source": [
        "from lightfm.cross_validation import random_train_test_split\n",
        "# Split Train, Test data\n",
        "model = LightFM(loss='warp')\n",
        "\n",
        "(train, test) = random_train_test_split(interactions=interactions, test_percentage=0.2)\n",
        "start = time.time()\n",
        "model.fit(train, item_features=item_features, epochs=10)\n",
        "end = time.time(); print('time :',end-start) "
      ],
      "execution_count": 54,
      "outputs": [
        {
          "output_type": "stream",
          "name": "stdout",
          "text": [
            "time : 118.44859743118286\n"
          ]
        }
      ]
    },
    {
      "cell_type": "markdown",
      "metadata": {
        "id": "-VDNbkeCjVRU"
      },
      "source": [
        "#### $ {\\color{yellow} {1.evaluation : precision@k, AUC }}$"
      ]
    },
    {
      "cell_type": "code",
      "metadata": {
        "id": "7JdtHwjphZZa",
        "colab": {
          "base_uri": "https://localhost:8080/",
          "height": 154
        },
        "outputId": "bc55682c-c1f3-4257-91da-188b0a031ead"
      },
      "source": [
        "start = time.time()\n",
        "train_precision = precision_at_k(model, train, k=10,item_features=item_features).mean()\n",
        "end = time.time(); print('time :',end-start) \n",
        "start = time.time()\n",
        "test_precision = precision_at_k(model, test, k=10,item_features=item_features).mean()\n",
        "end = time.time(); print('time :',end-start) \n",
        "start = time.time()\n",
        "train_auc = auc_score(model, train,item_features=item_features).mean()\n",
        "end = time.time(); print('time :',end-start) \n",
        "start = time.time()\n",
        "test_auc = auc_score(model, test,item_features=item_features).mean()\n",
        "end = time.time(); print('time :',end-start) \n",
        "\n",
        "print('Precision: train %.3f, test %.3f.' % (train_precision, test_precision))\n",
        "print('AUC: train %.3f, test %.3f.' % (train_auc, test_auc))\n",
        "'''\n",
        "time : 633.9194025993347\n",
        "time : 424.50309658050537\n",
        "time : 634.1630313396454\n",
        "time : 424.71241569519043\n",
        "Precision: train 0.15, test 0.05.\n",
        "AUC: train 0.97, test 0.96.\n",
        "'''"
      ],
      "execution_count": 55,
      "outputs": [
        {
          "output_type": "stream",
          "name": "stdout",
          "text": [
            "time : 658.8053269386292\n",
            "time : 444.67919540405273\n",
            "time : 664.047112941742\n",
            "time : 448.97993183135986\n",
            "Precision: train 0.156, test 0.049.\n",
            "AUC: train 0.985, test 0.970.\n"
          ]
        },
        {
          "output_type": "execute_result",
          "data": {
            "application/vnd.google.colaboratory.intrinsic+json": {
              "type": "string"
            },
            "text/plain": [
              "'\\ntime : 633.9194025993347\\ntime : 424.50309658050537\\ntime : 634.1630313396454\\ntime : 424.71241569519043\\nPrecision: train 0.15, test 0.05.\\nAUC: train 0.97, test 0.96.\\n'"
            ]
          },
          "metadata": {},
          "execution_count": 55
        }
      ]
    },
    {
      "cell_type": "code",
      "metadata": {
        "id": "mBljIGCq5jHf",
        "colab": {
          "base_uri": "https://localhost:8080/"
        },
        "outputId": "088bc61c-a79e-44b3-993b-8479feaec875"
      },
      "source": [
        "print('Precision: train %.3f, test %.3f.' % (train_precision, test_precision))\n",
        "print('AUC: train %.3f, test %.3f.' % (train_auc, test_auc))"
      ],
      "execution_count": 56,
      "outputs": [
        {
          "output_type": "stream",
          "name": "stdout",
          "text": [
            "Precision: train 0.156, test 0.049.\n",
            "AUC: train 0.985, test 0.970.\n"
          ]
        }
      ]
    },
    {
      "cell_type": "code",
      "metadata": {
        "id": "e83el7s5xy1Z",
        "colab": {
          "base_uri": "https://localhost:8080/"
        },
        "outputId": "f8028460-624e-4a34-a69a-412f88170ede"
      },
      "source": [
        "alpha = 1e-05\n",
        "epochs = 3\n",
        "num_components = 5\n",
        "max_sampled=10\n",
        "\n",
        "warp_model = LightFM(no_components=num_components,\n",
        "                    loss='warp',\n",
        "                    learning_schedule='adagrad',\n",
        "                    max_sampled=max_sampled,\n",
        "                    user_alpha=alpha,\n",
        "                    item_alpha=alpha)\n",
        "\n",
        "bpr_model = LightFM(no_components=num_components,\n",
        "                    loss='bpr',\n",
        "                    learning_schedule='adagrad',\n",
        "                    user_alpha=alpha,\n",
        "                    item_alpha=alpha)\n",
        "\n",
        "warp_duration = []\n",
        "bpr_duration = []\n",
        "warp_auc = []\n",
        "bpr_auc = []\n",
        "\n",
        "for epoch in range(epochs):\n",
        "    print(epoch);\n",
        "    start = time.time()\n",
        "    warp_model.fit_partial(train, epochs=1,item_features=item_features)\n",
        "    warp_duration.append(time.time() - start);end = time.time(); print('time :',end-start) \n",
        "    warp_auc.append(auc_score(warp_model, test, train_interactions=train,item_features=item_features).mean()) #10분소요\n",
        "    end = time.time(); print('time :',end-start) \n"
      ],
      "execution_count": 57,
      "outputs": [
        {
          "output_type": "stream",
          "name": "stdout",
          "text": [
            "0\n",
            "time : 8.903063774108887\n",
            "time : 340.70382833480835\n",
            "1\n",
            "time : 9.256019592285156\n",
            "time : 347.1153156757355\n",
            "2\n",
            "time : 9.749134063720703\n",
            "time : 369.42520666122437\n"
          ]
        }
      ]
    },
    {
      "cell_type": "code",
      "metadata": {
        "id": "pvG46xA6YTkF",
        "colab": {
          "base_uri": "https://localhost:8080/"
        },
        "outputId": "a516fd2a-5437-4c57-95d3-63abdd4c3816"
      },
      "source": [
        "for epoch in range(epochs):\n",
        "    print(epoch);\n",
        "    start = time.time()\n",
        "    bpr_model.fit_partial(train, epochs=1,item_features=item_features)\n",
        "    bpr_duration.append(time.time() - start);end = time.time(); print('time :',end-start) \n",
        "    bpr_auc.append(auc_score(bpr_model, test, train_interactions=train,item_features=item_features).mean())\n",
        "    end = time.time(); print('time :',end-start) "
      ],
      "execution_count": 58,
      "outputs": [
        {
          "output_type": "stream",
          "name": "stdout",
          "text": [
            "0\n",
            "time : 10.848921298980713\n",
            "time : 401.16299510002136\n",
            "1\n",
            "time : 8.284791946411133\n",
            "time : 385.18074679374695\n",
            "2\n",
            "time : 8.467312097549438\n",
            "time : 383.6524407863617\n"
          ]
        }
      ]
    },
    {
      "cell_type": "code",
      "metadata": {
        "id": "5JHCw_vDyRX_",
        "colab": {
          "base_uri": "https://localhost:8080/",
          "height": 265
        },
        "outputId": "68e8e733-4e7b-400a-fcb2-a535ca797aac"
      },
      "source": [
        "x = np.arange(epochs)\n",
        "plt.plot(x, np.array(warp_auc))\n",
        "plt.plot(x, np.array(bpr_auc))\n",
        "plt.legend(['WARP AUC', 'BPR AUC'], loc='upper right')\n",
        "plt.show()"
      ],
      "execution_count": 59,
      "outputs": [
        {
          "output_type": "display_data",
          "data": {
            "image/png": "[encoded data removed]",
            "text/plain": [
              "<Figure size 432x288 with 1 Axes>"
            ]
          },
          "metadata": {
            "needs_background": "light"
          }
        }
      ]
    },
    {
      "cell_type": "code",
      "metadata": {
        "id": "4qYJTyDQs21k",
        "colab": {
          "base_uri": "https://localhost:8080/",
          "height": 265
        },
        "outputId": "d8c8bd6e-4a7d-45d3-e2d5-b615f88a6231"
      },
      "source": [
        "x = np.arange(epochs)\n",
        "plt.plot(x, np.array(warp_duration))\n",
        "plt.plot(x, np.array(bpr_duration))\n",
        "plt.legend(['WARP duration', 'BPR duration'], loc='upper right')\n",
        "plt.show()"
      ],
      "execution_count": 60,
      "outputs": [
        {
          "output_type": "display_data",
          "data": {
            "image/png": "[encoded data removed]",
            "text/plain": [
              "<Figure size 432x288 with 1 Axes>"
            ]
          },
          "metadata": {
            "needs_background": "light"
          }
        }
      ]
    },
    {
      "cell_type": "markdown",
      "metadata": {
        "id": "Un2G3obsmD6b"
      },
      "source": [
        "#### $ {\\color{yellow} {2.Recommend \\,\\,Movie\\,\\,List }}$"
      ]
    },
    {
      "cell_type": "code",
      "metadata": {
        "id": "oo2XAIfVC9Qd"
      },
      "source": [
        "labels = np.array(movies['movieId'])\n",
        "\n",
        "def sample_recommendation(model, data, user_ids):\n",
        "\n",
        "    n_users, n_items = data.shape\n",
        "\n",
        "    #build a structure to store user scores for each item\n",
        "    all_scores = np.empty(shape=(0,n_items))\n",
        "\n",
        "    #iterate through the group and build the scores\n",
        "    for user_id in user_ids:\n",
        "        #known_positives = labels[data.tocsr()[user_id].indices]\n",
        "        #user의 전체 0~9066 movie의 예측 평점\n",
        "        scores = model.predict(user_id,np.arange(n_items),item_features) \n",
        "        \n",
        "        top_items_for_user = labels[np.argsort(-scores)] #argsort():오름차순인덱스반환\n",
        "        print(\"Top Recommended movieId For User: \", user_id)\n",
        "        for x in top_items_for_user[:3]:\n",
        "            #print(\"     %s\" % movies[movies['movieId']== x])\n",
        "            print(\"     %s\" % x)\n",
        "\n",
        "        #vertically stack the user scores (items are columns)\n",
        "        all_scores = np.vstack((all_scores, scores))\n",
        "        #print(all_top_items)\n",
        "\n",
        "    #compute the average rating for each item in the group\n",
        "    item_averages = np.mean(all_scores.astype(np.float), axis=0)\n",
        "    top_items_for_group = labels[np.argsort(-item_averages)]\n",
        "    top_items_scores=item_averages[np.argsort(-item_averages)]\n",
        "\n",
        "    print(\"Top Recommended movieId for Group:\")\n",
        "\n",
        "    for x in top_items_for_group[:5]:\n",
        "        print(\"     %s\" % x)\n",
        "    return  top_items_for_group, top_items_scores"
      ],
      "execution_count": 61,
      "outputs": []
    },
    {
      "cell_type": "code",
      "metadata": {
        "id": "cE9EyiaCWdhn"
      },
      "source": [
        "#group = [int(input('enter userid :'))]\n",
        "#pd.DataFrame(sample_recommendation(model, interactions, group)).T"
      ],
      "execution_count": 62,
      "outputs": []
    },
    {
      "cell_type": "code",
      "metadata": {
        "id": "VRTPjdcVFHvp",
        "colab": {
          "base_uri": "https://localhost:8080/",
          "height": 1000
        },
        "outputId": "640f85ed-ca68-4cea-88c1-0fd3c164b272"
      },
      "source": [
        "#################################\n",
        "#                               #\n",
        "#  Sampling Recommended Events  #\n",
        "#                               #\n",
        "#################################\n",
        "np.set_printoptions(threshold=np.inf,linewidth=np.inf)\n",
        "pd.set_option('display.max_columns', None)\n",
        "\n",
        "#fetch user_ids of users in group\n",
        "#group = [int(input('enter userid :'))]\n",
        "group = [11]\n",
        "\n",
        "list,avg_scores = sample_recommendation(model, interactions, group)\n",
        "recommend_movie=pd.DataFrame(columns=movies.columns)\n",
        "'''\n",
        "for x in list[:20]:\n",
        "  recommend_movie=recommend_movie.append(movies[movies['movieId']== x], ignore_index=True)\n",
        "'''\n",
        "for x in list[:100]:\n",
        "  recommend_movie=recommend_movie.append(movies[movies['movieId']== x], ignore_index=True)\n",
        "\n",
        "recommend_movie['predict_score']= avg_scores[:100]\n",
        "recommend_movie[recommend_movie.genres.str.split('|').str[1] !='성인'][:20].reset_index()# 성인제외\n",
        "#recommend_movie[:20]\n"
      ],
      "execution_count": 63,
      "outputs": [
        {
          "output_type": "stream",
          "name": "stdout",
          "text": [
            "enter userid :11\n",
            "Top Recommended movieId For User:  11\n",
            "     -9167504850715679476\n",
            "     -9222568265978400202\n",
            "     -9099268776883631577\n",
            "Top Recommended movieId for Group:\n",
            "     -9167504850715679476\n",
            "     -9222568265978400202\n",
            "     -9099268776883631577\n",
            "     -8950863352167524646\n",
            "     -9220029811041931709\n"
          ]
        },
        {
          "output_type": "execute_result",
          "data": {
            "text/html": [
              "<div>\n",
              "<style scoped>\n",
              "    .dataframe tbody tr th:only-of-type {\n",
              "        vertical-align: middle;\n",
              "    }\n",
              "\n",
              "    .dataframe tbody tr th {\n",
              "        vertical-align: top;\n",
              "    }\n",
              "\n",
              "    .dataframe thead th {\n",
              "        text-align: right;\n",
              "    }\n",
              "</style>\n",
              "<table border=\"1\" class=\"dataframe\">\n",
              "  <thead>\n",
              "    <tr style=\"text-align: right;\">\n",
              "      <th></th>\n",
              "      <th>index</th>\n",
              "      <th>movieId</th>\n",
              "      <th>rating</th>\n",
              "      <th>title</th>\n",
              "      <th>genres</th>\n",
              "      <th>create_yr</th>\n",
              "      <th>director</th>\n",
              "      <th>actor1</th>\n",
              "      <th>wtch_cnt</th>\n",
              "      <th>sales_amt_3m</th>\n",
              "      <th>predict_score</th>\n",
              "    </tr>\n",
              "  </thead>\n",
              "  <tbody>\n",
              "    <tr>\n",
              "      <th>0</th>\n",
              "      <td>0</td>\n",
              "      <td>-9167504850715679476</td>\n",
              "      <td>0.033186</td>\n",
              "      <td>드럭스토어 카우보이</td>\n",
              "      <td>영화|드라마|NaN</td>\n",
              "      <td>2018</td>\n",
              "      <td>구스 반 산트</td>\n",
              "      <td>맷 딜런</td>\n",
              "      <td>13</td>\n",
              "      <td>1400.0</td>\n",
              "      <td>4.446983</td>\n",
              "    </tr>\n",
              "    <tr>\n",
              "      <th>1</th>\n",
              "      <td>1</td>\n",
              "      <td>-9222568265978400202</td>\n",
              "      <td>0.008714</td>\n",
              "      <td>트와일라잇 사사라 사야</td>\n",
              "      <td>영화|드라마|NaN</td>\n",
              "      <td>2017</td>\n",
              "      <td>후카가와 요시히로</td>\n",
              "      <td>아라가키 유이</td>\n",
              "      <td>13</td>\n",
              "      <td>0.0</td>\n",
              "      <td>4.375531</td>\n",
              "    </tr>\n",
              "    <tr>\n",
              "      <th>2</th>\n",
              "      <td>3</td>\n",
              "      <td>-8950863352167524646</td>\n",
              "      <td>0.058969</td>\n",
              "      <td>짱구는 못말려: 어른제국의 역습</td>\n",
              "      <td>영화|극장판 애니|어린이/가족</td>\n",
              "      <td>2014</td>\n",
              "      <td>하라 케이이치</td>\n",
              "      <td>0</td>\n",
              "      <td>3363</td>\n",
              "      <td>1496600.0</td>\n",
              "      <td>4.217158</td>\n",
              "    </tr>\n",
              "    <tr>\n",
              "      <th>3</th>\n",
              "      <td>5</td>\n",
              "      <td>-9088081590022333399</td>\n",
              "      <td>0.028348</td>\n",
              "      <td>왕대륙의 기묘기사</td>\n",
              "      <td>영화|SF/판타지|NaN</td>\n",
              "      <td>2020</td>\n",
              "      <td>조소구</td>\n",
              "      <td>왕대륙</td>\n",
              "      <td>114</td>\n",
              "      <td>7500.0</td>\n",
              "      <td>4.085902</td>\n",
              "    </tr>\n",
              "    <tr>\n",
              "      <th>4</th>\n",
              "      <td>6</td>\n",
              "      <td>-9220557457643621082</td>\n",
              "      <td>0.045149</td>\n",
              "      <td>미녀 삼총사 3</td>\n",
              "      <td>영화|액션|캐치온</td>\n",
              "      <td>2020</td>\n",
              "      <td>엘리자베스 뱅크스</td>\n",
              "      <td>크리스틴 스튜어트</td>\n",
              "      <td>99</td>\n",
              "      <td>0.0</td>\n",
              "      <td>4.011342</td>\n",
              "    </tr>\n",
              "    <tr>\n",
              "      <th>5</th>\n",
              "      <td>7</td>\n",
              "      <td>-9185293222259216942</td>\n",
              "      <td>0.030673</td>\n",
              "      <td>구의 두 사람</td>\n",
              "      <td>영화|로맨스|NaN</td>\n",
              "      <td>2020</td>\n",
              "      <td>아라이 하루히코</td>\n",
              "      <td>에모토 타스쿠</td>\n",
              "      <td>784</td>\n",
              "      <td>192500.0</td>\n",
              "      <td>3.982561</td>\n",
              "    </tr>\n",
              "    <tr>\n",
              "      <th>6</th>\n",
              "      <td>8</td>\n",
              "      <td>-9221093486312761884</td>\n",
              "      <td>0.067833</td>\n",
              "      <td>극장판 반지의 비밀일기</td>\n",
              "      <td>영화|극장판 애니|캐치온</td>\n",
              "      <td>2020</td>\n",
              "      <td>한승우</td>\n",
              "      <td>0</td>\n",
              "      <td>50</td>\n",
              "      <td>0.0</td>\n",
              "      <td>3.884800</td>\n",
              "    </tr>\n",
              "    <tr>\n",
              "      <th>7</th>\n",
              "      <td>11</td>\n",
              "      <td>-9066605381277759710</td>\n",
              "      <td>0.003677</td>\n",
              "      <td>스나이퍼</td>\n",
              "      <td>영화|액션|NaN</td>\n",
              "      <td>2014</td>\n",
              "      <td>임초현</td>\n",
              "      <td>황샤오밍</td>\n",
              "      <td>22</td>\n",
              "      <td>2800.0</td>\n",
              "      <td>3.741674</td>\n",
              "    </tr>\n",
              "    <tr>\n",
              "      <th>8</th>\n",
              "      <td>12</td>\n",
              "      <td>-8895887567084014956</td>\n",
              "      <td>0.000136</td>\n",
              "      <td>비바리움</td>\n",
              "      <td>영화|스릴러|NaN</td>\n",
              "      <td>2020</td>\n",
              "      <td>로칸 피네건</td>\n",
              "      <td>이모겐 푸츠</td>\n",
              "      <td>10</td>\n",
              "      <td>24000.0</td>\n",
              "      <td>3.698148</td>\n",
              "    </tr>\n",
              "    <tr>\n",
              "      <th>9</th>\n",
              "      <td>13</td>\n",
              "      <td>-8763464942096463445</td>\n",
              "      <td>0.017697</td>\n",
              "      <td>언더독</td>\n",
              "      <td>영화|극장판 애니|드라마</td>\n",
              "      <td>2019</td>\n",
              "      <td>오성윤</td>\n",
              "      <td>디오</td>\n",
              "      <td>11</td>\n",
              "      <td>19500.0</td>\n",
              "      <td>3.650750</td>\n",
              "    </tr>\n",
              "    <tr>\n",
              "      <th>10</th>\n",
              "      <td>14</td>\n",
              "      <td>-9169262695787050014</td>\n",
              "      <td>0.000174</td>\n",
              "      <td>대지진</td>\n",
              "      <td>영화|드라마|NaN</td>\n",
              "      <td>2020</td>\n",
              "      <td>펑 샤오강</td>\n",
              "      <td>쉬판</td>\n",
              "      <td>1</td>\n",
              "      <td>6500.0</td>\n",
              "      <td>3.519197</td>\n",
              "    </tr>\n",
              "    <tr>\n",
              "      <th>11</th>\n",
              "      <td>15</td>\n",
              "      <td>-8947234573930620583</td>\n",
              "      <td>0.060470</td>\n",
              "      <td>신 북두의 권 3</td>\n",
              "      <td>영화|극장판 애니|NaN</td>\n",
              "      <td>2013</td>\n",
              "      <td>와타나베 타카시</td>\n",
              "      <td>코야수 타케히토</td>\n",
              "      <td>76</td>\n",
              "      <td>12600.0</td>\n",
              "      <td>3.498764</td>\n",
              "    </tr>\n",
              "    <tr>\n",
              "      <th>12</th>\n",
              "      <td>16</td>\n",
              "      <td>-8708000765332486893</td>\n",
              "      <td>0.075601</td>\n",
              "      <td>하이 라이프</td>\n",
              "      <td>영화|액션|캐치온</td>\n",
              "      <td>2020</td>\n",
              "      <td>클레어 드니</td>\n",
              "      <td>로버트 패틴슨</td>\n",
              "      <td>52</td>\n",
              "      <td>0.0</td>\n",
              "      <td>3.491548</td>\n",
              "    </tr>\n",
              "    <tr>\n",
              "      <th>13</th>\n",
              "      <td>17</td>\n",
              "      <td>-8837207408188812996</td>\n",
              "      <td>0.036554</td>\n",
              "      <td>데드맨 스탠딩</td>\n",
              "      <td>영화|공포|캐치온</td>\n",
              "      <td>2021</td>\n",
              "      <td>니콜라스 바턴</td>\n",
              "      <td>루크 아놀드</td>\n",
              "      <td>28</td>\n",
              "      <td>0.0</td>\n",
              "      <td>3.449464</td>\n",
              "    </tr>\n",
              "    <tr>\n",
              "      <th>14</th>\n",
              "      <td>19</td>\n",
              "      <td>-8944338516315775547</td>\n",
              "      <td>0.119152</td>\n",
              "      <td>인생은 아름다워</td>\n",
              "      <td>영화|드라마|NaN</td>\n",
              "      <td>2020</td>\n",
              "      <td>로베르토 베니니</td>\n",
              "      <td>로베르토 베니니</td>\n",
              "      <td>74</td>\n",
              "      <td>218400.0</td>\n",
              "      <td>3.265528</td>\n",
              "    </tr>\n",
              "    <tr>\n",
              "      <th>15</th>\n",
              "      <td>20</td>\n",
              "      <td>-8821261850868692188</td>\n",
              "      <td>0.133196</td>\n",
              "      <td>미 비포 유</td>\n",
              "      <td>영화|로맨스|NaN</td>\n",
              "      <td>2016</td>\n",
              "      <td>테아 샤록</td>\n",
              "      <td>에밀리아 클라크</td>\n",
              "      <td>2070</td>\n",
              "      <td>3022500.0</td>\n",
              "      <td>3.261460</td>\n",
              "    </tr>\n",
              "    <tr>\n",
              "      <th>16</th>\n",
              "      <td>21</td>\n",
              "      <td>-9223349797205538186</td>\n",
              "      <td>0.101378</td>\n",
              "      <td>혼: 공포의 시작</td>\n",
              "      <td>영화|공포|NaN</td>\n",
              "      <td>2020</td>\n",
              "      <td>유성호</td>\n",
              "      <td>옥지영</td>\n",
              "      <td>27</td>\n",
              "      <td>0.0</td>\n",
              "      <td>3.257358</td>\n",
              "    </tr>\n",
              "    <tr>\n",
              "      <th>17</th>\n",
              "      <td>22</td>\n",
              "      <td>-8852074554447760797</td>\n",
              "      <td>0.051102</td>\n",
              "      <td>노 게임 노 라이프: 제로</td>\n",
              "      <td>영화|극장판 애니|SF/판타지</td>\n",
              "      <td>2021</td>\n",
              "      <td>이시즈카 아츠코</td>\n",
              "      <td>마츠오카 요시츠구</td>\n",
              "      <td>105</td>\n",
              "      <td>34800.0</td>\n",
              "      <td>3.164345</td>\n",
              "    </tr>\n",
              "    <tr>\n",
              "      <th>18</th>\n",
              "      <td>23</td>\n",
              "      <td>-9052000056210611346</td>\n",
              "      <td>0.054250</td>\n",
              "      <td>런던 잡(Get Lucky)</td>\n",
              "      <td>영화|액션|NaN</td>\n",
              "      <td>2015</td>\n",
              "      <td>사샤 베넷</td>\n",
              "      <td>루크 트레더웨이</td>\n",
              "      <td>6</td>\n",
              "      <td>2300.0</td>\n",
              "      <td>3.130639</td>\n",
              "    </tr>\n",
              "    <tr>\n",
              "      <th>19</th>\n",
              "      <td>24</td>\n",
              "      <td>-8962441231087156843</td>\n",
              "      <td>0.027566</td>\n",
              "      <td>발명왕 볼트</td>\n",
              "      <td>영화|극장판 애니|어린이/가족</td>\n",
              "      <td>2019</td>\n",
              "      <td>증헌림</td>\n",
              "      <td>이다은</td>\n",
              "      <td>38</td>\n",
              "      <td>22500.0</td>\n",
              "      <td>3.130428</td>\n",
              "    </tr>\n",
              "  </tbody>\n",
              "</table>\n",
              "</div>"
            ],
            "text/plain": [
              "    index               movieId    rating              title  \\\n",
              "0       0  -9167504850715679476  0.033186         드럭스토어 카우보이   \n",
              "1       1  -9222568265978400202  0.008714       트와일라잇 사사라 사야   \n",
              "2       3  -8950863352167524646  0.058969  짱구는 못말려: 어른제국의 역습   \n",
              "3       5  -9088081590022333399  0.028348          왕대륙의 기묘기사   \n",
              "4       6  -9220557457643621082  0.045149           미녀 삼총사 3   \n",
              "5       7  -9185293222259216942  0.030673            구의 두 사람   \n",
              "6       8  -9221093486312761884  0.067833       극장판 반지의 비밀일기   \n",
              "7      11  -9066605381277759710  0.003677               스나이퍼   \n",
              "8      12  -8895887567084014956  0.000136               비바리움   \n",
              "9      13  -8763464942096463445  0.017697                언더독   \n",
              "10     14  -9169262695787050014  0.000174                대지진   \n",
              "11     15  -8947234573930620583  0.060470          신 북두의 권 3   \n",
              "12     16  -8708000765332486893  0.075601             하이 라이프   \n",
              "13     17  -8837207408188812996  0.036554            데드맨 스탠딩   \n",
              "14     19  -8944338516315775547  0.119152           인생은 아름다워   \n",
              "15     20  -8821261850868692188  0.133196             미 비포 유   \n",
              "16     21  -9223349797205538186  0.101378          혼: 공포의 시작   \n",
              "17     22  -8852074554447760797  0.051102     노 게임 노 라이프: 제로   \n",
              "18     23  -9052000056210611346  0.054250    런던 잡(Get Lucky)   \n",
              "19     24  -8962441231087156843  0.027566             발명왕 볼트   \n",
              "\n",
              "              genres create_yr   director      actor1 wtch_cnt  sales_amt_3m  \\\n",
              "0         영화|드라마|NaN      2018    구스 반 산트        맷 딜런       13        1400.0   \n",
              "1         영화|드라마|NaN      2017  후카가와 요시히로     아라가키 유이       13           0.0   \n",
              "2   영화|극장판 애니|어린이/가족      2014    하라 케이이치           0     3363     1496600.0   \n",
              "3      영화|SF/판타지|NaN      2020        조소구         왕대륙      114        7500.0   \n",
              "4          영화|액션|캐치온      2020  엘리자베스 뱅크스   크리스틴 스튜어트       99           0.0   \n",
              "5         영화|로맨스|NaN      2020   아라이 하루히코     에모토 타스쿠      784      192500.0   \n",
              "6      영화|극장판 애니|캐치온      2020        한승우           0       50           0.0   \n",
              "7          영화|액션|NaN      2014        임초현        황샤오밍       22        2800.0   \n",
              "8         영화|스릴러|NaN      2020     로칸 피네건      이모겐 푸츠       10       24000.0   \n",
              "9      영화|극장판 애니|드라마      2019        오성윤          디오       11       19500.0   \n",
              "10        영화|드라마|NaN      2020      펑 샤오강          쉬판        1        6500.0   \n",
              "11     영화|극장판 애니|NaN      2013   와타나베 타카시    코야수 타케히토       76       12600.0   \n",
              "12         영화|액션|캐치온      2020     클레어 드니     로버트 패틴슨       52           0.0   \n",
              "13         영화|공포|캐치온      2021    니콜라스 바턴      루크 아놀드       28           0.0   \n",
              "14        영화|드라마|NaN      2020   로베르토 베니니    로베르토 베니니       74      218400.0   \n",
              "15        영화|로맨스|NaN      2016      테아 샤록    에밀리아 클라크     2070     3022500.0   \n",
              "16         영화|공포|NaN      2020        유성호         옥지영       27           0.0   \n",
              "17  영화|극장판 애니|SF/판타지      2021   이시즈카 아츠코   마츠오카 요시츠구      105       34800.0   \n",
              "18         영화|액션|NaN      2015      사샤 베넷    루크 트레더웨이        6        2300.0   \n",
              "19  영화|극장판 애니|어린이/가족      2019        증헌림         이다은       38       22500.0   \n",
              "\n",
              "    predict_score  \n",
              "0        4.446983  \n",
              "1        4.375531  \n",
              "2        4.217158  \n",
              "3        4.085902  \n",
              "4        4.011342  \n",
              "5        3.982561  \n",
              "6        3.884800  \n",
              "7        3.741674  \n",
              "8        3.698148  \n",
              "9        3.650750  \n",
              "10       3.519197  \n",
              "11       3.498764  \n",
              "12       3.491548  \n",
              "13       3.449464  \n",
              "14       3.265528  \n",
              "15       3.261460  \n",
              "16       3.257358  \n",
              "17       3.164345  \n",
              "18       3.130639  \n",
              "19       3.130428  "
            ]
          },
          "metadata": {},
          "execution_count": 63
        }
      ]
    },
    {
      "cell_type": "code",
      "metadata": {
        "id": "BzDvz1nANXGM",
        "colab": {
          "base_uri": "https://localhost:8080/",
          "height": 541
        },
        "outputId": "0beba3b3-4f78-42d4-af3c-edcf47fa56ac"
      },
      "source": [
        "# 시청 정보\n",
        "#i = int(input('enter userid : '))\n",
        "#i = int(input('enter userid :'))\n",
        "i = 11\n",
        "pd.merge(ratings[ratings.userId==users.iloc[i][0]],movies, on='movieId')"
      ],
      "execution_count": 64,
      "outputs": [
        {
          "name": "stdout",
          "output_type": "stream",
          "text": [
            "enter userid :11\n"
          ]
        },
        {
          "output_type": "execute_result",
          "data": {
            "text/html": [
              "<div>\n",
              "<style scoped>\n",
              "    .dataframe tbody tr th:only-of-type {\n",
              "        vertical-align: middle;\n",
              "    }\n",
              "\n",
              "    .dataframe tbody tr th {\n",
              "        vertical-align: top;\n",
              "    }\n",
              "\n",
              "    .dataframe thead th {\n",
              "        text-align: right;\n",
              "    }\n",
              "</style>\n",
              "<table border=\"1\" class=\"dataframe\">\n",
              "  <thead>\n",
              "    <tr style=\"text-align: right;\">\n",
              "      <th></th>\n",
              "      <th>userId</th>\n",
              "      <th>movieId</th>\n",
              "      <th>rating_x</th>\n",
              "      <th>rating_y</th>\n",
              "      <th>title</th>\n",
              "      <th>genres</th>\n",
              "      <th>create_yr</th>\n",
              "      <th>director</th>\n",
              "      <th>actor1</th>\n",
              "      <th>wtch_cnt</th>\n",
              "      <th>sales_amt_3m</th>\n",
              "    </tr>\n",
              "  </thead>\n",
              "  <tbody>\n",
              "    <tr>\n",
              "      <th>0</th>\n",
              "      <td>-9222499131495171858</td>\n",
              "      <td>-8765309055107668895</td>\n",
              "      <td>0</td>\n",
              "      <td>0.045508</td>\n",
              "      <td>웨이 다운</td>\n",
              "      <td>영화|액션|NaN</td>\n",
              "      <td>2021</td>\n",
              "      <td>자움 발라구에로</td>\n",
              "      <td>프레디 하이모어</td>\n",
              "      <td>8186</td>\n",
              "      <td>28496000.0</td>\n",
              "    </tr>\n",
              "    <tr>\n",
              "      <th>1</th>\n",
              "      <td>-9222499131495171858</td>\n",
              "      <td>-2881349100186662098</td>\n",
              "      <td>0</td>\n",
              "      <td>0.019245</td>\n",
              "      <td>캐시트럭</td>\n",
              "      <td>영화|액션|NaN</td>\n",
              "      <td>2021</td>\n",
              "      <td>가이 리치</td>\n",
              "      <td>제이슨 스타뎀</td>\n",
              "      <td>4701</td>\n",
              "      <td>30600000.0</td>\n",
              "    </tr>\n",
              "    <tr>\n",
              "      <th>2</th>\n",
              "      <td>-9222499131495171858</td>\n",
              "      <td>-2260645583576098385</td>\n",
              "      <td>0</td>\n",
              "      <td>0.011261</td>\n",
              "      <td>소울</td>\n",
              "      <td>영화|극장판 애니|드라마</td>\n",
              "      <td>2021</td>\n",
              "      <td>피트 닥터</td>\n",
              "      <td>제이미 폭스</td>\n",
              "      <td>45970</td>\n",
              "      <td>0.0</td>\n",
              "    </tr>\n",
              "    <tr>\n",
              "      <th>3</th>\n",
              "      <td>-9222499131495171858</td>\n",
              "      <td>1592906744297345059</td>\n",
              "      <td>0</td>\n",
              "      <td>0.016063</td>\n",
              "      <td>마크맨</td>\n",
              "      <td>영화|액션|NaN</td>\n",
              "      <td>2021</td>\n",
              "      <td>로버트 로렌즈</td>\n",
              "      <td>리암 니슨</td>\n",
              "      <td>18123</td>\n",
              "      <td>100000000.0</td>\n",
              "    </tr>\n",
              "    <tr>\n",
              "      <th>4</th>\n",
              "      <td>-9222499131495171858</td>\n",
              "      <td>2615346061790891548</td>\n",
              "      <td>1</td>\n",
              "      <td>0.059024</td>\n",
              "      <td>엉덩이 탐정 극장판:려한 사건 수첩</td>\n",
              "      <td>영화|극장판 애니|어린이/가족</td>\n",
              "      <td>2021</td>\n",
              "      <td>히라야마 미호</td>\n",
              "      <td>김은아</td>\n",
              "      <td>36988</td>\n",
              "      <td>0.0</td>\n",
              "    </tr>\n",
              "    <tr>\n",
              "      <th>5</th>\n",
              "      <td>-9222499131495171858</td>\n",
              "      <td>8229125510814751668</td>\n",
              "      <td>0</td>\n",
              "      <td>0.009841</td>\n",
              "      <td>라야와 마지막 드래곤</td>\n",
              "      <td>영화|극장판 애니|액션</td>\n",
              "      <td>2021</td>\n",
              "      <td>돈 홀, 카를로스 로페즈 에스트라다</td>\n",
              "      <td>켈리 마리 트란</td>\n",
              "      <td>61136</td>\n",
              "      <td>0.0</td>\n",
              "    </tr>\n",
              "  </tbody>\n",
              "</table>\n",
              "</div>"
            ],
            "text/plain": [
              "                userId              movieId  rating_x  rating_y  \\\n",
              "0 -9222499131495171858 -8765309055107668895         0  0.045508   \n",
              "1 -9222499131495171858 -2881349100186662098         0  0.019245   \n",
              "2 -9222499131495171858 -2260645583576098385         0  0.011261   \n",
              "3 -9222499131495171858  1592906744297345059         0  0.016063   \n",
              "4 -9222499131495171858  2615346061790891548         1  0.059024   \n",
              "5 -9222499131495171858  8229125510814751668         0  0.009841   \n",
              "\n",
              "                 title            genres  create_yr             director  \\\n",
              "0                웨이 다운         영화|액션|NaN       2021             자움 발라구에로   \n",
              "1                 캐시트럭         영화|액션|NaN       2021                가이 리치   \n",
              "2                   소울     영화|극장판 애니|드라마       2021                피트 닥터   \n",
              "3                  마크맨         영화|액션|NaN       2021              로버트 로렌즈   \n",
              "4  엉덩이 탐정 극장판:려한 사건 수첩  영화|극장판 애니|어린이/가족       2021              히라야마 미호   \n",
              "5          라야와 마지막 드래곤      영화|극장판 애니|액션       2021  돈 홀, 카를로스 로페즈 에스트라다   \n",
              "\n",
              "      actor1  wtch_cnt  sales_amt_3m  \n",
              "0   프레디 하이모어      8186    28496000.0  \n",
              "1    제이슨 스타뎀      4701    30600000.0  \n",
              "2     제이미 폭스     45970           0.0  \n",
              "3      리암 니슨     18123   100000000.0  \n",
              "4        김은아     36988           0.0  \n",
              "5   켈리 마리 트란     61136           0.0  "
            ]
          },
          "metadata": {},
          "execution_count": 64
        }
      ]
    },
    {
      "cell_type": "markdown",
      "metadata": {
        "id": "7Zv2chWGuDrJ"
      },
      "source": [
        "### TEST"
      ]
    },
    {
      "cell_type": "code",
      "metadata": {
        "id": "m6EcaCTbF-Gx",
        "colab": {
          "base_uri": "https://localhost:8080/"
        },
        "outputId": "a5a03490-9304-4679-94ef-6ab013d92f31"
      },
      "source": [
        "model.predict(265, [356], item_features)"
      ],
      "execution_count": 65,
      "outputs": [
        {
          "output_type": "execute_result",
          "data": {
            "text/plain": [
              "array([0.4532862], dtype=float32)"
            ]
          },
          "metadata": {},
          "execution_count": 65
        }
      ]
    },
    {
      "cell_type": "code",
      "metadata": {
        "id": "KUgCwOH6cVvD",
        "colab": {
          "base_uri": "https://localhost:8080/",
          "height": 204
        },
        "outputId": "3746f312-86a9-4048-cba2-a33564703d86"
      },
      "source": [
        "pd.DataFrame(ratings[ratings.userId==users.iloc[12][0]])"
      ],
      "execution_count": 66,
      "outputs": [
        {
          "output_type": "execute_result",
          "data": {
            "text/html": [
              "<div>\n",
              "<style scoped>\n",
              "    .dataframe tbody tr th:only-of-type {\n",
              "        vertical-align: middle;\n",
              "    }\n",
              "\n",
              "    .dataframe tbody tr th {\n",
              "        vertical-align: top;\n",
              "    }\n",
              "\n",
              "    .dataframe thead th {\n",
              "        text-align: right;\n",
              "    }\n",
              "</style>\n",
              "<table border=\"1\" class=\"dataframe\">\n",
              "  <thead>\n",
              "    <tr style=\"text-align: right;\">\n",
              "      <th></th>\n",
              "      <th>userId</th>\n",
              "      <th>movieId</th>\n",
              "      <th>rating</th>\n",
              "    </tr>\n",
              "  </thead>\n",
              "  <tbody>\n",
              "    <tr>\n",
              "      <th>402</th>\n",
              "      <td>-9222475185513976242</td>\n",
              "      <td>-5633414720538420288</td>\n",
              "      <td>0</td>\n",
              "    </tr>\n",
              "    <tr>\n",
              "      <th>403</th>\n",
              "      <td>-9222475185513976242</td>\n",
              "      <td>-5058503078456968645</td>\n",
              "      <td>1</td>\n",
              "    </tr>\n",
              "    <tr>\n",
              "      <th>404</th>\n",
              "      <td>-9222475185513976242</td>\n",
              "      <td>-2418629155473076079</td>\n",
              "      <td>1</td>\n",
              "    </tr>\n",
              "    <tr>\n",
              "      <th>405</th>\n",
              "      <td>-9222475185513976242</td>\n",
              "      <td>2476773338372596358</td>\n",
              "      <td>0</td>\n",
              "    </tr>\n",
              "    <tr>\n",
              "      <th>406</th>\n",
              "      <td>-9222475185513976242</td>\n",
              "      <td>2767919627789712801</td>\n",
              "      <td>1</td>\n",
              "    </tr>\n",
              "  </tbody>\n",
              "</table>\n",
              "</div>"
            ],
            "text/plain": [
              "                  userId              movieId  rating\n",
              "402 -9222475185513976242 -5633414720538420288       0\n",
              "403 -9222475185513976242 -5058503078456968645       1\n",
              "404 -9222475185513976242 -2418629155473076079       1\n",
              "405 -9222475185513976242  2476773338372596358       0\n",
              "406 -9222475185513976242  2767919627789712801       1"
            ]
          },
          "metadata": {},
          "execution_count": 66
        }
      ]
    },
    {
      "cell_type": "code",
      "metadata": {
        "id": "kayM9yJ7m4sX"
      },
      "source": [
        "labels = np.array(ratings['movieId'])"
      ],
      "execution_count": 67,
      "outputs": []
    },
    {
      "cell_type": "code",
      "metadata": {
        "id": "n3U7Uh82Rzz8"
      },
      "source": [
        "n_users, n_items = interactions.shape\n",
        "scores=model.predict(265,np.arange(n_items),item_features)"
      ],
      "execution_count": 68,
      "outputs": []
    }
  ]
}