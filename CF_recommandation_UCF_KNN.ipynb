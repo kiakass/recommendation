{
  "nbformat": 4,
  "nbformat_minor": 0,
  "metadata": {
    "kernelspec": {
      "display_name": "Python 3",
      "language": "python",
      "name": "python3"
    },
    "language_info": {
      "codemirror_mode": {
        "name": "ipython",
        "version": 3
      },
      "file_extension": ".py",
      "mimetype": "text/x-python",
      "name": "python",
      "nbconvert_exporter": "python",
      "pygments_lexer": "ipython3",
      "version": "3.6.9"
    },
    "colab": {
      "name": "CF_recommandation_UCF_KNN.ipynb",
      "provenance": [],
      "include_colab_link": true
    }
  },
  "cells": [
    {
      "cell_type": "markdown",
      "metadata": {
        "id": "view-in-github",
        "colab_type": "text"
      },
      "source": [
        "<a href=\"https://colab.research.google.com/github/kiakass/recommendation/blob/main/CF_recommandation_UCF_KNN.ipynb\" target=\"_parent\"><img src=\"https://colab.research.google.com/assets/colab-badge.svg\" alt=\"Open In Colab\"/></a>"
      ]
    },
    {
      "cell_type": "code",
      "metadata": {
        "id": "gVOT3oZP8kuF"
      },
      "source": [
        "import os\n",
        "import pandas as pd\n",
        "import matplotlib.pyplot as plt"
      ],
      "execution_count": null,
      "outputs": []
    },
    {
      "cell_type": "code",
      "metadata": {
        "id": "Hq79y3qO8kuI"
      },
      "source": [
        "from surprise import Reader, Dataset"
      ],
      "execution_count": null,
      "outputs": []
    },
    {
      "cell_type": "code",
      "metadata": {
        "id": "93btOCNn8kuJ"
      },
      "source": [
        "movies_fn = ('https://raw.githubusercontent.com/kiakass/share/master/movies.csv')   # 9,125 건, \n",
        "ratings_fn = ('https://raw.githubusercontent.com/kiakass/share/master/ratings.csv') # 100,004 건"
      ],
      "execution_count": null,
      "outputs": []
    },
    {
      "cell_type": "code",
      "metadata": {
        "id": "wu_TTprT8kuJ"
      },
      "source": [
        "movies=pd.read_csv(movies_fn)\n",
        "ratings=pd.read_csv(ratings_fn)"
      ],
      "execution_count": null,
      "outputs": []
    },
    {
      "cell_type": "markdown",
      "metadata": {
        "id": "Rf-BWLu08kuJ"
      },
      "source": [
        "### # rating-movie & data join view "
      ]
    },
    {
      "cell_type": "code",
      "metadata": {
        "scrolled": true,
        "id": "RYWLOzTj8kuK",
        "outputId": "da86a4c4-69e9-4a77-d8e6-569fae34353d"
      },
      "source": [
        "ratings"
      ],
      "execution_count": null,
      "outputs": [
        {
          "output_type": "execute_result",
          "data": {
            "text/html": [
              "<div>\n",
              "<style scoped>\n",
              "    .dataframe tbody tr th:only-of-type {\n",
              "        vertical-align: middle;\n",
              "    }\n",
              "\n",
              "    .dataframe tbody tr th {\n",
              "        vertical-align: top;\n",
              "    }\n",
              "\n",
              "    .dataframe thead th {\n",
              "        text-align: right;\n",
              "    }\n",
              "</style>\n",
              "<table border=\"1\" class=\"dataframe\">\n",
              "  <thead>\n",
              "    <tr style=\"text-align: right;\">\n",
              "      <th></th>\n",
              "      <th>userId</th>\n",
              "      <th>movieId</th>\n",
              "      <th>rating</th>\n",
              "      <th>timestamp</th>\n",
              "    </tr>\n",
              "  </thead>\n",
              "  <tbody>\n",
              "    <tr>\n",
              "      <th>0</th>\n",
              "      <td>1</td>\n",
              "      <td>31</td>\n",
              "      <td>2.5</td>\n",
              "      <td>1260759144</td>\n",
              "    </tr>\n",
              "    <tr>\n",
              "      <th>1</th>\n",
              "      <td>1</td>\n",
              "      <td>1029</td>\n",
              "      <td>3.0</td>\n",
              "      <td>1260759179</td>\n",
              "    </tr>\n",
              "    <tr>\n",
              "      <th>2</th>\n",
              "      <td>1</td>\n",
              "      <td>1061</td>\n",
              "      <td>3.0</td>\n",
              "      <td>1260759182</td>\n",
              "    </tr>\n",
              "    <tr>\n",
              "      <th>3</th>\n",
              "      <td>1</td>\n",
              "      <td>1129</td>\n",
              "      <td>2.0</td>\n",
              "      <td>1260759185</td>\n",
              "    </tr>\n",
              "    <tr>\n",
              "      <th>4</th>\n",
              "      <td>1</td>\n",
              "      <td>1172</td>\n",
              "      <td>4.0</td>\n",
              "      <td>1260759205</td>\n",
              "    </tr>\n",
              "    <tr>\n",
              "      <th>...</th>\n",
              "      <td>...</td>\n",
              "      <td>...</td>\n",
              "      <td>...</td>\n",
              "      <td>...</td>\n",
              "    </tr>\n",
              "    <tr>\n",
              "      <th>99999</th>\n",
              "      <td>671</td>\n",
              "      <td>6268</td>\n",
              "      <td>2.5</td>\n",
              "      <td>1065579370</td>\n",
              "    </tr>\n",
              "    <tr>\n",
              "      <th>100000</th>\n",
              "      <td>671</td>\n",
              "      <td>6269</td>\n",
              "      <td>4.0</td>\n",
              "      <td>1065149201</td>\n",
              "    </tr>\n",
              "    <tr>\n",
              "      <th>100001</th>\n",
              "      <td>671</td>\n",
              "      <td>6365</td>\n",
              "      <td>4.0</td>\n",
              "      <td>1070940363</td>\n",
              "    </tr>\n",
              "    <tr>\n",
              "      <th>100002</th>\n",
              "      <td>671</td>\n",
              "      <td>6385</td>\n",
              "      <td>2.5</td>\n",
              "      <td>1070979663</td>\n",
              "    </tr>\n",
              "    <tr>\n",
              "      <th>100003</th>\n",
              "      <td>671</td>\n",
              "      <td>6565</td>\n",
              "      <td>3.5</td>\n",
              "      <td>1074784724</td>\n",
              "    </tr>\n",
              "  </tbody>\n",
              "</table>\n",
              "<p>100004 rows × 4 columns</p>\n",
              "</div>"
            ],
            "text/plain": [
              "        userId  movieId  rating   timestamp\n",
              "0            1       31     2.5  1260759144\n",
              "1            1     1029     3.0  1260759179\n",
              "2            1     1061     3.0  1260759182\n",
              "3            1     1129     2.0  1260759185\n",
              "4            1     1172     4.0  1260759205\n",
              "...        ...      ...     ...         ...\n",
              "99999      671     6268     2.5  1065579370\n",
              "100000     671     6269     4.0  1065149201\n",
              "100001     671     6365     4.0  1070940363\n",
              "100002     671     6385     2.5  1070979663\n",
              "100003     671     6565     3.5  1074784724\n",
              "\n",
              "[100004 rows x 4 columns]"
            ]
          },
          "metadata": {
            "tags": []
          },
          "execution_count": 5
        }
      ]
    },
    {
      "cell_type": "code",
      "metadata": {
        "scrolled": false,
        "id": "ia-J333c8kuL",
        "outputId": "a2189135-4ba3-4121-beb5-305bad2e2d70"
      },
      "source": [
        "movies"
      ],
      "execution_count": null,
      "outputs": [
        {
          "output_type": "execute_result",
          "data": {
            "text/html": [
              "<div>\n",
              "<style scoped>\n",
              "    .dataframe tbody tr th:only-of-type {\n",
              "        vertical-align: middle;\n",
              "    }\n",
              "\n",
              "    .dataframe tbody tr th {\n",
              "        vertical-align: top;\n",
              "    }\n",
              "\n",
              "    .dataframe thead th {\n",
              "        text-align: right;\n",
              "    }\n",
              "</style>\n",
              "<table border=\"1\" class=\"dataframe\">\n",
              "  <thead>\n",
              "    <tr style=\"text-align: right;\">\n",
              "      <th></th>\n",
              "      <th>movieId</th>\n",
              "      <th>title</th>\n",
              "      <th>genres</th>\n",
              "    </tr>\n",
              "  </thead>\n",
              "  <tbody>\n",
              "    <tr>\n",
              "      <th>0</th>\n",
              "      <td>1</td>\n",
              "      <td>Toy Story (1995)</td>\n",
              "      <td>Adventure|Animation|Children|Comedy|Fantasy</td>\n",
              "    </tr>\n",
              "    <tr>\n",
              "      <th>1</th>\n",
              "      <td>2</td>\n",
              "      <td>Jumanji (1995)</td>\n",
              "      <td>Adventure|Children|Fantasy</td>\n",
              "    </tr>\n",
              "    <tr>\n",
              "      <th>2</th>\n",
              "      <td>3</td>\n",
              "      <td>Grumpier Old Men (1995)</td>\n",
              "      <td>Comedy|Romance</td>\n",
              "    </tr>\n",
              "    <tr>\n",
              "      <th>3</th>\n",
              "      <td>4</td>\n",
              "      <td>Waiting to Exhale (1995)</td>\n",
              "      <td>Comedy|Drama|Romance</td>\n",
              "    </tr>\n",
              "    <tr>\n",
              "      <th>4</th>\n",
              "      <td>5</td>\n",
              "      <td>Father of the Bride Part II (1995)</td>\n",
              "      <td>Comedy</td>\n",
              "    </tr>\n",
              "    <tr>\n",
              "      <th>...</th>\n",
              "      <td>...</td>\n",
              "      <td>...</td>\n",
              "      <td>...</td>\n",
              "    </tr>\n",
              "    <tr>\n",
              "      <th>9120</th>\n",
              "      <td>162672</td>\n",
              "      <td>Mohenjo Daro (2016)</td>\n",
              "      <td>Adventure|Drama|Romance</td>\n",
              "    </tr>\n",
              "    <tr>\n",
              "      <th>9121</th>\n",
              "      <td>163056</td>\n",
              "      <td>Shin Godzilla (2016)</td>\n",
              "      <td>Action|Adventure|Fantasy|Sci-Fi</td>\n",
              "    </tr>\n",
              "    <tr>\n",
              "      <th>9122</th>\n",
              "      <td>163949</td>\n",
              "      <td>The Beatles: Eight Days a Week - The Touring Y...</td>\n",
              "      <td>Documentary</td>\n",
              "    </tr>\n",
              "    <tr>\n",
              "      <th>9123</th>\n",
              "      <td>164977</td>\n",
              "      <td>The Gay Desperado (1936)</td>\n",
              "      <td>Comedy</td>\n",
              "    </tr>\n",
              "    <tr>\n",
              "      <th>9124</th>\n",
              "      <td>164979</td>\n",
              "      <td>Women of '69, Unboxed</td>\n",
              "      <td>Documentary</td>\n",
              "    </tr>\n",
              "  </tbody>\n",
              "</table>\n",
              "<p>9125 rows × 3 columns</p>\n",
              "</div>"
            ],
            "text/plain": [
              "      movieId                                              title  \\\n",
              "0           1                                   Toy Story (1995)   \n",
              "1           2                                     Jumanji (1995)   \n",
              "2           3                            Grumpier Old Men (1995)   \n",
              "3           4                           Waiting to Exhale (1995)   \n",
              "4           5                 Father of the Bride Part II (1995)   \n",
              "...       ...                                                ...   \n",
              "9120   162672                                Mohenjo Daro (2016)   \n",
              "9121   163056                               Shin Godzilla (2016)   \n",
              "9122   163949  The Beatles: Eight Days a Week - The Touring Y...   \n",
              "9123   164977                           The Gay Desperado (1936)   \n",
              "9124   164979                              Women of '69, Unboxed   \n",
              "\n",
              "                                           genres  \n",
              "0     Adventure|Animation|Children|Comedy|Fantasy  \n",
              "1                      Adventure|Children|Fantasy  \n",
              "2                                  Comedy|Romance  \n",
              "3                            Comedy|Drama|Romance  \n",
              "4                                          Comedy  \n",
              "...                                           ...  \n",
              "9120                      Adventure|Drama|Romance  \n",
              "9121              Action|Adventure|Fantasy|Sci-Fi  \n",
              "9122                                  Documentary  \n",
              "9123                                       Comedy  \n",
              "9124                                  Documentary  \n",
              "\n",
              "[9125 rows x 3 columns]"
            ]
          },
          "metadata": {
            "tags": []
          },
          "execution_count": 6
        }
      ]
    },
    {
      "cell_type": "code",
      "metadata": {
        "scrolled": true,
        "id": "uiW1QhcI8kuL",
        "outputId": "7fb66916-86f1-4ee4-c7cc-e3023f272eb5"
      },
      "source": [
        "pd.merge(ratings, movies, on='movieId')"
      ],
      "execution_count": null,
      "outputs": [
        {
          "output_type": "execute_result",
          "data": {
            "text/html": [
              "<div>\n",
              "<style scoped>\n",
              "    .dataframe tbody tr th:only-of-type {\n",
              "        vertical-align: middle;\n",
              "    }\n",
              "\n",
              "    .dataframe tbody tr th {\n",
              "        vertical-align: top;\n",
              "    }\n",
              "\n",
              "    .dataframe thead th {\n",
              "        text-align: right;\n",
              "    }\n",
              "</style>\n",
              "<table border=\"1\" class=\"dataframe\">\n",
              "  <thead>\n",
              "    <tr style=\"text-align: right;\">\n",
              "      <th></th>\n",
              "      <th>userId</th>\n",
              "      <th>movieId</th>\n",
              "      <th>rating</th>\n",
              "      <th>timestamp</th>\n",
              "      <th>title</th>\n",
              "      <th>genres</th>\n",
              "    </tr>\n",
              "  </thead>\n",
              "  <tbody>\n",
              "    <tr>\n",
              "      <th>0</th>\n",
              "      <td>1</td>\n",
              "      <td>31</td>\n",
              "      <td>2.5</td>\n",
              "      <td>1260759144</td>\n",
              "      <td>Dangerous Minds (1995)</td>\n",
              "      <td>Drama</td>\n",
              "    </tr>\n",
              "    <tr>\n",
              "      <th>1</th>\n",
              "      <td>7</td>\n",
              "      <td>31</td>\n",
              "      <td>3.0</td>\n",
              "      <td>851868750</td>\n",
              "      <td>Dangerous Minds (1995)</td>\n",
              "      <td>Drama</td>\n",
              "    </tr>\n",
              "    <tr>\n",
              "      <th>2</th>\n",
              "      <td>31</td>\n",
              "      <td>31</td>\n",
              "      <td>4.0</td>\n",
              "      <td>1273541953</td>\n",
              "      <td>Dangerous Minds (1995)</td>\n",
              "      <td>Drama</td>\n",
              "    </tr>\n",
              "    <tr>\n",
              "      <th>3</th>\n",
              "      <td>32</td>\n",
              "      <td>31</td>\n",
              "      <td>4.0</td>\n",
              "      <td>834828440</td>\n",
              "      <td>Dangerous Minds (1995)</td>\n",
              "      <td>Drama</td>\n",
              "    </tr>\n",
              "    <tr>\n",
              "      <th>4</th>\n",
              "      <td>36</td>\n",
              "      <td>31</td>\n",
              "      <td>3.0</td>\n",
              "      <td>847057202</td>\n",
              "      <td>Dangerous Minds (1995)</td>\n",
              "      <td>Drama</td>\n",
              "    </tr>\n",
              "    <tr>\n",
              "      <th>...</th>\n",
              "      <td>...</td>\n",
              "      <td>...</td>\n",
              "      <td>...</td>\n",
              "      <td>...</td>\n",
              "      <td>...</td>\n",
              "      <td>...</td>\n",
              "    </tr>\n",
              "    <tr>\n",
              "      <th>99999</th>\n",
              "      <td>664</td>\n",
              "      <td>64997</td>\n",
              "      <td>2.5</td>\n",
              "      <td>1343761859</td>\n",
              "      <td>War of the Worlds (2005)</td>\n",
              "      <td>Action|Sci-Fi</td>\n",
              "    </tr>\n",
              "    <tr>\n",
              "      <th>100000</th>\n",
              "      <td>664</td>\n",
              "      <td>72380</td>\n",
              "      <td>3.5</td>\n",
              "      <td>1344435977</td>\n",
              "      <td>Box, The (2009)</td>\n",
              "      <td>Drama|Horror|Mystery|Sci-Fi|Thriller</td>\n",
              "    </tr>\n",
              "    <tr>\n",
              "      <th>100001</th>\n",
              "      <td>665</td>\n",
              "      <td>129</td>\n",
              "      <td>3.0</td>\n",
              "      <td>995232528</td>\n",
              "      <td>Pie in the Sky (1996)</td>\n",
              "      <td>Comedy|Romance</td>\n",
              "    </tr>\n",
              "    <tr>\n",
              "      <th>100002</th>\n",
              "      <td>665</td>\n",
              "      <td>4736</td>\n",
              "      <td>1.0</td>\n",
              "      <td>1010197684</td>\n",
              "      <td>Summer Catch (2001)</td>\n",
              "      <td>Comedy|Drama|Romance</td>\n",
              "    </tr>\n",
              "    <tr>\n",
              "      <th>100003</th>\n",
              "      <td>668</td>\n",
              "      <td>6425</td>\n",
              "      <td>1.0</td>\n",
              "      <td>993613478</td>\n",
              "      <td>6th Man, The (Sixth Man, The) (1997)</td>\n",
              "      <td>Comedy</td>\n",
              "    </tr>\n",
              "  </tbody>\n",
              "</table>\n",
              "<p>100004 rows × 6 columns</p>\n",
              "</div>"
            ],
            "text/plain": [
              "        userId  movieId  rating   timestamp  \\\n",
              "0            1       31     2.5  1260759144   \n",
              "1            7       31     3.0   851868750   \n",
              "2           31       31     4.0  1273541953   \n",
              "3           32       31     4.0   834828440   \n",
              "4           36       31     3.0   847057202   \n",
              "...        ...      ...     ...         ...   \n",
              "99999      664    64997     2.5  1343761859   \n",
              "100000     664    72380     3.5  1344435977   \n",
              "100001     665      129     3.0   995232528   \n",
              "100002     665     4736     1.0  1010197684   \n",
              "100003     668     6425     1.0   993613478   \n",
              "\n",
              "                                       title  \\\n",
              "0                     Dangerous Minds (1995)   \n",
              "1                     Dangerous Minds (1995)   \n",
              "2                     Dangerous Minds (1995)   \n",
              "3                     Dangerous Minds (1995)   \n",
              "4                     Dangerous Minds (1995)   \n",
              "...                                      ...   \n",
              "99999               War of the Worlds (2005)   \n",
              "100000                       Box, The (2009)   \n",
              "100001                 Pie in the Sky (1996)   \n",
              "100002                   Summer Catch (2001)   \n",
              "100003  6th Man, The (Sixth Man, The) (1997)   \n",
              "\n",
              "                                      genres  \n",
              "0                                      Drama  \n",
              "1                                      Drama  \n",
              "2                                      Drama  \n",
              "3                                      Drama  \n",
              "4                                      Drama  \n",
              "...                                      ...  \n",
              "99999                          Action|Sci-Fi  \n",
              "100000  Drama|Horror|Mystery|Sci-Fi|Thriller  \n",
              "100001                        Comedy|Romance  \n",
              "100002                  Comedy|Drama|Romance  \n",
              "100003                                Comedy  \n",
              "\n",
              "[100004 rows x 6 columns]"
            ]
          },
          "metadata": {
            "tags": []
          },
          "execution_count": 7
        }
      ]
    },
    {
      "cell_type": "markdown",
      "metadata": {
        "id": "YMpesMik8kuM"
      },
      "source": [
        "### 특정 user 기준 data 보기"
      ]
    },
    {
      "cell_type": "code",
      "metadata": {
        "id": "VRD3L1XP8kuM",
        "outputId": "e03dd47b-f68d-4242-b1cd-5e9b7ae87748"
      },
      "source": [
        "ratings[(ratings['userId'] == 264)].sort_values('rating',ascending=False).head()"
      ],
      "execution_count": null,
      "outputs": [
        {
          "output_type": "execute_result",
          "data": {
            "text/html": [
              "<div>\n",
              "<style scoped>\n",
              "    .dataframe tbody tr th:only-of-type {\n",
              "        vertical-align: middle;\n",
              "    }\n",
              "\n",
              "    .dataframe tbody tr th {\n",
              "        vertical-align: top;\n",
              "    }\n",
              "\n",
              "    .dataframe thead th {\n",
              "        text-align: right;\n",
              "    }\n",
              "</style>\n",
              "<table border=\"1\" class=\"dataframe\">\n",
              "  <thead>\n",
              "    <tr style=\"text-align: right;\">\n",
              "      <th></th>\n",
              "      <th>userId</th>\n",
              "      <th>movieId</th>\n",
              "      <th>rating</th>\n",
              "      <th>timestamp</th>\n",
              "    </tr>\n",
              "  </thead>\n",
              "  <tbody>\n",
              "    <tr>\n",
              "      <th>36773</th>\n",
              "      <td>264</td>\n",
              "      <td>39</td>\n",
              "      <td>5.0</td>\n",
              "      <td>995664962</td>\n",
              "    </tr>\n",
              "    <tr>\n",
              "      <th>36785</th>\n",
              "      <td>264</td>\n",
              "      <td>1097</td>\n",
              "      <td>5.0</td>\n",
              "      <td>995664664</td>\n",
              "    </tr>\n",
              "    <tr>\n",
              "      <th>36800</th>\n",
              "      <td>264</td>\n",
              "      <td>2406</td>\n",
              "      <td>5.0</td>\n",
              "      <td>995664995</td>\n",
              "    </tr>\n",
              "    <tr>\n",
              "      <th>36799</th>\n",
              "      <td>264</td>\n",
              "      <td>2248</td>\n",
              "      <td>5.0</td>\n",
              "      <td>995664866</td>\n",
              "    </tr>\n",
              "    <tr>\n",
              "      <th>36797</th>\n",
              "      <td>264</td>\n",
              "      <td>2125</td>\n",
              "      <td>5.0</td>\n",
              "      <td>995665027</td>\n",
              "    </tr>\n",
              "  </tbody>\n",
              "</table>\n",
              "</div>"
            ],
            "text/plain": [
              "       userId  movieId  rating  timestamp\n",
              "36773     264       39     5.0  995664962\n",
              "36785     264     1097     5.0  995664664\n",
              "36800     264     2406     5.0  995664995\n",
              "36799     264     2248     5.0  995664866\n",
              "36797     264     2125     5.0  995665027"
            ]
          },
          "metadata": {
            "tags": []
          },
          "execution_count": 8
        }
      ]
    },
    {
      "cell_type": "code",
      "metadata": {
        "scrolled": true,
        "id": "L7UtHNOS8kuN"
      },
      "source": [
        "df_o=ratings[(ratings['userId'] == 264)&(ratings['movieId'] == 4280)]"
      ],
      "execution_count": null,
      "outputs": []
    },
    {
      "cell_type": "code",
      "metadata": {
        "id": "dMcnJHM48kuN",
        "outputId": "6a05da1e-11ba-4402-df85-4763df0d681a"
      },
      "source": [
        "pd.merge(df_o,movies, on='movieId').head()"
      ],
      "execution_count": null,
      "outputs": [
        {
          "output_type": "execute_result",
          "data": {
            "text/html": [
              "<div>\n",
              "<style scoped>\n",
              "    .dataframe tbody tr th:only-of-type {\n",
              "        vertical-align: middle;\n",
              "    }\n",
              "\n",
              "    .dataframe tbody tr th {\n",
              "        vertical-align: top;\n",
              "    }\n",
              "\n",
              "    .dataframe thead th {\n",
              "        text-align: right;\n",
              "    }\n",
              "</style>\n",
              "<table border=\"1\" class=\"dataframe\">\n",
              "  <thead>\n",
              "    <tr style=\"text-align: right;\">\n",
              "      <th></th>\n",
              "      <th>userId</th>\n",
              "      <th>movieId</th>\n",
              "      <th>rating</th>\n",
              "      <th>timestamp</th>\n",
              "      <th>title</th>\n",
              "      <th>genres</th>\n",
              "    </tr>\n",
              "  </thead>\n",
              "  <tbody>\n",
              "    <tr>\n",
              "      <th>0</th>\n",
              "      <td>264</td>\n",
              "      <td>4280</td>\n",
              "      <td>4.0</td>\n",
              "      <td>995664947</td>\n",
              "      <td>World According to Garp, The (1982)</td>\n",
              "      <td>Comedy|Drama|Romance</td>\n",
              "    </tr>\n",
              "  </tbody>\n",
              "</table>\n",
              "</div>"
            ],
            "text/plain": [
              "   userId  movieId  rating  timestamp                                title  \\\n",
              "0     264     4280     4.0  995664947  World According to Garp, The (1982)   \n",
              "\n",
              "                 genres  \n",
              "0  Comedy|Drama|Romance  "
            ]
          },
          "metadata": {
            "tags": []
          },
          "execution_count": 10
        }
      ]
    },
    {
      "cell_type": "code",
      "metadata": {
        "scrolled": false,
        "id": "8fB0XCYy8kuN",
        "outputId": "f88f0e92-b14c-4500-e604-223b88e06d70"
      },
      "source": [
        "# user 별로 얼마나 rating을 하였는지 ?\n",
        "# 데이터프레임에서 한 컬럼만 뽑아낸 시리즈를 종류별로 카운트하고, 인덱스에 따라 내림차순 정렬\n",
        "data = ratings['rating'].value_counts().sort_index(ascending=True)\n",
        "data_g = ratings.groupby('userId')['rating'].count().reset_index().sort_values('rating',ascending=False)\n",
        "data_g"
      ],
      "execution_count": null,
      "outputs": [
        {
          "output_type": "execute_result",
          "data": {
            "text/html": [
              "<div>\n",
              "<style scoped>\n",
              "    .dataframe tbody tr th:only-of-type {\n",
              "        vertical-align: middle;\n",
              "    }\n",
              "\n",
              "    .dataframe tbody tr th {\n",
              "        vertical-align: top;\n",
              "    }\n",
              "\n",
              "    .dataframe thead th {\n",
              "        text-align: right;\n",
              "    }\n",
              "</style>\n",
              "<table border=\"1\" class=\"dataframe\">\n",
              "  <thead>\n",
              "    <tr style=\"text-align: right;\">\n",
              "      <th></th>\n",
              "      <th>userId</th>\n",
              "      <th>rating</th>\n",
              "    </tr>\n",
              "  </thead>\n",
              "  <tbody>\n",
              "    <tr>\n",
              "      <th>546</th>\n",
              "      <td>547</td>\n",
              "      <td>2391</td>\n",
              "    </tr>\n",
              "    <tr>\n",
              "      <th>563</th>\n",
              "      <td>564</td>\n",
              "      <td>1868</td>\n",
              "    </tr>\n",
              "    <tr>\n",
              "      <th>623</th>\n",
              "      <td>624</td>\n",
              "      <td>1735</td>\n",
              "    </tr>\n",
              "    <tr>\n",
              "      <th>14</th>\n",
              "      <td>15</td>\n",
              "      <td>1700</td>\n",
              "    </tr>\n",
              "    <tr>\n",
              "      <th>72</th>\n",
              "      <td>73</td>\n",
              "      <td>1610</td>\n",
              "    </tr>\n",
              "    <tr>\n",
              "      <th>...</th>\n",
              "      <td>...</td>\n",
              "      <td>...</td>\n",
              "    </tr>\n",
              "    <tr>\n",
              "      <th>295</th>\n",
              "      <td>296</td>\n",
              "      <td>20</td>\n",
              "    </tr>\n",
              "    <tr>\n",
              "      <th>288</th>\n",
              "      <td>289</td>\n",
              "      <td>20</td>\n",
              "    </tr>\n",
              "    <tr>\n",
              "      <th>248</th>\n",
              "      <td>249</td>\n",
              "      <td>20</td>\n",
              "    </tr>\n",
              "    <tr>\n",
              "      <th>220</th>\n",
              "      <td>221</td>\n",
              "      <td>20</td>\n",
              "    </tr>\n",
              "    <tr>\n",
              "      <th>0</th>\n",
              "      <td>1</td>\n",
              "      <td>20</td>\n",
              "    </tr>\n",
              "  </tbody>\n",
              "</table>\n",
              "<p>671 rows × 2 columns</p>\n",
              "</div>"
            ],
            "text/plain": [
              "     userId  rating\n",
              "546     547    2391\n",
              "563     564    1868\n",
              "623     624    1735\n",
              "14       15    1700\n",
              "72       73    1610\n",
              "..      ...     ...\n",
              "295     296      20\n",
              "288     289      20\n",
              "248     249      20\n",
              "220     221      20\n",
              "0         1      20\n",
              "\n",
              "[671 rows x 2 columns]"
            ]
          },
          "metadata": {
            "tags": []
          },
          "execution_count": 11
        }
      ]
    },
    {
      "cell_type": "markdown",
      "metadata": {
        "id": "d830_IqR8kuO"
      },
      "source": [
        "### # 별점(rating) Data 분포"
      ]
    },
    {
      "cell_type": "code",
      "metadata": {
        "id": "LL4rFo1n8kuO",
        "outputId": "a34652ab-e485-4fa8-e853-c18b49801d2c"
      },
      "source": [
        "plt.figure(figsize=(7,5))\n",
        "a=plt.hist(data_g['rating'],25)\n",
        "plt.title('Number of ratings per user.',fontsize=15)"
      ],
      "execution_count": null,
      "outputs": [
        {
          "output_type": "execute_result",
          "data": {
            "text/plain": [
              "Text(0.5, 1.0, 'Number of ratings per user.')"
            ]
          },
          "metadata": {
            "tags": []
          },
          "execution_count": 12
        },
        {
          "output_type": "display_data",
          "data": {
            "image/png": "[encoded data removed]",
            "text/plain": [
              "<Figure size 504x360 with 1 Axes>"
            ]
          },
          "metadata": {
            "tags": [],
            "needs_background": "light"
          }
        }
      ]
    },
    {
      "cell_type": "code",
      "metadata": {
        "id": "wmfE1jVB8kuP",
        "outputId": "7bf8e229-8688-4999-cf06-1af4899e67ce"
      },
      "source": [
        "data"
      ],
      "execution_count": null,
      "outputs": [
        {
          "output_type": "execute_result",
          "data": {
            "text/plain": [
              "0.5     1101\n",
              "1.0     3326\n",
              "1.5     1687\n",
              "2.0     7271\n",
              "2.5     4449\n",
              "3.0    20064\n",
              "3.5    10538\n",
              "4.0    28750\n",
              "4.5     7723\n",
              "5.0    15095\n",
              "Name: rating, dtype: int64"
            ]
          },
          "metadata": {
            "tags": []
          },
          "execution_count": 13
        }
      ]
    },
    {
      "cell_type": "code",
      "metadata": {
        "scrolled": false,
        "id": "eKux1KKB8kuP",
        "outputId": "e4cc9bb5-feba-4e64-a507-33c182c34ffa"
      },
      "source": [
        "plt.figure(figsize=(7,5))\n",
        "data = ratings['rating'].value_counts().sort_index(ascending=True)\n",
        "data.plot.bar()\n",
        "plt.title('Number of movies by ratings.',fontsize=15)"
      ],
      "execution_count": null,
      "outputs": [
        {
          "output_type": "execute_result",
          "data": {
            "text/plain": [
              "Text(0.5, 1.0, 'Number of movies by ratings.')"
            ]
          },
          "metadata": {
            "tags": []
          },
          "execution_count": 14
        },
        {
          "output_type": "display_data",
          "data": {
            "image/png": "[encoded data removed]",
            "text/plain": [
              "<Figure size 504x360 with 1 Axes>"
            ]
          },
          "metadata": {
            "tags": [],
            "needs_background": "light"
          }
        }
      ]
    },
    {
      "cell_type": "markdown",
      "metadata": {
        "id": "iouoZM3K8kuQ"
      },
      "source": [
        "### Data 처리"
      ]
    },
    {
      "cell_type": "code",
      "metadata": {
        "scrolled": true,
        "id": "Zo44ptbL8kuQ",
        "outputId": "d964fd8c-9701-4e60-d532-224925b5ddd0"
      },
      "source": [
        "#count()까지 Series타입이고, reset_index()까지 해서 dataframe이 된다.\n",
        "ratings.groupby('userId')['rating'].count().reset_index().sort_values('rating',ascending=False)"
      ],
      "execution_count": null,
      "outputs": [
        {
          "output_type": "execute_result",
          "data": {
            "text/html": [
              "<div>\n",
              "<style scoped>\n",
              "    .dataframe tbody tr th:only-of-type {\n",
              "        vertical-align: middle;\n",
              "    }\n",
              "\n",
              "    .dataframe tbody tr th {\n",
              "        vertical-align: top;\n",
              "    }\n",
              "\n",
              "    .dataframe thead th {\n",
              "        text-align: right;\n",
              "    }\n",
              "</style>\n",
              "<table border=\"1\" class=\"dataframe\">\n",
              "  <thead>\n",
              "    <tr style=\"text-align: right;\">\n",
              "      <th></th>\n",
              "      <th>userId</th>\n",
              "      <th>rating</th>\n",
              "    </tr>\n",
              "  </thead>\n",
              "  <tbody>\n",
              "    <tr>\n",
              "      <th>546</th>\n",
              "      <td>547</td>\n",
              "      <td>2391</td>\n",
              "    </tr>\n",
              "    <tr>\n",
              "      <th>563</th>\n",
              "      <td>564</td>\n",
              "      <td>1868</td>\n",
              "    </tr>\n",
              "    <tr>\n",
              "      <th>623</th>\n",
              "      <td>624</td>\n",
              "      <td>1735</td>\n",
              "    </tr>\n",
              "    <tr>\n",
              "      <th>14</th>\n",
              "      <td>15</td>\n",
              "      <td>1700</td>\n",
              "    </tr>\n",
              "    <tr>\n",
              "      <th>72</th>\n",
              "      <td>73</td>\n",
              "      <td>1610</td>\n",
              "    </tr>\n",
              "    <tr>\n",
              "      <th>...</th>\n",
              "      <td>...</td>\n",
              "      <td>...</td>\n",
              "    </tr>\n",
              "    <tr>\n",
              "      <th>295</th>\n",
              "      <td>296</td>\n",
              "      <td>20</td>\n",
              "    </tr>\n",
              "    <tr>\n",
              "      <th>288</th>\n",
              "      <td>289</td>\n",
              "      <td>20</td>\n",
              "    </tr>\n",
              "    <tr>\n",
              "      <th>248</th>\n",
              "      <td>249</td>\n",
              "      <td>20</td>\n",
              "    </tr>\n",
              "    <tr>\n",
              "      <th>220</th>\n",
              "      <td>221</td>\n",
              "      <td>20</td>\n",
              "    </tr>\n",
              "    <tr>\n",
              "      <th>0</th>\n",
              "      <td>1</td>\n",
              "      <td>20</td>\n",
              "    </tr>\n",
              "  </tbody>\n",
              "</table>\n",
              "<p>671 rows × 2 columns</p>\n",
              "</div>"
            ],
            "text/plain": [
              "     userId  rating\n",
              "546     547    2391\n",
              "563     564    1868\n",
              "623     624    1735\n",
              "14       15    1700\n",
              "72       73    1610\n",
              "..      ...     ...\n",
              "295     296      20\n",
              "288     289      20\n",
              "248     249      20\n",
              "220     221      20\n",
              "0         1      20\n",
              "\n",
              "[671 rows x 2 columns]"
            ]
          },
          "metadata": {
            "tags": []
          },
          "execution_count": 15
        }
      ]
    },
    {
      "cell_type": "code",
      "metadata": {
        "id": "b4OoPBvj8kuQ",
        "outputId": "1391066f-274d-4c6e-fc4b-e7f8a4f8cab3"
      },
      "source": [
        "min_movie_ratings = 5\n",
        "filter_movies = ratings['movieId'].value_counts() >= min_movie_ratings\n",
        "filter_movies = filter_movies[filter_movies].index.tolist()\n",
        "\n",
        "ratings_new = ratings[ratings['movieId'].isin(filter_movies)]\n",
        "print('The original data frame shape:\\t{}'.format(ratings.shape))\n",
        "print('The new data frame shape:\\t{}'.format(ratings_new.shape))"
      ],
      "execution_count": null,
      "outputs": [
        {
          "output_type": "stream",
          "text": [
            "The original data frame shape:\t(100004, 4)\n",
            "The new data frame shape:\t(90072, 4)\n"
          ],
          "name": "stdout"
        }
      ]
    },
    {
      "cell_type": "code",
      "metadata": {
        "id": "fwC1YiaN8kuR"
      },
      "source": [
        "reader= Reader(rating_scale=(0.5,5.0))"
      ],
      "execution_count": null,
      "outputs": []
    },
    {
      "cell_type": "code",
      "metadata": {
        "id": "IozYGgeg8kuR",
        "outputId": "38becf56-0a8d-429a-ab69-cf2d805286ce"
      },
      "source": [
        "reader"
      ],
      "execution_count": null,
      "outputs": [
        {
          "output_type": "execute_result",
          "data": {
            "text/plain": [
              "<surprise.reader.Reader at 0x1f7cebc68d0>"
            ]
          },
          "metadata": {
            "tags": []
          },
          "execution_count": 18
        }
      ]
    },
    {
      "cell_type": "code",
      "metadata": {
        "id": "78dt6vPB8kuR"
      },
      "source": [
        "data = Dataset.load_from_df(ratings[['userId','movieId','rating']], reader)"
      ],
      "execution_count": null,
      "outputs": []
    },
    {
      "cell_type": "code",
      "metadata": {
        "id": "idKlzsvf8kuS",
        "outputId": "f01bdf14-fdd1-476c-aa44-f7b77260b422"
      },
      "source": [
        "data"
      ],
      "execution_count": null,
      "outputs": [
        {
          "output_type": "execute_result",
          "data": {
            "text/plain": [
              "<surprise.dataset.DatasetAutoFolds at 0x1f7cf0d6f28>"
            ]
          },
          "metadata": {
            "tags": []
          },
          "execution_count": 20
        }
      ]
    },
    {
      "cell_type": "code",
      "metadata": {
        "id": "_iOMyDlj8kuS"
      },
      "source": [
        "reader = Reader(rating_scale=(1,5)) # rating_scale을 명시해주는 코드.\n",
        "data = Dataset.load_from_df(ratings_new[['userId', 'movieId', 'rating']], reader)"
      ],
      "execution_count": null,
      "outputs": []
    },
    {
      "cell_type": "markdown",
      "metadata": {
        "id": "Xwa1aWFg8kuS"
      },
      "source": [
        "https://datart.tistory.com/11"
      ]
    },
    {
      "cell_type": "markdown",
      "metadata": {
        "id": "iJUycktw8uGo"
      },
      "source": [
        "### KNN()"
      ]
    },
    {
      "cell_type": "code",
      "metadata": {
        "id": "dIaNNWX58kuT"
      },
      "source": [
        "from surprise import KNNBasic\n",
        "reader= Reader(rating_scale=(0.5,5.0))"
      ],
      "execution_count": null,
      "outputs": []
    },
    {
      "cell_type": "code",
      "metadata": {
        "id": "5n_NSj_M8kuT"
      },
      "source": [
        "reader = Reader(rating_scale=(1,5)) # rating_scale을 명시해주는 코드.\n",
        "data = Dataset.load_from_df(ratings_new[['userId', 'movieId', 'rating']], reader)"
      ],
      "execution_count": null,
      "outputs": []
    },
    {
      "cell_type": "code",
      "metadata": {
        "scrolled": true,
        "id": "Ze8LvMgt8kuT",
        "outputId": "0435d5cc-2274-4488-d1f1-aa647def36d8"
      },
      "source": [
        "# 알고리즘 : k-nearest neighbor (최근접이웃)\n",
        "from surprise.model_selection import train_test_split\n",
        "from surprise import accuracy\n",
        "\n",
        "trainset, testset = train_test_split(data, test_size=0.25)\n",
        "bsl_options = {'method': 'als',\n",
        "               'n_epochs': 20,\n",
        "               }\n",
        "option = {'name' : 'pearson'}\n",
        "\n",
        "algo = KNNBasic(bsl_options=bsl_options, sim_options=option)\n",
        "\n",
        "# KNNBasic 알고리즘 수행\n",
        "predictions = algo.fit(trainset).test(testset)\n",
        "accuracy.rmse(predictions)"
      ],
      "execution_count": null,
      "outputs": [
        {
          "output_type": "stream",
          "text": [
            "Computing the pearson similarity matrix...\n",
            "Done computing similarity matrix.\n",
            "RMSE: 0.9732\n"
          ],
          "name": "stdout"
        },
        {
          "output_type": "execute_result",
          "data": {
            "text/plain": [
              "0.9731612957594798"
            ]
          },
          "metadata": {
            "tags": []
          },
          "execution_count": 24
        }
      ]
    },
    {
      "cell_type": "code",
      "metadata": {
        "scrolled": true,
        "id": "SMud8j648kuT"
      },
      "source": [
        "def cf_knn_pearson_recommand(userId, k_cnt, m_cnt):\n",
        "    \n",
        "    result=algo.get_neighbors(userId,k=k_cnt)\n",
        "    print('k neighbor : ',result)\n",
        "    \n",
        "    rec_result=pd.DataFrame()\n",
        "    \n",
        "    # k_cnt 명의 user가 본 평점 5점인 영화중 n(m_cnt)개 영화를 찾음\n",
        "    for k in result :\n",
        "        #r1= 265\n",
        "        max_rating=data.df[data.df['userId']==k]['rating'].max()\n",
        "        rec_id=data.df[(data.df['rating']==max_rating) \\\n",
        "                       &(data.df['userId']==k)]['movieId'].head(m_cnt)\n",
        "        for i in rec_id:\n",
        "            k=movies[movies['movieId']==i]\n",
        "            rec_result=rec_result.append(k)\n",
        "        \n",
        "        ## 시청한 영화를 제외함\n",
        "        df_movieid_for_uid=ratings[(ratings['userId'] == userId)][['userId','movieId']]\n",
        "        rec_result2 = rec_result[~rec_result['movieId'].isin(df_movieid_for_uid['movieId'])]\n",
        "\n",
        "    return rec_result2"
      ],
      "execution_count": null,
      "outputs": []
    },
    {
      "cell_type": "code",
      "metadata": {
        "scrolled": false,
        "id": "bNJQNTNa8kuU",
        "outputId": "7a83741c-2615-48b6-b6bd-8388eaaf8826"
      },
      "source": [
        "# 추천 영화 리스트\n",
        "recommand_movie_list = cf_knn_pearson_recommand(265,3,10)  # uid, k-neighbor, return movie no.\n",
        "recommand_movie_list[['title','genres']]"
      ],
      "execution_count": null,
      "outputs": [
        {
          "output_type": "stream",
          "text": [
            "k neighbor :  [14, 40, 58]\n"
          ],
          "name": "stdout"
        },
        {
          "output_type": "execute_result",
          "data": {
            "text/html": [
              "<div>\n",
              "<style scoped>\n",
              "    .dataframe tbody tr th:only-of-type {\n",
              "        vertical-align: middle;\n",
              "    }\n",
              "\n",
              "    .dataframe tbody tr th {\n",
              "        vertical-align: top;\n",
              "    }\n",
              "\n",
              "    .dataframe thead th {\n",
              "        text-align: right;\n",
              "    }\n",
              "</style>\n",
              "<table border=\"1\" class=\"dataframe\">\n",
              "  <thead>\n",
              "    <tr style=\"text-align: right;\">\n",
              "      <th></th>\n",
              "      <th>title</th>\n",
              "      <th>genres</th>\n",
              "    </tr>\n",
              "  </thead>\n",
              "  <tbody>\n",
              "    <tr>\n",
              "      <th>2552</th>\n",
              "      <td>Galaxy Quest (1999)</td>\n",
              "      <td>Adventure|Comedy|Sci-Fi</td>\n",
              "    </tr>\n",
              "    <tr>\n",
              "      <th>954</th>\n",
              "      <td>Princess Bride, The (1987)</td>\n",
              "      <td>Action|Adventure|Comedy|Fantasy|Romance</td>\n",
              "    </tr>\n",
              "    <tr>\n",
              "      <th>3367</th>\n",
              "      <td>Memento (2000)</td>\n",
              "      <td>Mystery|Thriller</td>\n",
              "    </tr>\n",
              "    <tr>\n",
              "      <th>6248</th>\n",
              "      <td>Kiss Kiss Bang Bang (2005)</td>\n",
              "      <td>Comedy|Crime|Mystery|Thriller</td>\n",
              "    </tr>\n",
              "    <tr>\n",
              "      <th>6539</th>\n",
              "      <td>Departed, The (2006)</td>\n",
              "      <td>Crime|Drama|Thriller</td>\n",
              "    </tr>\n",
              "    <tr>\n",
              "      <th>6555</th>\n",
              "      <td>Children of Men (2006)</td>\n",
              "      <td>Action|Adventure|Drama|Sci-Fi|Thriller</td>\n",
              "    </tr>\n",
              "    <tr>\n",
              "      <th>6556</th>\n",
              "      <td>Prestige, The (2006)</td>\n",
              "      <td>Drama|Mystery|Sci-Fi|Thriller</td>\n",
              "    </tr>\n",
              "    <tr>\n",
              "      <th>6643</th>\n",
              "      <td>Hot Fuzz (2007)</td>\n",
              "      <td>Action|Comedy|Crime|Mystery</td>\n",
              "    </tr>\n",
              "    <tr>\n",
              "      <th>8470</th>\n",
              "      <td>Her (2013)</td>\n",
              "      <td>Drama|Romance|Sci-Fi</td>\n",
              "    </tr>\n",
              "    <tr>\n",
              "      <th>9068</th>\n",
              "      <td>10 Cloverfield Lane (2016)</td>\n",
              "      <td>Thriller</td>\n",
              "    </tr>\n",
              "    <tr>\n",
              "      <th>10</th>\n",
              "      <td>American President, The (1995)</td>\n",
              "      <td>Comedy|Drama|Romance</td>\n",
              "    </tr>\n",
              "    <tr>\n",
              "      <th>129</th>\n",
              "      <td>Apollo 13 (1995)</td>\n",
              "      <td>Adventure|Drama|IMAX</td>\n",
              "    </tr>\n",
              "    <tr>\n",
              "      <th>745</th>\n",
              "      <td>2001: A Space Odyssey (1968)</td>\n",
              "      <td>Adventure|Drama|Sci-Fi</td>\n",
              "    </tr>\n",
              "    <tr>\n",
              "      <th>783</th>\n",
              "      <td>39 Steps, The (1935)</td>\n",
              "      <td>Drama|Mystery|Thriller</td>\n",
              "    </tr>\n",
              "    <tr>\n",
              "      <th>960</th>\n",
              "      <td>12 Angry Men (1957)</td>\n",
              "      <td>Drama</td>\n",
              "    </tr>\n",
              "    <tr>\n",
              "      <th>1023</th>\n",
              "      <td>Arsenic and Old Lace (1944)</td>\n",
              "      <td>Comedy|Mystery|Thriller</td>\n",
              "    </tr>\n",
              "    <tr>\n",
              "      <th>1279</th>\n",
              "      <td>Air Force One (1997)</td>\n",
              "      <td>Action|Thriller</td>\n",
              "    </tr>\n",
              "    <tr>\n",
              "      <th>1490</th>\n",
              "      <td>All Quiet on the Western Front (1930)</td>\n",
              "      <td>Action|Drama|War</td>\n",
              "    </tr>\n",
              "  </tbody>\n",
              "</table>\n",
              "</div>"
            ],
            "text/plain": [
              "                                      title  \\\n",
              "2552                    Galaxy Quest (1999)   \n",
              "954              Princess Bride, The (1987)   \n",
              "3367                         Memento (2000)   \n",
              "6248             Kiss Kiss Bang Bang (2005)   \n",
              "6539                   Departed, The (2006)   \n",
              "6555                 Children of Men (2006)   \n",
              "6556                   Prestige, The (2006)   \n",
              "6643                        Hot Fuzz (2007)   \n",
              "8470                             Her (2013)   \n",
              "9068             10 Cloverfield Lane (2016)   \n",
              "10           American President, The (1995)   \n",
              "129                        Apollo 13 (1995)   \n",
              "745            2001: A Space Odyssey (1968)   \n",
              "783                    39 Steps, The (1935)   \n",
              "960                     12 Angry Men (1957)   \n",
              "1023            Arsenic and Old Lace (1944)   \n",
              "1279                   Air Force One (1997)   \n",
              "1490  All Quiet on the Western Front (1930)   \n",
              "\n",
              "                                       genres  \n",
              "2552                  Adventure|Comedy|Sci-Fi  \n",
              "954   Action|Adventure|Comedy|Fantasy|Romance  \n",
              "3367                         Mystery|Thriller  \n",
              "6248            Comedy|Crime|Mystery|Thriller  \n",
              "6539                     Crime|Drama|Thriller  \n",
              "6555   Action|Adventure|Drama|Sci-Fi|Thriller  \n",
              "6556            Drama|Mystery|Sci-Fi|Thriller  \n",
              "6643              Action|Comedy|Crime|Mystery  \n",
              "8470                     Drama|Romance|Sci-Fi  \n",
              "9068                                 Thriller  \n",
              "10                       Comedy|Drama|Romance  \n",
              "129                      Adventure|Drama|IMAX  \n",
              "745                    Adventure|Drama|Sci-Fi  \n",
              "783                    Drama|Mystery|Thriller  \n",
              "960                                     Drama  \n",
              "1023                  Comedy|Mystery|Thriller  \n",
              "1279                          Action|Thriller  \n",
              "1490                         Action|Drama|War  "
            ]
          },
          "metadata": {
            "tags": []
          },
          "execution_count": 26
        }
      ]
    },
    {
      "cell_type": "code",
      "metadata": {
        "id": "xQ1fpChm8kuU"
      },
      "source": [
        "# userId 시청 영화 확인\n",
        "def userId_wtch_movies(userId,cnt):\n",
        "    userId_genre=pd.DataFrame()\n",
        "    userId_genre['genre_rating']=pd.merge(ratings[(ratings['userId'] == userId)],movies, on='movieId').groupby('genres')['rating'].mean()\n",
        "    userId_genre['genre_cnt']=pd.merge(ratings[(ratings['userId'] == userId)],movies, on='movieId').groupby('genres')['rating'].count()\n",
        "    userId_genre_r = userId_genre.sort_values('genre_cnt',ascending=False)\n",
        "    \n",
        "    userId_movie_l = \\\n",
        "    pd.merge(ratings[(ratings['userId'] == userId)].sort_values('rating',ascending=False).head(cnt),movies, on='movieId')\n",
        "    \n",
        "    return userId_genre_r, userId_movie_l"
      ],
      "execution_count": null,
      "outputs": []
    },
    {
      "cell_type": "markdown",
      "metadata": {
        "id": "edik6Bdi8kuU"
      },
      "source": [
        "### User 시청 정보 요약 "
      ]
    },
    {
      "cell_type": "code",
      "metadata": {
        "scrolled": false,
        "id": "cPQk09g38kuU",
        "outputId": "188af9a5-3385-4c99-9fe4-489642998ea1"
      },
      "source": [
        "genre,wtch=userId_wtch_movies(265,20)\n",
        "\n",
        "print(genre.head(50) ,'\\n')\n",
        "wtch.drop(['timestamp'],axis=1)"
      ],
      "execution_count": null,
      "outputs": [
        {
          "output_type": "stream",
          "text": [
            "                                  genre_rating  genre_cnt\n",
            "genres                                                   \n",
            "Drama                                 3.675000         40\n",
            "Comedy|Drama|Romance                  4.230769         13\n",
            "Drama|Romance                         3.900000         10\n",
            "Drama|War                             3.800000         10\n",
            "Comedy|Drama                          3.875000          8\n",
            "Comedy                                3.714286          7\n",
            "Drama|Mystery                         3.833333          6\n",
            "Crime|Drama                           4.333333          6\n",
            "Comedy|Romance                        4.250000          4\n",
            "Action|Drama|War                      4.333333          3\n",
            "Comedy|Drama|War                      4.000000          3\n",
            "Drama|Romance|War                     4.333333          3\n",
            "Drama|Western                         4.666667          3\n",
            "Drama|Romance|Thriller                3.500000          2\n",
            "Drama|Musical                         4.500000          2\n",
            "Adventure|Drama|War                   4.000000          2\n",
            "Documentary                           3.500000          2\n",
            "Crime|Film-Noir|Mystery|Thriller      4.000000          2\n",
            "Crime|Drama|Film-Noir                 4.500000          2\n",
            "Thriller                              4.000000          2\n",
            "Action|Western                        4.500000          2\n",
            "Adventure|Comedy|Romance              4.500000          2\n",
            "Action|Comedy|Sci-Fi                  4.000000          1\n",
            "Crime|Mystery|Thriller                5.000000          1\n",
            "Crime|Thriller                        5.000000          1\n",
            "Action|Drama|Romance|War              4.000000          1\n",
            "Action|Crime|Thriller                 4.000000          1\n",
            "Drama|Fantasy                         4.000000          1\n",
            "Drama|Fantasy|Mystery                 4.000000          1\n",
            "Drama|Film-Noir|Romance               5.000000          1\n",
            "Action|Crime|Drama                    4.000000          1\n",
            "Action|Crime                          2.000000          1\n",
            "Drama|Mystery|Thriller                3.000000          1\n",
            "Adventure|Drama                       4.000000          1\n",
            "Crime|Film-Noir|Mystery               4.000000          1\n",
            "Action|Adventure|Thriller             2.000000          1\n",
            "Drama|Thriller                        4.000000          1\n",
            "Action|Adventure|Drama|Western        5.000000          1\n",
            "Action|Adventure|Drama|War            4.000000          1\n",
            "Film-Noir|Mystery                     5.000000          1\n",
            "Film-Noir|Mystery|Thriller            5.000000          1\n",
            "Horror|Mystery                        3.000000          1\n",
            "Musical                               3.000000          1\n",
            "Musical|Romance                       5.000000          1\n",
            "Mystery|Thriller                      4.000000          1\n",
            "Action|Comedy                         4.000000          1\n",
            "Crime|Drama|Thriller                  4.000000          1\n",
            "Adventure|Drama|Romance               4.000000          1\n",
            "Crime|Drama|Romance|Thriller          3.000000          1\n",
            "Adventure|Crime|Drama                 5.000000          1 \n",
            "\n"
          ],
          "name": "stdout"
        },
        {
          "output_type": "execute_result",
          "data": {
            "text/html": [
              "<div>\n",
              "<style scoped>\n",
              "    .dataframe tbody tr th:only-of-type {\n",
              "        vertical-align: middle;\n",
              "    }\n",
              "\n",
              "    .dataframe tbody tr th {\n",
              "        vertical-align: top;\n",
              "    }\n",
              "\n",
              "    .dataframe thead th {\n",
              "        text-align: right;\n",
              "    }\n",
              "</style>\n",
              "<table border=\"1\" class=\"dataframe\">\n",
              "  <thead>\n",
              "    <tr style=\"text-align: right;\">\n",
              "      <th></th>\n",
              "      <th>userId</th>\n",
              "      <th>movieId</th>\n",
              "      <th>rating</th>\n",
              "      <th>title</th>\n",
              "      <th>genres</th>\n",
              "    </tr>\n",
              "  </thead>\n",
              "  <tbody>\n",
              "    <tr>\n",
              "      <th>0</th>\n",
              "      <td>265</td>\n",
              "      <td>1944</td>\n",
              "      <td>5.0</td>\n",
              "      <td>From Here to Eternity (1953)</td>\n",
              "      <td>Drama|Romance|War</td>\n",
              "    </tr>\n",
              "    <tr>\n",
              "      <th>1</th>\n",
              "      <td>265</td>\n",
              "      <td>936</td>\n",
              "      <td>5.0</td>\n",
              "      <td>Ninotchka (1939)</td>\n",
              "      <td>Comedy|Romance</td>\n",
              "    </tr>\n",
              "    <tr>\n",
              "      <th>2</th>\n",
              "      <td>265</td>\n",
              "      <td>3418</td>\n",
              "      <td>5.0</td>\n",
              "      <td>Thelma &amp; Louise (1991)</td>\n",
              "      <td>Adventure|Crime|Drama</td>\n",
              "    </tr>\n",
              "    <tr>\n",
              "      <th>3</th>\n",
              "      <td>265</td>\n",
              "      <td>1079</td>\n",
              "      <td>5.0</td>\n",
              "      <td>Fish Called Wanda, A (1988)</td>\n",
              "      <td>Comedy|Crime</td>\n",
              "    </tr>\n",
              "    <tr>\n",
              "      <th>4</th>\n",
              "      <td>265</td>\n",
              "      <td>1084</td>\n",
              "      <td>5.0</td>\n",
              "      <td>Bonnie and Clyde (1967)</td>\n",
              "      <td>Crime|Drama</td>\n",
              "    </tr>\n",
              "    <tr>\n",
              "      <th>5</th>\n",
              "      <td>265</td>\n",
              "      <td>1096</td>\n",
              "      <td>5.0</td>\n",
              "      <td>Sophie's Choice (1982)</td>\n",
              "      <td>Drama</td>\n",
              "    </tr>\n",
              "    <tr>\n",
              "      <th>6</th>\n",
              "      <td>265</td>\n",
              "      <td>1104</td>\n",
              "      <td>5.0</td>\n",
              "      <td>Streetcar Named Desire, A (1951)</td>\n",
              "      <td>Drama</td>\n",
              "    </tr>\n",
              "    <tr>\n",
              "      <th>7</th>\n",
              "      <td>265</td>\n",
              "      <td>3201</td>\n",
              "      <td>5.0</td>\n",
              "      <td>Five Easy Pieces (1970)</td>\n",
              "      <td>Drama</td>\n",
              "    </tr>\n",
              "    <tr>\n",
              "      <th>8</th>\n",
              "      <td>265</td>\n",
              "      <td>3200</td>\n",
              "      <td>5.0</td>\n",
              "      <td>Last Detail, The (1973)</td>\n",
              "      <td>Comedy|Drama</td>\n",
              "    </tr>\n",
              "    <tr>\n",
              "      <th>9</th>\n",
              "      <td>265</td>\n",
              "      <td>1283</td>\n",
              "      <td>5.0</td>\n",
              "      <td>High Noon (1952)</td>\n",
              "      <td>Drama|Western</td>\n",
              "    </tr>\n",
              "    <tr>\n",
              "      <th>10</th>\n",
              "      <td>265</td>\n",
              "      <td>3134</td>\n",
              "      <td>5.0</td>\n",
              "      <td>Grand Illusion (La grande illusion) (1937)</td>\n",
              "      <td>Drama|War</td>\n",
              "    </tr>\n",
              "    <tr>\n",
              "      <th>11</th>\n",
              "      <td>265</td>\n",
              "      <td>2132</td>\n",
              "      <td>5.0</td>\n",
              "      <td>Who's Afraid of Virginia Woolf? (1966)</td>\n",
              "      <td>Drama</td>\n",
              "    </tr>\n",
              "    <tr>\n",
              "      <th>12</th>\n",
              "      <td>265</td>\n",
              "      <td>2186</td>\n",
              "      <td>5.0</td>\n",
              "      <td>Strangers on a Train (1951)</td>\n",
              "      <td>Crime|Drama|Film-Noir|Thriller</td>\n",
              "    </tr>\n",
              "    <tr>\n",
              "      <th>13</th>\n",
              "      <td>265</td>\n",
              "      <td>1266</td>\n",
              "      <td>5.0</td>\n",
              "      <td>Unforgiven (1992)</td>\n",
              "      <td>Drama|Western</td>\n",
              "    </tr>\n",
              "    <tr>\n",
              "      <th>14</th>\n",
              "      <td>265</td>\n",
              "      <td>2300</td>\n",
              "      <td>5.0</td>\n",
              "      <td>Producers, The (1968)</td>\n",
              "      <td>Comedy</td>\n",
              "    </tr>\n",
              "    <tr>\n",
              "      <th>15</th>\n",
              "      <td>265</td>\n",
              "      <td>1254</td>\n",
              "      <td>5.0</td>\n",
              "      <td>Treasure of the Sierra Madre, The (1948)</td>\n",
              "      <td>Action|Adventure|Drama|Western</td>\n",
              "    </tr>\n",
              "    <tr>\n",
              "      <th>16</th>\n",
              "      <td>265</td>\n",
              "      <td>1212</td>\n",
              "      <td>5.0</td>\n",
              "      <td>Third Man, The (1949)</td>\n",
              "      <td>Film-Noir|Mystery|Thriller</td>\n",
              "    </tr>\n",
              "    <tr>\n",
              "      <th>17</th>\n",
              "      <td>265</td>\n",
              "      <td>1217</td>\n",
              "      <td>5.0</td>\n",
              "      <td>Ran (1985)</td>\n",
              "      <td>Drama|War</td>\n",
              "    </tr>\n",
              "    <tr>\n",
              "      <th>18</th>\n",
              "      <td>265</td>\n",
              "      <td>2951</td>\n",
              "      <td>5.0</td>\n",
              "      <td>Fistful of Dollars, A (Per un pugno di dollari...</td>\n",
              "      <td>Action|Western</td>\n",
              "    </tr>\n",
              "    <tr>\n",
              "      <th>19</th>\n",
              "      <td>265</td>\n",
              "      <td>2929</td>\n",
              "      <td>5.0</td>\n",
              "      <td>Reds (1981)</td>\n",
              "      <td>Drama|Romance</td>\n",
              "    </tr>\n",
              "  </tbody>\n",
              "</table>\n",
              "</div>"
            ],
            "text/plain": [
              "    userId  movieId  rating  \\\n",
              "0      265     1944     5.0   \n",
              "1      265      936     5.0   \n",
              "2      265     3418     5.0   \n",
              "3      265     1079     5.0   \n",
              "4      265     1084     5.0   \n",
              "5      265     1096     5.0   \n",
              "6      265     1104     5.0   \n",
              "7      265     3201     5.0   \n",
              "8      265     3200     5.0   \n",
              "9      265     1283     5.0   \n",
              "10     265     3134     5.0   \n",
              "11     265     2132     5.0   \n",
              "12     265     2186     5.0   \n",
              "13     265     1266     5.0   \n",
              "14     265     2300     5.0   \n",
              "15     265     1254     5.0   \n",
              "16     265     1212     5.0   \n",
              "17     265     1217     5.0   \n",
              "18     265     2951     5.0   \n",
              "19     265     2929     5.0   \n",
              "\n",
              "                                                title  \\\n",
              "0                        From Here to Eternity (1953)   \n",
              "1                                    Ninotchka (1939)   \n",
              "2                              Thelma & Louise (1991)   \n",
              "3                         Fish Called Wanda, A (1988)   \n",
              "4                             Bonnie and Clyde (1967)   \n",
              "5                              Sophie's Choice (1982)   \n",
              "6                    Streetcar Named Desire, A (1951)   \n",
              "7                             Five Easy Pieces (1970)   \n",
              "8                             Last Detail, The (1973)   \n",
              "9                                    High Noon (1952)   \n",
              "10         Grand Illusion (La grande illusion) (1937)   \n",
              "11             Who's Afraid of Virginia Woolf? (1966)   \n",
              "12                        Strangers on a Train (1951)   \n",
              "13                                  Unforgiven (1992)   \n",
              "14                              Producers, The (1968)   \n",
              "15           Treasure of the Sierra Madre, The (1948)   \n",
              "16                              Third Man, The (1949)   \n",
              "17                                         Ran (1985)   \n",
              "18  Fistful of Dollars, A (Per un pugno di dollari...   \n",
              "19                                        Reds (1981)   \n",
              "\n",
              "                            genres  \n",
              "0                Drama|Romance|War  \n",
              "1                   Comedy|Romance  \n",
              "2            Adventure|Crime|Drama  \n",
              "3                     Comedy|Crime  \n",
              "4                      Crime|Drama  \n",
              "5                            Drama  \n",
              "6                            Drama  \n",
              "7                            Drama  \n",
              "8                     Comedy|Drama  \n",
              "9                    Drama|Western  \n",
              "10                       Drama|War  \n",
              "11                           Drama  \n",
              "12  Crime|Drama|Film-Noir|Thriller  \n",
              "13                   Drama|Western  \n",
              "14                          Comedy  \n",
              "15  Action|Adventure|Drama|Western  \n",
              "16      Film-Noir|Mystery|Thriller  \n",
              "17                       Drama|War  \n",
              "18                  Action|Western  \n",
              "19                   Drama|Romance  "
            ]
          },
          "metadata": {
            "tags": []
          },
          "execution_count": 41
        }
      ]
    },
    {
      "cell_type": "markdown",
      "metadata": {
        "id": "XVyOEH8q8kuV"
      },
      "source": [
        ""
      ]
    },
    {
      "cell_type": "markdown",
      "metadata": {
        "id": "AyBewwTl8kuV"
      },
      "source": [
        "## SVD Source "
      ]
    },
    {
      "cell_type": "code",
      "metadata": {
        "id": "adeCfhmc8kuV",
        "outputId": "aa246fae-9865-4356-922e-0c7802e78a11"
      },
      "source": [
        "from surprise import SVD, SVDpp, SlopeOne, NMF, NormalPredictor, KNNBasic, KNNBaseline, KNNWithMeans, KNNWithZScore, BaselineOnly, CoClustering\n",
        "# from sklearn.model_selection import cross_validate 사이킷런의 크로스벨리데이션이 아니다.\n",
        "from surprise.model_selection import cross_validate\n",
        "\n",
        "\n",
        "benchmark = []\n",
        "# 모든 알고리즘을 literate화 시켜서 반복문을 실행시킨다.\n",
        "#for algorithm in [SVD(), SVDpp(), SlopeOne(), NMF(), NormalPredictor(), KNNBaseline(), KNNBasic(), KNNWithMeans(), KNNWithZScore(), BaselineOnly(), CoClustering()]:\n",
        "for algorithm in [SVD(),KNNBasic()]:\n",
        "    \n",
        "    # 교차검증을 수행하는 단계.\n",
        "    results = cross_validate(algorithm, data, measures=['RMSE'], cv=3, verbose=False)\n",
        "    \n",
        "    # 결과 저장과 알고리즘 이름 추가.\n",
        "    tmp = pd.DataFrame.from_dict(results).mean(axis=0)\n",
        "    tmp = tmp.append(pd.Series([str(algorithm).split(' ')[0].split('.')[-1]], index=['Algorithm']))\n",
        "    benchmark.append(tmp)\n",
        "    \n",
        "pd.DataFrame(benchmark).set_index('Algorithm').sort_values('test_rmse')    "
      ],
      "execution_count": null,
      "outputs": [
        {
          "output_type": "stream",
          "text": [
            "Computing the msd similarity matrix...\n",
            "Done computing similarity matrix.\n",
            "Computing the msd similarity matrix...\n",
            "Done computing similarity matrix.\n",
            "Computing the msd similarity matrix...\n",
            "Done computing similarity matrix.\n"
          ],
          "name": "stdout"
        },
        {
          "output_type": "execute_result",
          "data": {
            "text/html": [
              "<div>\n",
              "<style scoped>\n",
              "    .dataframe tbody tr th:only-of-type {\n",
              "        vertical-align: middle;\n",
              "    }\n",
              "\n",
              "    .dataframe tbody tr th {\n",
              "        vertical-align: top;\n",
              "    }\n",
              "\n",
              "    .dataframe thead th {\n",
              "        text-align: right;\n",
              "    }\n",
              "</style>\n",
              "<table border=\"1\" class=\"dataframe\">\n",
              "  <thead>\n",
              "    <tr style=\"text-align: right;\">\n",
              "      <th></th>\n",
              "      <th>test_rmse</th>\n",
              "      <th>fit_time</th>\n",
              "      <th>test_time</th>\n",
              "    </tr>\n",
              "    <tr>\n",
              "      <th>Algorithm</th>\n",
              "      <th></th>\n",
              "      <th></th>\n",
              "      <th></th>\n",
              "    </tr>\n",
              "  </thead>\n",
              "  <tbody>\n",
              "    <tr>\n",
              "      <th>SVD</th>\n",
              "      <td>0.887312</td>\n",
              "      <td>4.419169</td>\n",
              "      <td>0.294237</td>\n",
              "    </tr>\n",
              "    <tr>\n",
              "      <th>KNNBasic</th>\n",
              "      <td>0.946437</td>\n",
              "      <td>0.087099</td>\n",
              "      <td>2.825109</td>\n",
              "    </tr>\n",
              "  </tbody>\n",
              "</table>\n",
              "</div>"
            ],
            "text/plain": [
              "           test_rmse  fit_time  test_time\n",
              "Algorithm                                \n",
              "SVD         0.887312  4.419169   0.294237\n",
              "KNNBasic    0.946437  0.087099   2.825109"
            ]
          },
          "metadata": {
            "tags": []
          },
          "execution_count": 29
        }
      ]
    },
    {
      "cell_type": "code",
      "metadata": {
        "id": "bmLwgbxQ8kuV",
        "outputId": "be56f279-5bd7-4026-a45a-3f1317e20c97"
      },
      "source": [
        "print('Using ALS')\n",
        "bsl_options = {'method': 'als',\n",
        "               'n_epochs': 5,\n",
        "               'reg_u': 12,\n",
        "               'reg_i': 5\n",
        "               }\n",
        "algo = BaselineOnly(bsl_options=bsl_options)\n",
        "cross_validate(algo, data, measures=['RMSE'], cv=3, verbose=False)"
      ],
      "execution_count": null,
      "outputs": [
        {
          "output_type": "stream",
          "text": [
            "Using ALS\n",
            "Estimating biases using als...\n",
            "Estimating biases using als...\n",
            "Estimating biases using als...\n"
          ],
          "name": "stdout"
        },
        {
          "output_type": "execute_result",
          "data": {
            "text/plain": [
              "{'test_rmse': array([0.88193893, 0.87243302, 0.88330938]),\n",
              " 'fit_time': (0.11768555641174316, 0.09470963478088379, 0.09773993492126465),\n",
              " 'test_time': (0.3041858673095703, 0.226395845413208, 0.2094409465789795)}"
            ]
          },
          "metadata": {
            "tags": []
          },
          "execution_count": 30
        }
      ]
    },
    {
      "cell_type": "code",
      "metadata": {
        "id": "hbwjLJhq8kuV",
        "outputId": "8733843c-82cb-4353-e0cc-21a6ef7dcc01"
      },
      "source": [
        "# 알고리즘 : SVD 모델 training\n",
        "from surprise.model_selection import train_test_split\n",
        "from surprise import accuracy\n",
        "\n",
        "trainset, testset = train_test_split(data, test_size=0.25)\n",
        "\n",
        "algo =  SVD(n_factors=100, n_epochs=100,random_state=123)\n",
        "predictions = algo.fit(trainset).test(testset)\n",
        "accuracy.rmse(predictions)"
      ],
      "execution_count": null,
      "outputs": [
        {
          "output_type": "stream",
          "text": [
            "RMSE: 0.9021\n"
          ],
          "name": "stdout"
        },
        {
          "output_type": "execute_result",
          "data": {
            "text/plain": [
              "0.9020932791281736"
            ]
          },
          "metadata": {
            "tags": []
          },
          "execution_count": 31
        }
      ]
    },
    {
      "cell_type": "code",
      "metadata": {
        "id": "rSkqPQ5j8kuV",
        "outputId": "cadfcbaf-7e30-4d3b-8366-b81c1c667162"
      },
      "source": [
        "# predict 를 통해 user 에 대한 item의 평점을 예측\n",
        "# user, itemid 로 평점 예측\n",
        "#df_r=df[(df['uid'] == 264)].sort_values('err',ascending=True)\n",
        "#recommendations = ori_movies_df[~ori_movies_df['movieId'].isin(user_history['movieId'])]\n",
        "algo.predict(265,1088,)"
      ],
      "execution_count": null,
      "outputs": [
        {
          "output_type": "execute_result",
          "data": {
            "text/plain": [
              "Prediction(uid=265, iid=1088, r_ui=None, est=3.5883573523417986, details={'was_impossible': False})"
            ]
          },
          "metadata": {
            "tags": []
          },
          "execution_count": 32
        }
      ]
    },
    {
      "cell_type": "code",
      "metadata": {
        "id": "UiKyCpHu8kuW",
        "outputId": "b41b49e3-1507-46dd-86e1-75ca24f7e053"
      },
      "source": [
        "#def recommand_movie(df_org, uid):\n",
        "df_movieid_for_uid=ratings[(ratings['userId'] == 264)][['userId','movieId']]\n",
        "df_movieid_for_uid.head()"
      ],
      "execution_count": null,
      "outputs": [
        {
          "output_type": "execute_result",
          "data": {
            "text/html": [
              "<div>\n",
              "<style scoped>\n",
              "    .dataframe tbody tr th:only-of-type {\n",
              "        vertical-align: middle;\n",
              "    }\n",
              "\n",
              "    .dataframe tbody tr th {\n",
              "        vertical-align: top;\n",
              "    }\n",
              "\n",
              "    .dataframe thead th {\n",
              "        text-align: right;\n",
              "    }\n",
              "</style>\n",
              "<table border=\"1\" class=\"dataframe\">\n",
              "  <thead>\n",
              "    <tr style=\"text-align: right;\">\n",
              "      <th></th>\n",
              "      <th>userId</th>\n",
              "      <th>movieId</th>\n",
              "    </tr>\n",
              "  </thead>\n",
              "  <tbody>\n",
              "    <tr>\n",
              "      <th>36773</th>\n",
              "      <td>264</td>\n",
              "      <td>39</td>\n",
              "    </tr>\n",
              "    <tr>\n",
              "      <th>36774</th>\n",
              "      <td>264</td>\n",
              "      <td>342</td>\n",
              "    </tr>\n",
              "    <tr>\n",
              "      <th>36775</th>\n",
              "      <td>264</td>\n",
              "      <td>356</td>\n",
              "    </tr>\n",
              "    <tr>\n",
              "      <th>36776</th>\n",
              "      <td>264</td>\n",
              "      <td>357</td>\n",
              "    </tr>\n",
              "    <tr>\n",
              "      <th>36777</th>\n",
              "      <td>264</td>\n",
              "      <td>377</td>\n",
              "    </tr>\n",
              "  </tbody>\n",
              "</table>\n",
              "</div>"
            ],
            "text/plain": [
              "       userId  movieId\n",
              "36773     264       39\n",
              "36774     264      342\n",
              "36775     264      356\n",
              "36776     264      357\n",
              "36777     264      377"
            ]
          },
          "metadata": {
            "tags": []
          },
          "execution_count": 33
        }
      ]
    },
    {
      "cell_type": "code",
      "metadata": {
        "id": "QzalhIft8kuW",
        "outputId": "437894e2-270a-428a-98ea-0f5a54474284"
      },
      "source": [
        "df_movieid_for_uid_omit=movies[~movies['movieId'].isin(df_movieid_for_uid['movieId'])]\n",
        "recommand = df_movieid_for_uid_omit[['movieId']].values.reshape(-1)\n",
        "recommand"
      ],
      "execution_count": null,
      "outputs": [
        {
          "output_type": "execute_result",
          "data": {
            "text/plain": [
              "array([     1,      2,      3, ..., 163949, 164977, 164979], dtype=int64)"
            ]
          },
          "metadata": {
            "tags": []
          },
          "execution_count": 34
        }
      ]
    },
    {
      "cell_type": "code",
      "metadata": {
        "id": "EdlOadm78kuW",
        "outputId": "a43e542d-6372-4bc0-e6d1-2019474315b6"
      },
      "source": [
        "import numpy as np\n",
        "recm=np.empty((1,3))\n",
        "j=2\n",
        "t=[1,2,3]\n",
        "a,b,c,d,e=algo.predict(264,j,)\n",
        "f=pd.DataFrame({'uid':a,'mid':b,'x':c,'est':d,'desc':e}).to_numpy()[0][t]\n",
        "#t=[0,1,3]\n",
        "#f[0][t]\n",
        "f"
      ],
      "execution_count": null,
      "outputs": [
        {
          "output_type": "execute_result",
          "data": {
            "text/plain": [
              "array([2, None, 3.786466522965907], dtype=object)"
            ]
          },
          "metadata": {
            "tags": []
          },
          "execution_count": 35
        }
      ]
    },
    {
      "cell_type": "code",
      "metadata": {
        "id": "Y6vdXSIu8kuW",
        "outputId": "45e717fd-66b3-4769-8e26-6866b803fd6d"
      },
      "source": [
        "recm=np.empty((1,3))\n",
        "t=[0,1,3] #필요 필드만 index 로 걸러냄\n",
        "print(recm,recm.shape)\n",
        "for j in recommand:\n",
        "    a,b,c,d,e=algo.predict(264,j,)\n",
        "    k=pd.DataFrame({'uid':a,'mid':b,'x':c,'est':d,'desc':e}).to_numpy()[0][t].reshape(1,3)\n",
        "    recm=np.append(recm,k,axis=0)\n",
        "\n",
        "recm = np.delete(recm, [0, -1], axis=0) #첫번째 값 초기화 필드 삭제\n",
        "recm = pd.DataFrame(recm,columns=['userId','movieId','est']).sort_values('est',ascending=False).head(20)"
      ],
      "execution_count": null,
      "outputs": [
        {
          "output_type": "stream",
          "text": [
            "[[3.26083326e-322 3.95252517e-323 8.45316546e-308]] (1, 3)\n"
          ],
          "name": "stdout"
        }
      ]
    },
    {
      "cell_type": "code",
      "metadata": {
        "id": "L3kFNfQr8kuW",
        "outputId": "3d5a11d4-fd06-4adc-a29d-333524306d78"
      },
      "source": [
        "recm=pd.DataFrame(columns=['userId','movieId','x','est','desc'])\n",
        "for j in recommand:\n",
        "    a,b,c,d,e=algo.predict(264,j,)\n",
        "    k=pd.DataFrame({'userId':a,'movieId':b,'x':c,'est':d,'desc':e}).reset_index()\n",
        "    recm=recm.append(k)\n",
        "\n",
        "# rating 상위 20개 영화 추출\n",
        "recm = recm[['userId','movieId','est']].sort_values('est',ascending=False).head(20)\n",
        "print(recm)"
      ],
      "execution_count": null,
      "outputs": [
        {
          "output_type": "stream",
          "text": [
            "  userId movieId       est\n",
            "0    264     926  5.000000\n",
            "0    264    2324  5.000000\n",
            "0    264    1252  5.000000\n",
            "0    264     922  5.000000\n",
            "0    264    3022  5.000000\n",
            "0    264    4973  5.000000\n",
            "0    264    1945  5.000000\n",
            "0    264    1293  5.000000\n",
            "0    264    1278  5.000000\n",
            "0    264     260  5.000000\n",
            "0    264    2028  5.000000\n",
            "0    264   71899  5.000000\n",
            "0    264    1196  4.991025\n",
            "0    264    2858  4.990744\n",
            "0    264    1247  4.988442\n",
            "0    264    1952  4.987864\n",
            "0    264    5995  4.979885\n",
            "0    264    1284  4.974290\n",
            "0    264   54259  4.968104\n",
            "0    264     899  4.961227\n"
          ],
          "name": "stdout"
        }
      ]
    },
    {
      "cell_type": "code",
      "metadata": {
        "id": "9adFqKP98kuW"
      },
      "source": [
        "# User 영화 추출 함수\n",
        "def recommand_movie(userId,cnt):\n",
        "    userId=userId\n",
        "    cnt=cnt\n",
        "    \n",
        "    # rating 에서 시청한 userId, movieId 추출\n",
        "    df_movieid_for_uid=ratings[(ratings['userId'] == userId)][['userId','movieId']]\n",
        "    df_movieid_for_uid.head()\n",
        "    \n",
        "    # userId가 시청한 movieId 를 제외한 movieId를 추출\n",
        "    df_movieid_for_uid_omit=movies[~movies['movieId'].isin(df_movieid_for_uid['movieId'])]\n",
        "    recommand = df_movieid_for_uid_omit[['movieId']].values.reshape(-1)\n",
        "    \n",
        "    # 시청하지 않은 movieId의 점수를 예측함\n",
        "    recm=pd.DataFrame(columns=['userId','movieId','x','est','desc'])\n",
        "    for j in recommand:\n",
        "        a,b,c,d,e=algo.predict(userId,j,)\n",
        "        k=pd.DataFrame({'userId':a,'movieId':b,'x':c,'est':d,'desc':e}).reset_index()\n",
        "        recm=recm.append(k)\n",
        "    \n",
        "    # rating 상위 20개 영화 추출\n",
        "    recm = recm[['userId','movieId','est']].sort_values('est',ascending=False).head(cnt)\n",
        "    print(recm)\n",
        "    \n",
        "    return recm"
      ],
      "execution_count": null,
      "outputs": []
    },
    {
      "cell_type": "code",
      "metadata": {
        "id": "Ku3Xu4vC8kuX",
        "outputId": "1d975871-c026-4084-84ec-eb50015a2e8d"
      },
      "source": [
        "# 선호 영화 예측\n",
        "recm=recommand_movie(265,20)  # userId, cnt(추천콘텐츠갯수)"
      ],
      "execution_count": null,
      "outputs": [
        {
          "output_type": "stream",
          "text": [
            "  userId movieId       est\n",
            "0    265     745  5.000000\n",
            "0    265     926  5.000000\n",
            "0    265     246  4.959203\n",
            "0    265     905  4.812423\n",
            "0    265     501  4.811066\n",
            "0    265    1192  4.809912\n",
            "0    265  109374  4.782918\n",
            "0    265    1288  4.782065\n",
            "0    265    1148  4.766022\n",
            "0    265    1272  4.747148\n",
            "0    265    1218  4.746716\n",
            "0    265     903  4.741739\n",
            "0    265    1923  4.740551\n",
            "0    265    1408  4.720840\n",
            "0    265    2064  4.716604\n",
            "0    265  122900  4.711377\n",
            "0    265    1287  4.686222\n",
            "0    265     116  4.663402\n",
            "0    265    1959  4.661215\n",
            "0    265   40629  4.659583\n"
          ],
          "name": "stdout"
        }
      ]
    },
    {
      "cell_type": "code",
      "metadata": {
        "id": "7eRTeqyp8kuX",
        "outputId": "c1db52b0-88f5-46bb-957d-b16f09459bcd"
      },
      "source": [
        "# 추천 영화 List\n",
        "pd.merge(recm, movies, on='movieId')"
      ],
      "execution_count": null,
      "outputs": [
        {
          "output_type": "execute_result",
          "data": {
            "text/html": [
              "<div>\n",
              "<style scoped>\n",
              "    .dataframe tbody tr th:only-of-type {\n",
              "        vertical-align: middle;\n",
              "    }\n",
              "\n",
              "    .dataframe tbody tr th {\n",
              "        vertical-align: top;\n",
              "    }\n",
              "\n",
              "    .dataframe thead th {\n",
              "        text-align: right;\n",
              "    }\n",
              "</style>\n",
              "<table border=\"1\" class=\"dataframe\">\n",
              "  <thead>\n",
              "    <tr style=\"text-align: right;\">\n",
              "      <th></th>\n",
              "      <th>userId</th>\n",
              "      <th>movieId</th>\n",
              "      <th>est</th>\n",
              "      <th>title</th>\n",
              "      <th>genres</th>\n",
              "    </tr>\n",
              "  </thead>\n",
              "  <tbody>\n",
              "    <tr>\n",
              "      <th>0</th>\n",
              "      <td>265</td>\n",
              "      <td>745</td>\n",
              "      <td>5.000000</td>\n",
              "      <td>Wallace &amp; Gromit: A Close Shave (1995)</td>\n",
              "      <td>Animation|Children|Comedy</td>\n",
              "    </tr>\n",
              "    <tr>\n",
              "      <th>1</th>\n",
              "      <td>265</td>\n",
              "      <td>926</td>\n",
              "      <td>5.000000</td>\n",
              "      <td>All About Eve (1950)</td>\n",
              "      <td>Drama</td>\n",
              "    </tr>\n",
              "    <tr>\n",
              "      <th>2</th>\n",
              "      <td>265</td>\n",
              "      <td>246</td>\n",
              "      <td>4.959203</td>\n",
              "      <td>Hoop Dreams (1994)</td>\n",
              "      <td>Documentary</td>\n",
              "    </tr>\n",
              "    <tr>\n",
              "      <th>3</th>\n",
              "      <td>265</td>\n",
              "      <td>905</td>\n",
              "      <td>4.812423</td>\n",
              "      <td>It Happened One Night (1934)</td>\n",
              "      <td>Comedy|Romance</td>\n",
              "    </tr>\n",
              "    <tr>\n",
              "      <th>4</th>\n",
              "      <td>265</td>\n",
              "      <td>501</td>\n",
              "      <td>4.811066</td>\n",
              "      <td>Naked (1993)</td>\n",
              "      <td>Drama</td>\n",
              "    </tr>\n",
              "    <tr>\n",
              "      <th>5</th>\n",
              "      <td>265</td>\n",
              "      <td>1192</td>\n",
              "      <td>4.809912</td>\n",
              "      <td>Paris Is Burning (1990)</td>\n",
              "      <td>Documentary</td>\n",
              "    </tr>\n",
              "    <tr>\n",
              "      <th>6</th>\n",
              "      <td>265</td>\n",
              "      <td>109374</td>\n",
              "      <td>4.782918</td>\n",
              "      <td>Grand Budapest Hotel, The (2014)</td>\n",
              "      <td>Comedy|Drama</td>\n",
              "    </tr>\n",
              "    <tr>\n",
              "      <th>7</th>\n",
              "      <td>265</td>\n",
              "      <td>1288</td>\n",
              "      <td>4.782065</td>\n",
              "      <td>This Is Spinal Tap (1984)</td>\n",
              "      <td>Comedy</td>\n",
              "    </tr>\n",
              "    <tr>\n",
              "      <th>8</th>\n",
              "      <td>265</td>\n",
              "      <td>1148</td>\n",
              "      <td>4.766022</td>\n",
              "      <td>Wallace &amp; Gromit: The Wrong Trousers (1993)</td>\n",
              "      <td>Animation|Children|Comedy|Crime</td>\n",
              "    </tr>\n",
              "    <tr>\n",
              "      <th>9</th>\n",
              "      <td>265</td>\n",
              "      <td>1272</td>\n",
              "      <td>4.747148</td>\n",
              "      <td>Patton (1970)</td>\n",
              "      <td>Drama|War</td>\n",
              "    </tr>\n",
              "    <tr>\n",
              "      <th>10</th>\n",
              "      <td>265</td>\n",
              "      <td>1218</td>\n",
              "      <td>4.746716</td>\n",
              "      <td>Killer, The (Die xue shuang xiong) (1989)</td>\n",
              "      <td>Action|Crime|Drama|Thriller</td>\n",
              "    </tr>\n",
              "    <tr>\n",
              "      <th>11</th>\n",
              "      <td>265</td>\n",
              "      <td>903</td>\n",
              "      <td>4.741739</td>\n",
              "      <td>Vertigo (1958)</td>\n",
              "      <td>Drama|Mystery|Romance|Thriller</td>\n",
              "    </tr>\n",
              "    <tr>\n",
              "      <th>12</th>\n",
              "      <td>265</td>\n",
              "      <td>1923</td>\n",
              "      <td>4.740551</td>\n",
              "      <td>There's Something About Mary (1998)</td>\n",
              "      <td>Comedy|Romance</td>\n",
              "    </tr>\n",
              "    <tr>\n",
              "      <th>13</th>\n",
              "      <td>265</td>\n",
              "      <td>1408</td>\n",
              "      <td>4.720840</td>\n",
              "      <td>Last of the Mohicans, The (1992)</td>\n",
              "      <td>Action|Romance|War|Western</td>\n",
              "    </tr>\n",
              "    <tr>\n",
              "      <th>14</th>\n",
              "      <td>265</td>\n",
              "      <td>2064</td>\n",
              "      <td>4.716604</td>\n",
              "      <td>Roger &amp; Me (1989)</td>\n",
              "      <td>Documentary</td>\n",
              "    </tr>\n",
              "    <tr>\n",
              "      <th>15</th>\n",
              "      <td>265</td>\n",
              "      <td>122900</td>\n",
              "      <td>4.711377</td>\n",
              "      <td>Ant-Man (2015)</td>\n",
              "      <td>Action|Adventure|Sci-Fi</td>\n",
              "    </tr>\n",
              "    <tr>\n",
              "      <th>16</th>\n",
              "      <td>265</td>\n",
              "      <td>1287</td>\n",
              "      <td>4.686222</td>\n",
              "      <td>Ben-Hur (1959)</td>\n",
              "      <td>Action|Adventure|Drama</td>\n",
              "    </tr>\n",
              "    <tr>\n",
              "      <th>17</th>\n",
              "      <td>265</td>\n",
              "      <td>116</td>\n",
              "      <td>4.663402</td>\n",
              "      <td>Anne Frank Remembered (1995)</td>\n",
              "      <td>Documentary</td>\n",
              "    </tr>\n",
              "    <tr>\n",
              "      <th>18</th>\n",
              "      <td>265</td>\n",
              "      <td>1959</td>\n",
              "      <td>4.661215</td>\n",
              "      <td>Out of Africa (1985)</td>\n",
              "      <td>Drama|Romance</td>\n",
              "    </tr>\n",
              "    <tr>\n",
              "      <th>19</th>\n",
              "      <td>265</td>\n",
              "      <td>40629</td>\n",
              "      <td>4.659583</td>\n",
              "      <td>Pride &amp; Prejudice (2005)</td>\n",
              "      <td>Drama|Romance</td>\n",
              "    </tr>\n",
              "  </tbody>\n",
              "</table>\n",
              "</div>"
            ],
            "text/plain": [
              "   userId movieId       est                                        title  \\\n",
              "0     265     745  5.000000       Wallace & Gromit: A Close Shave (1995)   \n",
              "1     265     926  5.000000                         All About Eve (1950)   \n",
              "2     265     246  4.959203                           Hoop Dreams (1994)   \n",
              "3     265     905  4.812423                 It Happened One Night (1934)   \n",
              "4     265     501  4.811066                                 Naked (1993)   \n",
              "5     265    1192  4.809912                      Paris Is Burning (1990)   \n",
              "6     265  109374  4.782918             Grand Budapest Hotel, The (2014)   \n",
              "7     265    1288  4.782065                    This Is Spinal Tap (1984)   \n",
              "8     265    1148  4.766022  Wallace & Gromit: The Wrong Trousers (1993)   \n",
              "9     265    1272  4.747148                                Patton (1970)   \n",
              "10    265    1218  4.746716    Killer, The (Die xue shuang xiong) (1989)   \n",
              "11    265     903  4.741739                               Vertigo (1958)   \n",
              "12    265    1923  4.740551          There's Something About Mary (1998)   \n",
              "13    265    1408  4.720840             Last of the Mohicans, The (1992)   \n",
              "14    265    2064  4.716604                            Roger & Me (1989)   \n",
              "15    265  122900  4.711377                               Ant-Man (2015)   \n",
              "16    265    1287  4.686222                               Ben-Hur (1959)   \n",
              "17    265     116  4.663402                 Anne Frank Remembered (1995)   \n",
              "18    265    1959  4.661215                         Out of Africa (1985)   \n",
              "19    265   40629  4.659583                     Pride & Prejudice (2005)   \n",
              "\n",
              "                             genres  \n",
              "0         Animation|Children|Comedy  \n",
              "1                             Drama  \n",
              "2                       Documentary  \n",
              "3                    Comedy|Romance  \n",
              "4                             Drama  \n",
              "5                       Documentary  \n",
              "6                      Comedy|Drama  \n",
              "7                            Comedy  \n",
              "8   Animation|Children|Comedy|Crime  \n",
              "9                         Drama|War  \n",
              "10      Action|Crime|Drama|Thriller  \n",
              "11   Drama|Mystery|Romance|Thriller  \n",
              "12                   Comedy|Romance  \n",
              "13       Action|Romance|War|Western  \n",
              "14                      Documentary  \n",
              "15          Action|Adventure|Sci-Fi  \n",
              "16           Action|Adventure|Drama  \n",
              "17                      Documentary  \n",
              "18                    Drama|Romance  \n",
              "19                    Drama|Romance  "
            ]
          },
          "metadata": {
            "tags": []
          },
          "execution_count": 47
        }
      ]
    },
    {
      "cell_type": "code",
      "metadata": {
        "id": "JS6LuJlG8kuX"
      },
      "source": [
        "np.set_printoptions(linewidth=np.inf)"
      ],
      "execution_count": null,
      "outputs": []
    },
    {
      "cell_type": "code",
      "metadata": {
        "id": "hnraViNU8kuX"
      },
      "source": [
        "# userId 시청 영화 확인\n",
        "def userId_wtch_movies(userId,cnt):\n",
        "    userId_genre=pd.DataFrame()\n",
        "    userId_genre['genre_rating']=pd.merge(ratings[(ratings['userId'] == userId)],movies, on='movieId').groupby('genres')['rating'].mean()\n",
        "    userId_genre['genre_cnt']=pd.merge(ratings[(ratings['userId'] == userId)],movies, on='movieId').groupby('genres')['rating'].count()\n",
        "    userId_genre_r = userId_genre.sort_values('genre_cnt',ascending=False)\n",
        "    \n",
        "    userId_movie_l = \\\n",
        "    pd.merge(ratings[(ratings['userId'] == userId)].sort_values('rating',ascending=False).head(cnt),movies, on='movieId')\n",
        "    \n",
        "    return userId_genre_r, userId_movie_l\n",
        "\n",
        "\n",
        "genre,wtch=userId_wtch_movies(266,20)\n",
        "\n",
        "\n",
        "print(genre ,'\\n')\n",
        "wtch\n",
        "#data = ratings['rating'].value_counts().sort_index(ascending=True)\n",
        "#ratings.groupby('userId')['rating'].count().reset_index().sort_values('rating',ascending=False)\n",
        "#pd.merge(ratings[(ratings['userId'] == 266)].sort_values('rating',ascending=False).head(20),movies, on='movieId')"
      ],
      "execution_count": null,
      "outputs": []
    },
    {
      "cell_type": "code",
      "metadata": {
        "id": "tEQr-fKi8kuX"
      },
      "source": [
        "genre"
      ],
      "execution_count": null,
      "outputs": []
    },
    {
      "cell_type": "code",
      "metadata": {
        "id": "kQ4Tv5vh8kuX"
      },
      "source": [
        "\n",
        "def get_Iu(uid):\n",
        "    \"\"\" return the number of items rated by given user\n",
        "    args: \n",
        "      uid: the id of the user\n",
        "    returns: \n",
        "      the number of items rated by the user\n",
        "    \"\"\"\n",
        "    try:\n",
        "        return len(trainset.ur[trainset.to_inner_uid(uid)])\n",
        "    except ValueError: # user was not part of the trainset\n",
        "        return 0\n",
        "    \n",
        "def get_Ui(movieId):\n",
        "    \"\"\" return number of users that have rated given item\n",
        "    args:\n",
        "      movieId: the raw id of the item\n",
        "    returns:\n",
        "      the number of users that have rated the item.\n",
        "    \"\"\"\n",
        "    try: \n",
        "        return len(trainset.ir[trainset.to_inner_iid(movieId)])\n",
        "    except ValueError:\n",
        "        return 0\n",
        "    \n",
        "df = pd.DataFrame(predictions, columns=['uid', 'movieId', 'rui', 'est', 'details'])\n",
        "df['Iu'] = df.uid.apply(get_Iu)\n",
        "df['Ui'] = df.movieId.apply(get_Ui)\n",
        "df['err'] = abs(df.est - df.rui)\n",
        "best_predictions = df.sort_values(by='err')[:10]\n",
        "worst_predictions = df.sort_values(by='err')[-10:]"
      ],
      "execution_count": null,
      "outputs": []
    },
    {
      "cell_type": "code",
      "metadata": {
        "id": "FeoOzqhb8kuY"
      },
      "source": [
        "#df['uid'==264]\n",
        "df_r=df[(df['uid'] == 264)].sort_values('err',ascending=True)\n",
        "df_r"
      ],
      "execution_count": null,
      "outputs": []
    },
    {
      "cell_type": "code",
      "metadata": {
        "id": "XlHP9PWr8kuY"
      },
      "source": [
        "# 본것들을 걸러내는 작업이 필요함\n",
        "df_rec=pd.merge(df_r,movies,on='movieId')"
      ],
      "execution_count": null,
      "outputs": []
    },
    {
      "cell_type": "code",
      "metadata": {
        "id": "s5eEt5c08kuY"
      },
      "source": [
        "df_rec"
      ],
      "execution_count": null,
      "outputs": []
    },
    {
      "cell_type": "code",
      "metadata": {
        "id": "za4mSKX-8kuY"
      },
      "source": [
        "predictions"
      ],
      "execution_count": null,
      "outputs": []
    },
    {
      "cell_type": "code",
      "metadata": {
        "scrolled": true,
        "id": "liuJqMnA8kuY"
      },
      "source": [
        "df_o=ratings[(ratings['userId'] == 264)]\n",
        "df_o"
      ],
      "execution_count": null,
      "outputs": []
    },
    {
      "cell_type": "code",
      "metadata": {
        "id": "dkfA1q-J8kuY"
      },
      "source": [
        ""
      ],
      "execution_count": null,
      "outputs": []
    }
  ]
}