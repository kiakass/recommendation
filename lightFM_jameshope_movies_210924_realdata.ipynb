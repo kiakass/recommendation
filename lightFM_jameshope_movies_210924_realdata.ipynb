{
  "nbformat": 4,
  "nbformat_minor": 0,
  "metadata": {
    "kernelspec": {
      "display_name": "Python 3",
      "language": "python",
      "name": "python3"
    },
    "language_info": {
      "codemirror_mode": {
        "name": "ipython",
        "version": 3
      },
      "file_extension": ".py",
      "mimetype": "text/x-python",
      "name": "python",
      "nbconvert_exporter": "python",
      "pygments_lexer": "ipython3",
      "version": "3.6.9"
    },
    "colab": {
      "name": "lightFM_jameshope_movies_210924_realdata.ipynb",
      "provenance": [],
      "collapsed_sections": [],
      "machine_shape": "hm",
      "include_colab_link": true
    },
    "accelerator": "TPU"
  },
  "cells": [
    {
      "cell_type": "markdown",
      "metadata": {
        "id": "view-in-github",
        "colab_type": "text"
      },
      "source": [
        "<a href=\"https://colab.research.google.com/github/kiakass/recommendation/blob/main/lightFM_jameshope_movies_210924_realdata.ipynb\" target=\"_parent\"><img src=\"https://colab.research.google.com/assets/colab-badge.svg\" alt=\"Open In Colab\"/></a>"
      ]
    },
    {
      "cell_type": "markdown",
      "metadata": {
        "id": "XAwn4B7hqo13"
      },
      "source": [
        "Reference site : https://greeksharifa.github.io/machine_learning/2020/06/01/LightFM/ <br>\n",
        "thesis : https://github.com/kiakass/share/blob/master/Metadata%20Embeddings%20for%20User%20and%20Item%20Cold-start%20.pdf <br>\n",
        "LightFM’s documentation! : https://making.lyst.com/lightfm/docs/home.html <br>\n",
        "WARP : https://making.lyst.com/lightfm/docs/examples/warp_loss.html#preliminaries<br>\n",
        "precision@k : https://github.com/lyst/lightfm/blob/master/examples/movielens/readme.md <br>\n"
      ]
    },
    {
      "cell_type": "code",
      "metadata": {
        "colab": {
          "base_uri": "https://localhost:8080/"
        },
        "id": "g-bFJ-ecD-aV",
        "outputId": "25d77ffa-f247-4f9e-e834-ad65a60f043f"
      },
      "source": [
        "!pip install feather-format"
      ],
      "execution_count": 1,
      "outputs": [
        {
          "output_type": "stream",
          "name": "stdout",
          "text": [
            "Requirement already satisfied: feather-format in /usr/local/lib/python3.7/dist-packages (0.4.1)\n",
            "Requirement already satisfied: pyarrow>=0.4.0 in /usr/local/lib/python3.7/dist-packages (from feather-format) (3.0.0)\n",
            "Requirement already satisfied: numpy>=1.16.6 in /usr/local/lib/python3.7/dist-packages (from pyarrow>=0.4.0->feather-format) (1.19.5)\n"
          ]
        }
      ]
    },
    {
      "cell_type": "code",
      "metadata": {
        "colab": {
          "base_uri": "https://localhost:8080/",
          "height": 273
        },
        "id": "ssNOoy8IFDpE",
        "outputId": "86e298b9-cfa8-4c01-a560-dffd09a6fd12"
      },
      "source": [
        "!pip install typing"
      ],
      "execution_count": 2,
      "outputs": [
        {
          "output_type": "stream",
          "name": "stdout",
          "text": [
            "Collecting typing\n",
            "  Downloading typing-3.7.4.3.tar.gz (78 kB)\n",
            "\u001b[?25l\r\u001b[K     |████▏                           | 10 kB 26.1 MB/s eta 0:00:01\r\u001b[K     |████████▍                       | 20 kB 11.6 MB/s eta 0:00:01\r\u001b[K     |████████████▌                   | 30 kB 9.3 MB/s eta 0:00:01\r\u001b[K     |████████████████▊               | 40 kB 8.6 MB/s eta 0:00:01\r\u001b[K     |████████████████████▉           | 51 kB 5.2 MB/s eta 0:00:01\r\u001b[K     |█████████████████████████       | 61 kB 5.7 MB/s eta 0:00:01\r\u001b[K     |█████████████████████████████▏  | 71 kB 5.6 MB/s eta 0:00:01\r\u001b[K     |████████████████████████████████| 78 kB 3.2 MB/s \n",
            "\u001b[?25hBuilding wheels for collected packages: typing\n",
            "  Building wheel for typing (setup.py) ... \u001b[?25l\u001b[?25hdone\n",
            "  Created wheel for typing: filename=typing-3.7.4.3-py3-none-any.whl size=26324 sha256=e78b05f9914aebe8c36f0908afb9a752b571a958fa7d57a694160a0c52484a09\n",
            "  Stored in directory: /root/.cache/pip/wheels/35/f3/15/01aa6571f0a72ee6ae7b827c1491c37a1f72d686fd22b43b0e\n",
            "Successfully built typing\n",
            "Installing collected packages: typing\n",
            "Successfully installed typing-3.7.4.3\n"
          ]
        },
        {
          "output_type": "display_data",
          "data": {
            "application/vnd.colab-display-data+json": {
              "pip_warning": {
                "packages": [
                  "typing"
                ]
              }
            }
          },
          "metadata": {}
        }
      ]
    },
    {
      "cell_type": "code",
      "metadata": {
        "id": "7ifNmM7Lqo2F",
        "colab": {
          "base_uri": "https://localhost:8080/"
        },
        "outputId": "f9445fbd-9ba4-488a-c224-f6dbd5ca342c"
      },
      "source": [
        "!pip install lightfm"
      ],
      "execution_count": 3,
      "outputs": [
        {
          "output_type": "stream",
          "name": "stdout",
          "text": [
            "Collecting lightfm\n",
            "  Downloading lightfm-1.16.tar.gz (310 kB)\n",
            "\u001b[?25l\r\u001b[K     |█                               | 10 kB 16.0 MB/s eta 0:00:01\r\u001b[K     |██▏                             | 20 kB 7.1 MB/s eta 0:00:01\r\u001b[K     |███▏                            | 30 kB 6.7 MB/s eta 0:00:01\r\u001b[K     |████▎                           | 40 kB 4.6 MB/s eta 0:00:01\r\u001b[K     |█████▎                          | 51 kB 4.8 MB/s eta 0:00:01\r\u001b[K     |██████▍                         | 61 kB 5.3 MB/s eta 0:00:01\r\u001b[K     |███████▍                        | 71 kB 5.3 MB/s eta 0:00:01\r\u001b[K     |████████▌                       | 81 kB 6.0 MB/s eta 0:00:01\r\u001b[K     |█████████▌                      | 92 kB 4.9 MB/s eta 0:00:01\r\u001b[K     |██████████▋                     | 102 kB 5.2 MB/s eta 0:00:01\r\u001b[K     |███████████▋                    | 112 kB 5.2 MB/s eta 0:00:01\r\u001b[K     |████████████▊                   | 122 kB 5.2 MB/s eta 0:00:01\r\u001b[K     |█████████████▊                  | 133 kB 5.2 MB/s eta 0:00:01\r\u001b[K     |██████████████▉                 | 143 kB 5.2 MB/s eta 0:00:01\r\u001b[K     |███████████████▉                | 153 kB 5.2 MB/s eta 0:00:01\r\u001b[K     |█████████████████               | 163 kB 5.2 MB/s eta 0:00:01\r\u001b[K     |██████████████████              | 174 kB 5.2 MB/s eta 0:00:01\r\u001b[K     |███████████████████             | 184 kB 5.2 MB/s eta 0:00:01\r\u001b[K     |████████████████████            | 194 kB 5.2 MB/s eta 0:00:01\r\u001b[K     |█████████████████████▏          | 204 kB 5.2 MB/s eta 0:00:01\r\u001b[K     |██████████████████████▏         | 215 kB 5.2 MB/s eta 0:00:01\r\u001b[K     |███████████████████████▎        | 225 kB 5.2 MB/s eta 0:00:01\r\u001b[K     |████████████████████████▎       | 235 kB 5.2 MB/s eta 0:00:01\r\u001b[K     |█████████████████████████▍      | 245 kB 5.2 MB/s eta 0:00:01\r\u001b[K     |██████████████████████████▍     | 256 kB 5.2 MB/s eta 0:00:01\r\u001b[K     |███████████████████████████▌    | 266 kB 5.2 MB/s eta 0:00:01\r\u001b[K     |████████████████████████████▌   | 276 kB 5.2 MB/s eta 0:00:01\r\u001b[K     |█████████████████████████████▋  | 286 kB 5.2 MB/s eta 0:00:01\r\u001b[K     |██████████████████████████████▋ | 296 kB 5.2 MB/s eta 0:00:01\r\u001b[K     |███████████████████████████████▊| 307 kB 5.2 MB/s eta 0:00:01\r\u001b[K     |████████████████████████████████| 310 kB 5.2 MB/s \n",
            "\u001b[?25hRequirement already satisfied: numpy in /usr/local/lib/python3.7/dist-packages (from lightfm) (1.19.5)\n",
            "Requirement already satisfied: scipy>=0.17.0 in /usr/local/lib/python3.7/dist-packages (from lightfm) (1.4.1)\n",
            "Requirement already satisfied: requests in /usr/local/lib/python3.7/dist-packages (from lightfm) (2.23.0)\n",
            "Requirement already satisfied: scikit-learn in /usr/local/lib/python3.7/dist-packages (from lightfm) (0.22.2.post1)\n",
            "Requirement already satisfied: certifi>=2017.4.17 in /usr/local/lib/python3.7/dist-packages (from requests->lightfm) (2021.5.30)\n",
            "Requirement already satisfied: idna<3,>=2.5 in /usr/local/lib/python3.7/dist-packages (from requests->lightfm) (2.10)\n",
            "Requirement already satisfied: chardet<4,>=3.0.2 in /usr/local/lib/python3.7/dist-packages (from requests->lightfm) (3.0.4)\n",
            "Requirement already satisfied: urllib3!=1.25.0,!=1.25.1,<1.26,>=1.21.1 in /usr/local/lib/python3.7/dist-packages (from requests->lightfm) (1.24.3)\n",
            "Requirement already satisfied: joblib>=0.11 in /usr/local/lib/python3.7/dist-packages (from scikit-learn->lightfm) (1.0.1)\n",
            "Building wheels for collected packages: lightfm\n",
            "  Building wheel for lightfm (setup.py) ... \u001b[?25l\u001b[?25hdone\n",
            "  Created wheel for lightfm: filename=lightfm-1.16-cp37-cp37m-linux_x86_64.whl size=705384 sha256=4518dd55d1009530010d64c668f944f55080c85eb4b98f351473f1b44efe8475\n",
            "  Stored in directory: /root/.cache/pip/wheels/f8/56/28/5772a3bd3413d65f03aa452190b00898b680b10028a1021914\n",
            "Successfully built lightfm\n",
            "Installing collected packages: lightfm\n",
            "Successfully installed lightfm-1.16\n"
          ]
        }
      ]
    },
    {
      "cell_type": "code",
      "metadata": {
        "id": "4aePgFaMqo18"
      },
      "source": [
        "from lightfm import LightFM\n",
        "from scipy.sparse import coo_matrix as sp\n",
        "import time\n",
        "import matplotlib.pyplot as plt\n",
        "import os\n",
        "import zipfile\n",
        "from lightfm.data import Dataset\n",
        "from lightfm.evaluation import precision_at_k\n",
        "from lightfm.evaluation import auc_score\n",
        "from lightfm.cross_validation import random_train_test_split \n",
        "\n",
        "import numpy as np\n",
        "import pandas as pd\n",
        "import warnings # warings 제거\n",
        "warnings.filterwarnings(action='ignore')\n",
        "\n",
        "import zlib\n",
        "\n",
        "pd.set_option('display.max_row', 500) #출력행수"
      ],
      "execution_count": 4,
      "outputs": []
    },
    {
      "cell_type": "code",
      "metadata": {
        "colab": {
          "base_uri": "https://localhost:8080/"
        },
        "id": "sNDgTz5mMWW3",
        "outputId": "87fe5e1f-2d2d-4d81-986c-2d18b787247e"
      },
      "source": [
        "from google.colab import drive\n",
        "drive.mount('/gdrive')"
      ],
      "execution_count": 5,
      "outputs": [
        {
          "output_type": "stream",
          "name": "stdout",
          "text": [
            "Mounted at /gdrive\n"
          ]
        }
      ]
    },
    {
      "cell_type": "code",
      "metadata": {
        "colab": {
          "base_uri": "https://localhost:8080/"
        },
        "id": "wgYzdBBSO-FN",
        "outputId": "5c4f6307-8692-48f1-8e62-c75889a3734a"
      },
      "source": [
        "!ls /gdrive/My\\ Drive/10.data/논문마트"
      ],
      "execution_count": 6,
      "outputs": [
        {
          "output_type": "stream",
          "name": "stdout",
          "text": [
            "customer.csv\n",
            "iptv_seg_use.csv\n",
            "item_features.csv\n",
            "L1AGGR_SEG_IPTV_USE_CLUSTERING_0.csv\n",
            "L1AGGR_SEG_IPTV_USE_CLUSTERING_1.csv\n",
            "L1AGGR_SEG_IPTV_USE_CLUSTERING_2.csv\n",
            "L1AGGR_SEG_IPTV_USE_CLUSTERING_3.csv\n",
            "L1AGGR_SEG_IPTV_USE_CLUSTERING_4.csv\n",
            "L1AGGR_SEG_IPTV_USE_CLUSTERING_5.csv\n",
            "L1AGGR_SEG_IPTV_USE_CLUSTERING_6.csv\n",
            "L1AGGR_SEG_IPTV_USE_CLUSTERING_7.csv\n",
            "L1AGGR_SEG_IPTV_USE_CLUSTERING_8.csv\n",
            "L1AGGR_SEG_IPTV_USE_CLUSTERING_9.csv\n",
            "L1AGGR_SEG_IPTV_USE_CLUSTERING.csv\n",
            "L1AGGR_SEG_IPTV_USE_CLUSTERING_H.210918.csv\n",
            "L1AGGR_SEG_IPTV_USE_CLUSTERING_H.csv\n",
            "user_features_r20.csv\n",
            "user_feaures.csv\n",
            "user_item_interaction_adj.csv\n",
            "user_item_interaction.csv\n",
            "user_item_interaction_r20.csv\n",
            "USER_ITEM_INTERACTIONS_R20.csv\n"
          ]
        }
      ]
    },
    {
      "cell_type": "markdown",
      "metadata": {
        "id": "pOLfVPnlEVW3"
      },
      "source": [
        "### $ {\\color{Blue} {Data \\, loading - user\\_features,\\, item\\_features}}$"
      ]
    },
    {
      "cell_type": "code",
      "metadata": {
        "id": "gmssjeVuPlc9"
      },
      "source": [
        "dir='/gdrive/My Drive/10.data/논문마트/'\n",
        "user_item_interactions = pd.read_csv(dir+'USER_ITEM_INTERACTIONS_R20.csv', delimiter=',',dtype={'wtch_dt': str,'buy_dt': str })\n",
        "user_item_interactions.rename(columns={'userid':'userId'}, inplace = True)\n",
        "user_item_interactions.rename(columns={'movieid':'movieId'}, inplace = True)"
      ],
      "execution_count": 7,
      "outputs": []
    },
    {
      "cell_type": "code",
      "metadata": {
        "id": "soMWcEmjqd0V",
        "colab": {
          "base_uri": "https://localhost:8080/",
          "height": 52
        },
        "outputId": "ca2c729d-7ce9-409a-a319-efa58d71e0de"
      },
      "source": [
        "'''\n",
        "df_interactions = pd.read_csv(dir+'USER_ITEM_INTERACTIONS_R20.csv', delimiter=',',dtype={'wtch_dt': str,'buy_dt': str })\n",
        "df_interactions.rename(columns={'userid':'userId'}, inplace = True)\n",
        "df_interactions.rename(columns={'movieid':'movieId'}, inplace = True)\n",
        "'''"
      ],
      "execution_count": 8,
      "outputs": [
        {
          "output_type": "execute_result",
          "data": {
            "application/vnd.google.colaboratory.intrinsic+json": {
              "type": "string"
            },
            "text/plain": [
              "\"\\ndf_interactions = pd.read_csv(dir+'USER_ITEM_INTERACTIONS_R20.csv', delimiter=',',dtype={'wtch_dt': str,'buy_dt': str })\\ndf_interactions.rename(columns={'userid':'userId'}, inplace = True)\\ndf_interactions.rename(columns={'movieid':'movieId'}, inplace = True)\\n\""
            ]
          },
          "metadata": {},
          "execution_count": 8
        }
      ]
    },
    {
      "cell_type": "code",
      "metadata": {
        "id": "awW1GH4BGyJU"
      },
      "source": [
        "df_user_features = pd.read_csv(dir+'user_features_r20.csv', delimiter=',')\n",
        "df_user_features.rename(columns={'userid':'userId'}, inplace = True)"
      ],
      "execution_count": 9,
      "outputs": []
    },
    {
      "cell_type": "code",
      "metadata": {
        "id": "Vy7Y66iIJr8a"
      },
      "source": [
        "df_item_features = pd.read_csv(dir+'item_features.csv', delimiter=',')\n",
        "df_item_features.rename(columns={'movieid':'movieId'}, inplace = True)"
      ],
      "execution_count": 10,
      "outputs": []
    },
    {
      "cell_type": "code",
      "metadata": {
        "colab": {
          "base_uri": "https://localhost:8080/"
        },
        "id": "e4XbF28JCWx-",
        "outputId": "53c9aaf3-1673-477e-f1d0-b1d94897947c"
      },
      "source": [
        "# 가중치 만들기, Weight()\n",
        "#wtch_yn,buy_yn,wtch_pg_cnt,buy_pg_cnt,sch_cnt,wish_yn,story_yn,review_yn,preview_yn,rating_yn\n",
        "a=pd.DataFrame([67046,10062,132844,16016,16984,1295,422,447,82,326,140000],columns=['weight'])\n",
        "hw=pd.DataFrame([1.2,1.5,1,1,1,1,1,1,1,1,1],columns=['weight'])\n",
        "f=lambda x: 1/(1+np.exp(-(1-x/4800000)))  # \n",
        "#f=lambda x: np.log10(4800000/x)*np.log10(x)\n",
        "b=f(a)\n",
        "\n",
        "#normalize : 영향도 경감\n",
        "def normalize_df(x):\n",
        "  return (x-x.min())/(x.max()-x.min())\n",
        "\n",
        "w=normalize_df(b).mul(hw);print(pd.merge(b,w,on=b.index))"
      ],
      "execution_count": 11,
      "outputs": [
        {
          "output_type": "stream",
          "name": "stdout",
          "text": [
            "    key_0  weight_x  weight_y\n",
            "0       0  0.728303  0.627678\n",
            "1       1  0.730646  1.393671\n",
            "2       2  0.725583  0.051466\n",
            "3       3  0.730402  0.886791\n",
            "4       4  0.730362  0.879908\n",
            "5       5  0.731006  0.991388\n",
            "6       6  0.731041  0.997586\n",
            "7       7  0.731040  0.997409\n",
            "8       8  0.731055  1.000000\n",
            "9       9  0.731045  0.998268\n",
            "10     10  0.725286  0.000000\n"
          ]
        }
      ]
    },
    {
      "cell_type": "code",
      "metadata": {
        "colab": {
          "base_uri": "https://localhost:8080/"
        },
        "id": "qgN3ICnzQYhN",
        "outputId": "67aad212-598c-4793-acd1-ae488a67bdf0"
      },
      "source": [
        "nor_interactions=user_item_interactions.iloc[:,:]\n",
        "columns=user_item_interactions.iloc[:,3:].columns;print(columns)\n",
        "df_b=pd.DataFrame(normalize_df(user_item_interactions.iloc[:,3:].fillna(0)),columns=columns)\n",
        "nor_interactions[columns]=df_b"
      ],
      "execution_count": 12,
      "outputs": [
        {
          "output_type": "stream",
          "name": "stdout",
          "text": [
            "Index(['wtch_pg_cnt', 'buy_pg_cnt', 'wtch_yn', 'wtch_tm', 'wtch_cp', 'buy_dt',\n",
            "       'buy_yn', 'buy_amt', 'sch_cnt', 'wish_yn', 'story_yn', 'review_yn',\n",
            "       'preview_yn', 'rating_yn'],\n",
            "      dtype='object')\n"
          ]
        }
      ]
    },
    {
      "cell_type": "code",
      "metadata": {
        "id": "jB9YviCpKFSZ"
      },
      "source": [
        "# rating 계산 : dot product\n",
        "nor_interactions['rating']=normalize_df(np.dot(nor_interactions.iloc[:,[5,9,3,4,11,12,13,14,15,16]].fillna(0),w[:-1]))"
      ],
      "execution_count": 13,
      "outputs": []
    },
    {
      "cell_type": "code",
      "metadata": {
        "colab": {
          "base_uri": "https://localhost:8080/"
        },
        "id": "TjxJTgzHGu6d",
        "outputId": "d53e99e8-fa7b-47b6-a98d-4366b12f6ef8"
      },
      "source": [
        "# dot product 값 확인\n",
        "np.dot(nor_interactions.iloc[5385276,[5,9,3,4,11,12,13,14,15,16]].fillna(0),w[:-1])"
      ],
      "execution_count": 14,
      "outputs": [
        {
          "output_type": "execute_result",
          "data": {
            "text/plain": [
              "array([6.19147485])"
            ]
          },
          "metadata": {},
          "execution_count": 14
        }
      ]
    },
    {
      "cell_type": "code",
      "metadata": {
        "id": "mQUILpxJVuHr"
      },
      "source": [
        "#rating 확인\n",
        "user_item_interactions['rating'] = nor_interactions['rating']\n",
        "#user_item_interactions[(user_item_interactions.rating >=0.9) & (user_item_interactions.rating <=1.9)].head(200)"
      ],
      "execution_count": 15,
      "outputs": []
    },
    {
      "cell_type": "code",
      "metadata": {
        "id": "Bl8xs8g1SC_P"
      },
      "source": [
        "#interactions[(interactions.userid==8485946426803652497) & (interactions.movieid==6895313097669931601\t) ].iloc[:,[5,9,3,4,11,12,13,14,15,16]].fillna(0)\n",
        "#user_item_interactions[(user_item_interactions.userid==795530722215540317) & (user_item_interactions.movieid==-985564977982495676\t) ].iloc[:,[5,9,3,4,11,12,13,14,15,16]].fillna(0)"
      ],
      "execution_count": 16,
      "outputs": []
    },
    {
      "cell_type": "code",
      "metadata": {
        "colab": {
          "base_uri": "https://localhost:8080/",
          "height": 548
        },
        "id": "aRu0pnJfTxYv",
        "outputId": "bc2ae704-72f2-4e71-be28-8978001f2a3a"
      },
      "source": [
        "plt.hist(nor_interactions.rating,bins=30)"
      ],
      "execution_count": 17,
      "outputs": [
        {
          "output_type": "execute_result",
          "data": {
            "text/plain": [
              "(array([3.776475e+06, 3.100000e+01, 4.000000e+00, 1.641564e+06,\n",
              "        7.053900e+04, 2.120000e+02, 7.700000e+01, 1.828800e+04,\n",
              "        4.800000e+01, 2.927310e+05, 3.031000e+03, 6.000000e+00,\n",
              "        2.176000e+03, 5.000000e+00, 8.102000e+03, 1.900000e+01,\n",
              "        1.000000e+00, 3.290000e+02, 0.000000e+00, 9.620000e+02,\n",
              "        1.000000e+00, 0.000000e+00, 2.600000e+01, 0.000000e+00,\n",
              "        1.560000e+02, 1.000000e+00, 0.000000e+00, 0.000000e+00,\n",
              "        0.000000e+00, 2.200000e+01]),\n",
              " array([0.        , 0.03333333, 0.06666667, 0.1       , 0.13333333,\n",
              "        0.16666667, 0.2       , 0.23333333, 0.26666667, 0.3       ,\n",
              "        0.33333333, 0.36666667, 0.4       , 0.43333333, 0.46666667,\n",
              "        0.5       , 0.53333333, 0.56666667, 0.6       , 0.63333333,\n",
              "        0.66666667, 0.7       , 0.73333333, 0.76666667, 0.8       ,\n",
              "        0.83333333, 0.86666667, 0.9       , 0.93333333, 0.96666667,\n",
              "        1.        ]),\n",
              " <a list of 30 Patch objects>)"
            ]
          },
          "metadata": {},
          "execution_count": 17
        },
        {
          "output_type": "display_data",
          "data": {
            "image/png": "[encoded data removed]",
            "text/plain": [
              "<Figure size 432x288 with 1 Axes>"
            ]
          },
          "metadata": {
            "needs_background": "light"
          }
        }
      ]
    },
    {
      "cell_type": "code",
      "metadata": {
        "id": "xG_HFwYCue2E"
      },
      "source": [
        "#from sklearn.preprocessing import StandardScaler\n",
        "#std = StandardScaler()\n",
        "#std.fit(interactions)\n",
        "#std.transform(interactions)"
      ],
      "execution_count": 18,
      "outputs": []
    },
    {
      "cell_type": "markdown",
      "metadata": {
        "id": "zNNXZTsmVczH"
      },
      "source": [
        "### $ {\\color{Red} {Make \\,\\, Dataset \\,}}$"
      ]
    },
    {
      "cell_type": "markdown",
      "metadata": {
        "id": "iTyYe7A8lkhj"
      },
      "source": [
        "#### Preprocessing data\n",
        "> Important JOB : interaction 안되는 데이터 삭제 <br>\n",
        "-> item_feature_source.movieId 가 ratings.movieId 에 100% join 되어야함 <br>\n",
        "-> user_feature_source.userId 가 rating.userId에 100% mapping 되어야함 <br>"
      ]
    },
    {
      "cell_type": "code",
      "metadata": {
        "id": "SY52RTda0Hrm"
      },
      "source": [
        "'''1) join 안되는 ID 삭제 > 2) sort_value['id'] > 3) reset_index()'''\n",
        "\n",
        "ratings=user_item_interactions.loc[:,['userId','movieId','rating']].sort_values(by=['userId','movieId']).reset_index(drop=True)\n",
        "df_item_features['genres']=df_item_features.genre_l.fillna('NaN')+'|'+df_item_features.genre_m.fillna('NaN')+'|'+df_item_features.genre_s.fillna('NaN') #장르결합 genre1/2/3\n",
        "movies=df_item_features.loc[:,['movieId','title','genres','create_yr','director','actor1','wtch_cnt','sales_amt_3m']].fillna(0).sort_values(by=['movieId']).reset_index(drop=True)\n",
        "users=df_user_features.loc[:,['userId','sex_cd','age5_band','pfgn1','avg_wtch_cnt','avg_fwtch_cnt','avg_buy_cnt','avg_buy_amt']].fillna(0).sort_values(by=['userId']).reset_index(drop=True)\n",
        "\n",
        "def handle_movies(ratings,movies):\n",
        "\n",
        "  #movies['genre']=list(map(lambda x:zlib.crc32(x.encode('UTF-8')), np.array(movies.genre.fillna(''))))\n",
        "  tmp_movie=ratings.groupby('movieId')['rating'].mean()\n",
        "  movies=pd.merge(tmp_movie,movies, on='movieId')\n",
        "  idx_movie=movies.movieId[~movies.movieId.isin(ratings.movieId)].index\n",
        "  movies.drop(idx_movie,inplace=True)\n",
        "  movies.sort_values(by=['movieId'], inplace=True)\n",
        "  movies.reset_index(drop=True, inplace=True)\n",
        "  #print('movies',movies.columns)\n",
        "  return movies\n",
        "\n",
        "def handle_users(ratings,users):\n",
        "  \n",
        "  tmp_user=pd.DataFrame(ratings.userId.unique(),columns=['userId'])\n",
        "  users=pd.merge(tmp_user,users, on='userId')\n",
        "  idx_user=users.userId[~users.userId.isin(ratings.userId)].index\n",
        "  users.drop(idx_user,inplace=True)\n",
        "  users.sort_values(by=['userId'], inplace=True)\n",
        "  users.reset_index(drop=True, inplace=True)\n",
        "  #print('users',users.columns)\n",
        "  return users\n",
        "\n",
        "def handle_interactions(movies,users):\n",
        "\n",
        "  idx_user=ratings.userId[~ratings.userId.isin(users.userId)].index\n",
        "  ratings.drop(idx_user,inplace=True)\n",
        "  idx_movie=ratings.movieId[~ratings.movieId.isin(movies.movieId)].index\n",
        "  ratings.drop(idx_movie,inplace=True)\n",
        "  ratings.sort_values(by=['userId','movieId'],inplace=True)\n",
        "  ratings.reset_index(drop=True, inplace=True)\n",
        "  #print('ratings',ratings.columns)\n",
        "  return ratings\n",
        "\n",
        "# 순방향 걸러내기\n",
        "movies=handle_movies(ratings,movies)\n",
        "users=handle_users(ratings,users)\n",
        "ratings=handle_interactions(movies,users)\n",
        "# 역방향 걸러내기\n",
        "users=handle_users(ratings,users)\n",
        "movies=handle_movies(ratings,movies.loc[:, movies.columns != 'rating'])"
      ],
      "execution_count": 19,
      "outputs": []
    },
    {
      "cell_type": "code",
      "metadata": {
        "colab": {
          "base_uri": "https://localhost:8080/"
        },
        "id": "bZjxm1xn57sy",
        "outputId": "e76c6e91-e179-4fb5-a749-3a5937b331d4"
      },
      "source": [
        "# rating, user, movies ID 갯수 동일 확인\n",
        "print(users.shape[0],len(ratings.userId.unique()),movies.shape[0],len(ratings.movieId.unique()),ratings.shape[0])"
      ],
      "execution_count": 20,
      "outputs": [
        {
          "output_type": "stream",
          "name": "stdout",
          "text": [
            "293105 293105 25282 25282 5718243\n"
          ]
        }
      ]
    },
    {
      "cell_type": "code",
      "metadata": {
        "id": "NWAg6u2VwVu1"
      },
      "source": [
        "# id 무결성 확인\n",
        "#print(movies.movieId[~movies.movieId.isin(ratings.movieId)])\n",
        "#print(users.userId[~users.userId.isin(ratings.userId)])\n",
        "#print(ratings.userId[~ratings.userId.isin(ratings.userId)])\n",
        "#print(ratings.movieId[~ratings.movieId.isin(movies.movieId)])"
      ],
      "execution_count": 21,
      "outputs": []
    },
    {
      "cell_type": "code",
      "metadata": {
        "colab": {
          "base_uri": "https://localhost:8080/",
          "height": 265
        },
        "id": "yK_VH4m-h_5w",
        "outputId": "e2fc22ce-e7aa-42b2-a9f1-849d24d0b23f"
      },
      "source": [
        "a=plt.hist(movies.rating,bins=30) #데이터분포확인"
      ],
      "execution_count": 22,
      "outputs": [
        {
          "output_type": "display_data",
          "data": {
            "image/png": "[encoded data removed]",
            "text/plain": [
              "<Figure size 432x288 with 1 Axes>"
            ]
          },
          "metadata": {
            "needs_background": "light"
          }
        }
      ]
    },
    {
      "cell_type": "markdown",
      "metadata": {
        "id": "fUmfmnRCqo2H"
      },
      "source": [
        "#### Make Data Array\n",
        "\n",
        "> ndex 가 비어 있으면 오류발생 : reset_index() 필요\n",
        "\n"
      ]
    },
    {
      "cell_type": "code",
      "metadata": {
        "scrolled": true,
        "id": "rHtXHwT1qo2G"
      },
      "source": [
        "from lightfm.data import Dataset\n",
        "from scipy.io import mmwrite"
      ],
      "execution_count": 23,
      "outputs": []
    },
    {
      "cell_type": "code",
      "metadata": {
        "id": "VngxsMVSwgsF"
      },
      "source": [
        "ratings_source = [(ratings['userId'][i], ratings['movieId'][i]) for i in range(ratings.shape[0])]"
      ],
      "execution_count": 24,
      "outputs": []
    },
    {
      "cell_type": "code",
      "metadata": {
        "id": "EZp3Nl-O06ME"
      },
      "source": [
        "item_meta = movies[['movieId', 'title', 'genres', 'rating', 'create_yr']]\n",
        "\n",
        "item_features_source = [(item_meta['movieId'][i],\n",
        "                        np.array(item_meta.iloc[i,1:]).reshape(-1)) for i in range(item_meta.shape[0])]                                           "
      ],
      "execution_count": 25,
      "outputs": []
    },
    {
      "cell_type": "code",
      "metadata": {
        "id": "z1nHPd1g8YJy"
      },
      "source": [
        "user_meta = users[['userId','sex_cd','age5_band','pfgn1','avg_wtch_cnt','avg_buy_amt']]\n",
        "\n",
        "user_features_source = [(user_meta['userId'][i],\n",
        "                        np.array(user_meta.iloc[i,1:]).reshape(-1)) for i in range(user_meta.shape[0])]                          "
      ],
      "execution_count": 26,
      "outputs": []
    },
    {
      "cell_type": "code",
      "metadata": {
        "id": "zQA1NXWBqo2J",
        "colab": {
          "base_uri": "https://localhost:8080/"
        },
        "outputId": "d5623b9f-402c-443e-d994-e35e5c0a6bbd"
      },
      "source": [
        "#결측치가 있는지 확인\n",
        "#'''\n",
        "df=pd.DataFrame(ratings_source);print(pd.DataFrame(ratings_source).head(1))\n",
        "df.isnull().sum()\n",
        "df=pd.DataFrame(item_features_source);print(pd.DataFrame(item_features_source).head(1))\n",
        "df.isnull().sum()\n",
        "df=pd.DataFrame(user_features_source);print(pd.DataFrame(user_features_source).head(1))\n",
        "df.isnull().sum()\n",
        "#'''"
      ],
      "execution_count": 27,
      "outputs": [
        {
          "output_type": "stream",
          "name": "stdout",
          "text": [
            "                     0                    1\n",
            "0 -9223259533948962539 -5325328048293135553\n",
            "                     0                                                  1\n",
            "0 -9223349797205538186  [혼: 공포의 시작, 영화|공포|NaN, 0.10137784163156567, 2020]\n",
            "                     0                                1\n",
            "0 -9223259533948962539  [FEMALE, 5.0, 드라마, 1.0, 3334.0]\n"
          ]
        },
        {
          "output_type": "execute_result",
          "data": {
            "text/plain": [
              "0    0\n",
              "1    0\n",
              "dtype: int64"
            ]
          },
          "metadata": {},
          "execution_count": 27
        }
      ]
    },
    {
      "cell_type": "markdown",
      "metadata": {
        "id": "gx2sUWkPmc3o"
      },
      "source": [
        "### $ {\\color{yellow} {Fit \\,dataset}}$\n",
        "> dataset.fit -> dataset.build 순으로 각 데이터별로 번갈아 수행 해야함"
      ]
    },
    {
      "cell_type": "code",
      "metadata": {
        "id": "w9TvvrYeqo2K"
      },
      "source": [
        "dataset = Dataset()\n",
        "dataset.fit(users=ratings['userId'],\n",
        "            items=ratings['movieId'])"
      ],
      "execution_count": 28,
      "outputs": []
    },
    {
      "cell_type": "code",
      "metadata": {
        "id": "rWp2-O2fqo2M"
      },
      "source": [
        "interactions, weights = dataset.build_interactions(ratings_source)"
      ],
      "execution_count": 29,
      "outputs": []
    },
    {
      "cell_type": "code",
      "metadata": {
        "id": "zD5ROa0DSXR_"
      },
      "source": [
        "dataset.fit(users=ratings['userId'],\n",
        "            items=ratings['movieId'],\n",
        "            item_features=item_meta[item_meta.columns[1:]].values.flatten()\n",
        "            )"
      ],
      "execution_count": 30,
      "outputs": []
    },
    {
      "cell_type": "code",
      "metadata": {
        "id": "mdmzc5CznuiO"
      },
      "source": [
        "item_features=dataset.build_item_features(item_features_source)"
      ],
      "execution_count": 31,
      "outputs": []
    },
    {
      "cell_type": "code",
      "metadata": {
        "id": "FZVyR-eySYDh"
      },
      "source": [
        "dataset.fit(users=ratings['userId'],\n",
        "            items=ratings['movieId'],\n",
        "            user_features=user_meta[user_meta.columns[1:]].values.flatten()\n",
        "            )"
      ],
      "execution_count": 32,
      "outputs": []
    },
    {
      "cell_type": "code",
      "metadata": {
        "id": "ymwH72Fwam6a"
      },
      "source": [
        "user_features=dataset.build_user_features(user_features_source)"
      ],
      "execution_count": 33,
      "outputs": []
    },
    {
      "cell_type": "code",
      "metadata": {
        "id": "FYiEGBwioyYm"
      },
      "source": [
        "#print(pd.DataFrame(item_features_source))"
      ],
      "execution_count": 34,
      "outputs": []
    },
    {
      "cell_type": "code",
      "metadata": {
        "id": "S41eH_-hqo2M"
      },
      "source": [
        "# Save\n",
        "mmwrite('interactions.mtx', interactions)\n",
        "mmwrite('item_features.mtx', item_features)\n",
        "mmwrite('weights.mtx', weights)\n",
        "mmwrite('user_features.mtx',user_features)"
      ],
      "execution_count": 35,
      "outputs": []
    },
    {
      "cell_type": "code",
      "metadata": {
        "id": "Q16KwH-yqo2N",
        "colab": {
          "base_uri": "https://localhost:8080/"
        },
        "outputId": "4f21873a-48a3-4a10-a0c8-9fdbc84682a4"
      },
      "source": [
        "from lightfm.cross_validation import random_train_test_split\n",
        "# Split Train, Test data\n",
        "model = LightFM(loss='warp')\n",
        "\n",
        "(train, test) = random_train_test_split(interactions=interactions, test_percentage=0.2)\n",
        "start = time.time()\n",
        "model.fit(train, item_features=item_features, user_features=user_features, epochs=10)\n",
        "end = time.time(); print('time :',end-start) "
      ],
      "execution_count": 36,
      "outputs": [
        {
          "output_type": "stream",
          "name": "stdout",
          "text": [
            "time : 166.7630331516266\n"
          ]
        }
      ]
    },
    {
      "cell_type": "markdown",
      "metadata": {
        "id": "-VDNbkeCjVRU"
      },
      "source": [
        "#### $ {\\color{yellow} {evaluation : precision@k, AUC }}$"
      ]
    },
    {
      "cell_type": "code",
      "metadata": {
        "colab": {
          "base_uri": "https://localhost:8080/",
          "height": 86
        },
        "id": "7JdtHwjphZZa",
        "outputId": "c9445848-21c9-4321-f1a9-4102e85116ec"
      },
      "source": [
        "'''\n",
        "start = time.time()\n",
        "train_precision = precision_at_k(model, train, k=10,user_features=user_features,item_features=item_features).mean()\n",
        "end = time.time(); print('time :',end-start) \n",
        "start = time.time()\n",
        "test_precision = precision_at_k(model, test, k=10,user_features=user_features,item_features=item_features).mean()\n",
        "end = time.time(); print('time :',end-start) \n",
        "start = time.time()\n",
        "train_auc = auc_score(model, train,user_features=user_features,item_features=item_features).mean()\n",
        "end = time.time(); print('time :',end-start) \n",
        "start = time.time()\n",
        "test_auc = auc_score(model, test,user_features=user_features,item_features=item_features).mean()\n",
        "end = time.time(); print('time :',end-start) \n",
        "\n",
        "print('Precision: train %.2f, test %.2f.' % (train_precision, test_precision))\n",
        "print('AUC: train %.2f, test %.2f.' % (train_auc, test_auc))\n",
        "\n",
        "time : 633.9194025993347\n",
        "time : 424.50309658050537\n",
        "time : 634.1630313396454\n",
        "time : 424.71241569519043\n",
        "Precision: train 0.15, test 0.05.\n",
        "AUC: train 0.97, test 0.96.\n",
        "'''"
      ],
      "execution_count": 37,
      "outputs": [
        {
          "output_type": "execute_result",
          "data": {
            "application/vnd.google.colaboratory.intrinsic+json": {
              "type": "string"
            },
            "text/plain": [
              "\"\\nstart = time.time()\\ntrain_precision = precision_at_k(model, train, k=10,user_features=user_features,item_features=item_features).mean()\\nend = time.time(); print('time :',end-start) \\nstart = time.time()\\ntest_precision = precision_at_k(model, test, k=10,user_features=user_features,item_features=item_features).mean()\\nend = time.time(); print('time :',end-start) \\nstart = time.time()\\ntrain_auc = auc_score(model, train,user_features=user_features,item_features=item_features).mean()\\nend = time.time(); print('time :',end-start) \\nstart = time.time()\\ntest_auc = auc_score(model, test,user_features=user_features,item_features=item_features).mean()\\nend = time.time(); print('time :',end-start) \\n\\nprint('Precision: train %.2f, test %.2f.' % (train_precision, test_precision))\\nprint('AUC: train %.2f, test %.2f.' % (train_auc, test_auc))\\n\\ntime : 633.9194025993347\\ntime : 424.50309658050537\\ntime : 634.1630313396454\\ntime : 424.71241569519043\\nPrecision: train 0.15, test 0.05.\\nAUC: train 0.97, test 0.96.\\n\""
            ]
          },
          "metadata": {},
          "execution_count": 37
        }
      ]
    },
    {
      "cell_type": "code",
      "metadata": {
        "colab": {
          "base_uri": "https://localhost:8080/"
        },
        "id": "e83el7s5xy1Z",
        "outputId": "4b7e1bf0-7e3d-4f4e-921d-ed4308e85c0e"
      },
      "source": [
        "alpha = 1e-05\n",
        "epochs = 10\n",
        "num_components = 10\n",
        "max_sampled=10\n",
        "\n",
        "warp_model = LightFM(no_components=num_components,\n",
        "                    loss='warp',\n",
        "                    learning_schedule='adagrad',\n",
        "                    max_sampled=max_sampled,\n",
        "                    user_alpha=alpha,\n",
        "                    item_alpha=alpha)\n",
        "\n",
        "bpr_model = LightFM(no_components=num_components,\n",
        "                    loss='bpr',\n",
        "                    learning_schedule='adagrad',\n",
        "                    user_alpha=alpha,\n",
        "                    item_alpha=alpha)\n",
        "\n",
        "warp_duration = []\n",
        "bpr_duration = []\n",
        "warp_auc = []\n",
        "bpr_auc = []\n",
        "\n",
        "for epoch in range(epochs):\n",
        "    start = time.time()\n",
        "    warp_model.fit_partial(train, epochs=1,user_features=user_features,item_features=item_features)\n",
        "    warp_duration.append(time.time() - start);end = time.time(); print('time :',end-start) \n",
        "    warp_auc.append(auc_score(warp_model, test, train_interactions=train,user_features=user_features,item_features=item_features).mean()) #10분소요\n",
        "    print(epoch);end = time.time(); print('time :',end-start) \n"
      ],
      "execution_count": 38,
      "outputs": [
        {
          "output_type": "stream",
          "name": "stdout",
          "text": [
            "time : 16.57697319984436\n",
            "0\n",
            "time : 563.4172313213348\n",
            "time : 17.466461896896362\n",
            "1\n",
            "time : 576.8218748569489\n",
            "time : 18.90740203857422\n",
            "2\n",
            "time : 602.0687296390533\n",
            "time : 18.23467469215393\n",
            "3\n",
            "time : 587.1085431575775\n",
            "time : 14.856303215026855\n",
            "4\n",
            "time : 550.5968325138092\n",
            "time : 15.001554250717163\n",
            "5\n",
            "time : 534.5757918357849\n",
            "time : 15.197964668273926\n",
            "6\n",
            "time : 549.3466324806213\n",
            "time : 16.063109159469604\n",
            "7\n",
            "time : 640.2103180885315\n",
            "time : 18.848955154418945\n",
            "8\n",
            "time : 604.5339276790619\n",
            "time : 17.676267623901367\n",
            "9\n",
            "time : 546.3777000904083\n"
          ]
        }
      ]
    },
    {
      "cell_type": "code",
      "metadata": {
        "colab": {
          "base_uri": "https://localhost:8080/"
        },
        "id": "pvG46xA6YTkF",
        "outputId": "5401bbe6-07bb-4f82-93d6-297f9fec5b9c"
      },
      "source": [
        "for epoch in range(epochs):\n",
        "    start = time.time()\n",
        "    bpr_model.fit_partial(train, epochs=1,user_features=user_features,item_features=item_features)\n",
        "    bpr_duration.append(time.time() - start);end = time.time(); print('time :',end-start) \n",
        "    bpr_auc.append(auc_score(bpr_model, test, train_interactions=train,user_features=user_features,item_features=item_features).mean())\n",
        "    print(epoch);end = time.time(); print('time :',end-start) "
      ],
      "execution_count": 39,
      "outputs": [
        {
          "output_type": "stream",
          "name": "stdout",
          "text": [
            "time : 13.860895872116089\n",
            "0\n",
            "time : 591.6174175739288\n",
            "time : 14.963963270187378\n",
            "1\n",
            "time : 617.0684847831726\n",
            "time : 15.453843832015991\n",
            "2\n",
            "time : 645.9604206085205\n",
            "time : 15.313655614852905\n",
            "3\n",
            "time : 614.6909286975861\n",
            "time : 16.025415897369385\n",
            "4\n",
            "time : 643.8723819255829\n",
            "time : 15.359538555145264\n",
            "5\n",
            "time : 587.51673412323\n",
            "time : 15.164259910583496\n",
            "6\n",
            "time : 613.9982476234436\n",
            "time : 15.91125774383545\n",
            "7\n",
            "time : 575.5954415798187\n",
            "time : 14.625555515289307\n",
            "8\n",
            "time : 572.9543309211731\n",
            "time : 14.313017845153809\n",
            "9\n",
            "time : 563.2141048908234\n"
          ]
        }
      ]
    },
    {
      "cell_type": "code",
      "metadata": {
        "colab": {
          "base_uri": "https://localhost:8080/",
          "height": 265
        },
        "id": "5JHCw_vDyRX_",
        "outputId": "720a831f-691d-45fa-cc21-aa99853393da"
      },
      "source": [
        "x = np.arange(epochs)\n",
        "plt.plot(x, np.array(warp_auc))\n",
        "plt.plot(x, np.array(bpr_auc))\n",
        "plt.legend(['WARP AUC', 'BPR AUC'], loc='upper right')\n",
        "plt.show()"
      ],
      "execution_count": 40,
      "outputs": [
        {
          "output_type": "display_data",
          "data": {
            "image/png": "[encoded data removed]",
            "text/plain": [
              "<Figure size 432x288 with 1 Axes>"
            ]
          },
          "metadata": {
            "needs_background": "light"
          }
        }
      ]
    },
    {
      "cell_type": "code",
      "metadata": {
        "colab": {
          "base_uri": "https://localhost:8080/"
        },
        "id": "2D7s7f1Zt8o7",
        "outputId": "434f354d-d8ca-4dd0-b266-34b2ef50de64"
      },
      "source": [
        "np.array(bpr_duration)"
      ],
      "execution_count": 41,
      "outputs": [
        {
          "output_type": "execute_result",
          "data": {
            "text/plain": [
              "array([13.86089253, 14.96396041, 15.45384073, 15.31365275, 16.02541232,\n",
              "       15.35953593, 15.16425633, 15.91125417, 14.62555099, 14.31301379])"
            ]
          },
          "metadata": {},
          "execution_count": 41
        }
      ]
    },
    {
      "cell_type": "code",
      "metadata": {
        "colab": {
          "base_uri": "https://localhost:8080/",
          "height": 265
        },
        "id": "4qYJTyDQs21k",
        "outputId": "2cbdade3-46f1-497a-b050-3d71dab7426f"
      },
      "source": [
        "x = np.arange(epochs)\n",
        "plt.plot(x, np.array(warp_duration))\n",
        "plt.plot(x, np.array(bpr_duration))\n",
        "plt.legend(['WARP duration', 'BPR duration'], loc='upper right')\n",
        "plt.show()"
      ],
      "execution_count": 43,
      "outputs": [
        {
          "output_type": "display_data",
          "data": {
            "image/png": "[encoded data removed]",
            "text/plain": [
              "<Figure size 432x288 with 1 Axes>"
            ]
          },
          "metadata": {
            "needs_background": "light"
          }
        }
      ]
    },
    {
      "cell_type": "markdown",
      "metadata": {
        "id": "Un2G3obsmD6b"
      },
      "source": [
        "#### $ {\\color{yellow} {Recommend \\,\\,Movie\\,\\,List }}$"
      ]
    },
    {
      "cell_type": "code",
      "metadata": {
        "id": "oo2XAIfVC9Qd"
      },
      "source": [
        "labels = np.array(movies['movieId'])\n",
        "\n",
        "def sample_recommendation(model, data, user_ids):\n",
        "\n",
        "    n_users, n_items = data.shape\n",
        "\n",
        "    #build a structure to store user scores for each item\n",
        "    all_scores = np.empty(shape=(0,n_items))\n",
        "\n",
        "    #iterate through the group and build the scores\n",
        "    for user_id in user_ids:\n",
        "        #known_positives = labels[data.tocsr()[user_id].indices]\n",
        "        #user의 전체 0~9066 movie의 예측 평점\n",
        "        scores = model.predict(user_id,np.arange(n_items),item_features) \n",
        "        \n",
        "        top_items_for_user = labels[np.argsort(-scores)] #argsort():오름차순인덱스반환\n",
        "        print(\"Top Recommended movieId For User: \", user_id)\n",
        "        for x in top_items_for_user[:3]:\n",
        "            #print(\"     %s\" % movies[movies['movieId']== x])\n",
        "            print(\"     %s\" % x)\n",
        "\n",
        "        #vertically stack the user scores (items are columns)\n",
        "        all_scores = np.vstack((all_scores, scores))\n",
        "        #print(all_top_items)\n",
        "\n",
        "    #compute the average rating for each item in the group\n",
        "    item_averages = np.mean(all_scores.astype(np.float), axis=0)\n",
        "    top_items_for_group = labels[np.argsort(-item_averages)]\n",
        "    top_items_scores=item_averages[np.argsort(-item_averages)]\n",
        "\n",
        "    print(\"Top Recommended movieId for Group:\")\n",
        "\n",
        "    for x in top_items_for_group[:5]:\n",
        "        print(\"     %s\" % x)\n",
        "    return  top_items_for_group, top_items_scores"
      ],
      "execution_count": 44,
      "outputs": []
    },
    {
      "cell_type": "code",
      "metadata": {
        "id": "cE9EyiaCWdhn"
      },
      "source": [
        "#group = [int(input('enter userid :'))]\n",
        "#pd.DataFrame(sample_recommendation(model, interactions, group)).T"
      ],
      "execution_count": 45,
      "outputs": []
    },
    {
      "cell_type": "code",
      "metadata": {
        "id": "VRTPjdcVFHvp",
        "colab": {
          "base_uri": "https://localhost:8080/",
          "height": 856
        },
        "outputId": "008421cf-fd62-42c3-d7b9-1391fbf0fb68"
      },
      "source": [
        "#################################\n",
        "#                               #\n",
        "#  Sampling Recommended Events  #\n",
        "#                               #\n",
        "#################################\n",
        "\n",
        "#fetch user_ids of users in group\n",
        "group = [int(input('enter userid :'))]\n",
        "\n",
        "list,avg_scores = sample_recommendation(model, interactions, group)\n",
        "recommend_movie=pd.DataFrame(columns=movies.columns)\n",
        "'''\n",
        "for x in list[:20]:\n",
        "  recommend_movie=recommend_movie.append(movies[movies['movieId']== x], ignore_index=True)\n",
        "'''\n",
        "for x in list[:100]:\n",
        "  recommend_movie=recommend_movie.append(movies[movies['movieId']== x], ignore_index=True)\n",
        "\n",
        "recommend_movie['predict_score']= avg_scores[:100]\n",
        "recommend_movie[recommend_movie.genres.str.split('|').str[1] !='성인'][:20].reset_index()# 성인제외\n",
        "#recommend_movie[:20]"
      ],
      "execution_count": 46,
      "outputs": [
        {
          "output_type": "stream",
          "name": "stdout",
          "text": [
            "enter userid :11\n",
            "Top Recommended movieId For User:  11\n",
            "     -9167504850715679476\n",
            "     -9088081590022333399\n",
            "     -9099268776883631577\n",
            "Top Recommended movieId for Group:\n",
            "     -9167504850715679476\n",
            "     -9088081590022333399\n",
            "     -9099268776883631577\n",
            "     -9222568265978400202\n",
            "     -9220029811041931709\n"
          ]
        },
        {
          "output_type": "execute_result",
          "data": {
            "text/html": [
              "<div>\n",
              "<style scoped>\n",
              "    .dataframe tbody tr th:only-of-type {\n",
              "        vertical-align: middle;\n",
              "    }\n",
              "\n",
              "    .dataframe tbody tr th {\n",
              "        vertical-align: top;\n",
              "    }\n",
              "\n",
              "    .dataframe thead th {\n",
              "        text-align: right;\n",
              "    }\n",
              "</style>\n",
              "<table border=\"1\" class=\"dataframe\">\n",
              "  <thead>\n",
              "    <tr style=\"text-align: right;\">\n",
              "      <th></th>\n",
              "      <th>index</th>\n",
              "      <th>movieId</th>\n",
              "      <th>rating</th>\n",
              "      <th>title</th>\n",
              "      <th>genres</th>\n",
              "      <th>create_yr</th>\n",
              "      <th>director</th>\n",
              "      <th>actor1</th>\n",
              "      <th>wtch_cnt</th>\n",
              "      <th>sales_amt_3m</th>\n",
              "      <th>predict_score</th>\n",
              "    </tr>\n",
              "  </thead>\n",
              "  <tbody>\n",
              "    <tr>\n",
              "      <th>0</th>\n",
              "      <td>0</td>\n",
              "      <td>-9167504850715679476</td>\n",
              "      <td>0.033186</td>\n",
              "      <td>드럭스토어 카우보이</td>\n",
              "      <td>영화|드라마|NaN</td>\n",
              "      <td>2018</td>\n",
              "      <td>구스 반 산트</td>\n",
              "      <td>맷 딜런</td>\n",
              "      <td>13</td>\n",
              "      <td>1400.0</td>\n",
              "      <td>0.666472</td>\n",
              "    </tr>\n",
              "    <tr>\n",
              "      <th>1</th>\n",
              "      <td>1</td>\n",
              "      <td>-9088081590022333399</td>\n",
              "      <td>0.028348</td>\n",
              "      <td>왕대륙의 기묘기사</td>\n",
              "      <td>영화|SF/판타지|NaN</td>\n",
              "      <td>2020</td>\n",
              "      <td>조소구</td>\n",
              "      <td>왕대륙</td>\n",
              "      <td>114</td>\n",
              "      <td>7500.0</td>\n",
              "      <td>0.653841</td>\n",
              "    </tr>\n",
              "    <tr>\n",
              "      <th>2</th>\n",
              "      <td>3</td>\n",
              "      <td>-9222568265978400202</td>\n",
              "      <td>0.008714</td>\n",
              "      <td>트와일라잇 사사라 사야</td>\n",
              "      <td>영화|드라마|NaN</td>\n",
              "      <td>2017</td>\n",
              "      <td>후카가와 요시히로</td>\n",
              "      <td>아라가키 유이</td>\n",
              "      <td>13</td>\n",
              "      <td>0.0</td>\n",
              "      <td>0.529234</td>\n",
              "    </tr>\n",
              "    <tr>\n",
              "      <th>3</th>\n",
              "      <td>7</td>\n",
              "      <td>-8837207408188812996</td>\n",
              "      <td>0.036554</td>\n",
              "      <td>데드맨 스탠딩</td>\n",
              "      <td>영화|공포|캐치온</td>\n",
              "      <td>2021</td>\n",
              "      <td>니콜라스 바턴</td>\n",
              "      <td>루크 아놀드</td>\n",
              "      <td>28</td>\n",
              "      <td>0.0</td>\n",
              "      <td>0.484519</td>\n",
              "    </tr>\n",
              "    <tr>\n",
              "      <th>4</th>\n",
              "      <td>8</td>\n",
              "      <td>-8950863352167524646</td>\n",
              "      <td>0.058969</td>\n",
              "      <td>짱구는 못말려: 어른제국의 역습</td>\n",
              "      <td>영화|극장판 애니|어린이/가족</td>\n",
              "      <td>2014</td>\n",
              "      <td>하라 케이이치</td>\n",
              "      <td>0</td>\n",
              "      <td>3363</td>\n",
              "      <td>1496600.0</td>\n",
              "      <td>0.482105</td>\n",
              "    </tr>\n",
              "    <tr>\n",
              "      <th>5</th>\n",
              "      <td>9</td>\n",
              "      <td>-6022562168976122514</td>\n",
              "      <td>0.073344</td>\n",
              "      <td>태그</td>\n",
              "      <td>영화|코미디|NaN</td>\n",
              "      <td>2018</td>\n",
              "      <td>제프 톰식</td>\n",
              "      <td>존 햄</td>\n",
              "      <td>7</td>\n",
              "      <td>32500.0</td>\n",
              "      <td>0.471992</td>\n",
              "    </tr>\n",
              "    <tr>\n",
              "      <th>6</th>\n",
              "      <td>11</td>\n",
              "      <td>-8669353210621276443</td>\n",
              "      <td>0.009902</td>\n",
              "      <td>트랜스포머: 최후의 기사</td>\n",
              "      <td>영화|액션|NaN</td>\n",
              "      <td>2021</td>\n",
              "      <td>마이클 베이</td>\n",
              "      <td>마크 월버그</td>\n",
              "      <td>363</td>\n",
              "      <td>435500.0</td>\n",
              "      <td>0.459307</td>\n",
              "    </tr>\n",
              "    <tr>\n",
              "      <th>7</th>\n",
              "      <td>12</td>\n",
              "      <td>-4391782293218562031</td>\n",
              "      <td>0.017181</td>\n",
              "      <td>달아난 말</td>\n",
              "      <td>영화|로맨스|NaN</td>\n",
              "      <td>2021</td>\n",
              "      <td>유진선</td>\n",
              "      <td>길용우</td>\n",
              "      <td>21</td>\n",
              "      <td>32500.0</td>\n",
              "      <td>0.458704</td>\n",
              "    </tr>\n",
              "    <tr>\n",
              "      <th>8</th>\n",
              "      <td>13</td>\n",
              "      <td>-5897995940828896913</td>\n",
              "      <td>0.101378</td>\n",
              "      <td>위대한 비행</td>\n",
              "      <td>영화|드라마|NaN</td>\n",
              "      <td>2015</td>\n",
              "      <td>진재운</td>\n",
              "      <td>도요새 얄비</td>\n",
              "      <td>6</td>\n",
              "      <td>0.0</td>\n",
              "      <td>0.458552</td>\n",
              "    </tr>\n",
              "    <tr>\n",
              "      <th>9</th>\n",
              "      <td>14</td>\n",
              "      <td>-9220557457643621082</td>\n",
              "      <td>0.045149</td>\n",
              "      <td>미녀 삼총사 3</td>\n",
              "      <td>영화|액션|캐치온</td>\n",
              "      <td>2020</td>\n",
              "      <td>엘리자베스 뱅크스</td>\n",
              "      <td>크리스틴 스튜어트</td>\n",
              "      <td>99</td>\n",
              "      <td>0.0</td>\n",
              "      <td>0.458384</td>\n",
              "    </tr>\n",
              "    <tr>\n",
              "      <th>10</th>\n",
              "      <td>15</td>\n",
              "      <td>-9185293222259216942</td>\n",
              "      <td>0.030673</td>\n",
              "      <td>구의 두 사람</td>\n",
              "      <td>영화|로맨스|NaN</td>\n",
              "      <td>2020</td>\n",
              "      <td>아라이 하루히코</td>\n",
              "      <td>에모토 타스쿠</td>\n",
              "      <td>784</td>\n",
              "      <td>192500.0</td>\n",
              "      <td>0.454436</td>\n",
              "    </tr>\n",
              "    <tr>\n",
              "      <th>11</th>\n",
              "      <td>17</td>\n",
              "      <td>-9169262695787050014</td>\n",
              "      <td>0.000174</td>\n",
              "      <td>대지진</td>\n",
              "      <td>영화|드라마|NaN</td>\n",
              "      <td>2020</td>\n",
              "      <td>펑 샤오강</td>\n",
              "      <td>쉬판</td>\n",
              "      <td>1</td>\n",
              "      <td>6500.0</td>\n",
              "      <td>0.453368</td>\n",
              "    </tr>\n",
              "    <tr>\n",
              "      <th>12</th>\n",
              "      <td>18</td>\n",
              "      <td>-6032043241583035654</td>\n",
              "      <td>0.038608</td>\n",
              "      <td>쇼독스: 언더커버 캅스</td>\n",
              "      <td>영화|드라마|NaN</td>\n",
              "      <td>2020</td>\n",
              "      <td>라자 고스넬</td>\n",
              "      <td>윌 아넷</td>\n",
              "      <td>66</td>\n",
              "      <td>17500.0</td>\n",
              "      <td>0.449798</td>\n",
              "    </tr>\n",
              "    <tr>\n",
              "      <th>13</th>\n",
              "      <td>19</td>\n",
              "      <td>-8425964624142254762</td>\n",
              "      <td>0.021608</td>\n",
              "      <td>더 레이크</td>\n",
              "      <td>영화|공포|NaN</td>\n",
              "      <td>2020</td>\n",
              "      <td>토니 워시</td>\n",
              "      <td>레이첼 멜빈</td>\n",
              "      <td>26</td>\n",
              "      <td>46000.0</td>\n",
              "      <td>0.448001</td>\n",
              "    </tr>\n",
              "    <tr>\n",
              "      <th>14</th>\n",
              "      <td>20</td>\n",
              "      <td>-7990599804369383734</td>\n",
              "      <td>0.101378</td>\n",
              "      <td>유령_KRCG</td>\n",
              "      <td>영화|스릴러|NaN</td>\n",
              "      <td>2020</td>\n",
              "      <td>민병천</td>\n",
              "      <td>최민수</td>\n",
              "      <td>2</td>\n",
              "      <td>0.0</td>\n",
              "      <td>0.447529</td>\n",
              "    </tr>\n",
              "    <tr>\n",
              "      <th>15</th>\n",
              "      <td>21</td>\n",
              "      <td>-5883341796395259228</td>\n",
              "      <td>0.130358</td>\n",
              "      <td>어른도감</td>\n",
              "      <td>영화|코미디|NaN</td>\n",
              "      <td>2018</td>\n",
              "      <td>김인선</td>\n",
              "      <td>엄태구</td>\n",
              "      <td>247</td>\n",
              "      <td>162400.0</td>\n",
              "      <td>0.447306</td>\n",
              "    </tr>\n",
              "    <tr>\n",
              "      <th>16</th>\n",
              "      <td>22</td>\n",
              "      <td>-8821261850868692188</td>\n",
              "      <td>0.133196</td>\n",
              "      <td>미 비포 유</td>\n",
              "      <td>영화|로맨스|NaN</td>\n",
              "      <td>2016</td>\n",
              "      <td>테아 샤록</td>\n",
              "      <td>에밀리아 클라크</td>\n",
              "      <td>2070</td>\n",
              "      <td>3022500.0</td>\n",
              "      <td>0.447025</td>\n",
              "    </tr>\n",
              "    <tr>\n",
              "      <th>17</th>\n",
              "      <td>23</td>\n",
              "      <td>-8477245029494126658</td>\n",
              "      <td>0.032059</td>\n",
              "      <td>모탈: 레전드 오브 토르</td>\n",
              "      <td>영화|액션|캐치온</td>\n",
              "      <td>2021</td>\n",
              "      <td>안드레 외브레달</td>\n",
              "      <td>냇 울프</td>\n",
              "      <td>194</td>\n",
              "      <td>0.0</td>\n",
              "      <td>0.444928</td>\n",
              "    </tr>\n",
              "    <tr>\n",
              "      <th>18</th>\n",
              "      <td>25</td>\n",
              "      <td>-4226941856914058296</td>\n",
              "      <td>0.083826</td>\n",
              "      <td>부릉! 부릉! 브루미즈: 스피더의 모험 일기</td>\n",
              "      <td>영화|극장판 애니|어린이/가족</td>\n",
              "      <td>2016</td>\n",
              "      <td>이영준</td>\n",
              "      <td>양정화</td>\n",
              "      <td>5146</td>\n",
              "      <td>0.0</td>\n",
              "      <td>0.442928</td>\n",
              "    </tr>\n",
              "    <tr>\n",
              "      <th>19</th>\n",
              "      <td>27</td>\n",
              "      <td>-6032011875094622400</td>\n",
              "      <td>0.000021</td>\n",
              "      <td>가면라이더 이그제이드 극장판: 트루 엔딩</td>\n",
              "      <td>영화|극장판 애니|NaN</td>\n",
              "      <td>2018</td>\n",
              "      <td>나카자와 쇼지로</td>\n",
              "      <td>김혜성</td>\n",
              "      <td>53</td>\n",
              "      <td>52000.0</td>\n",
              "      <td>0.442355</td>\n",
              "    </tr>\n",
              "  </tbody>\n",
              "</table>\n",
              "</div>"
            ],
            "text/plain": [
              "    index               movieId    rating  ... wtch_cnt sales_amt_3m predict_score\n",
              "0       0  -9167504850715679476  0.033186  ...       13       1400.0      0.666472\n",
              "1       1  -9088081590022333399  0.028348  ...      114       7500.0      0.653841\n",
              "2       3  -9222568265978400202  0.008714  ...       13          0.0      0.529234\n",
              "3       7  -8837207408188812996  0.036554  ...       28          0.0      0.484519\n",
              "4       8  -8950863352167524646  0.058969  ...     3363    1496600.0      0.482105\n",
              "5       9  -6022562168976122514  0.073344  ...        7      32500.0      0.471992\n",
              "6      11  -8669353210621276443  0.009902  ...      363     435500.0      0.459307\n",
              "7      12  -4391782293218562031  0.017181  ...       21      32500.0      0.458704\n",
              "8      13  -5897995940828896913  0.101378  ...        6          0.0      0.458552\n",
              "9      14  -9220557457643621082  0.045149  ...       99          0.0      0.458384\n",
              "10     15  -9185293222259216942  0.030673  ...      784     192500.0      0.454436\n",
              "11     17  -9169262695787050014  0.000174  ...        1       6500.0      0.453368\n",
              "12     18  -6032043241583035654  0.038608  ...       66      17500.0      0.449798\n",
              "13     19  -8425964624142254762  0.021608  ...       26      46000.0      0.448001\n",
              "14     20  -7990599804369383734  0.101378  ...        2          0.0      0.447529\n",
              "15     21  -5883341796395259228  0.130358  ...      247     162400.0      0.447306\n",
              "16     22  -8821261850868692188  0.133196  ...     2070    3022500.0      0.447025\n",
              "17     23  -8477245029494126658  0.032059  ...      194          0.0      0.444928\n",
              "18     25  -4226941856914058296  0.083826  ...     5146          0.0      0.442928\n",
              "19     27  -6032011875094622400  0.000021  ...       53      52000.0      0.442355\n",
              "\n",
              "[20 rows x 11 columns]"
            ]
          },
          "metadata": {},
          "execution_count": 46
        }
      ]
    },
    {
      "cell_type": "code",
      "metadata": {
        "id": "m6EcaCTbF-Gx",
        "colab": {
          "base_uri": "https://localhost:8080/"
        },
        "outputId": "eb0f9bcd-e649-4f10-8e75-318fdad00beb"
      },
      "source": [
        "model.predict(265, [356], item_features)"
      ],
      "execution_count": 47,
      "outputs": [
        {
          "output_type": "execute_result",
          "data": {
            "text/plain": [
              "array([-0.05144306], dtype=float32)"
            ]
          },
          "metadata": {},
          "execution_count": 47
        }
      ]
    },
    {
      "cell_type": "code",
      "metadata": {
        "id": "BzDvz1nANXGM",
        "colab": {
          "base_uri": "https://localhost:8080/",
          "height": 114
        },
        "outputId": "5a269695-dd12-400d-d8f5-4ab861e38f12"
      },
      "source": [
        "df_item_features[df_item_features.movieId==-2398045337500365954]"
      ],
      "execution_count": 48,
      "outputs": [
        {
          "output_type": "execute_result",
          "data": {
            "text/html": [
              "<div>\n",
              "<style scoped>\n",
              "    .dataframe tbody tr th:only-of-type {\n",
              "        vertical-align: middle;\n",
              "    }\n",
              "\n",
              "    .dataframe tbody tr th {\n",
              "        vertical-align: top;\n",
              "    }\n",
              "\n",
              "    .dataframe thead th {\n",
              "        text-align: right;\n",
              "    }\n",
              "</style>\n",
              "<table border=\"1\" class=\"dataframe\">\n",
              "  <thead>\n",
              "    <tr style=\"text-align: right;\">\n",
              "      <th></th>\n",
              "      <th>cntns_id</th>\n",
              "      <th>movieId</th>\n",
              "      <th>mv_cd</th>\n",
              "      <th>title</th>\n",
              "      <th>genre_l</th>\n",
              "      <th>genre_m</th>\n",
              "      <th>genre_s</th>\n",
              "      <th>open_yr</th>\n",
              "      <th>open_dt</th>\n",
              "      <th>create_yr</th>\n",
              "      <th>create_dt</th>\n",
              "      <th>director</th>\n",
              "      <th>actors</th>\n",
              "      <th>actor1</th>\n",
              "      <th>actor2</th>\n",
              "      <th>mfco_nm</th>\n",
              "      <th>wtch_tm</th>\n",
              "      <th>wtch_cnt</th>\n",
              "      <th>sales_amt_3m</th>\n",
              "      <th>sales_amt_1y</th>\n",
              "      <th>genres</th>\n",
              "    </tr>\n",
              "  </thead>\n",
              "  <tbody>\n",
              "    <tr>\n",
              "      <th>8052</th>\n",
              "      <td>M011148A30PPV00</td>\n",
              "      <td>-2398045337500365954</td>\n",
              "      <td>20124729</td>\n",
              "      <td>악마를 보았다:</td>\n",
              "      <td>영화</td>\n",
              "      <td>스릴러</td>\n",
              "      <td>NaN</td>\n",
              "      <td>NaN</td>\n",
              "      <td>NaN</td>\n",
              "      <td>2019</td>\n",
              "      <td>20190315</td>\n",
              "      <td>김지운</td>\n",
              "      <td>주연: 이병헌, 최민식</td>\n",
              "      <td>이병헌</td>\n",
              "      <td>최민식</td>\n",
              "      <td>(주)페퍼민트앤컴퍼니</td>\n",
              "      <td>24879721</td>\n",
              "      <td>4979</td>\n",
              "      <td>2522800.0</td>\n",
              "      <td>17508400.0</td>\n",
              "      <td>영화|스릴러|NaN</td>\n",
              "    </tr>\n",
              "  </tbody>\n",
              "</table>\n",
              "</div>"
            ],
            "text/plain": [
              "             cntns_id              movieId  ... sales_amt_1y      genres\n",
              "8052  M011148A30PPV00 -2398045337500365954  ...   17508400.0  영화|스릴러|NaN\n",
              "\n",
              "[1 rows x 21 columns]"
            ]
          },
          "metadata": {},
          "execution_count": 48
        }
      ]
    },
    {
      "cell_type": "code",
      "metadata": {
        "id": "kayM9yJ7m4sX"
      },
      "source": [
        "labels = np.array(ratings['movieId'])"
      ],
      "execution_count": 49,
      "outputs": []
    },
    {
      "cell_type": "code",
      "metadata": {
        "id": "n3U7Uh82Rzz8"
      },
      "source": [
        "n_users, n_items = interactions.shape\n",
        "scores=model.predict(265,np.arange(n_items),item_features)"
      ],
      "execution_count": 50,
      "outputs": []
    },
    {
      "cell_type": "code",
      "metadata": {
        "id": "lxNdQIUtnVtW",
        "colab": {
          "base_uri": "https://localhost:8080/"
        },
        "outputId": "4e06e66b-9b45-4229-e18f-3c253cf581bd"
      },
      "source": [
        "labels"
      ],
      "execution_count": 51,
      "outputs": [
        {
          "output_type": "execute_result",
          "data": {
            "text/plain": [
              "array([-5325328048293135553,  -816328911221559320,  2399654214069935366,\n",
              "       ..., -2679473653912353406, -2546974551736097183,\n",
              "        2720114675049710537])"
            ]
          },
          "metadata": {},
          "execution_count": 51
        }
      ]
    },
    {
      "cell_type": "code",
      "metadata": {
        "id": "LLdeaH0mnWY-",
        "colab": {
          "base_uri": "https://localhost:8080/"
        },
        "outputId": "8483580a-587f-4572-dc00-09069bf4aba8"
      },
      "source": [
        "movie_lst=labels[np.argsort(-scores)]\n",
        "movie_lst"
      ],
      "execution_count": 52,
      "outputs": [
        {
          "output_type": "execute_result",
          "data": {
            "text/plain": [
              "array([ 2399654214069935366, -1055949604671705152, -2398045337500365954,\n",
              "       ..., -7386690942067805955,  4836631399059671868,\n",
              "       -8491927063410779757])"
            ]
          },
          "metadata": {},
          "execution_count": 52
        }
      ]
    },
    {
      "cell_type": "code",
      "metadata": {
        "id": "bWw7Vb5Go9je",
        "colab": {
          "base_uri": "https://localhost:8080/"
        },
        "outputId": "0520d1a4-210f-4365-b17f-384a7576c7bf"
      },
      "source": [
        "labels"
      ],
      "execution_count": 53,
      "outputs": [
        {
          "output_type": "execute_result",
          "data": {
            "text/plain": [
              "array([-5325328048293135553,  -816328911221559320,  2399654214069935366,\n",
              "       ..., -2679473653912353406, -2546974551736097183,\n",
              "        2720114675049710537])"
            ]
          },
          "metadata": {},
          "execution_count": 53
        }
      ]
    },
    {
      "cell_type": "code",
      "metadata": {
        "id": "8CPf4rm_pfG2"
      },
      "source": [
        "#print(item_features)"
      ],
      "execution_count": 54,
      "outputs": []
    },
    {
      "cell_type": "code",
      "metadata": {
        "colab": {
          "base_uri": "https://localhost:8080/",
          "height": 86
        },
        "id": "oqXTWgACbLI1",
        "outputId": "574a0953-911f-4c58-bbe0-22d63e90615a"
      },
      "source": [
        "\"\"\"\n",
        "#ratings 에 없는 userId,movieId 삭제 -> 1)row dorp 후 2)sort_values['id'] 3) reset_index() 를 해줘야 error 안남\n",
        "def drop_redundant_rows(n):\n",
        "  '''1)drop redundant rows'''\n",
        "  #user_item_interactions\n",
        "  idx_user=user_item_interactions.userId[~user_item_interactions.userId.isin(df_user_features.userId)].index\n",
        "  user_item_interactions.drop(idx_user,inplace=True)\n",
        "  idx_movie=user_item_interactions.movieId[~user_item_interactions.movieId.isin(df_item_features.movieId)].index\n",
        "  user_item_interactions.drop(idx_movie,inplace=True)\n",
        "\n",
        "  #user_features\n",
        "  idx_user=df_user_features.userId[~df_user_features.userId.isin(user_item_interactions.userId)].index\n",
        "  df_user_features.drop(idx_user,inplace=True)\n",
        "  #item_features\n",
        "  idx_movie=df_item_features.movieId[~df_item_features.movieId.isin(user_item_interactions.movieId)].index\n",
        "  df_item_features.drop(idx_movie,inplace=True)\n",
        "\n",
        "  '''2) sort_values['id']'''\n",
        "  df_item_features.sort_values(by=['movieId'],inplace=True)\n",
        "  df_user_features.sort_values(by=['userId'],inplace=True)\n",
        "  user_item_interactions.sort_values(by=['userId','movieId'],inplace=True)\n",
        "  \n",
        "  '''3) reset_index()'''\n",
        "  ratings=user_item_interactions.loc[:,['userId','movieId','rating']].sort_values(by=['userId','movieId']).reset_index(drop=True)\n",
        "\n",
        "  df_item_features['genres']=df_item_features.genre_l.fillna('NaN')+'|'+df_item_features.genre_m+'|'+df_item_features.genre_s\n",
        "  movies=df_item_features.loc[:,['movieId','title','genres','create_yr','director','actor1','wtch_cnt','sales_amt_3m']].fillna(0).sort_values(by=['movieId']).reset_index(drop=True)\n",
        "  #movies['genre']=list(map(lambda x:zlib.crc32(x.encode('UTF-8')), np.array(movies.genre.fillna(''))))\n",
        "  tmp_movie=ratings.groupby('movieId')['rating'].mean()\n",
        "  movies=pd.merge(tmp_movie,movies, on='movieId').sort_values(by=['movieId']).reset_index(drop=True)\n",
        "\n",
        "  users=df_user_features.loc[:,['userId','sex_cd','age5_band','pfgn1','avg_wtch_cnt','avg_fwtch_cnt','avg_buy_cnt','avg_buy_amt']].fillna(0).sort_values(by=['userId']).reset_index(drop=True)\n",
        "\n",
        "  print('order :',n,'\\n')\n",
        "\n",
        "drop_redundant_rows(1)\n",
        "drop_redundant_rows(2)\n",
        "\n",
        "print('user:',df_user_features.userId[~df_user_features.userId.isin(user_item_interactions.userId)],'\\n','movie: ',df_item_features.movieId[~df_item_features.movieId.isin(user_item_interactions.movieId)])\n",
        "print('user:',user_item_interactions.userId[~user_item_interactions.userId.isin(df_user_features.userId)],'\\n','movie: ',df_item_features.movieId[~df_item_features.movieId.isin(user_item_interactions.movieId)])\n",
        "\"\"\""
      ],
      "execution_count": 55,
      "outputs": [
        {
          "output_type": "execute_result",
          "data": {
            "application/vnd.google.colaboratory.intrinsic+json": {
              "type": "string"
            },
            "text/plain": [
              "\"\\n#ratings 에 없는 userId,movieId 삭제 -> 1)row dorp 후 2)sort_values['id'] 3) reset_index() 를 해줘야 error 안남\\ndef drop_redundant_rows(n):\\n  '''1)drop redundant rows'''\\n  #user_item_interactions\\n  idx_user=user_item_interactions.userId[~user_item_interactions.userId.isin(df_user_features.userId)].index\\n  user_item_interactions.drop(idx_user,inplace=True)\\n  idx_movie=user_item_interactions.movieId[~user_item_interactions.movieId.isin(df_item_features.movieId)].index\\n  user_item_interactions.drop(idx_movie,inplace=True)\\n\\n  #user_features\\n  idx_user=df_user_features.userId[~df_user_features.userId.isin(user_item_interactions.userId)].index\\n  df_user_features.drop(idx_user,inplace=True)\\n  #item_features\\n  idx_movie=df_item_features.movieId[~df_item_features.movieId.isin(user_item_interactions.movieId)].index\\n  df_item_features.drop(idx_movie,inplace=True)\\n\\n  '''2) sort_values['id']'''\\n  df_item_features.sort_values(by=['movieId'],inplace=True)\\n  df_user_features.sort_values(by=['userId'],inplace=True)\\n  user_item_interactions.sort_values(by=['userId','movieId'],inplace=True)\\n  \\n  '''3) reset_index()'''\\n  ratings=user_item_interactions.loc[:,['userId','movieId','rating']].sort_values(by=['userId','movieId']).reset_index(drop=True)\\n\\n  df_item_features['genres']=df_item_features.genre_l.fillna('NaN')+'|'+df_item_features.genre_m+'|'+df_item_features.genre_s\\n  movies=df_item_features.loc[:,['movieId','title','genres','create_yr','director','actor1','wtch_cnt','sales_amt_3m']].fillna(0).sort_values(by=['movieId']).reset_index(drop=True)\\n  #movies['genre']=list(map(lambda x:zlib.crc32(x.encode('UTF-8')), np.array(movies.genre.fillna(''))))\\n  tmp_movie=ratings.groupby('movieId')['rating'].mean()\\n  movies=pd.merge(tmp_movie,movies, on='movieId').sort_values(by=['movieId']).reset_index(drop=True)\\n\\n  users=df_user_features.loc[:,['userId','sex_cd','age5_band','pfgn1','avg_wtch_cnt','avg_fwtch_cnt','avg_buy_cnt','avg_buy_amt']].fillna(0).sort_values(by=['userId']).reset_index(drop=True)\\n\\n  print('order :',n,'\\n')\\n\\ndrop_redundant_rows(1)\\ndrop_redundant_rows(2)\\n\\nprint('user:',df_user_features.userId[~df_user_features.userId.isin(user_item_interactions.userId)],'\\n','movie: ',df_item_features.movieId[~df_item_features.movieId.isin(user_item_interactions.movieId)])\\nprint('user:',user_item_interactions.userId[~user_item_interactions.userId.isin(df_user_features.userId)],'\\n','movie: ',df_item_features.movieId[~df_item_features.movieId.isin(user_item_interactions.movieId)])\\n\""
            ]
          },
          "metadata": {},
          "execution_count": 55
        }
      ]
    },
    {
      "cell_type": "code",
      "metadata": {
        "id": "GhVrzJInszvr"
      },
      "source": [
        ""
      ],
      "execution_count": 55,
      "outputs": []
    }
  ]
}