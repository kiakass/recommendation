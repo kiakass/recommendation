{
  "nbformat": 4,
  "nbformat_minor": 0,
  "metadata": {
    "kernelspec": {
      "display_name": "Python 3",
      "language": "python",
      "name": "python3"
    },
    "language_info": {
      "codemirror_mode": {
        "name": "ipython",
        "version": 3
      },
      "file_extension": ".py",
      "mimetype": "text/x-python",
      "name": "python",
      "nbconvert_exporter": "python",
      "pygments_lexer": "ipython3",
      "version": "3.6.9"
    },
    "colab": {
      "name": "CF_recommendation_KNN_SVD.ipynb",
      "provenance": [],
      "collapsed_sections": [
        "WpSOkiiggT3T",
        "MhU510_egT3W",
        "rlqK4EgGgT3a",
        "QfbQKhHqgT3b"
      ],
      "machine_shape": "hm",
      "include_colab_link": true
    },
    "accelerator": "TPU"
  },
  "cells": [
    {
      "cell_type": "markdown",
      "metadata": {
        "id": "view-in-github",
        "colab_type": "text"
      },
      "source": [
        "<a href=\"https://colab.research.google.com/github/kiakass/recommendation/blob/main/CF_recommendation_KNN_SVD.ipynb\" target=\"_parent\"><img src=\"https://colab.research.google.com/assets/colab-badge.svg\" alt=\"Open In Colab\"/></a>"
      ]
    },
    {
      "cell_type": "code",
      "metadata": {
        "id": "YryrUkFsgT3L"
      },
      "source": [
        "import os\n",
        "import pandas as pd\n",
        "import matplotlib.pyplot as plt"
      ],
      "execution_count": null,
      "outputs": []
    },
    {
      "cell_type": "code",
      "metadata": {
        "id": "kf4XcxeMgbku"
      },
      "source": [
        "#!pip install surprise"
      ],
      "execution_count": null,
      "outputs": []
    },
    {
      "cell_type": "code",
      "metadata": {
        "id": "ECVqoxy3gT3Q"
      },
      "source": [
        "from surprise import Reader, Dataset"
      ],
      "execution_count": null,
      "outputs": []
    },
    {
      "cell_type": "code",
      "metadata": {
        "id": "HeOYxCP7gT3R"
      },
      "source": [
        "movies_fn = ('https://raw.githubusercontent.com/kiakass/share/master/movies.csv')   # 9,125 건, \n",
        "ratings_fn = ('https://raw.githubusercontent.com/kiakass/share/master/ratings.csv') # 100,004 건"
      ],
      "execution_count": null,
      "outputs": []
    },
    {
      "cell_type": "code",
      "metadata": {
        "id": "mo7eEbpvgT3S"
      },
      "source": [
        "movies=pd.read_csv(movies_fn)\n",
        "ratings=pd.read_csv(ratings_fn)"
      ],
      "execution_count": null,
      "outputs": []
    },
    {
      "cell_type": "markdown",
      "metadata": {
        "id": "WpSOkiiggT3T"
      },
      "source": [
        "### # rating-movie & data join view "
      ]
    },
    {
      "cell_type": "code",
      "metadata": {
        "scrolled": true,
        "colab": {
          "base_uri": "https://localhost:8080/"
        },
        "id": "ZXsTq4h9gT3T",
        "outputId": "2cb179a8-a5a0-4ffa-88d3-52cc516aac22"
      },
      "source": [
        "ratings"
      ],
      "execution_count": null,
      "outputs": [
        {
          "output_type": "execute_result",
          "data": {
            "text/html": [
              "<div>\n",
              "<style scoped>\n",
              "    .dataframe tbody tr th:only-of-type {\n",
              "        vertical-align: middle;\n",
              "    }\n",
              "\n",
              "    .dataframe tbody tr th {\n",
              "        vertical-align: top;\n",
              "    }\n",
              "\n",
              "    .dataframe thead th {\n",
              "        text-align: right;\n",
              "    }\n",
              "</style>\n",
              "<table border=\"1\" class=\"dataframe\">\n",
              "  <thead>\n",
              "    <tr style=\"text-align: right;\">\n",
              "      <th></th>\n",
              "      <th>userId</th>\n",
              "      <th>movieId</th>\n",
              "      <th>rating</th>\n",
              "      <th>timestamp</th>\n",
              "    </tr>\n",
              "  </thead>\n",
              "  <tbody>\n",
              "    <tr>\n",
              "      <th>0</th>\n",
              "      <td>1</td>\n",
              "      <td>31</td>\n",
              "      <td>2.5</td>\n",
              "      <td>1260759144</td>\n",
              "    </tr>\n",
              "    <tr>\n",
              "      <th>1</th>\n",
              "      <td>1</td>\n",
              "      <td>1029</td>\n",
              "      <td>3.0</td>\n",
              "      <td>1260759179</td>\n",
              "    </tr>\n",
              "    <tr>\n",
              "      <th>2</th>\n",
              "      <td>1</td>\n",
              "      <td>1061</td>\n",
              "      <td>3.0</td>\n",
              "      <td>1260759182</td>\n",
              "    </tr>\n",
              "    <tr>\n",
              "      <th>3</th>\n",
              "      <td>1</td>\n",
              "      <td>1129</td>\n",
              "      <td>2.0</td>\n",
              "      <td>1260759185</td>\n",
              "    </tr>\n",
              "    <tr>\n",
              "      <th>4</th>\n",
              "      <td>1</td>\n",
              "      <td>1172</td>\n",
              "      <td>4.0</td>\n",
              "      <td>1260759205</td>\n",
              "    </tr>\n",
              "    <tr>\n",
              "      <th>...</th>\n",
              "      <td>...</td>\n",
              "      <td>...</td>\n",
              "      <td>...</td>\n",
              "      <td>...</td>\n",
              "    </tr>\n",
              "    <tr>\n",
              "      <th>99999</th>\n",
              "      <td>671</td>\n",
              "      <td>6268</td>\n",
              "      <td>2.5</td>\n",
              "      <td>1065579370</td>\n",
              "    </tr>\n",
              "    <tr>\n",
              "      <th>100000</th>\n",
              "      <td>671</td>\n",
              "      <td>6269</td>\n",
              "      <td>4.0</td>\n",
              "      <td>1065149201</td>\n",
              "    </tr>\n",
              "    <tr>\n",
              "      <th>100001</th>\n",
              "      <td>671</td>\n",
              "      <td>6365</td>\n",
              "      <td>4.0</td>\n",
              "      <td>1070940363</td>\n",
              "    </tr>\n",
              "    <tr>\n",
              "      <th>100002</th>\n",
              "      <td>671</td>\n",
              "      <td>6385</td>\n",
              "      <td>2.5</td>\n",
              "      <td>1070979663</td>\n",
              "    </tr>\n",
              "    <tr>\n",
              "      <th>100003</th>\n",
              "      <td>671</td>\n",
              "      <td>6565</td>\n",
              "      <td>3.5</td>\n",
              "      <td>1074784724</td>\n",
              "    </tr>\n",
              "  </tbody>\n",
              "</table>\n",
              "<p>100004 rows × 4 columns</p>\n",
              "</div>"
            ],
            "text/plain": [
              "        userId  movieId  rating   timestamp\n",
              "0            1       31     2.5  1260759144\n",
              "1            1     1029     3.0  1260759179\n",
              "2            1     1061     3.0  1260759182\n",
              "3            1     1129     2.0  1260759185\n",
              "4            1     1172     4.0  1260759205\n",
              "...        ...      ...     ...         ...\n",
              "99999      671     6268     2.5  1065579370\n",
              "100000     671     6269     4.0  1065149201\n",
              "100001     671     6365     4.0  1070940363\n",
              "100002     671     6385     2.5  1070979663\n",
              "100003     671     6565     3.5  1074784724\n",
              "\n",
              "[100004 rows x 4 columns]"
            ]
          },
          "metadata": {
            "tags": []
          },
          "execution_count": 157
        }
      ]
    },
    {
      "cell_type": "code",
      "metadata": {
        "scrolled": false,
        "colab": {
          "base_uri": "https://localhost:8080/"
        },
        "id": "R0IyAX20gT3V",
        "outputId": "b70b213a-d343-41e3-8e03-34afaebe25bd"
      },
      "source": [
        "movies"
      ],
      "execution_count": null,
      "outputs": [
        {
          "output_type": "execute_result",
          "data": {
            "text/html": [
              "<div>\n",
              "<style scoped>\n",
              "    .dataframe tbody tr th:only-of-type {\n",
              "        vertical-align: middle;\n",
              "    }\n",
              "\n",
              "    .dataframe tbody tr th {\n",
              "        vertical-align: top;\n",
              "    }\n",
              "\n",
              "    .dataframe thead th {\n",
              "        text-align: right;\n",
              "    }\n",
              "</style>\n",
              "<table border=\"1\" class=\"dataframe\">\n",
              "  <thead>\n",
              "    <tr style=\"text-align: right;\">\n",
              "      <th></th>\n",
              "      <th>movieId</th>\n",
              "      <th>title</th>\n",
              "      <th>genres</th>\n",
              "    </tr>\n",
              "  </thead>\n",
              "  <tbody>\n",
              "    <tr>\n",
              "      <th>0</th>\n",
              "      <td>1</td>\n",
              "      <td>Toy Story (1995)</td>\n",
              "      <td>Adventure|Animation|Children|Comedy|Fantasy</td>\n",
              "    </tr>\n",
              "    <tr>\n",
              "      <th>1</th>\n",
              "      <td>2</td>\n",
              "      <td>Jumanji (1995)</td>\n",
              "      <td>Adventure|Children|Fantasy</td>\n",
              "    </tr>\n",
              "    <tr>\n",
              "      <th>2</th>\n",
              "      <td>3</td>\n",
              "      <td>Grumpier Old Men (1995)</td>\n",
              "      <td>Comedy|Romance</td>\n",
              "    </tr>\n",
              "    <tr>\n",
              "      <th>3</th>\n",
              "      <td>4</td>\n",
              "      <td>Waiting to Exhale (1995)</td>\n",
              "      <td>Comedy|Drama|Romance</td>\n",
              "    </tr>\n",
              "    <tr>\n",
              "      <th>4</th>\n",
              "      <td>5</td>\n",
              "      <td>Father of the Bride Part II (1995)</td>\n",
              "      <td>Comedy</td>\n",
              "    </tr>\n",
              "    <tr>\n",
              "      <th>...</th>\n",
              "      <td>...</td>\n",
              "      <td>...</td>\n",
              "      <td>...</td>\n",
              "    </tr>\n",
              "    <tr>\n",
              "      <th>9120</th>\n",
              "      <td>162672</td>\n",
              "      <td>Mohenjo Daro (2016)</td>\n",
              "      <td>Adventure|Drama|Romance</td>\n",
              "    </tr>\n",
              "    <tr>\n",
              "      <th>9121</th>\n",
              "      <td>163056</td>\n",
              "      <td>Shin Godzilla (2016)</td>\n",
              "      <td>Action|Adventure|Fantasy|Sci-Fi</td>\n",
              "    </tr>\n",
              "    <tr>\n",
              "      <th>9122</th>\n",
              "      <td>163949</td>\n",
              "      <td>The Beatles: Eight Days a Week - The Touring Y...</td>\n",
              "      <td>Documentary</td>\n",
              "    </tr>\n",
              "    <tr>\n",
              "      <th>9123</th>\n",
              "      <td>164977</td>\n",
              "      <td>The Gay Desperado (1936)</td>\n",
              "      <td>Comedy</td>\n",
              "    </tr>\n",
              "    <tr>\n",
              "      <th>9124</th>\n",
              "      <td>164979</td>\n",
              "      <td>Women of '69, Unboxed</td>\n",
              "      <td>Documentary</td>\n",
              "    </tr>\n",
              "  </tbody>\n",
              "</table>\n",
              "<p>9125 rows × 3 columns</p>\n",
              "</div>"
            ],
            "text/plain": [
              "      movieId  ...                                       genres\n",
              "0           1  ...  Adventure|Animation|Children|Comedy|Fantasy\n",
              "1           2  ...                   Adventure|Children|Fantasy\n",
              "2           3  ...                               Comedy|Romance\n",
              "3           4  ...                         Comedy|Drama|Romance\n",
              "4           5  ...                                       Comedy\n",
              "...       ...  ...                                          ...\n",
              "9120   162672  ...                      Adventure|Drama|Romance\n",
              "9121   163056  ...              Action|Adventure|Fantasy|Sci-Fi\n",
              "9122   163949  ...                                  Documentary\n",
              "9123   164977  ...                                       Comedy\n",
              "9124   164979  ...                                  Documentary\n",
              "\n",
              "[9125 rows x 3 columns]"
            ]
          },
          "metadata": {
            "tags": []
          },
          "execution_count": 158
        }
      ]
    },
    {
      "cell_type": "code",
      "metadata": {
        "scrolled": true,
        "colab": {
          "base_uri": "https://localhost:8080/"
        },
        "id": "BV_ha7Z4gT3W",
        "outputId": "cd6be034-b788-400e-f974-211b17d70674"
      },
      "source": [
        "pd.merge(ratings, movies, on='movieId')"
      ],
      "execution_count": null,
      "outputs": [
        {
          "output_type": "execute_result",
          "data": {
            "text/html": [
              "<div>\n",
              "<style scoped>\n",
              "    .dataframe tbody tr th:only-of-type {\n",
              "        vertical-align: middle;\n",
              "    }\n",
              "\n",
              "    .dataframe tbody tr th {\n",
              "        vertical-align: top;\n",
              "    }\n",
              "\n",
              "    .dataframe thead th {\n",
              "        text-align: right;\n",
              "    }\n",
              "</style>\n",
              "<table border=\"1\" class=\"dataframe\">\n",
              "  <thead>\n",
              "    <tr style=\"text-align: right;\">\n",
              "      <th></th>\n",
              "      <th>userId</th>\n",
              "      <th>movieId</th>\n",
              "      <th>rating</th>\n",
              "      <th>timestamp</th>\n",
              "      <th>title</th>\n",
              "      <th>genres</th>\n",
              "    </tr>\n",
              "  </thead>\n",
              "  <tbody>\n",
              "    <tr>\n",
              "      <th>0</th>\n",
              "      <td>1</td>\n",
              "      <td>31</td>\n",
              "      <td>2.5</td>\n",
              "      <td>1260759144</td>\n",
              "      <td>Dangerous Minds (1995)</td>\n",
              "      <td>Drama</td>\n",
              "    </tr>\n",
              "    <tr>\n",
              "      <th>1</th>\n",
              "      <td>7</td>\n",
              "      <td>31</td>\n",
              "      <td>3.0</td>\n",
              "      <td>851868750</td>\n",
              "      <td>Dangerous Minds (1995)</td>\n",
              "      <td>Drama</td>\n",
              "    </tr>\n",
              "    <tr>\n",
              "      <th>2</th>\n",
              "      <td>31</td>\n",
              "      <td>31</td>\n",
              "      <td>4.0</td>\n",
              "      <td>1273541953</td>\n",
              "      <td>Dangerous Minds (1995)</td>\n",
              "      <td>Drama</td>\n",
              "    </tr>\n",
              "    <tr>\n",
              "      <th>3</th>\n",
              "      <td>32</td>\n",
              "      <td>31</td>\n",
              "      <td>4.0</td>\n",
              "      <td>834828440</td>\n",
              "      <td>Dangerous Minds (1995)</td>\n",
              "      <td>Drama</td>\n",
              "    </tr>\n",
              "    <tr>\n",
              "      <th>4</th>\n",
              "      <td>36</td>\n",
              "      <td>31</td>\n",
              "      <td>3.0</td>\n",
              "      <td>847057202</td>\n",
              "      <td>Dangerous Minds (1995)</td>\n",
              "      <td>Drama</td>\n",
              "    </tr>\n",
              "    <tr>\n",
              "      <th>...</th>\n",
              "      <td>...</td>\n",
              "      <td>...</td>\n",
              "      <td>...</td>\n",
              "      <td>...</td>\n",
              "      <td>...</td>\n",
              "      <td>...</td>\n",
              "    </tr>\n",
              "    <tr>\n",
              "      <th>99999</th>\n",
              "      <td>664</td>\n",
              "      <td>64997</td>\n",
              "      <td>2.5</td>\n",
              "      <td>1343761859</td>\n",
              "      <td>War of the Worlds (2005)</td>\n",
              "      <td>Action|Sci-Fi</td>\n",
              "    </tr>\n",
              "    <tr>\n",
              "      <th>100000</th>\n",
              "      <td>664</td>\n",
              "      <td>72380</td>\n",
              "      <td>3.5</td>\n",
              "      <td>1344435977</td>\n",
              "      <td>Box, The (2009)</td>\n",
              "      <td>Drama|Horror|Mystery|Sci-Fi|Thriller</td>\n",
              "    </tr>\n",
              "    <tr>\n",
              "      <th>100001</th>\n",
              "      <td>665</td>\n",
              "      <td>129</td>\n",
              "      <td>3.0</td>\n",
              "      <td>995232528</td>\n",
              "      <td>Pie in the Sky (1996)</td>\n",
              "      <td>Comedy|Romance</td>\n",
              "    </tr>\n",
              "    <tr>\n",
              "      <th>100002</th>\n",
              "      <td>665</td>\n",
              "      <td>4736</td>\n",
              "      <td>1.0</td>\n",
              "      <td>1010197684</td>\n",
              "      <td>Summer Catch (2001)</td>\n",
              "      <td>Comedy|Drama|Romance</td>\n",
              "    </tr>\n",
              "    <tr>\n",
              "      <th>100003</th>\n",
              "      <td>668</td>\n",
              "      <td>6425</td>\n",
              "      <td>1.0</td>\n",
              "      <td>993613478</td>\n",
              "      <td>6th Man, The (Sixth Man, The) (1997)</td>\n",
              "      <td>Comedy</td>\n",
              "    </tr>\n",
              "  </tbody>\n",
              "</table>\n",
              "<p>100004 rows × 6 columns</p>\n",
              "</div>"
            ],
            "text/plain": [
              "        userId  ...                                genres\n",
              "0            1  ...                                 Drama\n",
              "1            7  ...                                 Drama\n",
              "2           31  ...                                 Drama\n",
              "3           32  ...                                 Drama\n",
              "4           36  ...                                 Drama\n",
              "...        ...  ...                                   ...\n",
              "99999      664  ...                         Action|Sci-Fi\n",
              "100000     664  ...  Drama|Horror|Mystery|Sci-Fi|Thriller\n",
              "100001     665  ...                        Comedy|Romance\n",
              "100002     665  ...                  Comedy|Drama|Romance\n",
              "100003     668  ...                                Comedy\n",
              "\n",
              "[100004 rows x 6 columns]"
            ]
          },
          "metadata": {
            "tags": []
          },
          "execution_count": 159
        }
      ]
    },
    {
      "cell_type": "markdown",
      "metadata": {
        "id": "MhU510_egT3W"
      },
      "source": [
        "### 특정 user 기준 data 보기"
      ]
    },
    {
      "cell_type": "code",
      "metadata": {
        "colab": {
          "base_uri": "https://localhost:8080/"
        },
        "id": "40Yi3KkFgT3X",
        "outputId": "db020b48-8f25-4f72-809d-c86b1406507c"
      },
      "source": [
        "ratings[(ratings['userId'] == 264)].sort_values('rating',ascending=False).head()"
      ],
      "execution_count": null,
      "outputs": [
        {
          "output_type": "execute_result",
          "data": {
            "text/html": [
              "<div>\n",
              "<style scoped>\n",
              "    .dataframe tbody tr th:only-of-type {\n",
              "        vertical-align: middle;\n",
              "    }\n",
              "\n",
              "    .dataframe tbody tr th {\n",
              "        vertical-align: top;\n",
              "    }\n",
              "\n",
              "    .dataframe thead th {\n",
              "        text-align: right;\n",
              "    }\n",
              "</style>\n",
              "<table border=\"1\" class=\"dataframe\">\n",
              "  <thead>\n",
              "    <tr style=\"text-align: right;\">\n",
              "      <th></th>\n",
              "      <th>userId</th>\n",
              "      <th>movieId</th>\n",
              "      <th>rating</th>\n",
              "      <th>timestamp</th>\n",
              "    </tr>\n",
              "  </thead>\n",
              "  <tbody>\n",
              "    <tr>\n",
              "      <th>36773</th>\n",
              "      <td>264</td>\n",
              "      <td>39</td>\n",
              "      <td>5.0</td>\n",
              "      <td>995664962</td>\n",
              "    </tr>\n",
              "    <tr>\n",
              "      <th>36785</th>\n",
              "      <td>264</td>\n",
              "      <td>1097</td>\n",
              "      <td>5.0</td>\n",
              "      <td>995664664</td>\n",
              "    </tr>\n",
              "    <tr>\n",
              "      <th>36800</th>\n",
              "      <td>264</td>\n",
              "      <td>2406</td>\n",
              "      <td>5.0</td>\n",
              "      <td>995664995</td>\n",
              "    </tr>\n",
              "    <tr>\n",
              "      <th>36799</th>\n",
              "      <td>264</td>\n",
              "      <td>2248</td>\n",
              "      <td>5.0</td>\n",
              "      <td>995664866</td>\n",
              "    </tr>\n",
              "    <tr>\n",
              "      <th>36797</th>\n",
              "      <td>264</td>\n",
              "      <td>2125</td>\n",
              "      <td>5.0</td>\n",
              "      <td>995665027</td>\n",
              "    </tr>\n",
              "  </tbody>\n",
              "</table>\n",
              "</div>"
            ],
            "text/plain": [
              "       userId  movieId  rating  timestamp\n",
              "36773     264       39     5.0  995664962\n",
              "36785     264     1097     5.0  995664664\n",
              "36800     264     2406     5.0  995664995\n",
              "36799     264     2248     5.0  995664866\n",
              "36797     264     2125     5.0  995665027"
            ]
          },
          "metadata": {
            "tags": []
          },
          "execution_count": 160
        }
      ]
    },
    {
      "cell_type": "code",
      "metadata": {
        "scrolled": true,
        "id": "BHCjLehugT3X"
      },
      "source": [
        "df_o=ratings[(ratings['userId'] == 264)&(ratings['movieId'] == 4280)]"
      ],
      "execution_count": null,
      "outputs": []
    },
    {
      "cell_type": "code",
      "metadata": {
        "colab": {
          "base_uri": "https://localhost:8080/"
        },
        "id": "__sAG3URgT3Z",
        "outputId": "9e6227e5-b311-4378-f78b-d68546509b3e"
      },
      "source": [
        "pd.merge(df_o,movies, on='movieId').head()"
      ],
      "execution_count": null,
      "outputs": [
        {
          "output_type": "execute_result",
          "data": {
            "text/html": [
              "<div>\n",
              "<style scoped>\n",
              "    .dataframe tbody tr th:only-of-type {\n",
              "        vertical-align: middle;\n",
              "    }\n",
              "\n",
              "    .dataframe tbody tr th {\n",
              "        vertical-align: top;\n",
              "    }\n",
              "\n",
              "    .dataframe thead th {\n",
              "        text-align: right;\n",
              "    }\n",
              "</style>\n",
              "<table border=\"1\" class=\"dataframe\">\n",
              "  <thead>\n",
              "    <tr style=\"text-align: right;\">\n",
              "      <th></th>\n",
              "      <th>userId</th>\n",
              "      <th>movieId</th>\n",
              "      <th>rating</th>\n",
              "      <th>timestamp</th>\n",
              "      <th>title</th>\n",
              "      <th>genres</th>\n",
              "    </tr>\n",
              "  </thead>\n",
              "  <tbody>\n",
              "    <tr>\n",
              "      <th>0</th>\n",
              "      <td>264</td>\n",
              "      <td>4280</td>\n",
              "      <td>4.0</td>\n",
              "      <td>995664947</td>\n",
              "      <td>World According to Garp, The (1982)</td>\n",
              "      <td>Comedy|Drama|Romance</td>\n",
              "    </tr>\n",
              "  </tbody>\n",
              "</table>\n",
              "</div>"
            ],
            "text/plain": [
              "   userId  movieId  ...                                title                genres\n",
              "0     264     4280  ...  World According to Garp, The (1982)  Comedy|Drama|Romance\n",
              "\n",
              "[1 rows x 6 columns]"
            ]
          },
          "metadata": {
            "tags": []
          },
          "execution_count": 162
        }
      ]
    },
    {
      "cell_type": "code",
      "metadata": {
        "scrolled": false,
        "colab": {
          "base_uri": "https://localhost:8080/"
        },
        "id": "8zCr4UTLgT3Z",
        "outputId": "c6c1e6d5-1a03-4191-f2fd-27d45e159489"
      },
      "source": [
        "# user 별로 얼마나 rating을 하였는지 ?\n",
        "# 데이터프레임에서 한 컬럼만 뽑아낸 시리즈를 종류별로 카운트하고, 인덱스에 따라 내림차순 정렬\n",
        "data = ratings['rating'].value_counts().sort_index(ascending=True)\n",
        "data_g = ratings.groupby('userId')['rating'].count().reset_index().sort_values('rating',ascending=False)\n",
        "data_g"
      ],
      "execution_count": null,
      "outputs": [
        {
          "output_type": "execute_result",
          "data": {
            "text/html": [
              "<div>\n",
              "<style scoped>\n",
              "    .dataframe tbody tr th:only-of-type {\n",
              "        vertical-align: middle;\n",
              "    }\n",
              "\n",
              "    .dataframe tbody tr th {\n",
              "        vertical-align: top;\n",
              "    }\n",
              "\n",
              "    .dataframe thead th {\n",
              "        text-align: right;\n",
              "    }\n",
              "</style>\n",
              "<table border=\"1\" class=\"dataframe\">\n",
              "  <thead>\n",
              "    <tr style=\"text-align: right;\">\n",
              "      <th></th>\n",
              "      <th>userId</th>\n",
              "      <th>rating</th>\n",
              "    </tr>\n",
              "  </thead>\n",
              "  <tbody>\n",
              "    <tr>\n",
              "      <th>546</th>\n",
              "      <td>547</td>\n",
              "      <td>2391</td>\n",
              "    </tr>\n",
              "    <tr>\n",
              "      <th>563</th>\n",
              "      <td>564</td>\n",
              "      <td>1868</td>\n",
              "    </tr>\n",
              "    <tr>\n",
              "      <th>623</th>\n",
              "      <td>624</td>\n",
              "      <td>1735</td>\n",
              "    </tr>\n",
              "    <tr>\n",
              "      <th>14</th>\n",
              "      <td>15</td>\n",
              "      <td>1700</td>\n",
              "    </tr>\n",
              "    <tr>\n",
              "      <th>72</th>\n",
              "      <td>73</td>\n",
              "      <td>1610</td>\n",
              "    </tr>\n",
              "    <tr>\n",
              "      <th>...</th>\n",
              "      <td>...</td>\n",
              "      <td>...</td>\n",
              "    </tr>\n",
              "    <tr>\n",
              "      <th>295</th>\n",
              "      <td>296</td>\n",
              "      <td>20</td>\n",
              "    </tr>\n",
              "    <tr>\n",
              "      <th>288</th>\n",
              "      <td>289</td>\n",
              "      <td>20</td>\n",
              "    </tr>\n",
              "    <tr>\n",
              "      <th>248</th>\n",
              "      <td>249</td>\n",
              "      <td>20</td>\n",
              "    </tr>\n",
              "    <tr>\n",
              "      <th>220</th>\n",
              "      <td>221</td>\n",
              "      <td>20</td>\n",
              "    </tr>\n",
              "    <tr>\n",
              "      <th>0</th>\n",
              "      <td>1</td>\n",
              "      <td>20</td>\n",
              "    </tr>\n",
              "  </tbody>\n",
              "</table>\n",
              "<p>671 rows × 2 columns</p>\n",
              "</div>"
            ],
            "text/plain": [
              "     userId  rating\n",
              "546     547    2391\n",
              "563     564    1868\n",
              "623     624    1735\n",
              "14       15    1700\n",
              "72       73    1610\n",
              "..      ...     ...\n",
              "295     296      20\n",
              "288     289      20\n",
              "248     249      20\n",
              "220     221      20\n",
              "0         1      20\n",
              "\n",
              "[671 rows x 2 columns]"
            ]
          },
          "metadata": {
            "tags": []
          },
          "execution_count": 163
        }
      ]
    },
    {
      "cell_type": "markdown",
      "metadata": {
        "id": "rlqK4EgGgT3a"
      },
      "source": [
        "### # 별점(rating) Data 분포"
      ]
    },
    {
      "cell_type": "code",
      "metadata": {
        "colab": {
          "base_uri": "https://localhost:8080/"
        },
        "id": "fYJ22ty8gT3a",
        "outputId": "5259b963-52dc-4b61-c634-a6b18cdffa8a"
      },
      "source": [
        "plt.figure(figsize=(7,5))\n",
        "a=plt.hist(data_g['rating'],25)\n",
        "plt.title('Number of ratings per user.',fontsize=15)"
      ],
      "execution_count": null,
      "outputs": [
        {
          "output_type": "execute_result",
          "data": {
            "text/plain": [
              "Text(0.5, 1.0, 'Number of ratings per user.')"
            ]
          },
          "metadata": {
            "tags": []
          },
          "execution_count": 164
        },
        {
          "output_type": "display_data",
          "data": {
            "image/png": "[encoded data removed]",
            "text/plain": [
              "<Figure size 504x360 with 1 Axes>"
            ]
          },
          "metadata": {
            "tags": [],
            "needs_background": "light"
          }
        }
      ]
    },
    {
      "cell_type": "code",
      "metadata": {
        "colab": {
          "base_uri": "https://localhost:8080/"
        },
        "id": "KHCpfOCBgT3b",
        "outputId": "e991bf15-586a-4a75-98e4-e534b01e0b97"
      },
      "source": [
        "data"
      ],
      "execution_count": null,
      "outputs": [
        {
          "output_type": "execute_result",
          "data": {
            "text/plain": [
              "0.5     1101\n",
              "1.0     3326\n",
              "1.5     1687\n",
              "2.0     7271\n",
              "2.5     4449\n",
              "3.0    20064\n",
              "3.5    10538\n",
              "4.0    28750\n",
              "4.5     7723\n",
              "5.0    15095\n",
              "Name: rating, dtype: int64"
            ]
          },
          "metadata": {
            "tags": []
          },
          "execution_count": 165
        }
      ]
    },
    {
      "cell_type": "code",
      "metadata": {
        "scrolled": false,
        "colab": {
          "base_uri": "https://localhost:8080/"
        },
        "id": "Qwemb6OpgT3b",
        "outputId": "18022322-5864-46fd-bff9-226dfe800171"
      },
      "source": [
        "plt.figure(figsize=(7,5))\n",
        "data = ratings['rating'].value_counts().sort_index(ascending=True)\n",
        "data.plot.bar()\n",
        "plt.title('Number of movies by ratings.',fontsize=15)"
      ],
      "execution_count": null,
      "outputs": [
        {
          "output_type": "execute_result",
          "data": {
            "text/plain": [
              "Text(0.5, 1.0, 'Number of movies by ratings.')"
            ]
          },
          "metadata": {
            "tags": []
          },
          "execution_count": 166
        },
        {
          "output_type": "display_data",
          "data": {
            "image/png": "[encoded data removed]",
            "text/plain": [
              "<Figure size 504x360 with 1 Axes>"
            ]
          },
          "metadata": {
            "tags": [],
            "needs_background": "light"
          }
        }
      ]
    },
    {
      "cell_type": "markdown",
      "metadata": {
        "id": "QfbQKhHqgT3b"
      },
      "source": [
        "### Data 처리"
      ]
    },
    {
      "cell_type": "code",
      "metadata": {
        "scrolled": true,
        "colab": {
          "base_uri": "https://localhost:8080/"
        },
        "id": "JR3_jjLmgT3b",
        "outputId": "d552b61d-3760-489b-d4b3-f4bf6735b427"
      },
      "source": [
        "#count()까지 Series타입이고, reset_index()까지 해서 dataframe이 된다.\n",
        "ratings.groupby('userId')['rating'].count().reset_index().sort_values('rating',ascending=False)"
      ],
      "execution_count": null,
      "outputs": [
        {
          "output_type": "execute_result",
          "data": {
            "text/html": [
              "<div>\n",
              "<style scoped>\n",
              "    .dataframe tbody tr th:only-of-type {\n",
              "        vertical-align: middle;\n",
              "    }\n",
              "\n",
              "    .dataframe tbody tr th {\n",
              "        vertical-align: top;\n",
              "    }\n",
              "\n",
              "    .dataframe thead th {\n",
              "        text-align: right;\n",
              "    }\n",
              "</style>\n",
              "<table border=\"1\" class=\"dataframe\">\n",
              "  <thead>\n",
              "    <tr style=\"text-align: right;\">\n",
              "      <th></th>\n",
              "      <th>userId</th>\n",
              "      <th>rating</th>\n",
              "    </tr>\n",
              "  </thead>\n",
              "  <tbody>\n",
              "    <tr>\n",
              "      <th>546</th>\n",
              "      <td>547</td>\n",
              "      <td>2391</td>\n",
              "    </tr>\n",
              "    <tr>\n",
              "      <th>563</th>\n",
              "      <td>564</td>\n",
              "      <td>1868</td>\n",
              "    </tr>\n",
              "    <tr>\n",
              "      <th>623</th>\n",
              "      <td>624</td>\n",
              "      <td>1735</td>\n",
              "    </tr>\n",
              "    <tr>\n",
              "      <th>14</th>\n",
              "      <td>15</td>\n",
              "      <td>1700</td>\n",
              "    </tr>\n",
              "    <tr>\n",
              "      <th>72</th>\n",
              "      <td>73</td>\n",
              "      <td>1610</td>\n",
              "    </tr>\n",
              "    <tr>\n",
              "      <th>...</th>\n",
              "      <td>...</td>\n",
              "      <td>...</td>\n",
              "    </tr>\n",
              "    <tr>\n",
              "      <th>295</th>\n",
              "      <td>296</td>\n",
              "      <td>20</td>\n",
              "    </tr>\n",
              "    <tr>\n",
              "      <th>288</th>\n",
              "      <td>289</td>\n",
              "      <td>20</td>\n",
              "    </tr>\n",
              "    <tr>\n",
              "      <th>248</th>\n",
              "      <td>249</td>\n",
              "      <td>20</td>\n",
              "    </tr>\n",
              "    <tr>\n",
              "      <th>220</th>\n",
              "      <td>221</td>\n",
              "      <td>20</td>\n",
              "    </tr>\n",
              "    <tr>\n",
              "      <th>0</th>\n",
              "      <td>1</td>\n",
              "      <td>20</td>\n",
              "    </tr>\n",
              "  </tbody>\n",
              "</table>\n",
              "<p>671 rows × 2 columns</p>\n",
              "</div>"
            ],
            "text/plain": [
              "     userId  rating\n",
              "546     547    2391\n",
              "563     564    1868\n",
              "623     624    1735\n",
              "14       15    1700\n",
              "72       73    1610\n",
              "..      ...     ...\n",
              "295     296      20\n",
              "288     289      20\n",
              "248     249      20\n",
              "220     221      20\n",
              "0         1      20\n",
              "\n",
              "[671 rows x 2 columns]"
            ]
          },
          "metadata": {
            "tags": []
          },
          "execution_count": 167
        }
      ]
    },
    {
      "cell_type": "code",
      "metadata": {
        "colab": {
          "base_uri": "https://localhost:8080/"
        },
        "id": "WO5PJuaKgT3c",
        "outputId": "5539e6a5-4c45-4c18-c3cb-62cb636ac0ae"
      },
      "source": [
        "min_movie_ratings = 5\n",
        "filter_movies = ratings['movieId'].value_counts() >= min_movie_ratings\n",
        "filter_movies = filter_movies[filter_movies].index.tolist()\n",
        "\n",
        "ratings_new = ratings[ratings['movieId'].isin(filter_movies)]\n",
        "print('The original data frame shape:\\t{}'.format(ratings.shape))\n",
        "print('The new data frame shape:\\t{}'.format(ratings_new.shape))"
      ],
      "execution_count": null,
      "outputs": [
        {
          "output_type": "stream",
          "text": [
            "The original data frame shape:\t(100004, 4)\n",
            "The new data frame shape:\t(90072, 4)\n"
          ],
          "name": "stdout"
        }
      ]
    },
    {
      "cell_type": "code",
      "metadata": {
        "id": "YGzT0GfUgT3c"
      },
      "source": [
        "reader= Reader(rating_scale=(0.5,5.0))"
      ],
      "execution_count": null,
      "outputs": []
    },
    {
      "cell_type": "code",
      "metadata": {
        "colab": {
          "base_uri": "https://localhost:8080/"
        },
        "id": "v_X78AsOgT3c",
        "outputId": "6a8947a7-cec3-4a0d-d107-b87f419fb93d"
      },
      "source": [
        "reader"
      ],
      "execution_count": null,
      "outputs": [
        {
          "output_type": "execute_result",
          "data": {
            "text/plain": [
              "<surprise.reader.Reader at 0x7f2c998dbfd0>"
            ]
          },
          "metadata": {
            "tags": []
          },
          "execution_count": 170
        }
      ]
    },
    {
      "cell_type": "code",
      "metadata": {
        "id": "q_EGN9nSgT3d"
      },
      "source": [
        "data = Dataset.load_from_df(ratings[['userId','movieId','rating']], reader)"
      ],
      "execution_count": null,
      "outputs": []
    },
    {
      "cell_type": "code",
      "metadata": {
        "colab": {
          "base_uri": "https://localhost:8080/"
        },
        "id": "DFpS7U5MgT3d",
        "outputId": "ccd8b4dd-bcde-42cb-98ff-a29ae082d833"
      },
      "source": [
        "data"
      ],
      "execution_count": null,
      "outputs": [
        {
          "output_type": "execute_result",
          "data": {
            "text/plain": [
              "<surprise.dataset.DatasetAutoFolds at 0x7f2c998d08d0>"
            ]
          },
          "metadata": {
            "tags": []
          },
          "execution_count": 172
        }
      ]
    },
    {
      "cell_type": "code",
      "metadata": {
        "id": "mfrpTIzBgT3d"
      },
      "source": [
        "reader = Reader(rating_scale=(1,5)) # rating_scale을 명시해주는 코드.\n",
        "data = Dataset.load_from_df(ratings_new[['userId', 'movieId', 'rating']], reader)"
      ],
      "execution_count": null,
      "outputs": []
    },
    {
      "cell_type": "markdown",
      "metadata": {
        "id": "-kUNE0tpgT3d"
      },
      "source": [
        "https://datart.tistory.com/11"
      ]
    },
    {
      "cell_type": "markdown",
      "metadata": {
        "id": "JKnWxrPDgT3h"
      },
      "source": [
        "### SVD, KNN 성능비교 "
      ]
    },
    {
      "cell_type": "code",
      "metadata": {
        "colab": {
          "base_uri": "https://localhost:8080/",
          "height": 241
        },
        "id": "jemTqRQygT3i",
        "outputId": "0c40868e-2092-4e7b-9c29-eb3da9d92651"
      },
      "source": [
        "from surprise import SVD, SVDpp, SlopeOne, NMF, NormalPredictor, KNNBasic, KNNBaseline, KNNWithMeans, KNNWithZScore, BaselineOnly, CoClustering\n",
        "# from sklearn.model_selection import cross_validate 사이킷런의 크로스벨리데이션이 아니다.\n",
        "from surprise.model_selection import cross_validate\n",
        "\n",
        "\n",
        "benchmark = []\n",
        "# 모든 알고리즘을 literate화 시켜서 반복문을 실행시킨다.\n",
        "#for algorithm in [SVD(), SVDpp(), SlopeOne(), NMF(), NormalPredictor(), KNNBaseline(), KNNBasic(), KNNWithMeans(), KNNWithZScore(), BaselineOnly(), CoClustering()]:\n",
        "for algorithm in [SVD(),KNNBasic()]:\n",
        "    \n",
        "    # 교차검증을 수행하는 단계.\n",
        "    results = cross_validate(algorithm, data, measures=['RMSE'], cv=3, verbose=False)\n",
        "    \n",
        "    # 결과 저장과 알고리즘 이름 추가.\n",
        "    tmp = pd.DataFrame.from_dict(results).mean(axis=0)\n",
        "    tmp = tmp.append(pd.Series([str(algorithm).split(' ')[0].split('.')[-1]], index=['Algorithm']))\n",
        "    benchmark.append(tmp)\n",
        "    \n",
        "pd.DataFrame(benchmark).set_index('Algorithm').sort_values('test_rmse')    "
      ],
      "execution_count": null,
      "outputs": [
        {
          "output_type": "stream",
          "text": [
            "Computing the msd similarity matrix...\n",
            "Done computing similarity matrix.\n",
            "Computing the msd similarity matrix...\n",
            "Done computing similarity matrix.\n",
            "Computing the msd similarity matrix...\n",
            "Done computing similarity matrix.\n"
          ],
          "name": "stdout"
        },
        {
          "output_type": "execute_result",
          "data": {
            "text/html": [
              "<div>\n",
              "<style scoped>\n",
              "    .dataframe tbody tr th:only-of-type {\n",
              "        vertical-align: middle;\n",
              "    }\n",
              "\n",
              "    .dataframe tbody tr th {\n",
              "        vertical-align: top;\n",
              "    }\n",
              "\n",
              "    .dataframe thead th {\n",
              "        text-align: right;\n",
              "    }\n",
              "</style>\n",
              "<table border=\"1\" class=\"dataframe\">\n",
              "  <thead>\n",
              "    <tr style=\"text-align: right;\">\n",
              "      <th></th>\n",
              "      <th>test_rmse</th>\n",
              "      <th>fit_time</th>\n",
              "      <th>test_time</th>\n",
              "    </tr>\n",
              "    <tr>\n",
              "      <th>Algorithm</th>\n",
              "      <th></th>\n",
              "      <th></th>\n",
              "      <th></th>\n",
              "    </tr>\n",
              "  </thead>\n",
              "  <tbody>\n",
              "    <tr>\n",
              "      <th>SVD</th>\n",
              "      <td>0.887749</td>\n",
              "      <td>3.684775</td>\n",
              "      <td>0.390386</td>\n",
              "    </tr>\n",
              "    <tr>\n",
              "      <th>KNNBasic</th>\n",
              "      <td>0.946270</td>\n",
              "      <td>0.121395</td>\n",
              "      <td>2.611458</td>\n",
              "    </tr>\n",
              "  </tbody>\n",
              "</table>\n",
              "</div>"
            ],
            "text/plain": [
              "           test_rmse  fit_time  test_time\n",
              "Algorithm                                \n",
              "SVD         0.887749  3.684775   0.390386\n",
              "KNNBasic    0.946270  0.121395   2.611458"
            ]
          },
          "metadata": {
            "tags": []
          },
          "execution_count": 174
        }
      ]
    },
    {
      "cell_type": "code",
      "metadata": {
        "scrolled": true,
        "colab": {
          "base_uri": "https://localhost:8080/"
        },
        "id": "OLBmH1K1gT3i",
        "outputId": "e4c1cad7-910f-4563-b480-c8ffb271bd0e"
      },
      "source": [
        "print('Using ALS')\n",
        "bsl_options = {'method': 'als',\n",
        "               'n_epochs': 5,\n",
        "               'reg_u': 12,\n",
        "               'reg_i': 5\n",
        "               }\n",
        "algo = BaselineOnly(bsl_options=bsl_options)\n",
        "cross_validate(algo, data, measures=['RMSE'], cv=3, verbose=False)"
      ],
      "execution_count": null,
      "outputs": [
        {
          "output_type": "stream",
          "text": [
            "Using ALS\n",
            "Estimating biases using als...\n",
            "Estimating biases using als...\n",
            "Estimating biases using als...\n"
          ],
          "name": "stdout"
        },
        {
          "output_type": "execute_result",
          "data": {
            "text/plain": [
              "{'fit_time': (0.19576716423034668, 0.19860267639160156, 0.22784996032714844),\n",
              " 'test_rmse': array([0.87453103, 0.88008225, 0.87786014]),\n",
              " 'test_time': (0.33345460891723633, 0.16347503662109375, 0.34003376960754395)}"
            ]
          },
          "metadata": {
            "tags": []
          },
          "execution_count": 175
        }
      ]
    },
    {
      "cell_type": "markdown",
      "metadata": {
        "id": "3D7cm-uagT3g"
      },
      "source": [
        "### User 시청 정보 요약 "
      ]
    },
    {
      "cell_type": "code",
      "metadata": {
        "id": "1sphiSlCgT3f"
      },
      "source": [
        "# userId 시청 영화 확인\n",
        "def userId_wtch_movies(userId,cnt):\n",
        "    userId_genre=pd.DataFrame()\n",
        "    userId_genre['genre_rating']=pd.merge(ratings[(ratings['userId'] == userId)],movies, on='movieId').groupby('genres')['rating'].mean()\n",
        "    userId_genre['genre_cnt']=pd.merge(ratings[(ratings['userId'] == userId)],movies, on='movieId').groupby('genres')['rating'].count()\n",
        "    userId_genre_r = userId_genre.sort_values('genre_cnt',ascending=False)\n",
        "    \n",
        "    userId_movie_l = \\\n",
        "    pd.merge(ratings[(ratings['userId'] == userId)].sort_values('rating',ascending=False).head(cnt),movies, on='movieId')\n",
        "    \n",
        "    return userId_genre_r, userId_movie_l"
      ],
      "execution_count": null,
      "outputs": []
    },
    {
      "cell_type": "code",
      "metadata": {
        "scrolled": true,
        "colab": {
          "base_uri": "https://localhost:8080/",
          "height": 1000
        },
        "id": "WODyJiXCgT3g",
        "outputId": "56769217-7340-448c-9cfc-b4ce23d6bcc7"
      },
      "source": [
        "genre,wtch=userId_wtch_movies(265,20)\n",
        "\n",
        "print(genre.head(20) ,'\\n')\n",
        "wtch.drop(['timestamp'],axis=1)"
      ],
      "execution_count": null,
      "outputs": [
        {
          "output_type": "stream",
          "text": [
            "                                  genre_rating  genre_cnt\n",
            "genres                                                   \n",
            "Drama                                 3.675000         40\n",
            "Comedy|Drama|Romance                  4.230769         13\n",
            "Drama|Romance                         3.900000         10\n",
            "Drama|War                             3.800000         10\n",
            "Comedy|Drama                          3.875000          8\n",
            "Comedy                                3.714286          7\n",
            "Drama|Mystery                         3.833333          6\n",
            "Crime|Drama                           4.333333          6\n",
            "Comedy|Romance                        4.250000          4\n",
            "Action|Drama|War                      4.333333          3\n",
            "Comedy|Drama|War                      4.000000          3\n",
            "Drama|Romance|War                     4.333333          3\n",
            "Drama|Western                         4.666667          3\n",
            "Drama|Romance|Thriller                3.500000          2\n",
            "Drama|Musical                         4.500000          2\n",
            "Adventure|Drama|War                   4.000000          2\n",
            "Documentary                           3.500000          2\n",
            "Crime|Film-Noir|Mystery|Thriller      4.000000          2\n",
            "Crime|Drama|Film-Noir                 4.500000          2\n",
            "Thriller                              4.000000          2 \n",
            "\n"
          ],
          "name": "stdout"
        },
        {
          "output_type": "execute_result",
          "data": {
            "text/html": [
              "<div>\n",
              "<style scoped>\n",
              "    .dataframe tbody tr th:only-of-type {\n",
              "        vertical-align: middle;\n",
              "    }\n",
              "\n",
              "    .dataframe tbody tr th {\n",
              "        vertical-align: top;\n",
              "    }\n",
              "\n",
              "    .dataframe thead th {\n",
              "        text-align: right;\n",
              "    }\n",
              "</style>\n",
              "<table border=\"1\" class=\"dataframe\">\n",
              "  <thead>\n",
              "    <tr style=\"text-align: right;\">\n",
              "      <th></th>\n",
              "      <th>userId</th>\n",
              "      <th>movieId</th>\n",
              "      <th>rating</th>\n",
              "      <th>title</th>\n",
              "      <th>genres</th>\n",
              "    </tr>\n",
              "  </thead>\n",
              "  <tbody>\n",
              "    <tr>\n",
              "      <th>0</th>\n",
              "      <td>265</td>\n",
              "      <td>1944</td>\n",
              "      <td>5.0</td>\n",
              "      <td>From Here to Eternity (1953)</td>\n",
              "      <td>Drama|Romance|War</td>\n",
              "    </tr>\n",
              "    <tr>\n",
              "      <th>1</th>\n",
              "      <td>265</td>\n",
              "      <td>936</td>\n",
              "      <td>5.0</td>\n",
              "      <td>Ninotchka (1939)</td>\n",
              "      <td>Comedy|Romance</td>\n",
              "    </tr>\n",
              "    <tr>\n",
              "      <th>2</th>\n",
              "      <td>265</td>\n",
              "      <td>3418</td>\n",
              "      <td>5.0</td>\n",
              "      <td>Thelma &amp; Louise (1991)</td>\n",
              "      <td>Adventure|Crime|Drama</td>\n",
              "    </tr>\n",
              "    <tr>\n",
              "      <th>3</th>\n",
              "      <td>265</td>\n",
              "      <td>1079</td>\n",
              "      <td>5.0</td>\n",
              "      <td>Fish Called Wanda, A (1988)</td>\n",
              "      <td>Comedy|Crime</td>\n",
              "    </tr>\n",
              "    <tr>\n",
              "      <th>4</th>\n",
              "      <td>265</td>\n",
              "      <td>1084</td>\n",
              "      <td>5.0</td>\n",
              "      <td>Bonnie and Clyde (1967)</td>\n",
              "      <td>Crime|Drama</td>\n",
              "    </tr>\n",
              "    <tr>\n",
              "      <th>5</th>\n",
              "      <td>265</td>\n",
              "      <td>1096</td>\n",
              "      <td>5.0</td>\n",
              "      <td>Sophie's Choice (1982)</td>\n",
              "      <td>Drama</td>\n",
              "    </tr>\n",
              "    <tr>\n",
              "      <th>6</th>\n",
              "      <td>265</td>\n",
              "      <td>1104</td>\n",
              "      <td>5.0</td>\n",
              "      <td>Streetcar Named Desire, A (1951)</td>\n",
              "      <td>Drama</td>\n",
              "    </tr>\n",
              "    <tr>\n",
              "      <th>7</th>\n",
              "      <td>265</td>\n",
              "      <td>3201</td>\n",
              "      <td>5.0</td>\n",
              "      <td>Five Easy Pieces (1970)</td>\n",
              "      <td>Drama</td>\n",
              "    </tr>\n",
              "    <tr>\n",
              "      <th>8</th>\n",
              "      <td>265</td>\n",
              "      <td>3200</td>\n",
              "      <td>5.0</td>\n",
              "      <td>Last Detail, The (1973)</td>\n",
              "      <td>Comedy|Drama</td>\n",
              "    </tr>\n",
              "    <tr>\n",
              "      <th>9</th>\n",
              "      <td>265</td>\n",
              "      <td>1283</td>\n",
              "      <td>5.0</td>\n",
              "      <td>High Noon (1952)</td>\n",
              "      <td>Drama|Western</td>\n",
              "    </tr>\n",
              "    <tr>\n",
              "      <th>10</th>\n",
              "      <td>265</td>\n",
              "      <td>3134</td>\n",
              "      <td>5.0</td>\n",
              "      <td>Grand Illusion (La grande illusion) (1937)</td>\n",
              "      <td>Drama|War</td>\n",
              "    </tr>\n",
              "    <tr>\n",
              "      <th>11</th>\n",
              "      <td>265</td>\n",
              "      <td>2132</td>\n",
              "      <td>5.0</td>\n",
              "      <td>Who's Afraid of Virginia Woolf? (1966)</td>\n",
              "      <td>Drama</td>\n",
              "    </tr>\n",
              "    <tr>\n",
              "      <th>12</th>\n",
              "      <td>265</td>\n",
              "      <td>2186</td>\n",
              "      <td>5.0</td>\n",
              "      <td>Strangers on a Train (1951)</td>\n",
              "      <td>Crime|Drama|Film-Noir|Thriller</td>\n",
              "    </tr>\n",
              "    <tr>\n",
              "      <th>13</th>\n",
              "      <td>265</td>\n",
              "      <td>1266</td>\n",
              "      <td>5.0</td>\n",
              "      <td>Unforgiven (1992)</td>\n",
              "      <td>Drama|Western</td>\n",
              "    </tr>\n",
              "    <tr>\n",
              "      <th>14</th>\n",
              "      <td>265</td>\n",
              "      <td>2300</td>\n",
              "      <td>5.0</td>\n",
              "      <td>Producers, The (1968)</td>\n",
              "      <td>Comedy</td>\n",
              "    </tr>\n",
              "    <tr>\n",
              "      <th>15</th>\n",
              "      <td>265</td>\n",
              "      <td>1254</td>\n",
              "      <td>5.0</td>\n",
              "      <td>Treasure of the Sierra Madre, The (1948)</td>\n",
              "      <td>Action|Adventure|Drama|Western</td>\n",
              "    </tr>\n",
              "    <tr>\n",
              "      <th>16</th>\n",
              "      <td>265</td>\n",
              "      <td>1212</td>\n",
              "      <td>5.0</td>\n",
              "      <td>Third Man, The (1949)</td>\n",
              "      <td>Film-Noir|Mystery|Thriller</td>\n",
              "    </tr>\n",
              "    <tr>\n",
              "      <th>17</th>\n",
              "      <td>265</td>\n",
              "      <td>1217</td>\n",
              "      <td>5.0</td>\n",
              "      <td>Ran (1985)</td>\n",
              "      <td>Drama|War</td>\n",
              "    </tr>\n",
              "    <tr>\n",
              "      <th>18</th>\n",
              "      <td>265</td>\n",
              "      <td>2951</td>\n",
              "      <td>5.0</td>\n",
              "      <td>Fistful of Dollars, A (Per un pugno di dollari...</td>\n",
              "      <td>Action|Western</td>\n",
              "    </tr>\n",
              "    <tr>\n",
              "      <th>19</th>\n",
              "      <td>265</td>\n",
              "      <td>2929</td>\n",
              "      <td>5.0</td>\n",
              "      <td>Reds (1981)</td>\n",
              "      <td>Drama|Romance</td>\n",
              "    </tr>\n",
              "  </tbody>\n",
              "</table>\n",
              "</div>"
            ],
            "text/plain": [
              "    userId  ...                          genres\n",
              "0      265  ...               Drama|Romance|War\n",
              "1      265  ...                  Comedy|Romance\n",
              "2      265  ...           Adventure|Crime|Drama\n",
              "3      265  ...                    Comedy|Crime\n",
              "4      265  ...                     Crime|Drama\n",
              "5      265  ...                           Drama\n",
              "6      265  ...                           Drama\n",
              "7      265  ...                           Drama\n",
              "8      265  ...                    Comedy|Drama\n",
              "9      265  ...                   Drama|Western\n",
              "10     265  ...                       Drama|War\n",
              "11     265  ...                           Drama\n",
              "12     265  ...  Crime|Drama|Film-Noir|Thriller\n",
              "13     265  ...                   Drama|Western\n",
              "14     265  ...                          Comedy\n",
              "15     265  ...  Action|Adventure|Drama|Western\n",
              "16     265  ...      Film-Noir|Mystery|Thriller\n",
              "17     265  ...                       Drama|War\n",
              "18     265  ...                  Action|Western\n",
              "19     265  ...                   Drama|Romance\n",
              "\n",
              "[20 rows x 5 columns]"
            ]
          },
          "metadata": {
            "tags": []
          },
          "execution_count": 186
        }
      ]
    },
    {
      "cell_type": "markdown",
      "metadata": {
        "id": "FXGAlZU3hRF_"
      },
      "source": [
        "### KNN"
      ]
    },
    {
      "cell_type": "code",
      "metadata": {
        "id": "zEdErWLagT3d"
      },
      "source": [
        "from surprise import KNNBasic\n",
        "reader= Reader(rating_scale=(0.5,5.0))"
      ],
      "execution_count": null,
      "outputs": []
    },
    {
      "cell_type": "code",
      "metadata": {
        "id": "Zihd3wqCgT3e"
      },
      "source": [
        "reader = Reader(rating_scale=(1,5)) # rating_scale을 명시해주는 코드.\n",
        "data = Dataset.load_from_df(ratings_new[['userId', 'movieId', 'rating']], reader)"
      ],
      "execution_count": null,
      "outputs": []
    },
    {
      "cell_type": "code",
      "metadata": {
        "id": "9sEXqaGwgT3j"
      },
      "source": [
        "# User 영화 추출 함수\n",
        "def recommand_movie(userId,cnt):\n",
        "    userId=userId\n",
        "    cnt=cnt\n",
        "    \n",
        "    # rating 에서 시청한 userId, movieId 추출\n",
        "    df_movieid_for_uid=ratings[(ratings['userId'] == userId)][['userId','movieId']]\n",
        "    \n",
        "    \n",
        "    # userId가 시청한 movieId 를 제외한 movieId를 추출\n",
        "    df_movieid_for_uid_omit=movies[~movies['movieId'].isin(df_movieid_for_uid['movieId'])]\n",
        "    recommand = df_movieid_for_uid_omit[['movieId']].values.reshape(-1)\n",
        "    #print('ratings : ',ratings.shape,'df_movieid_for_uid :', df_movieid_for_uid.shape,df_movieid_for_uid_omit.shape, 'recommand :', recommand.shape,'\\n')\n",
        "    \n",
        "    # 시청하지 않은 movieId의 점수를 예측함\n",
        "    recm=pd.DataFrame(columns=['userId','movieId','x','rating','desc'])\n",
        "    for j in recommand:\n",
        "        a,b,c,d,e=algo.predict(userId,j,)\n",
        "        e={'was_impossible':e['was_impossible']} # desc output 이상데이터처리\n",
        "        k=pd.DataFrame({'userId':a,'movieId':b,'x':c,'rating':d,'desc':e}).reset_index()\n",
        "        recm=recm.append(k)\n",
        "    \n",
        "    # rating 상위 20개 영화 추출\n",
        "    recm = recm[['userId','movieId','rating']].sort_values('rating',ascending=False).head(cnt)\n",
        "    print(recm)\n",
        "    \n",
        "    return recm"
      ],
      "execution_count": null,
      "outputs": []
    },
    {
      "cell_type": "code",
      "metadata": {
        "scrolled": true,
        "colab": {
          "base_uri": "https://localhost:8080/"
        },
        "id": "Q3z0jcMQgT3e",
        "outputId": "1d7c1a5f-139a-4783-e452-9034d59a4926"
      },
      "source": [
        "# 알고리즘 : k-nearest neighbor (최근접이웃)\n",
        "from surprise.model_selection import train_test_split\n",
        "from surprise import accuracy\n",
        "\n",
        "trainset, testset = train_test_split(data, test_size=0.25)\n",
        "bsl_options = {'method': 'als',\n",
        "               'n_epochs': 20,\n",
        "               }\n",
        "option = {'name' : 'pearson'}\n",
        "\n",
        "algo = KNNBasic(bsl_options=bsl_options, sim_options=option)\n",
        "\n",
        "# KNNBasic 알고리즘 수행\n",
        "predictions = algo.fit(trainset).test(testset)\n",
        "accuracy.rmse(predictions)"
      ],
      "execution_count": null,
      "outputs": [
        {
          "output_type": "stream",
          "text": [
            "Computing the pearson similarity matrix...\n",
            "Done computing similarity matrix.\n",
            "RMSE: 0.9749\n"
          ],
          "name": "stdout"
        },
        {
          "output_type": "execute_result",
          "data": {
            "text/plain": [
              "0.9749379804268979"
            ]
          },
          "metadata": {
            "tags": []
          },
          "execution_count": 195
        }
      ]
    },
    {
      "cell_type": "code",
      "metadata": {
        "colab": {
          "base_uri": "https://localhost:8080/"
        },
        "id": "_n7CeoUThx32",
        "outputId": "2cb988a7-d37d-4aad-f47a-4016c7ea3acc"
      },
      "source": [
        "# prediction\n",
        "algo.predict(265,3996,)"
      ],
      "execution_count": null,
      "outputs": [
        {
          "output_type": "execute_result",
          "data": {
            "text/plain": [
              "Prediction(uid=265, iid=3996, r_ui=None, est=3.6864076445135328, details={'actual_k': 40, 'was_impossible': False})"
            ]
          },
          "metadata": {
            "tags": []
          },
          "execution_count": 198
        }
      ]
    },
    {
      "cell_type": "code",
      "metadata": {
        "colab": {
          "base_uri": "https://localhost:8080/"
        },
        "id": "GaOLO5kl2k9n",
        "outputId": "c61de3d4-0c2c-47fa-c60d-e5677813648f"
      },
      "source": [
        "# 선호 영화 예측\n",
        "recm1=recommand_movie(265,20)  # userId, cnt(추천콘텐츠갯수)"
      ],
      "execution_count": null,
      "outputs": [
        {
          "output_type": "stream",
          "text": [
            "ratings :  (100004, 4) df_movieid_for_uid : (183, 2) (8942, 3) recommand : (8942,) \n",
            "\n",
            "  userId movieId  rating\n",
            "0    265   97306     5.0\n",
            "0    265   98124     5.0\n",
            "0    265     937     5.0\n",
            "0    265   27790     5.0\n",
            "0    265    4616     5.0\n",
            "0    265     422     5.0\n",
            "0    265    2670     5.0\n",
            "0    265   92535     5.0\n",
            "0    265    4304     5.0\n",
            "0    265     635     5.0\n",
            "0    265   94466     5.0\n",
            "0    265   26326     5.0\n",
            "0    265    2327     5.0\n",
            "0    265      72     5.0\n",
            "0    265   86345     5.0\n",
            "0    265   65261     5.0\n",
            "0    265     178     5.0\n",
            "0    265     116     5.0\n",
            "0    265    1365     5.0\n",
            "0    265  108979     5.0\n"
          ],
          "name": "stdout"
        }
      ]
    },
    {
      "cell_type": "code",
      "metadata": {
        "colab": {
          "base_uri": "https://localhost:8080/",
          "height": 663
        },
        "id": "eeetXcyy24uD",
        "outputId": "42b52d9f-30e3-438b-fe4f-23b894f0d49b"
      },
      "source": [
        "# 추천 영화 List\n",
        "pd.merge(recm1, movies, on='movieId')"
      ],
      "execution_count": null,
      "outputs": [
        {
          "output_type": "execute_result",
          "data": {
            "text/html": [
              "<div>\n",
              "<style scoped>\n",
              "    .dataframe tbody tr th:only-of-type {\n",
              "        vertical-align: middle;\n",
              "    }\n",
              "\n",
              "    .dataframe tbody tr th {\n",
              "        vertical-align: top;\n",
              "    }\n",
              "\n",
              "    .dataframe thead th {\n",
              "        text-align: right;\n",
              "    }\n",
              "</style>\n",
              "<table border=\"1\" class=\"dataframe\">\n",
              "  <thead>\n",
              "    <tr style=\"text-align: right;\">\n",
              "      <th></th>\n",
              "      <th>userId</th>\n",
              "      <th>movieId</th>\n",
              "      <th>rating</th>\n",
              "      <th>title</th>\n",
              "      <th>genres</th>\n",
              "    </tr>\n",
              "  </thead>\n",
              "  <tbody>\n",
              "    <tr>\n",
              "      <th>0</th>\n",
              "      <td>265</td>\n",
              "      <td>97306</td>\n",
              "      <td>5.0</td>\n",
              "      <td>Seven Psychopaths (2012)</td>\n",
              "      <td>Comedy|Crime</td>\n",
              "    </tr>\n",
              "    <tr>\n",
              "      <th>1</th>\n",
              "      <td>265</td>\n",
              "      <td>98124</td>\n",
              "      <td>5.0</td>\n",
              "      <td>Batman: The Dark Knight Returns, Part 1 (2012)</td>\n",
              "      <td>Action|Animation|Sci-Fi</td>\n",
              "    </tr>\n",
              "    <tr>\n",
              "      <th>2</th>\n",
              "      <td>265</td>\n",
              "      <td>937</td>\n",
              "      <td>5.0</td>\n",
              "      <td>Love in the Afternoon (1957)</td>\n",
              "      <td>Comedy|Romance</td>\n",
              "    </tr>\n",
              "    <tr>\n",
              "      <th>3</th>\n",
              "      <td>265</td>\n",
              "      <td>27790</td>\n",
              "      <td>5.0</td>\n",
              "      <td>Millions (2004)</td>\n",
              "      <td>Children|Comedy|Crime|Drama|Fantasy</td>\n",
              "    </tr>\n",
              "    <tr>\n",
              "      <th>4</th>\n",
              "      <td>265</td>\n",
              "      <td>4616</td>\n",
              "      <td>5.0</td>\n",
              "      <td>Lean on Me (1989)</td>\n",
              "      <td>Drama</td>\n",
              "    </tr>\n",
              "    <tr>\n",
              "      <th>5</th>\n",
              "      <td>265</td>\n",
              "      <td>422</td>\n",
              "      <td>5.0</td>\n",
              "      <td>Blink (1994)</td>\n",
              "      <td>Thriller</td>\n",
              "    </tr>\n",
              "    <tr>\n",
              "      <th>6</th>\n",
              "      <td>265</td>\n",
              "      <td>2670</td>\n",
              "      <td>5.0</td>\n",
              "      <td>Run Silent Run Deep (1958)</td>\n",
              "      <td>War</td>\n",
              "    </tr>\n",
              "    <tr>\n",
              "      <th>7</th>\n",
              "      <td>265</td>\n",
              "      <td>92535</td>\n",
              "      <td>5.0</td>\n",
              "      <td>Louis C.K.: Live at the Beacon Theater (2011)</td>\n",
              "      <td>Comedy</td>\n",
              "    </tr>\n",
              "    <tr>\n",
              "      <th>8</th>\n",
              "      <td>265</td>\n",
              "      <td>4304</td>\n",
              "      <td>5.0</td>\n",
              "      <td>Startup.com (2001)</td>\n",
              "      <td>Documentary</td>\n",
              "    </tr>\n",
              "    <tr>\n",
              "      <th>9</th>\n",
              "      <td>265</td>\n",
              "      <td>635</td>\n",
              "      <td>5.0</td>\n",
              "      <td>Family Thing, A (1996)</td>\n",
              "      <td>Comedy|Drama</td>\n",
              "    </tr>\n",
              "    <tr>\n",
              "      <th>10</th>\n",
              "      <td>265</td>\n",
              "      <td>94466</td>\n",
              "      <td>5.0</td>\n",
              "      <td>Black Mirror (2011)</td>\n",
              "      <td>Drama|Sci-Fi</td>\n",
              "    </tr>\n",
              "    <tr>\n",
              "      <th>11</th>\n",
              "      <td>265</td>\n",
              "      <td>26326</td>\n",
              "      <td>5.0</td>\n",
              "      <td>Holy Mountain, The (Montaña sagrada, La) (1973)</td>\n",
              "      <td>Drama</td>\n",
              "    </tr>\n",
              "    <tr>\n",
              "      <th>12</th>\n",
              "      <td>265</td>\n",
              "      <td>2327</td>\n",
              "      <td>5.0</td>\n",
              "      <td>Tales from the Darkside: The Movie (1990)</td>\n",
              "      <td>Fantasy|Horror|Thriller</td>\n",
              "    </tr>\n",
              "    <tr>\n",
              "      <th>13</th>\n",
              "      <td>265</td>\n",
              "      <td>72</td>\n",
              "      <td>5.0</td>\n",
              "      <td>Kicking and Screaming (1995)</td>\n",
              "      <td>Comedy|Drama</td>\n",
              "    </tr>\n",
              "    <tr>\n",
              "      <th>14</th>\n",
              "      <td>265</td>\n",
              "      <td>86345</td>\n",
              "      <td>5.0</td>\n",
              "      <td>Louis C.K.: Hilarious (2010)</td>\n",
              "      <td>Comedy</td>\n",
              "    </tr>\n",
              "    <tr>\n",
              "      <th>15</th>\n",
              "      <td>265</td>\n",
              "      <td>65261</td>\n",
              "      <td>5.0</td>\n",
              "      <td>Ponyo (Gake no ue no Ponyo) (2008)</td>\n",
              "      <td>Adventure|Animation|Children|Fantasy</td>\n",
              "    </tr>\n",
              "    <tr>\n",
              "      <th>16</th>\n",
              "      <td>265</td>\n",
              "      <td>178</td>\n",
              "      <td>5.0</td>\n",
              "      <td>Love &amp; Human Remains (1993)</td>\n",
              "      <td>Comedy|Drama</td>\n",
              "    </tr>\n",
              "    <tr>\n",
              "      <th>17</th>\n",
              "      <td>265</td>\n",
              "      <td>116</td>\n",
              "      <td>5.0</td>\n",
              "      <td>Anne Frank Remembered (1995)</td>\n",
              "      <td>Documentary</td>\n",
              "    </tr>\n",
              "    <tr>\n",
              "      <th>18</th>\n",
              "      <td>265</td>\n",
              "      <td>1365</td>\n",
              "      <td>5.0</td>\n",
              "      <td>Ridicule (1996)</td>\n",
              "      <td>Drama</td>\n",
              "    </tr>\n",
              "    <tr>\n",
              "      <th>19</th>\n",
              "      <td>265</td>\n",
              "      <td>108979</td>\n",
              "      <td>5.0</td>\n",
              "      <td>Cowboy Bebop (1998)</td>\n",
              "      <td>Action|Adventure|Animation|Crime|Sci-Fi</td>\n",
              "    </tr>\n",
              "  </tbody>\n",
              "</table>\n",
              "</div>"
            ],
            "text/plain": [
              "   userId  ...                                   genres\n",
              "0     265  ...                             Comedy|Crime\n",
              "1     265  ...                  Action|Animation|Sci-Fi\n",
              "2     265  ...                           Comedy|Romance\n",
              "3     265  ...      Children|Comedy|Crime|Drama|Fantasy\n",
              "4     265  ...                                    Drama\n",
              "5     265  ...                                 Thriller\n",
              "6     265  ...                                      War\n",
              "7     265  ...                                   Comedy\n",
              "8     265  ...                              Documentary\n",
              "9     265  ...                             Comedy|Drama\n",
              "10    265  ...                             Drama|Sci-Fi\n",
              "11    265  ...                                    Drama\n",
              "12    265  ...                  Fantasy|Horror|Thriller\n",
              "13    265  ...                             Comedy|Drama\n",
              "14    265  ...                                   Comedy\n",
              "15    265  ...     Adventure|Animation|Children|Fantasy\n",
              "16    265  ...                             Comedy|Drama\n",
              "17    265  ...                              Documentary\n",
              "18    265  ...                                    Drama\n",
              "19    265  ...  Action|Adventure|Animation|Crime|Sci-Fi\n",
              "\n",
              "[20 rows x 5 columns]"
            ]
          },
          "metadata": {
            "tags": []
          },
          "execution_count": 192
        }
      ]
    },
    {
      "cell_type": "code",
      "metadata": {
        "scrolled": true,
        "id": "M3B_LakDgT3f"
      },
      "source": [
        "def cf_knn_pearson_recommand(userId, k_cnt, m_cnt):\n",
        "    \n",
        "    result=algo.get_neighbors(userId,k=k_cnt)\n",
        "    print('k neighbor : ',result)\n",
        "    \n",
        "    rec_result=pd.DataFrame()\n",
        "    \n",
        "    # k_cnt 명의 user가 본 평점 5점인 영화중 n(m_cnt)개 영화를 찾음\n",
        "    for k in result :\n",
        "        #r1= 265\n",
        "        max_rating=data.df[data.df['userId']==k]['rating'].max()\n",
        "        rec_id=data.df[(data.df['rating']==max_rating) \\\n",
        "                       &(data.df['userId']==k)]['movieId'].head(m_cnt)\n",
        "        for i in rec_id:\n",
        "            k=movies[movies['movieId']==i]\n",
        "            rec_result=rec_result.append(k)\n",
        "        \n",
        "        ## 시청한 영화를 제외함\n",
        "        df_movieid_for_uid=ratings[(ratings['userId'] == userId)][['userId','movieId']]\n",
        "        rec_result2 = rec_result[~rec_result['movieId'].isin(df_movieid_for_uid['movieId'])]\n",
        "\n",
        "    return rec_result2"
      ],
      "execution_count": null,
      "outputs": []
    },
    {
      "cell_type": "code",
      "metadata": {
        "scrolled": false,
        "colab": {
          "base_uri": "https://localhost:8080/",
          "height": 588
        },
        "id": "y2wrWm_tgT3f",
        "outputId": "7631e597-ec1e-43ae-c4cc-706629bf6c31"
      },
      "source": [
        "# 추천 영화 리스트 - k-neighbors 들이 본 영화중 평점이 높은 영화 추출\n",
        "recommand_movie_list = cf_knn_pearson_recommand(265,3,10)  # uid, k-neighbor, return movie no.\n",
        "recommand_movie_list[['title','genres']]"
      ],
      "execution_count": null,
      "outputs": [
        {
          "output_type": "stream",
          "text": [
            "k neighbor :  [54, 59, 90]\n"
          ],
          "name": "stdout"
        },
        {
          "output_type": "execute_result",
          "data": {
            "text/html": [
              "<div>\n",
              "<style scoped>\n",
              "    .dataframe tbody tr th:only-of-type {\n",
              "        vertical-align: middle;\n",
              "    }\n",
              "\n",
              "    .dataframe tbody tr th {\n",
              "        vertical-align: top;\n",
              "    }\n",
              "\n",
              "    .dataframe thead th {\n",
              "        text-align: right;\n",
              "    }\n",
              "</style>\n",
              "<table border=\"1\" class=\"dataframe\">\n",
              "  <thead>\n",
              "    <tr style=\"text-align: right;\">\n",
              "      <th></th>\n",
              "      <th>title</th>\n",
              "      <th>genres</th>\n",
              "    </tr>\n",
              "  </thead>\n",
              "  <tbody>\n",
              "    <tr>\n",
              "      <th>879</th>\n",
              "      <td>Dirty Dancing (1987)</td>\n",
              "      <td>Drama|Musical|Romance</td>\n",
              "    </tr>\n",
              "    <tr>\n",
              "      <th>6387</th>\n",
              "      <td>Inside Man (2006)</td>\n",
              "      <td>Crime|Drama|Thriller</td>\n",
              "    </tr>\n",
              "    <tr>\n",
              "      <th>6556</th>\n",
              "      <td>Prestige, The (2006)</td>\n",
              "      <td>Drama|Mystery|Sci-Fi|Thriller</td>\n",
              "    </tr>\n",
              "    <tr>\n",
              "      <th>6980</th>\n",
              "      <td>WALL·E (2008)</td>\n",
              "      <td>Adventure|Animation|Children|Romance|Sci-Fi</td>\n",
              "    </tr>\n",
              "    <tr>\n",
              "      <th>485</th>\n",
              "      <td>Blade Runner (1982)</td>\n",
              "      <td>Action|Sci-Fi|Thriller</td>\n",
              "    </tr>\n",
              "    <tr>\n",
              "      <th>622</th>\n",
              "      <td>Wallace &amp; Gromit: A Close Shave (1995)</td>\n",
              "      <td>Animation|Children|Comedy</td>\n",
              "    </tr>\n",
              "    <tr>\n",
              "      <th>916</th>\n",
              "      <td>Wallace &amp; Gromit: The Wrong Trousers (1993)</td>\n",
              "      <td>Animation|Children|Comedy|Crime</td>\n",
              "    </tr>\n",
              "    <tr>\n",
              "      <th>977</th>\n",
              "      <td>Godfather: Part II, The (1974)</td>\n",
              "      <td>Crime|Drama</td>\n",
              "    </tr>\n",
              "    <tr>\n",
              "      <th>4395</th>\n",
              "      <td>Lord of the Rings: The Two Towers, The (2002)</td>\n",
              "      <td>Adventure|Fantasy</td>\n",
              "    </tr>\n",
              "    <tr>\n",
              "      <th>4809</th>\n",
              "      <td>All the President's Men (1976)</td>\n",
              "      <td>Drama|Thriller</td>\n",
              "    </tr>\n",
              "    <tr>\n",
              "      <th>5026</th>\n",
              "      <td>Lord of the Rings: The Return of the King, The...</td>\n",
              "      <td>Action|Adventure|Drama|Fantasy</td>\n",
              "    </tr>\n",
              "    <tr>\n",
              "      <th>5626</th>\n",
              "      <td>Incredibles, The (2004)</td>\n",
              "      <td>Action|Adventure|Animation|Children|Comedy</td>\n",
              "    </tr>\n",
              "    <tr>\n",
              "      <th>28</th>\n",
              "      <td>City of Lost Children, The (Cité des enfants p...</td>\n",
              "      <td>Adventure|Drama|Fantasy|Mystery|Sci-Fi</td>\n",
              "    </tr>\n",
              "    <tr>\n",
              "      <th>656</th>\n",
              "      <td>Lone Star (1996)</td>\n",
              "      <td>Drama|Mystery|Western</td>\n",
              "    </tr>\n",
              "    <tr>\n",
              "      <th>1209</th>\n",
              "      <td>Grosse Pointe Blank (1997)</td>\n",
              "      <td>Comedy|Crime|Romance</td>\n",
              "    </tr>\n",
              "    <tr>\n",
              "      <th>1257</th>\n",
              "      <td>Contact (1997)</td>\n",
              "      <td>Drama|Sci-Fi</td>\n",
              "    </tr>\n",
              "    <tr>\n",
              "      <th>1262</th>\n",
              "      <td>Event Horizon (1997)</td>\n",
              "      <td>Horror|Sci-Fi|Thriller</td>\n",
              "    </tr>\n",
              "  </tbody>\n",
              "</table>\n",
              "</div>"
            ],
            "text/plain": [
              "                                                  title                                       genres\n",
              "879                                Dirty Dancing (1987)                        Drama|Musical|Romance\n",
              "6387                                  Inside Man (2006)                         Crime|Drama|Thriller\n",
              "6556                               Prestige, The (2006)                Drama|Mystery|Sci-Fi|Thriller\n",
              "6980                                      WALL·E (2008)  Adventure|Animation|Children|Romance|Sci-Fi\n",
              "485                                 Blade Runner (1982)                       Action|Sci-Fi|Thriller\n",
              "622              Wallace & Gromit: A Close Shave (1995)                    Animation|Children|Comedy\n",
              "916         Wallace & Gromit: The Wrong Trousers (1993)              Animation|Children|Comedy|Crime\n",
              "977                      Godfather: Part II, The (1974)                                  Crime|Drama\n",
              "4395      Lord of the Rings: The Two Towers, The (2002)                            Adventure|Fantasy\n",
              "4809                     All the President's Men (1976)                               Drama|Thriller\n",
              "5026  Lord of the Rings: The Return of the King, The...               Action|Adventure|Drama|Fantasy\n",
              "5626                            Incredibles, The (2004)   Action|Adventure|Animation|Children|Comedy\n",
              "28    City of Lost Children, The (Cité des enfants p...       Adventure|Drama|Fantasy|Mystery|Sci-Fi\n",
              "656                                    Lone Star (1996)                        Drama|Mystery|Western\n",
              "1209                         Grosse Pointe Blank (1997)                         Comedy|Crime|Romance\n",
              "1257                                     Contact (1997)                                 Drama|Sci-Fi\n",
              "1262                               Event Horizon (1997)                       Horror|Sci-Fi|Thriller"
            ]
          },
          "metadata": {
            "tags": []
          },
          "execution_count": 184
        }
      ]
    },
    {
      "cell_type": "markdown",
      "metadata": {
        "id": "QpDIq4LXgT3h"
      },
      "source": [
        ""
      ]
    },
    {
      "cell_type": "markdown",
      "metadata": {
        "id": "4E5GjFvzgT3j"
      },
      "source": [
        "### SVD 추천 알고리즘"
      ]
    },
    {
      "cell_type": "code",
      "metadata": {
        "colab": {
          "base_uri": "https://localhost:8080/"
        },
        "id": "52n03u-IgT3j",
        "outputId": "8a2ea947-5b7d-4ad5-85c4-6fc7ed0444dc"
      },
      "source": [
        "# 알고리즘 : SVD 모델 training\n",
        "from surprise.model_selection import train_test_split\n",
        "from surprise import accuracy\n",
        "\n",
        "trainset, testset = train_test_split(data, test_size=0.25)\n",
        "\n",
        "algo =  SVD(n_factors=100, n_epochs=100,random_state=123)\n",
        "predictions = algo.fit(trainset).test(testset)\n",
        "accuracy.rmse(predictions)"
      ],
      "execution_count": null,
      "outputs": [
        {
          "output_type": "stream",
          "text": [
            "RMSE: 0.8981\n"
          ],
          "name": "stdout"
        },
        {
          "output_type": "execute_result",
          "data": {
            "text/plain": [
              "0.8981059355214911"
            ]
          },
          "metadata": {
            "tags": []
          },
          "execution_count": 187
        }
      ]
    },
    {
      "cell_type": "code",
      "metadata": {
        "colab": {
          "base_uri": "https://localhost:8080/"
        },
        "id": "0a3lQYZti13s",
        "outputId": "5249d024-756d-4ffe-fed3-c4f96a6b01c8"
      },
      "source": [
        "# prediction\n",
        "algo.predict(265,55820,)"
      ],
      "execution_count": null,
      "outputs": [
        {
          "output_type": "execute_result",
          "data": {
            "text/plain": [
              "Prediction(uid=265, iid=55820, r_ui=None, est=4.306168211541084, details={'was_impossible': False})"
            ]
          },
          "metadata": {
            "tags": []
          },
          "execution_count": 188
        }
      ]
    },
    {
      "cell_type": "code",
      "metadata": {
        "colab": {
          "base_uri": "https://localhost:8080/"
        },
        "id": "FetlRUDrgT3j",
        "outputId": "a0bf395b-97cb-41f3-9601-d382605fbf30"
      },
      "source": [
        "# 선호 영화 예측\n",
        "recm2=recommand_movie(265,20)  # userId, cnt(추천콘텐츠갯수)"
      ],
      "execution_count": null,
      "outputs": [
        {
          "output_type": "stream",
          "text": [
            "ratings :  (100004, 4) df_movieid_for_uid : (183, 2) (8942, 3) recommand : (8942,) \n",
            "\n",
            "  userId movieId    rating\n",
            "0    265    3996  5.000000\n",
            "0    265    5669  5.000000\n",
            "0    265    1228  4.974655\n",
            "0    265     926  4.935897\n",
            "0    265     951  4.847616\n",
            "0    265   48780  4.755171\n",
            "0    265     912  4.726553\n",
            "0    265     928  4.716391\n",
            "0    265   70286  4.708906\n",
            "0    265     151  4.696267\n",
            "0    265    1219  4.690224\n",
            "0    265    1393  4.685931\n",
            "0    265     590  4.664499\n",
            "0    265    2318  4.639715\n",
            "0    265     955  4.630968\n",
            "0    265     293  4.628177\n",
            "0    265    1272  4.621472\n",
            "0    265    6377  4.612771\n",
            "0    265   44665  4.591115\n",
            "0    265    1245  4.585041\n"
          ],
          "name": "stdout"
        }
      ]
    },
    {
      "cell_type": "code",
      "metadata": {
        "scrolled": false,
        "colab": {
          "base_uri": "https://localhost:8080/",
          "height": 663
        },
        "id": "WHe3FZZogT3k",
        "outputId": "ecc8a93f-11df-4cb0-cee5-5704047192ab"
      },
      "source": [
        "# 추천 영화 List\n",
        "pd.merge(recm2, movies, on='movieId')"
      ],
      "execution_count": null,
      "outputs": [
        {
          "output_type": "execute_result",
          "data": {
            "text/html": [
              "<div>\n",
              "<style scoped>\n",
              "    .dataframe tbody tr th:only-of-type {\n",
              "        vertical-align: middle;\n",
              "    }\n",
              "\n",
              "    .dataframe tbody tr th {\n",
              "        vertical-align: top;\n",
              "    }\n",
              "\n",
              "    .dataframe thead th {\n",
              "        text-align: right;\n",
              "    }\n",
              "</style>\n",
              "<table border=\"1\" class=\"dataframe\">\n",
              "  <thead>\n",
              "    <tr style=\"text-align: right;\">\n",
              "      <th></th>\n",
              "      <th>userId</th>\n",
              "      <th>movieId</th>\n",
              "      <th>rating</th>\n",
              "      <th>title</th>\n",
              "      <th>genres</th>\n",
              "    </tr>\n",
              "  </thead>\n",
              "  <tbody>\n",
              "    <tr>\n",
              "      <th>0</th>\n",
              "      <td>265</td>\n",
              "      <td>3996</td>\n",
              "      <td>5.000000</td>\n",
              "      <td>Crouching Tiger, Hidden Dragon (Wo hu cang lon...</td>\n",
              "      <td>Action|Drama|Romance</td>\n",
              "    </tr>\n",
              "    <tr>\n",
              "      <th>1</th>\n",
              "      <td>265</td>\n",
              "      <td>5669</td>\n",
              "      <td>5.000000</td>\n",
              "      <td>Bowling for Columbine (2002)</td>\n",
              "      <td>Documentary</td>\n",
              "    </tr>\n",
              "    <tr>\n",
              "      <th>2</th>\n",
              "      <td>265</td>\n",
              "      <td>1228</td>\n",
              "      <td>4.974655</td>\n",
              "      <td>Raging Bull (1980)</td>\n",
              "      <td>Drama</td>\n",
              "    </tr>\n",
              "    <tr>\n",
              "      <th>3</th>\n",
              "      <td>265</td>\n",
              "      <td>926</td>\n",
              "      <td>4.935897</td>\n",
              "      <td>All About Eve (1950)</td>\n",
              "      <td>Drama</td>\n",
              "    </tr>\n",
              "    <tr>\n",
              "      <th>4</th>\n",
              "      <td>265</td>\n",
              "      <td>951</td>\n",
              "      <td>4.847616</td>\n",
              "      <td>His Girl Friday (1940)</td>\n",
              "      <td>Comedy|Romance</td>\n",
              "    </tr>\n",
              "    <tr>\n",
              "      <th>5</th>\n",
              "      <td>265</td>\n",
              "      <td>48780</td>\n",
              "      <td>4.755171</td>\n",
              "      <td>Prestige, The (2006)</td>\n",
              "      <td>Drama|Mystery|Sci-Fi|Thriller</td>\n",
              "    </tr>\n",
              "    <tr>\n",
              "      <th>6</th>\n",
              "      <td>265</td>\n",
              "      <td>912</td>\n",
              "      <td>4.726553</td>\n",
              "      <td>Casablanca (1942)</td>\n",
              "      <td>Drama|Romance</td>\n",
              "    </tr>\n",
              "    <tr>\n",
              "      <th>7</th>\n",
              "      <td>265</td>\n",
              "      <td>928</td>\n",
              "      <td>4.716391</td>\n",
              "      <td>Rebecca (1940)</td>\n",
              "      <td>Drama|Mystery|Romance|Thriller</td>\n",
              "    </tr>\n",
              "    <tr>\n",
              "      <th>8</th>\n",
              "      <td>265</td>\n",
              "      <td>70286</td>\n",
              "      <td>4.708906</td>\n",
              "      <td>District 9 (2009)</td>\n",
              "      <td>Mystery|Sci-Fi|Thriller</td>\n",
              "    </tr>\n",
              "    <tr>\n",
              "      <th>9</th>\n",
              "      <td>265</td>\n",
              "      <td>151</td>\n",
              "      <td>4.696267</td>\n",
              "      <td>Rob Roy (1995)</td>\n",
              "      <td>Action|Drama|Romance|War</td>\n",
              "    </tr>\n",
              "    <tr>\n",
              "      <th>10</th>\n",
              "      <td>265</td>\n",
              "      <td>1219</td>\n",
              "      <td>4.690224</td>\n",
              "      <td>Psycho (1960)</td>\n",
              "      <td>Crime|Horror</td>\n",
              "    </tr>\n",
              "    <tr>\n",
              "      <th>11</th>\n",
              "      <td>265</td>\n",
              "      <td>1393</td>\n",
              "      <td>4.685931</td>\n",
              "      <td>Jerry Maguire (1996)</td>\n",
              "      <td>Drama|Romance</td>\n",
              "    </tr>\n",
              "    <tr>\n",
              "      <th>12</th>\n",
              "      <td>265</td>\n",
              "      <td>590</td>\n",
              "      <td>4.664499</td>\n",
              "      <td>Dances with Wolves (1990)</td>\n",
              "      <td>Adventure|Drama|Western</td>\n",
              "    </tr>\n",
              "    <tr>\n",
              "      <th>13</th>\n",
              "      <td>265</td>\n",
              "      <td>2318</td>\n",
              "      <td>4.639715</td>\n",
              "      <td>Happiness (1998)</td>\n",
              "      <td>Comedy|Drama</td>\n",
              "    </tr>\n",
              "    <tr>\n",
              "      <th>14</th>\n",
              "      <td>265</td>\n",
              "      <td>955</td>\n",
              "      <td>4.630968</td>\n",
              "      <td>Bringing Up Baby (1938)</td>\n",
              "      <td>Comedy|Romance</td>\n",
              "    </tr>\n",
              "    <tr>\n",
              "      <th>15</th>\n",
              "      <td>265</td>\n",
              "      <td>293</td>\n",
              "      <td>4.628177</td>\n",
              "      <td>Léon: The Professional (a.k.a. The Professiona...</td>\n",
              "      <td>Action|Crime|Drama|Thriller</td>\n",
              "    </tr>\n",
              "    <tr>\n",
              "      <th>16</th>\n",
              "      <td>265</td>\n",
              "      <td>1272</td>\n",
              "      <td>4.621472</td>\n",
              "      <td>Patton (1970)</td>\n",
              "      <td>Drama|War</td>\n",
              "    </tr>\n",
              "    <tr>\n",
              "      <th>17</th>\n",
              "      <td>265</td>\n",
              "      <td>6377</td>\n",
              "      <td>4.612771</td>\n",
              "      <td>Finding Nemo (2003)</td>\n",
              "      <td>Adventure|Animation|Children|Comedy</td>\n",
              "    </tr>\n",
              "    <tr>\n",
              "      <th>18</th>\n",
              "      <td>265</td>\n",
              "      <td>44665</td>\n",
              "      <td>4.591115</td>\n",
              "      <td>Lucky Number Slevin (2006)</td>\n",
              "      <td>Crime|Drama|Mystery</td>\n",
              "    </tr>\n",
              "    <tr>\n",
              "      <th>19</th>\n",
              "      <td>265</td>\n",
              "      <td>1245</td>\n",
              "      <td>4.585041</td>\n",
              "      <td>Miller's Crossing (1990)</td>\n",
              "      <td>Crime|Drama|Film-Noir|Thriller</td>\n",
              "    </tr>\n",
              "  </tbody>\n",
              "</table>\n",
              "</div>"
            ],
            "text/plain": [
              "   userId  ...                               genres\n",
              "0     265  ...                 Action|Drama|Romance\n",
              "1     265  ...                          Documentary\n",
              "2     265  ...                                Drama\n",
              "3     265  ...                                Drama\n",
              "4     265  ...                       Comedy|Romance\n",
              "5     265  ...        Drama|Mystery|Sci-Fi|Thriller\n",
              "6     265  ...                        Drama|Romance\n",
              "7     265  ...       Drama|Mystery|Romance|Thriller\n",
              "8     265  ...              Mystery|Sci-Fi|Thriller\n",
              "9     265  ...             Action|Drama|Romance|War\n",
              "10    265  ...                         Crime|Horror\n",
              "11    265  ...                        Drama|Romance\n",
              "12    265  ...              Adventure|Drama|Western\n",
              "13    265  ...                         Comedy|Drama\n",
              "14    265  ...                       Comedy|Romance\n",
              "15    265  ...          Action|Crime|Drama|Thriller\n",
              "16    265  ...                            Drama|War\n",
              "17    265  ...  Adventure|Animation|Children|Comedy\n",
              "18    265  ...                  Crime|Drama|Mystery\n",
              "19    265  ...       Crime|Drama|Film-Noir|Thriller\n",
              "\n",
              "[20 rows x 5 columns]"
            ]
          },
          "metadata": {
            "tags": []
          },
          "execution_count": 191
        }
      ]
    },
    {
      "cell_type": "code",
      "metadata": {
        "id": "u_yelcuGgT3k"
      },
      "source": [
        ""
      ],
      "execution_count": null,
      "outputs": []
    }
  ]
}