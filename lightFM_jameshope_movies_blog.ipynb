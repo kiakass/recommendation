{
  "nbformat": 4,
  "nbformat_minor": 0,
  "metadata": {
    "kernelspec": {
      "display_name": "Python 3",
      "language": "python",
      "name": "python3"
    },
    "language_info": {
      "codemirror_mode": {
        "name": "ipython",
        "version": 3
      },
      "file_extension": ".py",
      "mimetype": "text/x-python",
      "name": "python",
      "nbconvert_exporter": "python",
      "pygments_lexer": "ipython3",
      "version": "3.6.9"
    },
    "colab": {
      "name": "lightFM_jameshope_movies_blog.ipynb",
      "provenance": [],
      "collapsed_sections": [],
      "include_colab_link": true
    },
    "accelerator": "TPU"
  },
  "cells": [
    {
      "cell_type": "markdown",
      "metadata": {
        "id": "view-in-github",
        "colab_type": "text"
      },
      "source": [
        "<a href=\"https://colab.research.google.com/github/kiakass/recommendation/blob/main/lightFM_jameshope_movies_blog.ipynb\" target=\"_parent\"><img src=\"https://colab.research.google.com/assets/colab-badge.svg\" alt=\"Open In Colab\"/></a>"
      ]
    },
    {
      "cell_type": "code",
      "metadata": {
        "colab": {
          "base_uri": "https://localhost:8080/"
        },
        "id": "DSDGLLUhwqya",
        "outputId": "0e9a2c0f-5757-40f8-f4ca-c21de35245f0"
      },
      "source": [
        "!pip install lightfm"
      ],
      "execution_count": 27,
      "outputs": [
        {
          "output_type": "stream",
          "name": "stdout",
          "text": [
            "Requirement already satisfied: lightfm in /usr/local/lib/python3.7/dist-packages (1.16)\n",
            "Requirement already satisfied: requests in /usr/local/lib/python3.7/dist-packages (from lightfm) (2.23.0)\n",
            "Requirement already satisfied: scipy>=0.17.0 in /usr/local/lib/python3.7/dist-packages (from lightfm) (1.4.1)\n",
            "Requirement already satisfied: numpy in /usr/local/lib/python3.7/dist-packages (from lightfm) (1.19.5)\n",
            "Requirement already satisfied: scikit-learn in /usr/local/lib/python3.7/dist-packages (from lightfm) (0.22.2.post1)\n",
            "Requirement already satisfied: chardet<4,>=3.0.2 in /usr/local/lib/python3.7/dist-packages (from requests->lightfm) (3.0.4)\n",
            "Requirement already satisfied: urllib3!=1.25.0,!=1.25.1,<1.26,>=1.21.1 in /usr/local/lib/python3.7/dist-packages (from requests->lightfm) (1.24.3)\n",
            "Requirement already satisfied: idna<3,>=2.5 in /usr/local/lib/python3.7/dist-packages (from requests->lightfm) (2.10)\n",
            "Requirement already satisfied: certifi>=2017.4.17 in /usr/local/lib/python3.7/dist-packages (from requests->lightfm) (2021.5.30)\n",
            "Requirement already satisfied: joblib>=0.11 in /usr/local/lib/python3.7/dist-packages (from scikit-learn->lightfm) (1.0.1)\n"
          ]
        }
      ]
    },
    {
      "cell_type": "code",
      "metadata": {
        "id": "4aePgFaMqo18"
      },
      "source": [
        "from lightfm import LightFM\n",
        "from scipy.sparse import coo_matrix as sp\n",
        "import time\n",
        "import matplotlib\n",
        "import numpy as np\n",
        "import matplotlib.pyplot as plt\n",
        "import os\n",
        "import zipfile\n",
        "import csv\n",
        "import requests\n",
        "import json\n",
        "from itertools import islice\n",
        "from lightfm.data import Dataset\n",
        "from lightfm import LightFM\n",
        "from lightfm.evaluation import precision_at_k\n",
        "from lightfm.evaluation import auc_score\n",
        "from lightfm.cross_validation import random_train_test_split \n",
        "\n",
        "import numpy as np\n",
        "import pandas as pd\n",
        "import warnings # warings 제거\n",
        "warnings.filterwarnings(action='ignore')"
      ],
      "execution_count": 28,
      "outputs": []
    },
    {
      "cell_type": "code",
      "metadata": {
        "id": "lOF_-yXuqo1-"
      },
      "source": [
        "movies_fn = ('https://raw.githubusercontent.com/kiakass/share/master/movies.csv')   # 9,125 건, \n",
        "ratings_fn = ('https://raw.githubusercontent.com/kiakass/share/master/ratings.csv') # 100,004 건\n",
        "users_fn =('https://raw.githubusercontent.com/kiakass/share/master/user_features.csv')\n",
        "#ratings_fn = ('C:/03.DATA/recommend_cf.csv')"
      ],
      "execution_count": 29,
      "outputs": []
    },
    {
      "cell_type": "code",
      "metadata": {
        "id": "bsMzxa9vqo1_",
        "colab": {
          "base_uri": "https://localhost:8080/",
          "height": 424
        },
        "outputId": "205999bd-a4eb-4a2d-f284-8daf957f96e3"
      },
      "source": [
        "ratings=pd.read_csv(ratings_fn).fillna(0)\n",
        "ratings.drop(['timestamp'],axis=1,inplace=True)\n",
        "ratings"
      ],
      "execution_count": 30,
      "outputs": [
        {
          "output_type": "execute_result",
          "data": {
            "text/html": [
              "<div>\n",
              "<style scoped>\n",
              "    .dataframe tbody tr th:only-of-type {\n",
              "        vertical-align: middle;\n",
              "    }\n",
              "\n",
              "    .dataframe tbody tr th {\n",
              "        vertical-align: top;\n",
              "    }\n",
              "\n",
              "    .dataframe thead th {\n",
              "        text-align: right;\n",
              "    }\n",
              "</style>\n",
              "<table border=\"1\" class=\"dataframe\">\n",
              "  <thead>\n",
              "    <tr style=\"text-align: right;\">\n",
              "      <th></th>\n",
              "      <th>userId</th>\n",
              "      <th>movieId</th>\n",
              "      <th>rating</th>\n",
              "    </tr>\n",
              "  </thead>\n",
              "  <tbody>\n",
              "    <tr>\n",
              "      <th>0</th>\n",
              "      <td>1</td>\n",
              "      <td>31</td>\n",
              "      <td>2.5</td>\n",
              "    </tr>\n",
              "    <tr>\n",
              "      <th>1</th>\n",
              "      <td>1</td>\n",
              "      <td>1029</td>\n",
              "      <td>3.0</td>\n",
              "    </tr>\n",
              "    <tr>\n",
              "      <th>2</th>\n",
              "      <td>1</td>\n",
              "      <td>1061</td>\n",
              "      <td>3.0</td>\n",
              "    </tr>\n",
              "    <tr>\n",
              "      <th>3</th>\n",
              "      <td>1</td>\n",
              "      <td>1129</td>\n",
              "      <td>2.0</td>\n",
              "    </tr>\n",
              "    <tr>\n",
              "      <th>4</th>\n",
              "      <td>1</td>\n",
              "      <td>1172</td>\n",
              "      <td>4.0</td>\n",
              "    </tr>\n",
              "    <tr>\n",
              "      <th>...</th>\n",
              "      <td>...</td>\n",
              "      <td>...</td>\n",
              "      <td>...</td>\n",
              "    </tr>\n",
              "    <tr>\n",
              "      <th>99999</th>\n",
              "      <td>671</td>\n",
              "      <td>6268</td>\n",
              "      <td>2.5</td>\n",
              "    </tr>\n",
              "    <tr>\n",
              "      <th>100000</th>\n",
              "      <td>671</td>\n",
              "      <td>6269</td>\n",
              "      <td>4.0</td>\n",
              "    </tr>\n",
              "    <tr>\n",
              "      <th>100001</th>\n",
              "      <td>671</td>\n",
              "      <td>6365</td>\n",
              "      <td>4.0</td>\n",
              "    </tr>\n",
              "    <tr>\n",
              "      <th>100002</th>\n",
              "      <td>671</td>\n",
              "      <td>6385</td>\n",
              "      <td>2.5</td>\n",
              "    </tr>\n",
              "    <tr>\n",
              "      <th>100003</th>\n",
              "      <td>671</td>\n",
              "      <td>6565</td>\n",
              "      <td>3.5</td>\n",
              "    </tr>\n",
              "  </tbody>\n",
              "</table>\n",
              "<p>100004 rows × 3 columns</p>\n",
              "</div>"
            ],
            "text/plain": [
              "        userId  movieId  rating\n",
              "0            1       31     2.5\n",
              "1            1     1029     3.0\n",
              "2            1     1061     3.0\n",
              "3            1     1129     2.0\n",
              "4            1     1172     4.0\n",
              "...        ...      ...     ...\n",
              "99999      671     6268     2.5\n",
              "100000     671     6269     4.0\n",
              "100001     671     6365     4.0\n",
              "100002     671     6385     2.5\n",
              "100003     671     6565     3.5\n",
              "\n",
              "[100004 rows x 3 columns]"
            ]
          },
          "metadata": {},
          "execution_count": 30
        }
      ]
    },
    {
      "cell_type": "code",
      "metadata": {
        "scrolled": false,
        "id": "83OCv5Elqo2B",
        "colab": {
          "base_uri": "https://localhost:8080/",
          "height": 424
        },
        "outputId": "a9b5e0cf-b4fe-4c09-b893-8583d84e8caa"
      },
      "source": [
        "movies=pd.read_csv(movies_fn).fillna(0)\n",
        "movies['year'] = movies['title'].str[-5:-1]\n",
        "movies"
      ],
      "execution_count": 31,
      "outputs": [
        {
          "output_type": "execute_result",
          "data": {
            "text/html": [
              "<div>\n",
              "<style scoped>\n",
              "    .dataframe tbody tr th:only-of-type {\n",
              "        vertical-align: middle;\n",
              "    }\n",
              "\n",
              "    .dataframe tbody tr th {\n",
              "        vertical-align: top;\n",
              "    }\n",
              "\n",
              "    .dataframe thead th {\n",
              "        text-align: right;\n",
              "    }\n",
              "</style>\n",
              "<table border=\"1\" class=\"dataframe\">\n",
              "  <thead>\n",
              "    <tr style=\"text-align: right;\">\n",
              "      <th></th>\n",
              "      <th>movieId</th>\n",
              "      <th>title</th>\n",
              "      <th>genres</th>\n",
              "      <th>year</th>\n",
              "    </tr>\n",
              "  </thead>\n",
              "  <tbody>\n",
              "    <tr>\n",
              "      <th>0</th>\n",
              "      <td>1</td>\n",
              "      <td>Toy Story (1995)</td>\n",
              "      <td>Adventure|Animation|Children|Comedy|Fantasy</td>\n",
              "      <td>1995</td>\n",
              "    </tr>\n",
              "    <tr>\n",
              "      <th>1</th>\n",
              "      <td>2</td>\n",
              "      <td>Jumanji (1995)</td>\n",
              "      <td>Adventure|Children|Fantasy</td>\n",
              "      <td>1995</td>\n",
              "    </tr>\n",
              "    <tr>\n",
              "      <th>2</th>\n",
              "      <td>3</td>\n",
              "      <td>Grumpier Old Men (1995)</td>\n",
              "      <td>Comedy|Romance</td>\n",
              "      <td>1995</td>\n",
              "    </tr>\n",
              "    <tr>\n",
              "      <th>3</th>\n",
              "      <td>4</td>\n",
              "      <td>Waiting to Exhale (1995)</td>\n",
              "      <td>Comedy|Drama|Romance</td>\n",
              "      <td>1995</td>\n",
              "    </tr>\n",
              "    <tr>\n",
              "      <th>4</th>\n",
              "      <td>5</td>\n",
              "      <td>Father of the Bride Part II (1995)</td>\n",
              "      <td>Comedy</td>\n",
              "      <td>1995</td>\n",
              "    </tr>\n",
              "    <tr>\n",
              "      <th>...</th>\n",
              "      <td>...</td>\n",
              "      <td>...</td>\n",
              "      <td>...</td>\n",
              "      <td>...</td>\n",
              "    </tr>\n",
              "    <tr>\n",
              "      <th>9120</th>\n",
              "      <td>162672</td>\n",
              "      <td>Mohenjo Daro (2016)</td>\n",
              "      <td>Adventure|Drama|Romance</td>\n",
              "      <td>2016</td>\n",
              "    </tr>\n",
              "    <tr>\n",
              "      <th>9121</th>\n",
              "      <td>163056</td>\n",
              "      <td>Shin Godzilla (2016)</td>\n",
              "      <td>Action|Adventure|Fantasy|Sci-Fi</td>\n",
              "      <td>2016</td>\n",
              "    </tr>\n",
              "    <tr>\n",
              "      <th>9122</th>\n",
              "      <td>163949</td>\n",
              "      <td>The Beatles: Eight Days a Week - The Touring Y...</td>\n",
              "      <td>Documentary</td>\n",
              "      <td>2016</td>\n",
              "    </tr>\n",
              "    <tr>\n",
              "      <th>9123</th>\n",
              "      <td>164977</td>\n",
              "      <td>The Gay Desperado (1936)</td>\n",
              "      <td>Comedy</td>\n",
              "      <td>1936</td>\n",
              "    </tr>\n",
              "    <tr>\n",
              "      <th>9124</th>\n",
              "      <td>164979</td>\n",
              "      <td>Women of '69, Unboxed</td>\n",
              "      <td>Documentary</td>\n",
              "      <td>boxe</td>\n",
              "    </tr>\n",
              "  </tbody>\n",
              "</table>\n",
              "<p>9125 rows × 4 columns</p>\n",
              "</div>"
            ],
            "text/plain": [
              "      movieId  ...  year\n",
              "0           1  ...  1995\n",
              "1           2  ...  1995\n",
              "2           3  ...  1995\n",
              "3           4  ...  1995\n",
              "4           5  ...  1995\n",
              "...       ...  ...   ...\n",
              "9120   162672  ...  2016\n",
              "9121   163056  ...  2016\n",
              "9122   163949  ...  2016\n",
              "9123   164977  ...  1936\n",
              "9124   164979  ...  boxe\n",
              "\n",
              "[9125 rows x 4 columns]"
            ]
          },
          "metadata": {},
          "execution_count": 31
        }
      ]
    },
    {
      "cell_type": "code",
      "metadata": {
        "colab": {
          "base_uri": "https://localhost:8080/"
        },
        "id": "0vFqOcySK34o",
        "outputId": "69989472-9717-479a-ad6d-e9354cd41638"
      },
      "source": [
        "pd.read_csv(movies_fn).isnull().sum()"
      ],
      "execution_count": 32,
      "outputs": [
        {
          "output_type": "execute_result",
          "data": {
            "text/plain": [
              "movieId    0\n",
              "title      0\n",
              "genres     0\n",
              "dtype: int64"
            ]
          },
          "metadata": {},
          "execution_count": 32
        }
      ]
    },
    {
      "cell_type": "markdown",
      "metadata": {
        "id": "RKaqz6cgqo2C"
      },
      "source": [
        "userId 에 매핑되는 movieId 로만 테이블을 만든다."
      ]
    },
    {
      "cell_type": "code",
      "metadata": {
        "scrolled": false,
        "id": "qQ5eY5-1qo2D",
        "colab": {
          "base_uri": "https://localhost:8080/",
          "height": 424
        },
        "outputId": "de111c1b-db35-43fc-9967-9c06b4780b6f"
      },
      "source": [
        "tmp_movie=ratings.groupby('movieId')['rating'].mean()\n",
        "movies=pd.merge(tmp_movie,movies, on='movieId')\n",
        "movies"
      ],
      "execution_count": 33,
      "outputs": [
        {
          "output_type": "execute_result",
          "data": {
            "text/html": [
              "<div>\n",
              "<style scoped>\n",
              "    .dataframe tbody tr th:only-of-type {\n",
              "        vertical-align: middle;\n",
              "    }\n",
              "\n",
              "    .dataframe tbody tr th {\n",
              "        vertical-align: top;\n",
              "    }\n",
              "\n",
              "    .dataframe thead th {\n",
              "        text-align: right;\n",
              "    }\n",
              "</style>\n",
              "<table border=\"1\" class=\"dataframe\">\n",
              "  <thead>\n",
              "    <tr style=\"text-align: right;\">\n",
              "      <th></th>\n",
              "      <th>movieId</th>\n",
              "      <th>rating</th>\n",
              "      <th>title</th>\n",
              "      <th>genres</th>\n",
              "      <th>year</th>\n",
              "    </tr>\n",
              "  </thead>\n",
              "  <tbody>\n",
              "    <tr>\n",
              "      <th>0</th>\n",
              "      <td>1</td>\n",
              "      <td>3.872470</td>\n",
              "      <td>Toy Story (1995)</td>\n",
              "      <td>Adventure|Animation|Children|Comedy|Fantasy</td>\n",
              "      <td>1995</td>\n",
              "    </tr>\n",
              "    <tr>\n",
              "      <th>1</th>\n",
              "      <td>2</td>\n",
              "      <td>3.401869</td>\n",
              "      <td>Jumanji (1995)</td>\n",
              "      <td>Adventure|Children|Fantasy</td>\n",
              "      <td>1995</td>\n",
              "    </tr>\n",
              "    <tr>\n",
              "      <th>2</th>\n",
              "      <td>3</td>\n",
              "      <td>3.161017</td>\n",
              "      <td>Grumpier Old Men (1995)</td>\n",
              "      <td>Comedy|Romance</td>\n",
              "      <td>1995</td>\n",
              "    </tr>\n",
              "    <tr>\n",
              "      <th>3</th>\n",
              "      <td>4</td>\n",
              "      <td>2.384615</td>\n",
              "      <td>Waiting to Exhale (1995)</td>\n",
              "      <td>Comedy|Drama|Romance</td>\n",
              "      <td>1995</td>\n",
              "    </tr>\n",
              "    <tr>\n",
              "      <th>4</th>\n",
              "      <td>5</td>\n",
              "      <td>3.267857</td>\n",
              "      <td>Father of the Bride Part II (1995)</td>\n",
              "      <td>Comedy</td>\n",
              "      <td>1995</td>\n",
              "    </tr>\n",
              "    <tr>\n",
              "      <th>...</th>\n",
              "      <td>...</td>\n",
              "      <td>...</td>\n",
              "      <td>...</td>\n",
              "      <td>...</td>\n",
              "      <td>...</td>\n",
              "    </tr>\n",
              "    <tr>\n",
              "      <th>9061</th>\n",
              "      <td>161944</td>\n",
              "      <td>5.000000</td>\n",
              "      <td>The Last Brickmaker in America (2001)</td>\n",
              "      <td>Drama</td>\n",
              "      <td>2001</td>\n",
              "    </tr>\n",
              "    <tr>\n",
              "      <th>9062</th>\n",
              "      <td>162376</td>\n",
              "      <td>4.500000</td>\n",
              "      <td>Stranger Things</td>\n",
              "      <td>Drama</td>\n",
              "      <td>hing</td>\n",
              "    </tr>\n",
              "    <tr>\n",
              "      <th>9063</th>\n",
              "      <td>162542</td>\n",
              "      <td>5.000000</td>\n",
              "      <td>Rustom (2016)</td>\n",
              "      <td>Romance|Thriller</td>\n",
              "      <td>2016</td>\n",
              "    </tr>\n",
              "    <tr>\n",
              "      <th>9064</th>\n",
              "      <td>162672</td>\n",
              "      <td>3.000000</td>\n",
              "      <td>Mohenjo Daro (2016)</td>\n",
              "      <td>Adventure|Drama|Romance</td>\n",
              "      <td>2016</td>\n",
              "    </tr>\n",
              "    <tr>\n",
              "      <th>9065</th>\n",
              "      <td>163949</td>\n",
              "      <td>5.000000</td>\n",
              "      <td>The Beatles: Eight Days a Week - The Touring Y...</td>\n",
              "      <td>Documentary</td>\n",
              "      <td>2016</td>\n",
              "    </tr>\n",
              "  </tbody>\n",
              "</table>\n",
              "<p>9066 rows × 5 columns</p>\n",
              "</div>"
            ],
            "text/plain": [
              "      movieId    rating  ...                                       genres  year\n",
              "0           1  3.872470  ...  Adventure|Animation|Children|Comedy|Fantasy  1995\n",
              "1           2  3.401869  ...                   Adventure|Children|Fantasy  1995\n",
              "2           3  3.161017  ...                               Comedy|Romance  1995\n",
              "3           4  2.384615  ...                         Comedy|Drama|Romance  1995\n",
              "4           5  3.267857  ...                                       Comedy  1995\n",
              "...       ...       ...  ...                                          ...   ...\n",
              "9061   161944  5.000000  ...                                        Drama  2001\n",
              "9062   162376  4.500000  ...                                        Drama  hing\n",
              "9063   162542  5.000000  ...                             Romance|Thriller  2016\n",
              "9064   162672  3.000000  ...                      Adventure|Drama|Romance  2016\n",
              "9065   163949  5.000000  ...                                  Documentary  2016\n",
              "\n",
              "[9066 rows x 5 columns]"
            ]
          },
          "metadata": {},
          "execution_count": 33
        }
      ]
    },
    {
      "cell_type": "code",
      "metadata": {
        "colab": {
          "base_uri": "https://localhost:8080/",
          "height": 424
        },
        "id": "ElmL4yK76BQz",
        "outputId": "7c460ab5-dac2-46a9-8d59-f392cc04f7ca"
      },
      "source": [
        "users=pd.read_csv(users_fn).fillna(0)\n",
        "users"
      ],
      "execution_count": 34,
      "outputs": [
        {
          "output_type": "execute_result",
          "data": {
            "text/html": [
              "<div>\n",
              "<style scoped>\n",
              "    .dataframe tbody tr th:only-of-type {\n",
              "        vertical-align: middle;\n",
              "    }\n",
              "\n",
              "    .dataframe tbody tr th {\n",
              "        vertical-align: top;\n",
              "    }\n",
              "\n",
              "    .dataframe thead th {\n",
              "        text-align: right;\n",
              "    }\n",
              "</style>\n",
              "<table border=\"1\" class=\"dataframe\">\n",
              "  <thead>\n",
              "    <tr style=\"text-align: right;\">\n",
              "      <th></th>\n",
              "      <th>userId</th>\n",
              "      <th>gender</th>\n",
              "      <th>age</th>\n",
              "    </tr>\n",
              "  </thead>\n",
              "  <tbody>\n",
              "    <tr>\n",
              "      <th>0</th>\n",
              "      <td>1</td>\n",
              "      <td>FEMAIL</td>\n",
              "      <td>30</td>\n",
              "    </tr>\n",
              "    <tr>\n",
              "      <th>1</th>\n",
              "      <td>2</td>\n",
              "      <td>MAIL</td>\n",
              "      <td>40</td>\n",
              "    </tr>\n",
              "    <tr>\n",
              "      <th>2</th>\n",
              "      <td>3</td>\n",
              "      <td>MAIL</td>\n",
              "      <td>30</td>\n",
              "    </tr>\n",
              "    <tr>\n",
              "      <th>3</th>\n",
              "      <td>4</td>\n",
              "      <td>MAIL</td>\n",
              "      <td>50</td>\n",
              "    </tr>\n",
              "    <tr>\n",
              "      <th>4</th>\n",
              "      <td>5</td>\n",
              "      <td>FEMAIL</td>\n",
              "      <td>20</td>\n",
              "    </tr>\n",
              "    <tr>\n",
              "      <th>...</th>\n",
              "      <td>...</td>\n",
              "      <td>...</td>\n",
              "      <td>...</td>\n",
              "    </tr>\n",
              "    <tr>\n",
              "      <th>666</th>\n",
              "      <td>667</td>\n",
              "      <td>MAIL</td>\n",
              "      <td>10</td>\n",
              "    </tr>\n",
              "    <tr>\n",
              "      <th>667</th>\n",
              "      <td>668</td>\n",
              "      <td>FEMAIL</td>\n",
              "      <td>20</td>\n",
              "    </tr>\n",
              "    <tr>\n",
              "      <th>668</th>\n",
              "      <td>669</td>\n",
              "      <td>MAIL</td>\n",
              "      <td>40</td>\n",
              "    </tr>\n",
              "    <tr>\n",
              "      <th>669</th>\n",
              "      <td>670</td>\n",
              "      <td>MAIL</td>\n",
              "      <td>60</td>\n",
              "    </tr>\n",
              "    <tr>\n",
              "      <th>670</th>\n",
              "      <td>671</td>\n",
              "      <td>FEMAIL</td>\n",
              "      <td>60</td>\n",
              "    </tr>\n",
              "  </tbody>\n",
              "</table>\n",
              "<p>671 rows × 3 columns</p>\n",
              "</div>"
            ],
            "text/plain": [
              "     userId  gender  age\n",
              "0         1  FEMAIL   30\n",
              "1         2    MAIL   40\n",
              "2         3    MAIL   30\n",
              "3         4    MAIL   50\n",
              "4         5  FEMAIL   20\n",
              "..      ...     ...  ...\n",
              "666     667    MAIL   10\n",
              "667     668  FEMAIL   20\n",
              "668     669    MAIL   40\n",
              "669     670    MAIL   60\n",
              "670     671  FEMAIL   60\n",
              "\n",
              "[671 rows x 3 columns]"
            ]
          },
          "metadata": {},
          "execution_count": 34
        }
      ]
    },
    {
      "cell_type": "code",
      "metadata": {
        "scrolled": true,
        "id": "rHtXHwT1qo2G"
      },
      "source": [
        "from lightfm.data import Dataset\n",
        "from scipy.io import mmwrite"
      ],
      "execution_count": 35,
      "outputs": []
    },
    {
      "cell_type": "markdown",
      "metadata": {
        "id": "fUmfmnRCqo2H"
      },
      "source": [
        "### data 를 array 형태로 만든다"
      ]
    },
    {
      "cell_type": "code",
      "metadata": {
        "id": "XHhA2m1tqo2I"
      },
      "source": [
        "ratings_source = [(ratings['userId'][i], ratings['movieId'][i]) for i in range(ratings.shape[0])]\n",
        "\n",
        "item_meta = movies[['movieId', 'title', 'genres', 'rating', 'year']]\n",
        "\n",
        "item_features_source = [(item_meta['movieId'][i],\n",
        "                        [item_meta['genres'][i],\n",
        "                         item_meta['year'][i],\n",
        "                         item_meta['rating'][i]]) for i in range(item_meta.shape[0])]\n",
        "\n",
        "user_meta = users[['userId', 'gender', 'age']]\n",
        "\n",
        "user_features_source = [(user_meta['userId'][i],\n",
        "                        [user_meta['gender'][i],\n",
        "                         user_meta['age'][i]]) for i in range(user_meta.shape[0])]"
      ],
      "execution_count": 36,
      "outputs": []
    },
    {
      "cell_type": "code",
      "metadata": {
        "id": "zQA1NXWBqo2J",
        "colab": {
          "base_uri": "https://localhost:8080/"
        },
        "outputId": "3e77500e-e3fc-4b33-f199-6649f775e12d"
      },
      "source": [
        "#결측치가 있는지 확인\n",
        "df=pd.DataFrame(item_features_source);print(pd.DataFrame(item_features_source).head(1))\n",
        "df.isnull().sum()"
      ],
      "execution_count": 37,
      "outputs": [
        {
          "output_type": "stream",
          "name": "stdout",
          "text": [
            "   0                                                  1\n",
            "0  1  [Adventure|Animation|Children|Comedy|Fantasy, ...\n"
          ]
        },
        {
          "output_type": "execute_result",
          "data": {
            "text/plain": [
              "0    0\n",
              "1    0\n",
              "dtype: int64"
            ]
          },
          "metadata": {},
          "execution_count": 37
        }
      ]
    },
    {
      "cell_type": "code",
      "metadata": {
        "id": "w9TvvrYeqo2K"
      },
      "source": [
        "dataset = Dataset()\n",
        "dataset.fit(users=ratings['userId'],\n",
        "            items=ratings['movieId'])\n",
        "\n",
        "interactions, weights = dataset.build_interactions(ratings_source)\n",
        "dataset.fit(users=ratings['userId'],\n",
        "            items=ratings['movieId'],\n",
        "            item_features=item_meta[item_meta.columns[1:]].values.flatten()\n",
        "            )\n",
        "item_features=dataset.build_item_features(item_features_source)\n",
        "dataset.fit(users=ratings['userId'],\n",
        "            items=ratings['movieId'],\n",
        "            user_features=user_meta[user_meta.columns[1:]].values.flatten()\n",
        "            )\n",
        "user_features=dataset.build_user_features(user_features_source)"
      ],
      "execution_count": 38,
      "outputs": []
    },
    {
      "cell_type": "markdown",
      "metadata": {
        "id": "ZU604mTKqo2M"
      },
      "source": [
        "#### movies 에 결측치를 제거해야한다. 즉, item_feature_source의 movieId가 userId에 100% join 되어야함"
      ]
    },
    {
      "cell_type": "code",
      "metadata": {
        "id": "S41eH_-hqo2M"
      },
      "source": [
        "# Save\n",
        "mmwrite('interactions.mtx', interactions)\n",
        "mmwrite('item_features.mtx', item_features)\n",
        "mmwrite('user_features.mtx', item_features)\n",
        "mmwrite('weights.mtx', weights)"
      ],
      "execution_count": 39,
      "outputs": []
    },
    {
      "cell_type": "code",
      "metadata": {
        "id": "Q16KwH-yqo2N",
        "colab": {
          "base_uri": "https://localhost:8080/"
        },
        "outputId": "5c9bf2d7-e74e-415e-9d4e-cb8becf2b381"
      },
      "source": [
        "from lightfm.cross_validation import random_train_test_split\n",
        "# Split Train, Test data\n",
        "model = LightFM(loss='warp')\n",
        "\n",
        "(train, test) = random_train_test_split(interactions=interactions, test_percentage=0.2)\n",
        "\n",
        "model.fit(train, item_features=item_features,user_features=user_features, epochs=2)\n"
      ],
      "execution_count": 40,
      "outputs": [
        {
          "output_type": "execute_result",
          "data": {
            "text/plain": [
              "<lightfm.lightfm.LightFM at 0x7fa4373c3d10>"
            ]
          },
          "metadata": {},
          "execution_count": 40
        }
      ]
    },
    {
      "cell_type": "code",
      "metadata": {
        "colab": {
          "base_uri": "https://localhost:8080/"
        },
        "id": "-PijXa0D3YCt",
        "outputId": "aeb29c27-3a9f-4b32-bc41-f6e622934716"
      },
      "source": [
        "train_precision = precision_at_k(model, train, k=5, item_features=item_features,user_features=user_features).mean()\n",
        "test_precision = precision_at_k(model, test, k=5, item_features=item_features,user_features=user_features).mean()\n",
        "train_auc = auc_score(model, train, item_features=item_features,user_features=user_features).mean()\n",
        "test_auc = auc_score(model, test, item_features=item_features,user_features=user_features).mean()\n",
        "# test_auc = auc_score(model, test, item_features=item_features).mean()\n",
        "output = -test_precision #precision은 높을수록 좋음 : 높은 숫자를 찾기위해 음수화\n",
        "\n",
        "print( 'Precision: train %.4f, test %.4f, AUC: train %.4f, test %.4f.' \n",
        "      % ( train_precision,test_precision,train_auc, test_auc))"
      ],
      "execution_count": 41,
      "outputs": [
        {
          "output_type": "stream",
          "name": "stdout",
          "text": [
            "Precision: train 0.3428, test 0.0787, AUC: train 0.9046, test 0.8911.\n"
          ]
        }
      ]
    },
    {
      "cell_type": "code",
      "metadata": {
        "colab": {
          "base_uri": "https://localhost:8080/"
        },
        "id": "c44OPZ2TtbmV",
        "outputId": "97b0270b-ef37-455f-b477-6c542e6cc83f"
      },
      "source": [
        "model.get_params(deep=True)"
      ],
      "execution_count": 42,
      "outputs": [
        {
          "output_type": "execute_result",
          "data": {
            "text/plain": [
              "{'epsilon': 1e-06,\n",
              " 'item_alpha': 0.0,\n",
              " 'k': 5,\n",
              " 'learning_rate': 0.05,\n",
              " 'learning_schedule': 'adagrad',\n",
              " 'loss': 'warp',\n",
              " 'max_sampled': 10,\n",
              " 'n': 10,\n",
              " 'no_components': 10,\n",
              " 'random_state': RandomState(MT19937) at 0x7FA4396EEE20,\n",
              " 'rho': 0.95,\n",
              " 'user_alpha': 0.0}"
            ]
          },
          "metadata": {},
          "execution_count": 42
        }
      ]
    },
    {
      "cell_type": "code",
      "metadata": {
        "id": "oo2XAIfVC9Qd"
      },
      "source": [
        "labels = np.array(movies['movieId'])\n",
        "\n",
        "def sample_recommendation(model, data, user_ids):\n",
        "\n",
        "    n_users, n_items = data.shape\n",
        "\n",
        "    #build a structure to store user scores for each item\n",
        "    all_scores = np.empty(shape=(0,n_items))\n",
        "\n",
        "    #iterate through the group and build the scores\n",
        "    for user_id in user_ids:\n",
        "        #known_positives = labels[data.tocsr()[user_id].indices]\n",
        "        #user의 전체 0~9066 movie의 예측 평점\n",
        "        scores = model.predict(user_id,np.arange(n_items),item_features) \n",
        "        \n",
        "        # movieId로 치환\n",
        "        top_items_for_user = labels[np.argsort(-scores)] #argsort():오름차순인덱스반환\n",
        "        print(\"Top Recommended ISBN For User: \", user_id)\n",
        "        for x in top_items_for_user[:10]:\n",
        "            #print(\"     %s\" % movies[movies['movieId']== x])\n",
        "            print(\"     %s\" % x)\n",
        "\n",
        "        #vertically stack the user scores (items are columns)\n",
        "        all_scores = np.vstack((all_scores, scores))\n",
        "        print(all_scores)\n",
        "\n",
        "    #compute the average rating for each item in the group\n",
        "    item_averages = np.mean(all_scores.astype(np.float), axis=0)\n",
        "    top_items_for_group = labels[np.argsort(-item_averages)]\n",
        "    top_items_scores=item_averages[np.argsort(-item_averages)]\n",
        "\n",
        "    print(\"Top Recommended ISBN for Group:\")\n",
        "\n",
        "    for x in top_items_for_group[:10]:\n",
        "        print(\"     %s\" % x)\n",
        "    return  top_items_for_group, top_items_scores"
      ],
      "execution_count": 43,
      "outputs": []
    },
    {
      "cell_type": "code",
      "metadata": {
        "colab": {
          "base_uri": "https://localhost:8080/",
          "height": 1000
        },
        "id": "VRTPjdcVFHvp",
        "outputId": "0b4befb0-976c-4d7d-d428-b9549225f69f"
      },
      "source": [
        "#################################\n",
        "#                               #\n",
        "#  Sampling Recommended Events  #\n",
        "#                               #\n",
        "#################################\n",
        "\n",
        "#fetch user_ids of users in group\n",
        "group = [1]\n",
        "list_no = 20\n",
        "\n",
        "#sample recommendations for the group\n",
        "list,avg_scores = sample_recommendation(model, interactions, group)\n",
        "pd.DataFrame(list).to_csv('movie.csv')\n",
        "recommend_movie=pd.DataFrame(columns=movies.columns)\n",
        "for x in list[:list_no]:\n",
        "  recommend_movie=recommend_movie.append(movies[movies['movieId']== x], ignore_index=True)\n",
        "\n",
        "recommend_movie['predict_score']= avg_scores[:list_no]\n",
        "recommend_movie"
      ],
      "execution_count": 44,
      "outputs": [
        {
          "output_type": "stream",
          "name": "stdout",
          "text": [
            "Top Recommended ISBN For User:  1\n",
            "     78\n",
            "     485\n",
            "     564\n",
            "     52\n",
            "     28\n",
            "     167\n",
            "     61\n",
            "     62\n",
            "     34\n",
            "     475\n",
            "[[-0.65142381 -0.77288854 -0.71841067 ... -1.21552551 -1.27825558\n",
            "  -1.43717992]]\n",
            "Top Recommended ISBN for Group:\n",
            "     78\n",
            "     485\n",
            "     564\n",
            "     52\n",
            "     28\n",
            "     167\n",
            "     61\n",
            "     62\n",
            "     34\n",
            "     475\n"
          ]
        },
        {
          "output_type": "execute_result",
          "data": {
            "text/html": [
              "<div>\n",
              "<style scoped>\n",
              "    .dataframe tbody tr th:only-of-type {\n",
              "        vertical-align: middle;\n",
              "    }\n",
              "\n",
              "    .dataframe tbody tr th {\n",
              "        vertical-align: top;\n",
              "    }\n",
              "\n",
              "    .dataframe thead th {\n",
              "        text-align: right;\n",
              "    }\n",
              "</style>\n",
              "<table border=\"1\" class=\"dataframe\">\n",
              "  <thead>\n",
              "    <tr style=\"text-align: right;\">\n",
              "      <th></th>\n",
              "      <th>movieId</th>\n",
              "      <th>rating</th>\n",
              "      <th>title</th>\n",
              "      <th>genres</th>\n",
              "      <th>year</th>\n",
              "      <th>predict_score</th>\n",
              "    </tr>\n",
              "  </thead>\n",
              "  <tbody>\n",
              "    <tr>\n",
              "      <th>0</th>\n",
              "      <td>78</td>\n",
              "      <td>3.200000</td>\n",
              "      <td>Crossing Guard, The (1995)</td>\n",
              "      <td>Action|Crime|Drama|Thriller</td>\n",
              "      <td>1995</td>\n",
              "      <td>-0.181541</td>\n",
              "    </tr>\n",
              "    <tr>\n",
              "      <th>1</th>\n",
              "      <td>485</td>\n",
              "      <td>2.886792</td>\n",
              "      <td>Last Action Hero (1993)</td>\n",
              "      <td>Action|Adventure|Comedy|Fantasy</td>\n",
              "      <td>1993</td>\n",
              "      <td>-0.198446</td>\n",
              "    </tr>\n",
              "    <tr>\n",
              "      <th>2</th>\n",
              "      <td>564</td>\n",
              "      <td>3.000000</td>\n",
              "      <td>Chasers (1994)</td>\n",
              "      <td>Comedy</td>\n",
              "      <td>1994</td>\n",
              "      <td>-0.239077</td>\n",
              "    </tr>\n",
              "    <tr>\n",
              "      <th>3</th>\n",
              "      <td>52</td>\n",
              "      <td>3.637255</td>\n",
              "      <td>Mighty Aphrodite (1995)</td>\n",
              "      <td>Comedy|Drama|Romance</td>\n",
              "      <td>1995</td>\n",
              "      <td>-0.245912</td>\n",
              "    </tr>\n",
              "    <tr>\n",
              "      <th>4</th>\n",
              "      <td>28</td>\n",
              "      <td>4.083333</td>\n",
              "      <td>Persuasion (1995)</td>\n",
              "      <td>Drama|Romance</td>\n",
              "      <td>1995</td>\n",
              "      <td>-0.263395</td>\n",
              "    </tr>\n",
              "    <tr>\n",
              "      <th>5</th>\n",
              "      <td>167</td>\n",
              "      <td>4.000000</td>\n",
              "      <td>Feast of July (1995)</td>\n",
              "      <td>Drama</td>\n",
              "      <td>1995</td>\n",
              "      <td>-0.271393</td>\n",
              "    </tr>\n",
              "    <tr>\n",
              "      <th>6</th>\n",
              "      <td>61</td>\n",
              "      <td>3.571429</td>\n",
              "      <td>Eye for an Eye (1996)</td>\n",
              "      <td>Drama|Thriller</td>\n",
              "      <td>1996</td>\n",
              "      <td>-0.275218</td>\n",
              "    </tr>\n",
              "    <tr>\n",
              "      <th>7</th>\n",
              "      <td>62</td>\n",
              "      <td>3.689655</td>\n",
              "      <td>Mr. Holland's Opus (1995)</td>\n",
              "      <td>Drama</td>\n",
              "      <td>1995</td>\n",
              "      <td>-0.291740</td>\n",
              "    </tr>\n",
              "    <tr>\n",
              "      <th>8</th>\n",
              "      <td>34</td>\n",
              "      <td>3.601351</td>\n",
              "      <td>Babe (1995)</td>\n",
              "      <td>Children|Drama</td>\n",
              "      <td>1995</td>\n",
              "      <td>-0.295940</td>\n",
              "    </tr>\n",
              "    <tr>\n",
              "      <th>9</th>\n",
              "      <td>475</td>\n",
              "      <td>4.209677</td>\n",
              "      <td>In the Name of the Father (1993)</td>\n",
              "      <td>Drama</td>\n",
              "      <td>1993</td>\n",
              "      <td>-0.305473</td>\n",
              "    </tr>\n",
              "    <tr>\n",
              "      <th>10</th>\n",
              "      <td>85</td>\n",
              "      <td>4.062500</td>\n",
              "      <td>Angels and Insects (1995)</td>\n",
              "      <td>Drama|Romance</td>\n",
              "      <td>1995</td>\n",
              "      <td>-0.317529</td>\n",
              "    </tr>\n",
              "    <tr>\n",
              "      <th>11</th>\n",
              "      <td>108</td>\n",
              "      <td>4.000000</td>\n",
              "      <td>Catwalk (1996)</td>\n",
              "      <td>Documentary</td>\n",
              "      <td>1996</td>\n",
              "      <td>-0.336072</td>\n",
              "    </tr>\n",
              "    <tr>\n",
              "      <th>12</th>\n",
              "      <td>64</td>\n",
              "      <td>2.400000</td>\n",
              "      <td>Two if by Sea (1996)</td>\n",
              "      <td>Comedy|Romance</td>\n",
              "      <td>1996</td>\n",
              "      <td>-0.338014</td>\n",
              "    </tr>\n",
              "    <tr>\n",
              "      <th>13</th>\n",
              "      <td>140</td>\n",
              "      <td>3.478261</td>\n",
              "      <td>Up Close and Personal (1996)</td>\n",
              "      <td>Drama|Romance</td>\n",
              "      <td>1996</td>\n",
              "      <td>-0.341301</td>\n",
              "    </tr>\n",
              "    <tr>\n",
              "      <th>14</th>\n",
              "      <td>500</td>\n",
              "      <td>3.467320</td>\n",
              "      <td>Mrs. Doubtfire (1993)</td>\n",
              "      <td>Comedy|Drama</td>\n",
              "      <td>1993</td>\n",
              "      <td>-0.343846</td>\n",
              "    </tr>\n",
              "    <tr>\n",
              "      <th>15</th>\n",
              "      <td>63</td>\n",
              "      <td>2.833333</td>\n",
              "      <td>Don't Be a Menace to South Central While Drink...</td>\n",
              "      <td>Comedy|Crime</td>\n",
              "      <td>1996</td>\n",
              "      <td>-0.344200</td>\n",
              "    </tr>\n",
              "    <tr>\n",
              "      <th>16</th>\n",
              "      <td>117</td>\n",
              "      <td>3.000000</td>\n",
              "      <td>Young Poisoner's Handbook, The (1995)</td>\n",
              "      <td>Crime|Drama</td>\n",
              "      <td>1995</td>\n",
              "      <td>-0.344253</td>\n",
              "    </tr>\n",
              "    <tr>\n",
              "      <th>17</th>\n",
              "      <td>171</td>\n",
              "      <td>4.333333</td>\n",
              "      <td>Jeffrey (1995)</td>\n",
              "      <td>Comedy|Drama</td>\n",
              "      <td>1995</td>\n",
              "      <td>-0.346302</td>\n",
              "    </tr>\n",
              "    <tr>\n",
              "      <th>18</th>\n",
              "      <td>203</td>\n",
              "      <td>3.304348</td>\n",
              "      <td>To Wong Foo, Thanks for Everything! Julie Newm...</td>\n",
              "      <td>Comedy</td>\n",
              "      <td>1995</td>\n",
              "      <td>-0.346872</td>\n",
              "    </tr>\n",
              "    <tr>\n",
              "      <th>19</th>\n",
              "      <td>24</td>\n",
              "      <td>3.044118</td>\n",
              "      <td>Powder (1995)</td>\n",
              "      <td>Drama|Sci-Fi</td>\n",
              "      <td>1995</td>\n",
              "      <td>-0.350383</td>\n",
              "    </tr>\n",
              "  </tbody>\n",
              "</table>\n",
              "</div>"
            ],
            "text/plain": [
              "   movieId    rating  ...  year predict_score\n",
              "0       78  3.200000  ...  1995     -0.181541\n",
              "1      485  2.886792  ...  1993     -0.198446\n",
              "2      564  3.000000  ...  1994     -0.239077\n",
              "3       52  3.637255  ...  1995     -0.245912\n",
              "4       28  4.083333  ...  1995     -0.263395\n",
              "5      167  4.000000  ...  1995     -0.271393\n",
              "6       61  3.571429  ...  1996     -0.275218\n",
              "7       62  3.689655  ...  1995     -0.291740\n",
              "8       34  3.601351  ...  1995     -0.295940\n",
              "9      475  4.209677  ...  1993     -0.305473\n",
              "10      85  4.062500  ...  1995     -0.317529\n",
              "11     108  4.000000  ...  1996     -0.336072\n",
              "12      64  2.400000  ...  1996     -0.338014\n",
              "13     140  3.478261  ...  1996     -0.341301\n",
              "14     500  3.467320  ...  1993     -0.343846\n",
              "15      63  2.833333  ...  1996     -0.344200\n",
              "16     117  3.000000  ...  1995     -0.344253\n",
              "17     171  4.333333  ...  1995     -0.346302\n",
              "18     203  3.304348  ...  1995     -0.346872\n",
              "19      24  3.044118  ...  1995     -0.350383\n",
              "\n",
              "[20 rows x 6 columns]"
            ]
          },
          "metadata": {},
          "execution_count": 44
        }
      ]
    },
    {
      "cell_type": "markdown",
      "metadata": {
        "id": "bi98HrblsI08"
      },
      "source": [
        "### Item_features"
      ]
    },
    {
      "cell_type": "code",
      "metadata": {
        "colab": {
          "base_uri": "https://localhost:8080/",
          "height": 424
        },
        "id": "cEavE2Phw7cJ",
        "outputId": "48a6e267-4e61-4c2e-c0bb-a930c7041376"
      },
      "source": [
        "movies"
      ],
      "execution_count": 45,
      "outputs": [
        {
          "output_type": "execute_result",
          "data": {
            "text/html": [
              "<div>\n",
              "<style scoped>\n",
              "    .dataframe tbody tr th:only-of-type {\n",
              "        vertical-align: middle;\n",
              "    }\n",
              "\n",
              "    .dataframe tbody tr th {\n",
              "        vertical-align: top;\n",
              "    }\n",
              "\n",
              "    .dataframe thead th {\n",
              "        text-align: right;\n",
              "    }\n",
              "</style>\n",
              "<table border=\"1\" class=\"dataframe\">\n",
              "  <thead>\n",
              "    <tr style=\"text-align: right;\">\n",
              "      <th></th>\n",
              "      <th>movieId</th>\n",
              "      <th>rating</th>\n",
              "      <th>title</th>\n",
              "      <th>genres</th>\n",
              "      <th>year</th>\n",
              "    </tr>\n",
              "  </thead>\n",
              "  <tbody>\n",
              "    <tr>\n",
              "      <th>0</th>\n",
              "      <td>1</td>\n",
              "      <td>3.872470</td>\n",
              "      <td>Toy Story (1995)</td>\n",
              "      <td>Adventure|Animation|Children|Comedy|Fantasy</td>\n",
              "      <td>1995</td>\n",
              "    </tr>\n",
              "    <tr>\n",
              "      <th>1</th>\n",
              "      <td>2</td>\n",
              "      <td>3.401869</td>\n",
              "      <td>Jumanji (1995)</td>\n",
              "      <td>Adventure|Children|Fantasy</td>\n",
              "      <td>1995</td>\n",
              "    </tr>\n",
              "    <tr>\n",
              "      <th>2</th>\n",
              "      <td>3</td>\n",
              "      <td>3.161017</td>\n",
              "      <td>Grumpier Old Men (1995)</td>\n",
              "      <td>Comedy|Romance</td>\n",
              "      <td>1995</td>\n",
              "    </tr>\n",
              "    <tr>\n",
              "      <th>3</th>\n",
              "      <td>4</td>\n",
              "      <td>2.384615</td>\n",
              "      <td>Waiting to Exhale (1995)</td>\n",
              "      <td>Comedy|Drama|Romance</td>\n",
              "      <td>1995</td>\n",
              "    </tr>\n",
              "    <tr>\n",
              "      <th>4</th>\n",
              "      <td>5</td>\n",
              "      <td>3.267857</td>\n",
              "      <td>Father of the Bride Part II (1995)</td>\n",
              "      <td>Comedy</td>\n",
              "      <td>1995</td>\n",
              "    </tr>\n",
              "    <tr>\n",
              "      <th>...</th>\n",
              "      <td>...</td>\n",
              "      <td>...</td>\n",
              "      <td>...</td>\n",
              "      <td>...</td>\n",
              "      <td>...</td>\n",
              "    </tr>\n",
              "    <tr>\n",
              "      <th>9061</th>\n",
              "      <td>161944</td>\n",
              "      <td>5.000000</td>\n",
              "      <td>The Last Brickmaker in America (2001)</td>\n",
              "      <td>Drama</td>\n",
              "      <td>2001</td>\n",
              "    </tr>\n",
              "    <tr>\n",
              "      <th>9062</th>\n",
              "      <td>162376</td>\n",
              "      <td>4.500000</td>\n",
              "      <td>Stranger Things</td>\n",
              "      <td>Drama</td>\n",
              "      <td>hing</td>\n",
              "    </tr>\n",
              "    <tr>\n",
              "      <th>9063</th>\n",
              "      <td>162542</td>\n",
              "      <td>5.000000</td>\n",
              "      <td>Rustom (2016)</td>\n",
              "      <td>Romance|Thriller</td>\n",
              "      <td>2016</td>\n",
              "    </tr>\n",
              "    <tr>\n",
              "      <th>9064</th>\n",
              "      <td>162672</td>\n",
              "      <td>3.000000</td>\n",
              "      <td>Mohenjo Daro (2016)</td>\n",
              "      <td>Adventure|Drama|Romance</td>\n",
              "      <td>2016</td>\n",
              "    </tr>\n",
              "    <tr>\n",
              "      <th>9065</th>\n",
              "      <td>163949</td>\n",
              "      <td>5.000000</td>\n",
              "      <td>The Beatles: Eight Days a Week - The Touring Y...</td>\n",
              "      <td>Documentary</td>\n",
              "      <td>2016</td>\n",
              "    </tr>\n",
              "  </tbody>\n",
              "</table>\n",
              "<p>9066 rows × 5 columns</p>\n",
              "</div>"
            ],
            "text/plain": [
              "      movieId    rating  ...                                       genres  year\n",
              "0           1  3.872470  ...  Adventure|Animation|Children|Comedy|Fantasy  1995\n",
              "1           2  3.401869  ...                   Adventure|Children|Fantasy  1995\n",
              "2           3  3.161017  ...                               Comedy|Romance  1995\n",
              "3           4  2.384615  ...                         Comedy|Drama|Romance  1995\n",
              "4           5  3.267857  ...                                       Comedy  1995\n",
              "...       ...       ...  ...                                          ...   ...\n",
              "9061   161944  5.000000  ...                                        Drama  2001\n",
              "9062   162376  4.500000  ...                                        Drama  hing\n",
              "9063   162542  5.000000  ...                             Romance|Thriller  2016\n",
              "9064   162672  3.000000  ...                      Adventure|Drama|Romance  2016\n",
              "9065   163949  5.000000  ...                                  Documentary  2016\n",
              "\n",
              "[9066 rows x 5 columns]"
            ]
          },
          "metadata": {},
          "execution_count": 45
        }
      ]
    },
    {
      "cell_type": "code",
      "metadata": {
        "colab": {
          "base_uri": "https://localhost:8080/"
        },
        "id": "Pgvh4zbpoJ5a",
        "outputId": "e4ceba05-5ae6-40ae-a420-b20c27f37324"
      },
      "source": [
        "print(item_features)  # 2열 : itemid/genre/rating embedding ex. 0,9104,9148"
      ],
      "execution_count": 46,
      "outputs": [
        {
          "output_type": "stream",
          "name": "stdout",
          "text": [
            "  (0, 0)\t0.25\n",
            "  (0, 9069)\t0.25\n",
            "  (0, 9105)\t0.25\n",
            "  (0, 9149)\t0.25\n",
            "  (1, 1)\t0.25\n",
            "  (1, 10413)\t0.25\n",
            "  (1, 10590)\t0.25\n",
            "  (1, 10591)\t0.25\n",
            "  (2, 2)\t0.25\n",
            "  (2, 9156)\t0.25\n",
            "  (2, 9210)\t0.25\n",
            "  (2, 9331)\t0.25\n",
            "  (3, 3)\t0.25\n",
            "  (3, 9885)\t0.25\n",
            "  (3, 10091)\t0.25\n",
            "  (3, 10714)\t0.25\n",
            "  (4, 4)\t0.25\n",
            "  (4, 9105)\t0.25\n",
            "  (4, 10058)\t0.25\n",
            "  (4, 10749)\t0.25\n",
            "  (5, 5)\t0.25\n",
            "  (5, 9167)\t0.25\n",
            "  (5, 10782)\t0.25\n",
            "  (5, 10925)\t0.25\n",
            "  (6, 6)\t0.25\n",
            "  :\t:\n",
            "  (9059, 19890)\t0.25\n",
            "  (9060, 319)\t0.25\n",
            "  (9060, 9060)\t0.25\n",
            "  (9060, 10060)\t0.25\n",
            "  (9060, 17761)\t0.25\n",
            "  (9061, 9061)\t0.25\n",
            "  (9061, 9552)\t0.25\n",
            "  (9061, 10050)\t0.25\n",
            "  (9061, 16879)\t0.25\n",
            "  (9062, 9062)\t0.25\n",
            "  (9062, 9223)\t0.25\n",
            "  (9062, 16951)\t0.25\n",
            "  (9062, 18106)\t0.25\n",
            "  (9063, 319)\t0.25\n",
            "  (9063, 9063)\t0.25\n",
            "  (9063, 9074)\t0.25\n",
            "  (9063, 9210)\t0.25\n",
            "  (9064, 417)\t0.25\n",
            "  (9064, 9064)\t0.25\n",
            "  (9064, 9077)\t0.25\n",
            "  (9064, 13873)\t0.25\n",
            "  (9065, 417)\t0.25\n",
            "  (9065, 9065)\t0.25\n",
            "  (9065, 9080)\t0.25\n",
            "  (9065, 10255)\t0.25\n"
          ]
        }
      ]
    },
    {
      "cell_type": "code",
      "metadata": {
        "colab": {
          "base_uri": "https://localhost:8080/"
        },
        "id": "2kX16N0LrXJi",
        "outputId": "0ce4b0f5-9b2f-410e-d382-f7ed89b5259c"
      },
      "source": [
        "movies.rating.value_counts() #2085 -> 962개"
      ],
      "execution_count": 47,
      "outputs": [
        {
          "output_type": "execute_result",
          "data": {
            "text/plain": [
              "4.000000    962\n",
              "3.000000    848\n",
              "3.500000    776\n",
              "2.500000    445\n",
              "2.000000    377\n",
              "           ... \n",
              "3.820755      1\n",
              "4.183398      1\n",
              "3.397959      1\n",
              "3.102041      1\n",
              "2.888060      1\n",
              "Name: rating, Length: 1279, dtype: int64"
            ]
          },
          "metadata": {},
          "execution_count": 47
        }
      ]
    },
    {
      "cell_type": "code",
      "metadata": {
        "colab": {
          "base_uri": "https://localhost:8080/"
        },
        "id": "dxiKWq3brpZi",
        "outputId": "ae3274db-046e-4798-89f5-28294f61c9ad"
      },
      "source": [
        "movies.genres.value_counts()  # 9105 -> 1156개"
      ],
      "execution_count": 48,
      "outputs": [
        {
          "output_type": "execute_result",
          "data": {
            "text/plain": [
              "Drama                                                             1156\n",
              "Comedy                                                             804\n",
              "Comedy|Drama                                                       424\n",
              "Documentary                                                        359\n",
              "Drama|Romance                                                      354\n",
              "                                                                  ... \n",
              "Adventure|Musical|Romance                                            1\n",
              "Action|Crime|Drama|Film-Noir|Thriller                                1\n",
              "Comedy|Fantasy|Musical                                               1\n",
              "Adventure|Children|Drama|Fantasy                                     1\n",
              "Action|Animation|Crime|Drama|Film-Noir|Mystery|Sci-Fi|Thriller       1\n",
              "Name: genres, Length: 901, dtype: int64"
            ]
          },
          "metadata": {},
          "execution_count": 48
        }
      ]
    },
    {
      "cell_type": "code",
      "metadata": {
        "id": "n-DjKQcprsBW"
      },
      "source": [
        ""
      ],
      "execution_count": 48,
      "outputs": []
    }
  ]
}