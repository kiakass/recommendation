{
  "nbformat": 4,
  "nbformat_minor": 0,
  "metadata": {
    "kernelspec": {
      "display_name": "Python 3",
      "language": "python",
      "name": "python3"
    },
    "language_info": {
      "codemirror_mode": {
        "name": "ipython",
        "version": 3
      },
      "file_extension": ".py",
      "mimetype": "text/x-python",
      "name": "python",
      "nbconvert_exporter": "python",
      "pygments_lexer": "ipython3",
      "version": "3.6.9"
    },
    "colab": {
      "name": "lightFM_jameshope_movies_blog.ipynb",
      "provenance": [],
      "collapsed_sections": [],
      "include_colab_link": true
    },
    "accelerator": "TPU"
  },
  "cells": [
    {
      "cell_type": "markdown",
      "metadata": {
        "id": "view-in-github",
        "colab_type": "text"
      },
      "source": [
        "<a href=\"https://colab.research.google.com/github/kiakass/recommendation/blob/main/lightFM_jameshope_movies_blog.ipynb\" target=\"_parent\"><img src=\"https://colab.research.google.com/assets/colab-badge.svg\" alt=\"Open In Colab\"/></a>"
      ]
    },
    {
      "cell_type": "code",
      "metadata": {
        "id": "4aePgFaMqo18"
      },
      "source": [
        "from lightfm import LightFM\n",
        "from scipy.sparse import coo_matrix as sp\n",
        "import time\n",
        "import matplotlib\n",
        "import numpy as np\n",
        "import matplotlib.pyplot as plt\n",
        "import os\n",
        "import zipfile\n",
        "import csv\n",
        "import requests\n",
        "import json\n",
        "from itertools import islice\n",
        "from lightfm.data import Dataset\n",
        "from lightfm import LightFM\n",
        "from lightfm.evaluation import precision_at_k\n",
        "from lightfm.evaluation import auc_score\n",
        "from lightfm.cross_validation import random_train_test_split \n",
        "\n",
        "import numpy as np\n",
        "import pandas as pd\n",
        "import warnings # warings 제거\n",
        "warnings.filterwarnings(action='ignore')"
      ],
      "execution_count": 6,
      "outputs": []
    },
    {
      "cell_type": "code",
      "metadata": {
        "id": "lOF_-yXuqo1-"
      },
      "source": [
        "movies_fn = ('https://raw.githubusercontent.com/kiakass/share/master/movies.csv')   # 9,125 건, \n",
        "ratings_fn = ('https://raw.githubusercontent.com/kiakass/share/master/ratings.csv') # 100,004 건\n",
        "#ratings_fn = ('C:/03.DATA/recommend_cf.csv')"
      ],
      "execution_count": 7,
      "outputs": []
    },
    {
      "cell_type": "code",
      "metadata": {
        "id": "bsMzxa9vqo1_",
        "colab": {
          "base_uri": "https://localhost:8080/",
          "height": 419
        },
        "outputId": "c86e9f8e-c742-4330-ad29-c57d3e1fba76"
      },
      "source": [
        "ratings=pd.read_csv(ratings_fn).fillna(0)\n",
        "ratings.drop(['timestamp'],axis=1,inplace=True)\n",
        "ratings"
      ],
      "execution_count": 8,
      "outputs": [
        {
          "output_type": "execute_result",
          "data": {
            "text/html": [
              "<div>\n",
              "<style scoped>\n",
              "    .dataframe tbody tr th:only-of-type {\n",
              "        vertical-align: middle;\n",
              "    }\n",
              "\n",
              "    .dataframe tbody tr th {\n",
              "        vertical-align: top;\n",
              "    }\n",
              "\n",
              "    .dataframe thead th {\n",
              "        text-align: right;\n",
              "    }\n",
              "</style>\n",
              "<table border=\"1\" class=\"dataframe\">\n",
              "  <thead>\n",
              "    <tr style=\"text-align: right;\">\n",
              "      <th></th>\n",
              "      <th>userId</th>\n",
              "      <th>movieId</th>\n",
              "      <th>rating</th>\n",
              "    </tr>\n",
              "  </thead>\n",
              "  <tbody>\n",
              "    <tr>\n",
              "      <th>0</th>\n",
              "      <td>1</td>\n",
              "      <td>31</td>\n",
              "      <td>2.5</td>\n",
              "    </tr>\n",
              "    <tr>\n",
              "      <th>1</th>\n",
              "      <td>1</td>\n",
              "      <td>1029</td>\n",
              "      <td>3.0</td>\n",
              "    </tr>\n",
              "    <tr>\n",
              "      <th>2</th>\n",
              "      <td>1</td>\n",
              "      <td>1061</td>\n",
              "      <td>3.0</td>\n",
              "    </tr>\n",
              "    <tr>\n",
              "      <th>3</th>\n",
              "      <td>1</td>\n",
              "      <td>1129</td>\n",
              "      <td>2.0</td>\n",
              "    </tr>\n",
              "    <tr>\n",
              "      <th>4</th>\n",
              "      <td>1</td>\n",
              "      <td>1172</td>\n",
              "      <td>4.0</td>\n",
              "    </tr>\n",
              "    <tr>\n",
              "      <th>...</th>\n",
              "      <td>...</td>\n",
              "      <td>...</td>\n",
              "      <td>...</td>\n",
              "    </tr>\n",
              "    <tr>\n",
              "      <th>99999</th>\n",
              "      <td>671</td>\n",
              "      <td>6268</td>\n",
              "      <td>2.5</td>\n",
              "    </tr>\n",
              "    <tr>\n",
              "      <th>100000</th>\n",
              "      <td>671</td>\n",
              "      <td>6269</td>\n",
              "      <td>4.0</td>\n",
              "    </tr>\n",
              "    <tr>\n",
              "      <th>100001</th>\n",
              "      <td>671</td>\n",
              "      <td>6365</td>\n",
              "      <td>4.0</td>\n",
              "    </tr>\n",
              "    <tr>\n",
              "      <th>100002</th>\n",
              "      <td>671</td>\n",
              "      <td>6385</td>\n",
              "      <td>2.5</td>\n",
              "    </tr>\n",
              "    <tr>\n",
              "      <th>100003</th>\n",
              "      <td>671</td>\n",
              "      <td>6565</td>\n",
              "      <td>3.5</td>\n",
              "    </tr>\n",
              "  </tbody>\n",
              "</table>\n",
              "<p>100004 rows × 3 columns</p>\n",
              "</div>"
            ],
            "text/plain": [
              "        userId  movieId  rating\n",
              "0            1       31     2.5\n",
              "1            1     1029     3.0\n",
              "2            1     1061     3.0\n",
              "3            1     1129     2.0\n",
              "4            1     1172     4.0\n",
              "...        ...      ...     ...\n",
              "99999      671     6268     2.5\n",
              "100000     671     6269     4.0\n",
              "100001     671     6365     4.0\n",
              "100002     671     6385     2.5\n",
              "100003     671     6565     3.5\n",
              "\n",
              "[100004 rows x 3 columns]"
            ]
          },
          "metadata": {
            "tags": []
          },
          "execution_count": 8
        }
      ]
    },
    {
      "cell_type": "code",
      "metadata": {
        "scrolled": false,
        "id": "83OCv5Elqo2B",
        "colab": {
          "base_uri": "https://localhost:8080/",
          "height": 419
        },
        "outputId": "d626c7c2-58c3-4459-f3c3-84343fdddd89"
      },
      "source": [
        "movies=pd.read_csv(movies_fn).fillna(0)\n",
        "movies['year'] = movies['title'].str[-5:-1]\n",
        "movies"
      ],
      "execution_count": 9,
      "outputs": [
        {
          "output_type": "execute_result",
          "data": {
            "text/html": [
              "<div>\n",
              "<style scoped>\n",
              "    .dataframe tbody tr th:only-of-type {\n",
              "        vertical-align: middle;\n",
              "    }\n",
              "\n",
              "    .dataframe tbody tr th {\n",
              "        vertical-align: top;\n",
              "    }\n",
              "\n",
              "    .dataframe thead th {\n",
              "        text-align: right;\n",
              "    }\n",
              "</style>\n",
              "<table border=\"1\" class=\"dataframe\">\n",
              "  <thead>\n",
              "    <tr style=\"text-align: right;\">\n",
              "      <th></th>\n",
              "      <th>movieId</th>\n",
              "      <th>title</th>\n",
              "      <th>genres</th>\n",
              "      <th>year</th>\n",
              "    </tr>\n",
              "  </thead>\n",
              "  <tbody>\n",
              "    <tr>\n",
              "      <th>0</th>\n",
              "      <td>1</td>\n",
              "      <td>Toy Story (1995)</td>\n",
              "      <td>Adventure|Animation|Children|Comedy|Fantasy</td>\n",
              "      <td>1995</td>\n",
              "    </tr>\n",
              "    <tr>\n",
              "      <th>1</th>\n",
              "      <td>2</td>\n",
              "      <td>Jumanji (1995)</td>\n",
              "      <td>Adventure|Children|Fantasy</td>\n",
              "      <td>1995</td>\n",
              "    </tr>\n",
              "    <tr>\n",
              "      <th>2</th>\n",
              "      <td>3</td>\n",
              "      <td>Grumpier Old Men (1995)</td>\n",
              "      <td>Comedy|Romance</td>\n",
              "      <td>1995</td>\n",
              "    </tr>\n",
              "    <tr>\n",
              "      <th>3</th>\n",
              "      <td>4</td>\n",
              "      <td>Waiting to Exhale (1995)</td>\n",
              "      <td>Comedy|Drama|Romance</td>\n",
              "      <td>1995</td>\n",
              "    </tr>\n",
              "    <tr>\n",
              "      <th>4</th>\n",
              "      <td>5</td>\n",
              "      <td>Father of the Bride Part II (1995)</td>\n",
              "      <td>Comedy</td>\n",
              "      <td>1995</td>\n",
              "    </tr>\n",
              "    <tr>\n",
              "      <th>...</th>\n",
              "      <td>...</td>\n",
              "      <td>...</td>\n",
              "      <td>...</td>\n",
              "      <td>...</td>\n",
              "    </tr>\n",
              "    <tr>\n",
              "      <th>9120</th>\n",
              "      <td>162672</td>\n",
              "      <td>Mohenjo Daro (2016)</td>\n",
              "      <td>Adventure|Drama|Romance</td>\n",
              "      <td>2016</td>\n",
              "    </tr>\n",
              "    <tr>\n",
              "      <th>9121</th>\n",
              "      <td>163056</td>\n",
              "      <td>Shin Godzilla (2016)</td>\n",
              "      <td>Action|Adventure|Fantasy|Sci-Fi</td>\n",
              "      <td>2016</td>\n",
              "    </tr>\n",
              "    <tr>\n",
              "      <th>9122</th>\n",
              "      <td>163949</td>\n",
              "      <td>The Beatles: Eight Days a Week - The Touring Y...</td>\n",
              "      <td>Documentary</td>\n",
              "      <td>2016</td>\n",
              "    </tr>\n",
              "    <tr>\n",
              "      <th>9123</th>\n",
              "      <td>164977</td>\n",
              "      <td>The Gay Desperado (1936)</td>\n",
              "      <td>Comedy</td>\n",
              "      <td>1936</td>\n",
              "    </tr>\n",
              "    <tr>\n",
              "      <th>9124</th>\n",
              "      <td>164979</td>\n",
              "      <td>Women of '69, Unboxed</td>\n",
              "      <td>Documentary</td>\n",
              "      <td>boxe</td>\n",
              "    </tr>\n",
              "  </tbody>\n",
              "</table>\n",
              "<p>9125 rows × 4 columns</p>\n",
              "</div>"
            ],
            "text/plain": [
              "      movieId  ...  year\n",
              "0           1  ...  1995\n",
              "1           2  ...  1995\n",
              "2           3  ...  1995\n",
              "3           4  ...  1995\n",
              "4           5  ...  1995\n",
              "...       ...  ...   ...\n",
              "9120   162672  ...  2016\n",
              "9121   163056  ...  2016\n",
              "9122   163949  ...  2016\n",
              "9123   164977  ...  1936\n",
              "9124   164979  ...  boxe\n",
              "\n",
              "[9125 rows x 4 columns]"
            ]
          },
          "metadata": {
            "tags": []
          },
          "execution_count": 9
        }
      ]
    },
    {
      "cell_type": "code",
      "metadata": {
        "colab": {
          "base_uri": "https://localhost:8080/"
        },
        "id": "0vFqOcySK34o",
        "outputId": "cac2c813-8faf-44a9-dd2a-e57e8d802631"
      },
      "source": [
        "pd.read_csv(movies_fn).isnull().sum()"
      ],
      "execution_count": 10,
      "outputs": [
        {
          "output_type": "execute_result",
          "data": {
            "text/plain": [
              "movieId    0\n",
              "title      0\n",
              "genres     0\n",
              "dtype: int64"
            ]
          },
          "metadata": {
            "tags": []
          },
          "execution_count": 10
        }
      ]
    },
    {
      "cell_type": "markdown",
      "metadata": {
        "id": "RKaqz6cgqo2C"
      },
      "source": [
        "userId 에 매핑되는 movieId 로만 테이블을 만든다."
      ]
    },
    {
      "cell_type": "code",
      "metadata": {
        "scrolled": false,
        "id": "qQ5eY5-1qo2D",
        "colab": {
          "base_uri": "https://localhost:8080/",
          "height": 419
        },
        "outputId": "bb053926-04e1-452d-dcad-2f7fd70cea08"
      },
      "source": [
        "tmp_movie=ratings.groupby('movieId')['rating'].mean()\n",
        "movies=pd.merge(tmp_movie,movies, on='movieId')\n",
        "movies"
      ],
      "execution_count": 11,
      "outputs": [
        {
          "output_type": "execute_result",
          "data": {
            "text/html": [
              "<div>\n",
              "<style scoped>\n",
              "    .dataframe tbody tr th:only-of-type {\n",
              "        vertical-align: middle;\n",
              "    }\n",
              "\n",
              "    .dataframe tbody tr th {\n",
              "        vertical-align: top;\n",
              "    }\n",
              "\n",
              "    .dataframe thead th {\n",
              "        text-align: right;\n",
              "    }\n",
              "</style>\n",
              "<table border=\"1\" class=\"dataframe\">\n",
              "  <thead>\n",
              "    <tr style=\"text-align: right;\">\n",
              "      <th></th>\n",
              "      <th>movieId</th>\n",
              "      <th>rating</th>\n",
              "      <th>title</th>\n",
              "      <th>genres</th>\n",
              "      <th>year</th>\n",
              "    </tr>\n",
              "  </thead>\n",
              "  <tbody>\n",
              "    <tr>\n",
              "      <th>0</th>\n",
              "      <td>1</td>\n",
              "      <td>3.872470</td>\n",
              "      <td>Toy Story (1995)</td>\n",
              "      <td>Adventure|Animation|Children|Comedy|Fantasy</td>\n",
              "      <td>1995</td>\n",
              "    </tr>\n",
              "    <tr>\n",
              "      <th>1</th>\n",
              "      <td>2</td>\n",
              "      <td>3.401869</td>\n",
              "      <td>Jumanji (1995)</td>\n",
              "      <td>Adventure|Children|Fantasy</td>\n",
              "      <td>1995</td>\n",
              "    </tr>\n",
              "    <tr>\n",
              "      <th>2</th>\n",
              "      <td>3</td>\n",
              "      <td>3.161017</td>\n",
              "      <td>Grumpier Old Men (1995)</td>\n",
              "      <td>Comedy|Romance</td>\n",
              "      <td>1995</td>\n",
              "    </tr>\n",
              "    <tr>\n",
              "      <th>3</th>\n",
              "      <td>4</td>\n",
              "      <td>2.384615</td>\n",
              "      <td>Waiting to Exhale (1995)</td>\n",
              "      <td>Comedy|Drama|Romance</td>\n",
              "      <td>1995</td>\n",
              "    </tr>\n",
              "    <tr>\n",
              "      <th>4</th>\n",
              "      <td>5</td>\n",
              "      <td>3.267857</td>\n",
              "      <td>Father of the Bride Part II (1995)</td>\n",
              "      <td>Comedy</td>\n",
              "      <td>1995</td>\n",
              "    </tr>\n",
              "    <tr>\n",
              "      <th>...</th>\n",
              "      <td>...</td>\n",
              "      <td>...</td>\n",
              "      <td>...</td>\n",
              "      <td>...</td>\n",
              "      <td>...</td>\n",
              "    </tr>\n",
              "    <tr>\n",
              "      <th>9061</th>\n",
              "      <td>161944</td>\n",
              "      <td>5.000000</td>\n",
              "      <td>The Last Brickmaker in America (2001)</td>\n",
              "      <td>Drama</td>\n",
              "      <td>2001</td>\n",
              "    </tr>\n",
              "    <tr>\n",
              "      <th>9062</th>\n",
              "      <td>162376</td>\n",
              "      <td>4.500000</td>\n",
              "      <td>Stranger Things</td>\n",
              "      <td>Drama</td>\n",
              "      <td>hing</td>\n",
              "    </tr>\n",
              "    <tr>\n",
              "      <th>9063</th>\n",
              "      <td>162542</td>\n",
              "      <td>5.000000</td>\n",
              "      <td>Rustom (2016)</td>\n",
              "      <td>Romance|Thriller</td>\n",
              "      <td>2016</td>\n",
              "    </tr>\n",
              "    <tr>\n",
              "      <th>9064</th>\n",
              "      <td>162672</td>\n",
              "      <td>3.000000</td>\n",
              "      <td>Mohenjo Daro (2016)</td>\n",
              "      <td>Adventure|Drama|Romance</td>\n",
              "      <td>2016</td>\n",
              "    </tr>\n",
              "    <tr>\n",
              "      <th>9065</th>\n",
              "      <td>163949</td>\n",
              "      <td>5.000000</td>\n",
              "      <td>The Beatles: Eight Days a Week - The Touring Y...</td>\n",
              "      <td>Documentary</td>\n",
              "      <td>2016</td>\n",
              "    </tr>\n",
              "  </tbody>\n",
              "</table>\n",
              "<p>9066 rows × 5 columns</p>\n",
              "</div>"
            ],
            "text/plain": [
              "      movieId    rating  ...                                       genres  year\n",
              "0           1  3.872470  ...  Adventure|Animation|Children|Comedy|Fantasy  1995\n",
              "1           2  3.401869  ...                   Adventure|Children|Fantasy  1995\n",
              "2           3  3.161017  ...                               Comedy|Romance  1995\n",
              "3           4  2.384615  ...                         Comedy|Drama|Romance  1995\n",
              "4           5  3.267857  ...                                       Comedy  1995\n",
              "...       ...       ...  ...                                          ...   ...\n",
              "9061   161944  5.000000  ...                                        Drama  2001\n",
              "9062   162376  4.500000  ...                                        Drama  hing\n",
              "9063   162542  5.000000  ...                             Romance|Thriller  2016\n",
              "9064   162672  3.000000  ...                      Adventure|Drama|Romance  2016\n",
              "9065   163949  5.000000  ...                                  Documentary  2016\n",
              "\n",
              "[9066 rows x 5 columns]"
            ]
          },
          "metadata": {
            "tags": []
          },
          "execution_count": 11
        }
      ]
    },
    {
      "cell_type": "code",
      "metadata": {
        "scrolled": true,
        "id": "rHtXHwT1qo2G"
      },
      "source": [
        "from lightfm.data import Dataset\n",
        "from scipy.io import mmwrite"
      ],
      "execution_count": 12,
      "outputs": []
    },
    {
      "cell_type": "markdown",
      "metadata": {
        "id": "fUmfmnRCqo2H"
      },
      "source": [
        "### data 를 array 형태로 만든다"
      ]
    },
    {
      "cell_type": "code",
      "metadata": {
        "id": "XHhA2m1tqo2I"
      },
      "source": [
        "ratings_source = [(ratings['userId'][i], ratings['movieId'][i]) for i in range(ratings.shape[0])]\n",
        "\n",
        "item_meta = movies[['movieId', 'title', 'genres', 'rating', 'year']]\n",
        "\n",
        "item_features_source = [(item_meta['movieId'][i],\n",
        "                        [item_meta['genres'][i],\n",
        "                         item_meta['year'][i],\n",
        "                         item_meta['rating'][i]]) for i in range(item_meta.shape[0])]"
      ],
      "execution_count": 13,
      "outputs": []
    },
    {
      "cell_type": "code",
      "metadata": {
        "id": "zQA1NXWBqo2J",
        "colab": {
          "base_uri": "https://localhost:8080/"
        },
        "outputId": "256321d8-ea9e-4024-eadc-434ea11b60f4"
      },
      "source": [
        "#결측치가 있는지 확인\n",
        "df=pd.DataFrame(item_features_source);print(pd.DataFrame(item_features_source).head(1))\n",
        "df.isnull().sum()"
      ],
      "execution_count": 14,
      "outputs": [
        {
          "output_type": "stream",
          "text": [
            "   0                                                  1\n",
            "0  1  [Adventure|Animation|Children|Comedy|Fantasy, ...\n"
          ],
          "name": "stdout"
        },
        {
          "output_type": "execute_result",
          "data": {
            "text/plain": [
              "0    0\n",
              "1    0\n",
              "dtype: int64"
            ]
          },
          "metadata": {
            "tags": []
          },
          "execution_count": 14
        }
      ]
    },
    {
      "cell_type": "code",
      "metadata": {
        "id": "w9TvvrYeqo2K"
      },
      "source": [
        "dataset = Dataset()\n",
        "dataset.fit(users=ratings['userId'],\n",
        "            items=ratings['movieId'])\n",
        "\n",
        "\n",
        "dataset.fit(users=ratings['userId'],\n",
        "            items=ratings['movieId'],\n",
        "            item_features=item_meta[item_meta.columns[1:]].values.flatten()\n",
        "            )\n"
      ],
      "execution_count": 15,
      "outputs": []
    },
    {
      "cell_type": "markdown",
      "metadata": {
        "id": "ZU604mTKqo2M"
      },
      "source": [
        "#### movies 에 결측치를 제거해야한다. 즉, item_feature_source의 movieId가 userId에 100% join 되어야함"
      ]
    },
    {
      "cell_type": "code",
      "metadata": {
        "id": "rWp2-O2fqo2M"
      },
      "source": [
        "interactions, weights = dataset.build_interactions(ratings_source)\n",
        "item_features=dataset.build_item_features(item_features_source)"
      ],
      "execution_count": 16,
      "outputs": []
    },
    {
      "cell_type": "code",
      "metadata": {
        "id": "S41eH_-hqo2M"
      },
      "source": [
        "# Save\n",
        "mmwrite('interactions.mtx', interactions)\n",
        "mmwrite('item_features.mtx', item_features)\n",
        "mmwrite('weights.mtx', weights)"
      ],
      "execution_count": 17,
      "outputs": []
    },
    {
      "cell_type": "code",
      "metadata": {
        "id": "Q16KwH-yqo2N",
        "colab": {
          "base_uri": "https://localhost:8080/"
        },
        "outputId": "600cecde-4aa5-46ca-e207-810a312f2f74"
      },
      "source": [
        "from lightfm.cross_validation import random_train_test_split\n",
        "# Split Train, Test data\n",
        "model = LightFM(loss='warp')\n",
        "\n",
        "(train, test) = random_train_test_split(interactions=interactions, test_percentage=0.2)\n",
        "\n",
        "model.fit(train, item_features=item_features, epochs=2)\n"
      ],
      "execution_count": 18,
      "outputs": [
        {
          "output_type": "execute_result",
          "data": {
            "text/plain": [
              "<lightfm.lightfm.LightFM at 0x7fcd70115ad0>"
            ]
          },
          "metadata": {
            "tags": []
          },
          "execution_count": 18
        }
      ]
    },
    {
      "cell_type": "code",
      "metadata": {
        "colab": {
          "base_uri": "https://localhost:8080/"
        },
        "id": "-PijXa0D3YCt",
        "outputId": "50042fb1-061a-43fa-938a-ca17fee2ce7d"
      },
      "source": [
        "train_precision = precision_at_k(model, train, k=5, item_features=item_features).mean()\n",
        "test_precision = precision_at_k(model, test, k=5, item_features=item_features).mean()\n",
        "train_auc = auc_score(model, train, item_features=item_features).mean()\n",
        "test_auc = auc_score(model, test, item_features=item_features).mean()\n",
        "# test_auc = auc_score(model, test, item_features=item_features).mean()\n",
        "output = -test_precision #precision은 높을수록 좋음 : 높은 숫자를 찾기위해 음수화\n",
        "\n",
        "print( 'Precision: train %.4f, test %.4f, AUC: train %.4f, test %.4f.' \n",
        "      % ( train_precision,test_precision,train_auc, test_auc))"
      ],
      "execution_count": 19,
      "outputs": [
        {
          "output_type": "stream",
          "text": [
            "Precision: train 0.4119, test 0.0903, AUC: train 0.9244, test 0.9167.\n"
          ],
          "name": "stdout"
        }
      ]
    },
    {
      "cell_type": "code",
      "metadata": {
        "colab": {
          "base_uri": "https://localhost:8080/"
        },
        "id": "c44OPZ2TtbmV",
        "outputId": "a69d9a23-e897-4d61-f2e3-017422bb7770"
      },
      "source": [
        "model.get_params(deep=True)"
      ],
      "execution_count": 20,
      "outputs": [
        {
          "output_type": "execute_result",
          "data": {
            "text/plain": [
              "{'epsilon': 1e-06,\n",
              " 'item_alpha': 0.0,\n",
              " 'k': 5,\n",
              " 'learning_rate': 0.05,\n",
              " 'learning_schedule': 'adagrad',\n",
              " 'loss': 'warp',\n",
              " 'max_sampled': 10,\n",
              " 'n': 10,\n",
              " 'no_components': 10,\n",
              " 'random_state': RandomState(MT19937) at 0x7FCD71929C00,\n",
              " 'rho': 0.95,\n",
              " 'user_alpha': 0.0}"
            ]
          },
          "metadata": {
            "tags": []
          },
          "execution_count": 20
        }
      ]
    },
    {
      "cell_type": "code",
      "metadata": {
        "id": "oo2XAIfVC9Qd"
      },
      "source": [
        "labels = np.array(movies['movieId'])\n",
        "\n",
        "def sample_recommendation(model, data, user_ids):\n",
        "\n",
        "    n_users, n_items = data.shape\n",
        "\n",
        "    #build a structure to store user scores for each item\n",
        "    all_scores = np.empty(shape=(0,n_items))\n",
        "\n",
        "    #iterate through the group and build the scores\n",
        "    for user_id in user_ids:\n",
        "        #known_positives = labels[data.tocsr()[user_id].indices]\n",
        "        #user의 전체 0~9066 movie의 예측 평점\n",
        "        scores = model.predict(user_id,np.arange(n_items),item_features) \n",
        "        \n",
        "        # movieId로 치환\n",
        "        top_items_for_user = labels[np.argsort(-scores)] #argsort():오름차순인덱스반환\n",
        "        print(\"Top Recommended ISBN For User: \", user_id)\n",
        "        for x in top_items_for_user[:10]:\n",
        "            #print(\"     %s\" % movies[movies['movieId']== x])\n",
        "            print(\"     %s\" % x)\n",
        "\n",
        "        #vertically stack the user scores (items are columns)\n",
        "        all_scores = np.vstack((all_scores, scores))\n",
        "        print(all_scores)\n",
        "\n",
        "    #compute the average rating for each item in the group\n",
        "    item_averages = np.mean(all_scores.astype(np.float), axis=0)\n",
        "    top_items_for_group = labels[np.argsort(-item_averages)]\n",
        "    top_items_scores=item_averages[np.argsort(-item_averages)]\n",
        "\n",
        "    print(\"Top Recommended ISBN for Group:\")\n",
        "\n",
        "    for x in top_items_for_group[:10]:\n",
        "        print(\"     %s\" % x)\n",
        "    return  top_items_for_group, top_items_scores"
      ],
      "execution_count": 21,
      "outputs": []
    },
    {
      "cell_type": "code",
      "metadata": {
        "colab": {
          "base_uri": "https://localhost:8080/",
          "height": 1000
        },
        "id": "VRTPjdcVFHvp",
        "outputId": "16667be4-3103-47c5-9839-a3dc5c0e3f0b"
      },
      "source": [
        "#################################\n",
        "#                               #\n",
        "#  Sampling Recommended Events  #\n",
        "#                               #\n",
        "#################################\n",
        "\n",
        "#fetch user_ids of users in group\n",
        "group = [1]\n",
        "list_no = 20\n",
        "\n",
        "#sample recommendations for the group\n",
        "list,avg_scores = sample_recommendation(model, interactions, group)\n",
        "pd.DataFrame(list).to_csv('movie.csv')\n",
        "recommend_movie=pd.DataFrame(columns=movies.columns)\n",
        "for x in list[:list_no]:\n",
        "  recommend_movie=recommend_movie.append(movies[movies['movieId']== x], ignore_index=True)\n",
        "\n",
        "recommend_movie['predict_score']= avg_scores[:list_no]\n",
        "recommend_movie"
      ],
      "execution_count": 22,
      "outputs": [
        {
          "output_type": "stream",
          "text": [
            "Top Recommended ISBN For User:  1\n",
            "     52\n",
            "     61\n",
            "     30\n",
            "     167\n",
            "     108\n",
            "     25\n",
            "     891\n",
            "     85\n",
            "     564\n",
            "     69\n",
            "[[-0.34838796 -0.31260663 -0.40037844 ... -1.56545937 -2.84028959\n",
            "  -2.37688017]]\n",
            "Top Recommended ISBN for Group:\n",
            "     52\n",
            "     61\n",
            "     30\n",
            "     167\n",
            "     108\n",
            "     25\n",
            "     891\n",
            "     85\n",
            "     564\n",
            "     69\n"
          ],
          "name": "stdout"
        },
        {
          "output_type": "execute_result",
          "data": {
            "text/html": [
              "<div>\n",
              "<style scoped>\n",
              "    .dataframe tbody tr th:only-of-type {\n",
              "        vertical-align: middle;\n",
              "    }\n",
              "\n",
              "    .dataframe tbody tr th {\n",
              "        vertical-align: top;\n",
              "    }\n",
              "\n",
              "    .dataframe thead th {\n",
              "        text-align: right;\n",
              "    }\n",
              "</style>\n",
              "<table border=\"1\" class=\"dataframe\">\n",
              "  <thead>\n",
              "    <tr style=\"text-align: right;\">\n",
              "      <th></th>\n",
              "      <th>movieId</th>\n",
              "      <th>rating</th>\n",
              "      <th>title</th>\n",
              "      <th>genres</th>\n",
              "      <th>year</th>\n",
              "      <th>predict_score</th>\n",
              "    </tr>\n",
              "  </thead>\n",
              "  <tbody>\n",
              "    <tr>\n",
              "      <th>0</th>\n",
              "      <td>52</td>\n",
              "      <td>3.637255</td>\n",
              "      <td>Mighty Aphrodite (1995)</td>\n",
              "      <td>Comedy|Drama|Romance</td>\n",
              "      <td>1995</td>\n",
              "      <td>1.369459</td>\n",
              "    </tr>\n",
              "    <tr>\n",
              "      <th>1</th>\n",
              "      <td>61</td>\n",
              "      <td>3.571429</td>\n",
              "      <td>Eye for an Eye (1996)</td>\n",
              "      <td>Drama|Thriller</td>\n",
              "      <td>1996</td>\n",
              "      <td>1.228284</td>\n",
              "    </tr>\n",
              "    <tr>\n",
              "      <th>2</th>\n",
              "      <td>30</td>\n",
              "      <td>4.050000</td>\n",
              "      <td>Shanghai Triad (Yao a yao yao dao waipo qiao) ...</td>\n",
              "      <td>Crime|Drama</td>\n",
              "      <td>1995</td>\n",
              "      <td>1.211207</td>\n",
              "    </tr>\n",
              "    <tr>\n",
              "      <th>3</th>\n",
              "      <td>167</td>\n",
              "      <td>4.000000</td>\n",
              "      <td>Feast of July (1995)</td>\n",
              "      <td>Drama</td>\n",
              "      <td>1995</td>\n",
              "      <td>1.159847</td>\n",
              "    </tr>\n",
              "    <tr>\n",
              "      <th>4</th>\n",
              "      <td>108</td>\n",
              "      <td>4.000000</td>\n",
              "      <td>Catwalk (1996)</td>\n",
              "      <td>Documentary</td>\n",
              "      <td>1996</td>\n",
              "      <td>1.138885</td>\n",
              "    </tr>\n",
              "    <tr>\n",
              "      <th>5</th>\n",
              "      <td>25</td>\n",
              "      <td>3.742574</td>\n",
              "      <td>Leaving Las Vegas (1995)</td>\n",
              "      <td>Drama|Romance</td>\n",
              "      <td>1995</td>\n",
              "      <td>1.108372</td>\n",
              "    </tr>\n",
              "    <tr>\n",
              "      <th>6</th>\n",
              "      <td>891</td>\n",
              "      <td>2.222222</td>\n",
              "      <td>Halloween: The Curse of Michael Myers (Hallowe...</td>\n",
              "      <td>Horror|Thriller</td>\n",
              "      <td>1995</td>\n",
              "      <td>1.107432</td>\n",
              "    </tr>\n",
              "    <tr>\n",
              "      <th>7</th>\n",
              "      <td>85</td>\n",
              "      <td>4.062500</td>\n",
              "      <td>Angels and Insects (1995)</td>\n",
              "      <td>Drama|Romance</td>\n",
              "      <td>1995</td>\n",
              "      <td>1.081335</td>\n",
              "    </tr>\n",
              "    <tr>\n",
              "      <th>8</th>\n",
              "      <td>564</td>\n",
              "      <td>3.000000</td>\n",
              "      <td>Chasers (1994)</td>\n",
              "      <td>Comedy</td>\n",
              "      <td>1994</td>\n",
              "      <td>1.081007</td>\n",
              "    </tr>\n",
              "    <tr>\n",
              "      <th>9</th>\n",
              "      <td>69</td>\n",
              "      <td>3.818182</td>\n",
              "      <td>Friday (1995)</td>\n",
              "      <td>Comedy</td>\n",
              "      <td>1995</td>\n",
              "      <td>1.079539</td>\n",
              "    </tr>\n",
              "    <tr>\n",
              "      <th>10</th>\n",
              "      <td>24</td>\n",
              "      <td>3.044118</td>\n",
              "      <td>Powder (1995)</td>\n",
              "      <td>Drama|Sci-Fi</td>\n",
              "      <td>1995</td>\n",
              "      <td>1.057912</td>\n",
              "    </tr>\n",
              "    <tr>\n",
              "      <th>11</th>\n",
              "      <td>74</td>\n",
              "      <td>3.026316</td>\n",
              "      <td>Bed of Roses (1996)</td>\n",
              "      <td>Drama|Romance</td>\n",
              "      <td>1996</td>\n",
              "      <td>1.040049</td>\n",
              "    </tr>\n",
              "    <tr>\n",
              "      <th>12</th>\n",
              "      <td>28</td>\n",
              "      <td>4.083333</td>\n",
              "      <td>Persuasion (1995)</td>\n",
              "      <td>Drama|Romance</td>\n",
              "      <td>1995</td>\n",
              "      <td>1.022437</td>\n",
              "    </tr>\n",
              "    <tr>\n",
              "      <th>13</th>\n",
              "      <td>160</td>\n",
              "      <td>2.341270</td>\n",
              "      <td>Congo (1995)</td>\n",
              "      <td>Action|Adventure|Mystery|Sci-Fi</td>\n",
              "      <td>1995</td>\n",
              "      <td>1.009593</td>\n",
              "    </tr>\n",
              "    <tr>\n",
              "      <th>14</th>\n",
              "      <td>78</td>\n",
              "      <td>3.200000</td>\n",
              "      <td>Crossing Guard, The (1995)</td>\n",
              "      <td>Action|Crime|Drama|Thriller</td>\n",
              "      <td>1995</td>\n",
              "      <td>1.007451</td>\n",
              "    </tr>\n",
              "    <tr>\n",
              "      <th>15</th>\n",
              "      <td>100</td>\n",
              "      <td>3.428571</td>\n",
              "      <td>City Hall (1996)</td>\n",
              "      <td>Drama|Thriller</td>\n",
              "      <td>1996</td>\n",
              "      <td>0.986202</td>\n",
              "    </tr>\n",
              "    <tr>\n",
              "      <th>16</th>\n",
              "      <td>475</td>\n",
              "      <td>4.209677</td>\n",
              "      <td>In the Name of the Father (1993)</td>\n",
              "      <td>Drama</td>\n",
              "      <td>1993</td>\n",
              "      <td>0.943603</td>\n",
              "    </tr>\n",
              "    <tr>\n",
              "      <th>17</th>\n",
              "      <td>356</td>\n",
              "      <td>4.054252</td>\n",
              "      <td>Forrest Gump (1994)</td>\n",
              "      <td>Comedy|Drama|Romance|War</td>\n",
              "      <td>1994</td>\n",
              "      <td>0.912648</td>\n",
              "    </tr>\n",
              "    <tr>\n",
              "      <th>18</th>\n",
              "      <td>63</td>\n",
              "      <td>2.833333</td>\n",
              "      <td>Don't Be a Menace to South Central While Drink...</td>\n",
              "      <td>Comedy|Crime</td>\n",
              "      <td>1996</td>\n",
              "      <td>0.907455</td>\n",
              "    </tr>\n",
              "    <tr>\n",
              "      <th>19</th>\n",
              "      <td>98</td>\n",
              "      <td>3.000000</td>\n",
              "      <td>Shopping (1994)</td>\n",
              "      <td>Action|Thriller</td>\n",
              "      <td>1994</td>\n",
              "      <td>0.881915</td>\n",
              "    </tr>\n",
              "  </tbody>\n",
              "</table>\n",
              "</div>"
            ],
            "text/plain": [
              "   movieId    rating  ...  year predict_score\n",
              "0       52  3.637255  ...  1995      1.369459\n",
              "1       61  3.571429  ...  1996      1.228284\n",
              "2       30  4.050000  ...  1995      1.211207\n",
              "3      167  4.000000  ...  1995      1.159847\n",
              "4      108  4.000000  ...  1996      1.138885\n",
              "5       25  3.742574  ...  1995      1.108372\n",
              "6      891  2.222222  ...  1995      1.107432\n",
              "7       85  4.062500  ...  1995      1.081335\n",
              "8      564  3.000000  ...  1994      1.081007\n",
              "9       69  3.818182  ...  1995      1.079539\n",
              "10      24  3.044118  ...  1995      1.057912\n",
              "11      74  3.026316  ...  1996      1.040049\n",
              "12      28  4.083333  ...  1995      1.022437\n",
              "13     160  2.341270  ...  1995      1.009593\n",
              "14      78  3.200000  ...  1995      1.007451\n",
              "15     100  3.428571  ...  1996      0.986202\n",
              "16     475  4.209677  ...  1993      0.943603\n",
              "17     356  4.054252  ...  1994      0.912648\n",
              "18      63  2.833333  ...  1996      0.907455\n",
              "19      98  3.000000  ...  1994      0.881915\n",
              "\n",
              "[20 rows x 6 columns]"
            ]
          },
          "metadata": {
            "tags": []
          },
          "execution_count": 22
        }
      ]
    },
    {
      "cell_type": "markdown",
      "metadata": {
        "id": "bi98HrblsI08"
      },
      "source": [
        "### Item_features"
      ]
    },
    {
      "cell_type": "code",
      "metadata": {
        "colab": {
          "base_uri": "https://localhost:8080/",
          "height": 419
        },
        "id": "cEavE2Phw7cJ",
        "outputId": "3328438f-ee6b-4b34-b915-a62d22f088fe"
      },
      "source": [
        "movies"
      ],
      "execution_count": 37,
      "outputs": [
        {
          "output_type": "execute_result",
          "data": {
            "text/html": [
              "<div>\n",
              "<style scoped>\n",
              "    .dataframe tbody tr th:only-of-type {\n",
              "        vertical-align: middle;\n",
              "    }\n",
              "\n",
              "    .dataframe tbody tr th {\n",
              "        vertical-align: top;\n",
              "    }\n",
              "\n",
              "    .dataframe thead th {\n",
              "        text-align: right;\n",
              "    }\n",
              "</style>\n",
              "<table border=\"1\" class=\"dataframe\">\n",
              "  <thead>\n",
              "    <tr style=\"text-align: right;\">\n",
              "      <th></th>\n",
              "      <th>movieId</th>\n",
              "      <th>rating</th>\n",
              "      <th>title</th>\n",
              "      <th>genres</th>\n",
              "      <th>year</th>\n",
              "    </tr>\n",
              "  </thead>\n",
              "  <tbody>\n",
              "    <tr>\n",
              "      <th>0</th>\n",
              "      <td>1</td>\n",
              "      <td>3.872470</td>\n",
              "      <td>Toy Story (1995)</td>\n",
              "      <td>Adventure|Animation|Children|Comedy|Fantasy</td>\n",
              "      <td>1995</td>\n",
              "    </tr>\n",
              "    <tr>\n",
              "      <th>1</th>\n",
              "      <td>2</td>\n",
              "      <td>3.401869</td>\n",
              "      <td>Jumanji (1995)</td>\n",
              "      <td>Adventure|Children|Fantasy</td>\n",
              "      <td>1995</td>\n",
              "    </tr>\n",
              "    <tr>\n",
              "      <th>2</th>\n",
              "      <td>3</td>\n",
              "      <td>3.161017</td>\n",
              "      <td>Grumpier Old Men (1995)</td>\n",
              "      <td>Comedy|Romance</td>\n",
              "      <td>1995</td>\n",
              "    </tr>\n",
              "    <tr>\n",
              "      <th>3</th>\n",
              "      <td>4</td>\n",
              "      <td>2.384615</td>\n",
              "      <td>Waiting to Exhale (1995)</td>\n",
              "      <td>Comedy|Drama|Romance</td>\n",
              "      <td>1995</td>\n",
              "    </tr>\n",
              "    <tr>\n",
              "      <th>4</th>\n",
              "      <td>5</td>\n",
              "      <td>3.267857</td>\n",
              "      <td>Father of the Bride Part II (1995)</td>\n",
              "      <td>Comedy</td>\n",
              "      <td>1995</td>\n",
              "    </tr>\n",
              "    <tr>\n",
              "      <th>...</th>\n",
              "      <td>...</td>\n",
              "      <td>...</td>\n",
              "      <td>...</td>\n",
              "      <td>...</td>\n",
              "      <td>...</td>\n",
              "    </tr>\n",
              "    <tr>\n",
              "      <th>9061</th>\n",
              "      <td>161944</td>\n",
              "      <td>5.000000</td>\n",
              "      <td>The Last Brickmaker in America (2001)</td>\n",
              "      <td>Drama</td>\n",
              "      <td>2001</td>\n",
              "    </tr>\n",
              "    <tr>\n",
              "      <th>9062</th>\n",
              "      <td>162376</td>\n",
              "      <td>4.500000</td>\n",
              "      <td>Stranger Things</td>\n",
              "      <td>Drama</td>\n",
              "      <td>hing</td>\n",
              "    </tr>\n",
              "    <tr>\n",
              "      <th>9063</th>\n",
              "      <td>162542</td>\n",
              "      <td>5.000000</td>\n",
              "      <td>Rustom (2016)</td>\n",
              "      <td>Romance|Thriller</td>\n",
              "      <td>2016</td>\n",
              "    </tr>\n",
              "    <tr>\n",
              "      <th>9064</th>\n",
              "      <td>162672</td>\n",
              "      <td>3.000000</td>\n",
              "      <td>Mohenjo Daro (2016)</td>\n",
              "      <td>Adventure|Drama|Romance</td>\n",
              "      <td>2016</td>\n",
              "    </tr>\n",
              "    <tr>\n",
              "      <th>9065</th>\n",
              "      <td>163949</td>\n",
              "      <td>5.000000</td>\n",
              "      <td>The Beatles: Eight Days a Week - The Touring Y...</td>\n",
              "      <td>Documentary</td>\n",
              "      <td>2016</td>\n",
              "    </tr>\n",
              "  </tbody>\n",
              "</table>\n",
              "<p>9066 rows × 5 columns</p>\n",
              "</div>"
            ],
            "text/plain": [
              "      movieId    rating  ...                                       genres  year\n",
              "0           1  3.872470  ...  Adventure|Animation|Children|Comedy|Fantasy  1995\n",
              "1           2  3.401869  ...                   Adventure|Children|Fantasy  1995\n",
              "2           3  3.161017  ...                               Comedy|Romance  1995\n",
              "3           4  2.384615  ...                         Comedy|Drama|Romance  1995\n",
              "4           5  3.267857  ...                                       Comedy  1995\n",
              "...       ...       ...  ...                                          ...   ...\n",
              "9061   161944  5.000000  ...                                        Drama  2001\n",
              "9062   162376  4.500000  ...                                        Drama  hing\n",
              "9063   162542  5.000000  ...                             Romance|Thriller  2016\n",
              "9064   162672  3.000000  ...                      Adventure|Drama|Romance  2016\n",
              "9065   163949  5.000000  ...                                  Documentary  2016\n",
              "\n",
              "[9066 rows x 5 columns]"
            ]
          },
          "metadata": {
            "tags": []
          },
          "execution_count": 37
        }
      ]
    },
    {
      "cell_type": "code",
      "metadata": {
        "colab": {
          "base_uri": "https://localhost:8080/"
        },
        "id": "Pgvh4zbpoJ5a",
        "outputId": "d0241e84-659f-436b-c244-430fd845b02e"
      },
      "source": [
        "print(item_features)  # 2열 : itemid/genre/rating embedding ex. 0,9104,9148"
      ],
      "execution_count": 38,
      "outputs": [
        {
          "output_type": "stream",
          "text": [
            "  (0, 0)\t0.25\n",
            "  (0, 9069)\t0.25\n",
            "  (0, 9105)\t0.25\n",
            "  (0, 9149)\t0.25\n",
            "  (1, 1)\t0.25\n",
            "  (1, 10413)\t0.25\n",
            "  (1, 10590)\t0.25\n",
            "  (1, 10591)\t0.25\n",
            "  (2, 2)\t0.25\n",
            "  (2, 9156)\t0.25\n",
            "  (2, 9210)\t0.25\n",
            "  (2, 9331)\t0.25\n",
            "  (3, 3)\t0.25\n",
            "  (3, 9885)\t0.25\n",
            "  (3, 10091)\t0.25\n",
            "  (3, 10714)\t0.25\n",
            "  (4, 4)\t0.25\n",
            "  (4, 9105)\t0.25\n",
            "  (4, 10058)\t0.25\n",
            "  (4, 10749)\t0.25\n",
            "  (5, 5)\t0.25\n",
            "  (5, 9167)\t0.25\n",
            "  (5, 10782)\t0.25\n",
            "  (5, 10925)\t0.25\n",
            "  (6, 6)\t0.25\n",
            "  :\t:\n",
            "  (9059, 19890)\t0.25\n",
            "  (9060, 319)\t0.25\n",
            "  (9060, 9060)\t0.25\n",
            "  (9060, 10060)\t0.25\n",
            "  (9060, 17761)\t0.25\n",
            "  (9061, 9061)\t0.25\n",
            "  (9061, 9552)\t0.25\n",
            "  (9061, 10050)\t0.25\n",
            "  (9061, 16879)\t0.25\n",
            "  (9062, 9062)\t0.25\n",
            "  (9062, 9223)\t0.25\n",
            "  (9062, 16951)\t0.25\n",
            "  (9062, 18106)\t0.25\n",
            "  (9063, 319)\t0.25\n",
            "  (9063, 9063)\t0.25\n",
            "  (9063, 9074)\t0.25\n",
            "  (9063, 9210)\t0.25\n",
            "  (9064, 417)\t0.25\n",
            "  (9064, 9064)\t0.25\n",
            "  (9064, 9077)\t0.25\n",
            "  (9064, 13873)\t0.25\n",
            "  (9065, 417)\t0.25\n",
            "  (9065, 9065)\t0.25\n",
            "  (9065, 9080)\t0.25\n",
            "  (9065, 10255)\t0.25\n"
          ],
          "name": "stdout"
        }
      ]
    },
    {
      "cell_type": "code",
      "metadata": {
        "colab": {
          "base_uri": "https://localhost:8080/"
        },
        "id": "2kX16N0LrXJi",
        "outputId": "a2cd4ead-3c67-4147-c30b-d46b5190f8b3"
      },
      "source": [
        "movies.rating.value_counts() #2085 -> 962개"
      ],
      "execution_count": 39,
      "outputs": [
        {
          "output_type": "execute_result",
          "data": {
            "text/plain": [
              "4.000000    962\n",
              "3.000000    848\n",
              "3.500000    776\n",
              "2.500000    445\n",
              "2.000000    377\n",
              "           ... \n",
              "3.820755      1\n",
              "4.183398      1\n",
              "3.397959      1\n",
              "3.102041      1\n",
              "2.888060      1\n",
              "Name: rating, Length: 1279, dtype: int64"
            ]
          },
          "metadata": {
            "tags": []
          },
          "execution_count": 39
        }
      ]
    },
    {
      "cell_type": "code",
      "metadata": {
        "colab": {
          "base_uri": "https://localhost:8080/"
        },
        "id": "dxiKWq3brpZi",
        "outputId": "e66ceef7-51ca-4c4b-896b-ba309f3a6c25"
      },
      "source": [
        "movies.genres.value_counts()  # 9105 -> 1156개"
      ],
      "execution_count": 40,
      "outputs": [
        {
          "output_type": "execute_result",
          "data": {
            "text/plain": [
              "Drama                              1156\n",
              "Comedy                              804\n",
              "Comedy|Drama                        424\n",
              "Documentary                         359\n",
              "Drama|Romance                       354\n",
              "                                   ... \n",
              "Adventure|Fantasy|Thriller|IMAX       1\n",
              "Adventure|Drama|Thriller|IMAX         1\n",
              "Children|Comedy|Drama|Fantasy         1\n",
              "Action|Drama|War|IMAX                 1\n",
              "Animation|Children|Fantasy|War        1\n",
              "Name: genres, Length: 901, dtype: int64"
            ]
          },
          "metadata": {
            "tags": []
          },
          "execution_count": 40
        }
      ]
    },
    {
      "cell_type": "code",
      "metadata": {
        "id": "n-DjKQcprsBW"
      },
      "source": [
        ""
      ],
      "execution_count": 40,
      "outputs": []
    }
  ]
}